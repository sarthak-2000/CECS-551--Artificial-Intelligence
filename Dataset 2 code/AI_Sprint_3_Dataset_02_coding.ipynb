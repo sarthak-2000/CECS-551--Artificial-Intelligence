{
  "cells": [
    {
      "cell_type": "markdown",
      "metadata": {
        "id": "wvP5kEGa2Q_P"
      },
      "source": [
        "# Sprint 3 coding Part"
      ]
    },
    {
      "cell_type": "code",
      "execution_count": null,
      "metadata": {
        "id": "oJc33SVA2Q_U"
      },
      "outputs": [],
      "source": [
        "import pandas as pd\n",
        "import numpy as np\n",
        "import pandas as pd\n",
        "import plotly.express as px\n",
        "import numpy as np\n",
        "import plotly.graph_objects as go\n",
        "from scipy import stats\n",
        "from scipy.stats import shapiro\n",
        "import matplotlib.pyplot as plt\n"
      ]
    },
    {
      "cell_type": "markdown",
      "metadata": {
        "id": "ESCjePhi2Q_W"
      },
      "source": [
        "# Coding Part for Question 2: A and B \n",
        "    A.\tUse first year data of Household category to create ABC Analysis and interpret the graph. [4 points]\n",
        "    B.\tHow stable is the customers’ demand? (Coefficient of Variation) \n",
        "    To understand which products will bring planning and distribution challenges, compute the coefficient of variation of the yearly distribution of sales of each reference. [4 points]\n"
      ]
    },
    {
      "cell_type": "code",
      "execution_count": null,
      "metadata": {
        "id": "EUCeSdny2Q_X",
        "outputId": "dd00fa67-7797-41e9-8768-02d496e2f06e"
      },
      "outputs": [
        {
          "name": "stdout",
          "output_type": "stream",
          "text": [
            "30,490 records for train data set\n"
          ]
        },
        {
          "data": {
            "text/html": [
              "<div>\n",
              "<style scoped>\n",
              "    .dataframe tbody tr th:only-of-type {\n",
              "        vertical-align: middle;\n",
              "    }\n",
              "\n",
              "    .dataframe tbody tr th {\n",
              "        vertical-align: top;\n",
              "    }\n",
              "\n",
              "    .dataframe thead th {\n",
              "        text-align: right;\n",
              "    }\n",
              "</style>\n",
              "<table border=\"1\" class=\"dataframe\">\n",
              "  <thead>\n",
              "    <tr style=\"text-align: right;\">\n",
              "      <th></th>\n",
              "      <th></th>\n",
              "      <th></th>\n",
              "      <th></th>\n",
              "      <th></th>\n",
              "      <th></th>\n",
              "      <th>d_1</th>\n",
              "      <th>d_2</th>\n",
              "      <th>d_3</th>\n",
              "      <th>d_4</th>\n",
              "      <th>d_5</th>\n",
              "      <th>d_6</th>\n",
              "      <th>d_7</th>\n",
              "      <th>d_8</th>\n",
              "      <th>d_9</th>\n",
              "      <th>d_10</th>\n",
              "      <th>...</th>\n",
              "      <th>d_356</th>\n",
              "      <th>d_357</th>\n",
              "      <th>d_358</th>\n",
              "      <th>d_359</th>\n",
              "      <th>d_360</th>\n",
              "      <th>d_361</th>\n",
              "      <th>d_362</th>\n",
              "      <th>d_363</th>\n",
              "      <th>d_364</th>\n",
              "      <th>d_365</th>\n",
              "    </tr>\n",
              "    <tr>\n",
              "      <th>id</th>\n",
              "      <th>item_id</th>\n",
              "      <th>dept_id</th>\n",
              "      <th>cat_id</th>\n",
              "      <th>store_id</th>\n",
              "      <th>state_id</th>\n",
              "      <th></th>\n",
              "      <th></th>\n",
              "      <th></th>\n",
              "      <th></th>\n",
              "      <th></th>\n",
              "      <th></th>\n",
              "      <th></th>\n",
              "      <th></th>\n",
              "      <th></th>\n",
              "      <th></th>\n",
              "      <th></th>\n",
              "      <th></th>\n",
              "      <th></th>\n",
              "      <th></th>\n",
              "      <th></th>\n",
              "      <th></th>\n",
              "      <th></th>\n",
              "      <th></th>\n",
              "      <th></th>\n",
              "      <th></th>\n",
              "      <th></th>\n",
              "    </tr>\n",
              "  </thead>\n",
              "  <tbody>\n",
              "    <tr>\n",
              "      <th>CA_1-HOBBIES_1_001</th>\n",
              "      <th>HOBBIES_1_001</th>\n",
              "      <th>HOBBIES_1</th>\n",
              "      <th>HOBBIES</th>\n",
              "      <th>CA_1</th>\n",
              "      <th>CA</th>\n",
              "      <td>0</td>\n",
              "      <td>0</td>\n",
              "      <td>0</td>\n",
              "      <td>0</td>\n",
              "      <td>0</td>\n",
              "      <td>0</td>\n",
              "      <td>0</td>\n",
              "      <td>0</td>\n",
              "      <td>0</td>\n",
              "      <td>0</td>\n",
              "      <td>...</td>\n",
              "      <td>0</td>\n",
              "      <td>0</td>\n",
              "      <td>0</td>\n",
              "      <td>0</td>\n",
              "      <td>0</td>\n",
              "      <td>0</td>\n",
              "      <td>0</td>\n",
              "      <td>0</td>\n",
              "      <td>0</td>\n",
              "      <td>0</td>\n",
              "    </tr>\n",
              "    <tr>\n",
              "      <th>CA_1-HOBBIES_1_002</th>\n",
              "      <th>HOBBIES_1_002</th>\n",
              "      <th>HOBBIES_1</th>\n",
              "      <th>HOBBIES</th>\n",
              "      <th>CA_1</th>\n",
              "      <th>CA</th>\n",
              "      <td>0</td>\n",
              "      <td>0</td>\n",
              "      <td>0</td>\n",
              "      <td>0</td>\n",
              "      <td>0</td>\n",
              "      <td>0</td>\n",
              "      <td>0</td>\n",
              "      <td>0</td>\n",
              "      <td>0</td>\n",
              "      <td>0</td>\n",
              "      <td>...</td>\n",
              "      <td>0</td>\n",
              "      <td>0</td>\n",
              "      <td>0</td>\n",
              "      <td>1</td>\n",
              "      <td>0</td>\n",
              "      <td>0</td>\n",
              "      <td>1</td>\n",
              "      <td>1</td>\n",
              "      <td>0</td>\n",
              "      <td>0</td>\n",
              "    </tr>\n",
              "    <tr>\n",
              "      <th>CA_1-HOBBIES_1_003</th>\n",
              "      <th>HOBBIES_1_003</th>\n",
              "      <th>HOBBIES_1</th>\n",
              "      <th>HOBBIES</th>\n",
              "      <th>CA_1</th>\n",
              "      <th>CA</th>\n",
              "      <td>0</td>\n",
              "      <td>0</td>\n",
              "      <td>0</td>\n",
              "      <td>0</td>\n",
              "      <td>0</td>\n",
              "      <td>0</td>\n",
              "      <td>0</td>\n",
              "      <td>0</td>\n",
              "      <td>0</td>\n",
              "      <td>0</td>\n",
              "      <td>...</td>\n",
              "      <td>0</td>\n",
              "      <td>0</td>\n",
              "      <td>0</td>\n",
              "      <td>0</td>\n",
              "      <td>0</td>\n",
              "      <td>0</td>\n",
              "      <td>0</td>\n",
              "      <td>0</td>\n",
              "      <td>0</td>\n",
              "      <td>0</td>\n",
              "    </tr>\n",
              "    <tr>\n",
              "      <th>CA_1-HOBBIES_1_004</th>\n",
              "      <th>HOBBIES_1_004</th>\n",
              "      <th>HOBBIES_1</th>\n",
              "      <th>HOBBIES</th>\n",
              "      <th>CA_1</th>\n",
              "      <th>CA</th>\n",
              "      <td>0</td>\n",
              "      <td>0</td>\n",
              "      <td>0</td>\n",
              "      <td>0</td>\n",
              "      <td>0</td>\n",
              "      <td>0</td>\n",
              "      <td>0</td>\n",
              "      <td>0</td>\n",
              "      <td>0</td>\n",
              "      <td>0</td>\n",
              "      <td>...</td>\n",
              "      <td>0</td>\n",
              "      <td>1</td>\n",
              "      <td>1</td>\n",
              "      <td>8</td>\n",
              "      <td>1</td>\n",
              "      <td>3</td>\n",
              "      <td>0</td>\n",
              "      <td>1</td>\n",
              "      <td>2</td>\n",
              "      <td>3</td>\n",
              "    </tr>\n",
              "    <tr>\n",
              "      <th>CA_1-HOBBIES_1_005</th>\n",
              "      <th>HOBBIES_1_005</th>\n",
              "      <th>HOBBIES_1</th>\n",
              "      <th>HOBBIES</th>\n",
              "      <th>CA_1</th>\n",
              "      <th>CA</th>\n",
              "      <td>0</td>\n",
              "      <td>0</td>\n",
              "      <td>0</td>\n",
              "      <td>0</td>\n",
              "      <td>0</td>\n",
              "      <td>0</td>\n",
              "      <td>0</td>\n",
              "      <td>0</td>\n",
              "      <td>0</td>\n",
              "      <td>0</td>\n",
              "      <td>...</td>\n",
              "      <td>1</td>\n",
              "      <td>0</td>\n",
              "      <td>0</td>\n",
              "      <td>0</td>\n",
              "      <td>0</td>\n",
              "      <td>0</td>\n",
              "      <td>0</td>\n",
              "      <td>0</td>\n",
              "      <td>0</td>\n",
              "      <td>0</td>\n",
              "    </tr>\n",
              "  </tbody>\n",
              "</table>\n",
              "<p>5 rows × 365 columns</p>\n",
              "</div>"
            ],
            "text/plain": [
              "                                                                      d_1  \\\n",
              "id                 item_id       dept_id   cat_id  store_id state_id        \n",
              "CA_1-HOBBIES_1_001 HOBBIES_1_001 HOBBIES_1 HOBBIES CA_1     CA          0   \n",
              "CA_1-HOBBIES_1_002 HOBBIES_1_002 HOBBIES_1 HOBBIES CA_1     CA          0   \n",
              "CA_1-HOBBIES_1_003 HOBBIES_1_003 HOBBIES_1 HOBBIES CA_1     CA          0   \n",
              "CA_1-HOBBIES_1_004 HOBBIES_1_004 HOBBIES_1 HOBBIES CA_1     CA          0   \n",
              "CA_1-HOBBIES_1_005 HOBBIES_1_005 HOBBIES_1 HOBBIES CA_1     CA          0   \n",
              "\n",
              "                                                                      d_2  \\\n",
              "id                 item_id       dept_id   cat_id  store_id state_id        \n",
              "CA_1-HOBBIES_1_001 HOBBIES_1_001 HOBBIES_1 HOBBIES CA_1     CA          0   \n",
              "CA_1-HOBBIES_1_002 HOBBIES_1_002 HOBBIES_1 HOBBIES CA_1     CA          0   \n",
              "CA_1-HOBBIES_1_003 HOBBIES_1_003 HOBBIES_1 HOBBIES CA_1     CA          0   \n",
              "CA_1-HOBBIES_1_004 HOBBIES_1_004 HOBBIES_1 HOBBIES CA_1     CA          0   \n",
              "CA_1-HOBBIES_1_005 HOBBIES_1_005 HOBBIES_1 HOBBIES CA_1     CA          0   \n",
              "\n",
              "                                                                      d_3  \\\n",
              "id                 item_id       dept_id   cat_id  store_id state_id        \n",
              "CA_1-HOBBIES_1_001 HOBBIES_1_001 HOBBIES_1 HOBBIES CA_1     CA          0   \n",
              "CA_1-HOBBIES_1_002 HOBBIES_1_002 HOBBIES_1 HOBBIES CA_1     CA          0   \n",
              "CA_1-HOBBIES_1_003 HOBBIES_1_003 HOBBIES_1 HOBBIES CA_1     CA          0   \n",
              "CA_1-HOBBIES_1_004 HOBBIES_1_004 HOBBIES_1 HOBBIES CA_1     CA          0   \n",
              "CA_1-HOBBIES_1_005 HOBBIES_1_005 HOBBIES_1 HOBBIES CA_1     CA          0   \n",
              "\n",
              "                                                                      d_4  \\\n",
              "id                 item_id       dept_id   cat_id  store_id state_id        \n",
              "CA_1-HOBBIES_1_001 HOBBIES_1_001 HOBBIES_1 HOBBIES CA_1     CA          0   \n",
              "CA_1-HOBBIES_1_002 HOBBIES_1_002 HOBBIES_1 HOBBIES CA_1     CA          0   \n",
              "CA_1-HOBBIES_1_003 HOBBIES_1_003 HOBBIES_1 HOBBIES CA_1     CA          0   \n",
              "CA_1-HOBBIES_1_004 HOBBIES_1_004 HOBBIES_1 HOBBIES CA_1     CA          0   \n",
              "CA_1-HOBBIES_1_005 HOBBIES_1_005 HOBBIES_1 HOBBIES CA_1     CA          0   \n",
              "\n",
              "                                                                      d_5  \\\n",
              "id                 item_id       dept_id   cat_id  store_id state_id        \n",
              "CA_1-HOBBIES_1_001 HOBBIES_1_001 HOBBIES_1 HOBBIES CA_1     CA          0   \n",
              "CA_1-HOBBIES_1_002 HOBBIES_1_002 HOBBIES_1 HOBBIES CA_1     CA          0   \n",
              "CA_1-HOBBIES_1_003 HOBBIES_1_003 HOBBIES_1 HOBBIES CA_1     CA          0   \n",
              "CA_1-HOBBIES_1_004 HOBBIES_1_004 HOBBIES_1 HOBBIES CA_1     CA          0   \n",
              "CA_1-HOBBIES_1_005 HOBBIES_1_005 HOBBIES_1 HOBBIES CA_1     CA          0   \n",
              "\n",
              "                                                                      d_6  \\\n",
              "id                 item_id       dept_id   cat_id  store_id state_id        \n",
              "CA_1-HOBBIES_1_001 HOBBIES_1_001 HOBBIES_1 HOBBIES CA_1     CA          0   \n",
              "CA_1-HOBBIES_1_002 HOBBIES_1_002 HOBBIES_1 HOBBIES CA_1     CA          0   \n",
              "CA_1-HOBBIES_1_003 HOBBIES_1_003 HOBBIES_1 HOBBIES CA_1     CA          0   \n",
              "CA_1-HOBBIES_1_004 HOBBIES_1_004 HOBBIES_1 HOBBIES CA_1     CA          0   \n",
              "CA_1-HOBBIES_1_005 HOBBIES_1_005 HOBBIES_1 HOBBIES CA_1     CA          0   \n",
              "\n",
              "                                                                      d_7  \\\n",
              "id                 item_id       dept_id   cat_id  store_id state_id        \n",
              "CA_1-HOBBIES_1_001 HOBBIES_1_001 HOBBIES_1 HOBBIES CA_1     CA          0   \n",
              "CA_1-HOBBIES_1_002 HOBBIES_1_002 HOBBIES_1 HOBBIES CA_1     CA          0   \n",
              "CA_1-HOBBIES_1_003 HOBBIES_1_003 HOBBIES_1 HOBBIES CA_1     CA          0   \n",
              "CA_1-HOBBIES_1_004 HOBBIES_1_004 HOBBIES_1 HOBBIES CA_1     CA          0   \n",
              "CA_1-HOBBIES_1_005 HOBBIES_1_005 HOBBIES_1 HOBBIES CA_1     CA          0   \n",
              "\n",
              "                                                                      d_8  \\\n",
              "id                 item_id       dept_id   cat_id  store_id state_id        \n",
              "CA_1-HOBBIES_1_001 HOBBIES_1_001 HOBBIES_1 HOBBIES CA_1     CA          0   \n",
              "CA_1-HOBBIES_1_002 HOBBIES_1_002 HOBBIES_1 HOBBIES CA_1     CA          0   \n",
              "CA_1-HOBBIES_1_003 HOBBIES_1_003 HOBBIES_1 HOBBIES CA_1     CA          0   \n",
              "CA_1-HOBBIES_1_004 HOBBIES_1_004 HOBBIES_1 HOBBIES CA_1     CA          0   \n",
              "CA_1-HOBBIES_1_005 HOBBIES_1_005 HOBBIES_1 HOBBIES CA_1     CA          0   \n",
              "\n",
              "                                                                      d_9  \\\n",
              "id                 item_id       dept_id   cat_id  store_id state_id        \n",
              "CA_1-HOBBIES_1_001 HOBBIES_1_001 HOBBIES_1 HOBBIES CA_1     CA          0   \n",
              "CA_1-HOBBIES_1_002 HOBBIES_1_002 HOBBIES_1 HOBBIES CA_1     CA          0   \n",
              "CA_1-HOBBIES_1_003 HOBBIES_1_003 HOBBIES_1 HOBBIES CA_1     CA          0   \n",
              "CA_1-HOBBIES_1_004 HOBBIES_1_004 HOBBIES_1 HOBBIES CA_1     CA          0   \n",
              "CA_1-HOBBIES_1_005 HOBBIES_1_005 HOBBIES_1 HOBBIES CA_1     CA          0   \n",
              "\n",
              "                                                                      d_10  \\\n",
              "id                 item_id       dept_id   cat_id  store_id state_id         \n",
              "CA_1-HOBBIES_1_001 HOBBIES_1_001 HOBBIES_1 HOBBIES CA_1     CA           0   \n",
              "CA_1-HOBBIES_1_002 HOBBIES_1_002 HOBBIES_1 HOBBIES CA_1     CA           0   \n",
              "CA_1-HOBBIES_1_003 HOBBIES_1_003 HOBBIES_1 HOBBIES CA_1     CA           0   \n",
              "CA_1-HOBBIES_1_004 HOBBIES_1_004 HOBBIES_1 HOBBIES CA_1     CA           0   \n",
              "CA_1-HOBBIES_1_005 HOBBIES_1_005 HOBBIES_1 HOBBIES CA_1     CA           0   \n",
              "\n",
              "                                                                      ...  \\\n",
              "id                 item_id       dept_id   cat_id  store_id state_id  ...   \n",
              "CA_1-HOBBIES_1_001 HOBBIES_1_001 HOBBIES_1 HOBBIES CA_1     CA        ...   \n",
              "CA_1-HOBBIES_1_002 HOBBIES_1_002 HOBBIES_1 HOBBIES CA_1     CA        ...   \n",
              "CA_1-HOBBIES_1_003 HOBBIES_1_003 HOBBIES_1 HOBBIES CA_1     CA        ...   \n",
              "CA_1-HOBBIES_1_004 HOBBIES_1_004 HOBBIES_1 HOBBIES CA_1     CA        ...   \n",
              "CA_1-HOBBIES_1_005 HOBBIES_1_005 HOBBIES_1 HOBBIES CA_1     CA        ...   \n",
              "\n",
              "                                                                      d_356  \\\n",
              "id                 item_id       dept_id   cat_id  store_id state_id          \n",
              "CA_1-HOBBIES_1_001 HOBBIES_1_001 HOBBIES_1 HOBBIES CA_1     CA            0   \n",
              "CA_1-HOBBIES_1_002 HOBBIES_1_002 HOBBIES_1 HOBBIES CA_1     CA            0   \n",
              "CA_1-HOBBIES_1_003 HOBBIES_1_003 HOBBIES_1 HOBBIES CA_1     CA            0   \n",
              "CA_1-HOBBIES_1_004 HOBBIES_1_004 HOBBIES_1 HOBBIES CA_1     CA            0   \n",
              "CA_1-HOBBIES_1_005 HOBBIES_1_005 HOBBIES_1 HOBBIES CA_1     CA            1   \n",
              "\n",
              "                                                                      d_357  \\\n",
              "id                 item_id       dept_id   cat_id  store_id state_id          \n",
              "CA_1-HOBBIES_1_001 HOBBIES_1_001 HOBBIES_1 HOBBIES CA_1     CA            0   \n",
              "CA_1-HOBBIES_1_002 HOBBIES_1_002 HOBBIES_1 HOBBIES CA_1     CA            0   \n",
              "CA_1-HOBBIES_1_003 HOBBIES_1_003 HOBBIES_1 HOBBIES CA_1     CA            0   \n",
              "CA_1-HOBBIES_1_004 HOBBIES_1_004 HOBBIES_1 HOBBIES CA_1     CA            1   \n",
              "CA_1-HOBBIES_1_005 HOBBIES_1_005 HOBBIES_1 HOBBIES CA_1     CA            0   \n",
              "\n",
              "                                                                      d_358  \\\n",
              "id                 item_id       dept_id   cat_id  store_id state_id          \n",
              "CA_1-HOBBIES_1_001 HOBBIES_1_001 HOBBIES_1 HOBBIES CA_1     CA            0   \n",
              "CA_1-HOBBIES_1_002 HOBBIES_1_002 HOBBIES_1 HOBBIES CA_1     CA            0   \n",
              "CA_1-HOBBIES_1_003 HOBBIES_1_003 HOBBIES_1 HOBBIES CA_1     CA            0   \n",
              "CA_1-HOBBIES_1_004 HOBBIES_1_004 HOBBIES_1 HOBBIES CA_1     CA            1   \n",
              "CA_1-HOBBIES_1_005 HOBBIES_1_005 HOBBIES_1 HOBBIES CA_1     CA            0   \n",
              "\n",
              "                                                                      d_359  \\\n",
              "id                 item_id       dept_id   cat_id  store_id state_id          \n",
              "CA_1-HOBBIES_1_001 HOBBIES_1_001 HOBBIES_1 HOBBIES CA_1     CA            0   \n",
              "CA_1-HOBBIES_1_002 HOBBIES_1_002 HOBBIES_1 HOBBIES CA_1     CA            1   \n",
              "CA_1-HOBBIES_1_003 HOBBIES_1_003 HOBBIES_1 HOBBIES CA_1     CA            0   \n",
              "CA_1-HOBBIES_1_004 HOBBIES_1_004 HOBBIES_1 HOBBIES CA_1     CA            8   \n",
              "CA_1-HOBBIES_1_005 HOBBIES_1_005 HOBBIES_1 HOBBIES CA_1     CA            0   \n",
              "\n",
              "                                                                      d_360  \\\n",
              "id                 item_id       dept_id   cat_id  store_id state_id          \n",
              "CA_1-HOBBIES_1_001 HOBBIES_1_001 HOBBIES_1 HOBBIES CA_1     CA            0   \n",
              "CA_1-HOBBIES_1_002 HOBBIES_1_002 HOBBIES_1 HOBBIES CA_1     CA            0   \n",
              "CA_1-HOBBIES_1_003 HOBBIES_1_003 HOBBIES_1 HOBBIES CA_1     CA            0   \n",
              "CA_1-HOBBIES_1_004 HOBBIES_1_004 HOBBIES_1 HOBBIES CA_1     CA            1   \n",
              "CA_1-HOBBIES_1_005 HOBBIES_1_005 HOBBIES_1 HOBBIES CA_1     CA            0   \n",
              "\n",
              "                                                                      d_361  \\\n",
              "id                 item_id       dept_id   cat_id  store_id state_id          \n",
              "CA_1-HOBBIES_1_001 HOBBIES_1_001 HOBBIES_1 HOBBIES CA_1     CA            0   \n",
              "CA_1-HOBBIES_1_002 HOBBIES_1_002 HOBBIES_1 HOBBIES CA_1     CA            0   \n",
              "CA_1-HOBBIES_1_003 HOBBIES_1_003 HOBBIES_1 HOBBIES CA_1     CA            0   \n",
              "CA_1-HOBBIES_1_004 HOBBIES_1_004 HOBBIES_1 HOBBIES CA_1     CA            3   \n",
              "CA_1-HOBBIES_1_005 HOBBIES_1_005 HOBBIES_1 HOBBIES CA_1     CA            0   \n",
              "\n",
              "                                                                      d_362  \\\n",
              "id                 item_id       dept_id   cat_id  store_id state_id          \n",
              "CA_1-HOBBIES_1_001 HOBBIES_1_001 HOBBIES_1 HOBBIES CA_1     CA            0   \n",
              "CA_1-HOBBIES_1_002 HOBBIES_1_002 HOBBIES_1 HOBBIES CA_1     CA            1   \n",
              "CA_1-HOBBIES_1_003 HOBBIES_1_003 HOBBIES_1 HOBBIES CA_1     CA            0   \n",
              "CA_1-HOBBIES_1_004 HOBBIES_1_004 HOBBIES_1 HOBBIES CA_1     CA            0   \n",
              "CA_1-HOBBIES_1_005 HOBBIES_1_005 HOBBIES_1 HOBBIES CA_1     CA            0   \n",
              "\n",
              "                                                                      d_363  \\\n",
              "id                 item_id       dept_id   cat_id  store_id state_id          \n",
              "CA_1-HOBBIES_1_001 HOBBIES_1_001 HOBBIES_1 HOBBIES CA_1     CA            0   \n",
              "CA_1-HOBBIES_1_002 HOBBIES_1_002 HOBBIES_1 HOBBIES CA_1     CA            1   \n",
              "CA_1-HOBBIES_1_003 HOBBIES_1_003 HOBBIES_1 HOBBIES CA_1     CA            0   \n",
              "CA_1-HOBBIES_1_004 HOBBIES_1_004 HOBBIES_1 HOBBIES CA_1     CA            1   \n",
              "CA_1-HOBBIES_1_005 HOBBIES_1_005 HOBBIES_1 HOBBIES CA_1     CA            0   \n",
              "\n",
              "                                                                      d_364  \\\n",
              "id                 item_id       dept_id   cat_id  store_id state_id          \n",
              "CA_1-HOBBIES_1_001 HOBBIES_1_001 HOBBIES_1 HOBBIES CA_1     CA            0   \n",
              "CA_1-HOBBIES_1_002 HOBBIES_1_002 HOBBIES_1 HOBBIES CA_1     CA            0   \n",
              "CA_1-HOBBIES_1_003 HOBBIES_1_003 HOBBIES_1 HOBBIES CA_1     CA            0   \n",
              "CA_1-HOBBIES_1_004 HOBBIES_1_004 HOBBIES_1 HOBBIES CA_1     CA            2   \n",
              "CA_1-HOBBIES_1_005 HOBBIES_1_005 HOBBIES_1 HOBBIES CA_1     CA            0   \n",
              "\n",
              "                                                                      d_365  \n",
              "id                 item_id       dept_id   cat_id  store_id state_id         \n",
              "CA_1-HOBBIES_1_001 HOBBIES_1_001 HOBBIES_1 HOBBIES CA_1     CA            0  \n",
              "CA_1-HOBBIES_1_002 HOBBIES_1_002 HOBBIES_1 HOBBIES CA_1     CA            0  \n",
              "CA_1-HOBBIES_1_003 HOBBIES_1_003 HOBBIES_1 HOBBIES CA_1     CA            0  \n",
              "CA_1-HOBBIES_1_004 HOBBIES_1_004 HOBBIES_1 HOBBIES CA_1     CA            3  \n",
              "CA_1-HOBBIES_1_005 HOBBIES_1_005 HOBBIES_1 HOBBIES CA_1     CA            0  \n",
              "\n",
              "[5 rows x 365 columns]"
            ]
          },
          "execution_count": 14,
          "metadata": {},
          "output_type": "execute_result"
        }
      ],
      "source": [
        "Items_column = ['id', 'item_id', 'dept_id', 'cat_id', 'store_id', 'state_id']\n",
        "Date_column = ['d_' + str(i) for i in range(1, 366)]\n",
        "df = pd.read_csv(\"sales_train_evaluation.csv\")\n",
        "\n",
        "CALENDAR_DF = pd.read_csv('calendar.csv')\n",
        "dict_week = dict(zip(CALENDAR_DF.d.values, CALENDAR_DF.wm_yr_wk.values))\n",
        "\n",
        "df = pd.read_csv('sales_train_evaluation.csv')\n",
        "print(\"{:,} records for train data set\".format(len(df)))\n",
        "\n",
        "df['id'] = df['store_id'] + '-' + df['item_id']\n",
        "\n",
        "df.set_index(Items_column, inplace = True)\n",
        "\n",
        "df = df[Date_column]\n",
        "\n",
        "df.head()\n"
      ]
    },
    {
      "cell_type": "markdown",
      "metadata": {
        "id": "tV9rPTbT2Q_Y"
      },
      "source": [
        "Creation of Pricing matrix"
      ]
    },
    {
      "cell_type": "code",
      "execution_count": null,
      "metadata": {
        "id": "SLvWMXp_2Q_Z",
        "outputId": "5259765c-0370-42b1-b878-debce24dfa19"
      },
      "outputs": [
        {
          "name": "stdout",
          "output_type": "stream",
          "text": [
            "6,841,121 records for sales price\n",
            "30,490 records for sales price pivot\n"
          ]
        },
        {
          "data": {
            "text/html": [
              "<div>\n",
              "<style scoped>\n",
              "    .dataframe tbody tr th:only-of-type {\n",
              "        vertical-align: middle;\n",
              "    }\n",
              "\n",
              "    .dataframe tbody tr th {\n",
              "        vertical-align: top;\n",
              "    }\n",
              "\n",
              "    .dataframe thead th {\n",
              "        text-align: right;\n",
              "    }\n",
              "</style>\n",
              "<table border=\"1\" class=\"dataframe\">\n",
              "  <thead>\n",
              "    <tr style=\"text-align: right;\">\n",
              "      <th>wm_yr_wk</th>\n",
              "      <th>11101</th>\n",
              "      <th>11102</th>\n",
              "      <th>11103</th>\n",
              "      <th>11104</th>\n",
              "      <th>11105</th>\n",
              "      <th>11106</th>\n",
              "      <th>11107</th>\n",
              "      <th>11108</th>\n",
              "      <th>11109</th>\n",
              "      <th>11110</th>\n",
              "      <th>...</th>\n",
              "      <th>11612</th>\n",
              "      <th>11613</th>\n",
              "      <th>11614</th>\n",
              "      <th>11615</th>\n",
              "      <th>11616</th>\n",
              "      <th>11617</th>\n",
              "      <th>11618</th>\n",
              "      <th>11619</th>\n",
              "      <th>11620</th>\n",
              "      <th>11621</th>\n",
              "    </tr>\n",
              "    <tr>\n",
              "      <th>item_store_id</th>\n",
              "      <th></th>\n",
              "      <th></th>\n",
              "      <th></th>\n",
              "      <th></th>\n",
              "      <th></th>\n",
              "      <th></th>\n",
              "      <th></th>\n",
              "      <th></th>\n",
              "      <th></th>\n",
              "      <th></th>\n",
              "      <th></th>\n",
              "      <th></th>\n",
              "      <th></th>\n",
              "      <th></th>\n",
              "      <th></th>\n",
              "      <th></th>\n",
              "      <th></th>\n",
              "      <th></th>\n",
              "      <th></th>\n",
              "      <th></th>\n",
              "      <th></th>\n",
              "    </tr>\n",
              "  </thead>\n",
              "  <tbody>\n",
              "    <tr>\n",
              "      <th>CA_1-FOODS_1_001</th>\n",
              "      <td>2.00</td>\n",
              "      <td>2.00</td>\n",
              "      <td>2.00</td>\n",
              "      <td>2.00</td>\n",
              "      <td>2.00</td>\n",
              "      <td>2.00</td>\n",
              "      <td>2.00</td>\n",
              "      <td>2.00</td>\n",
              "      <td>2.00</td>\n",
              "      <td>2.00</td>\n",
              "      <td>...</td>\n",
              "      <td>2.24</td>\n",
              "      <td>2.24</td>\n",
              "      <td>2.24</td>\n",
              "      <td>2.24</td>\n",
              "      <td>2.24</td>\n",
              "      <td>2.24</td>\n",
              "      <td>2.24</td>\n",
              "      <td>2.24</td>\n",
              "      <td>2.24</td>\n",
              "      <td>2.24</td>\n",
              "    </tr>\n",
              "    <tr>\n",
              "      <th>CA_1-FOODS_1_002</th>\n",
              "      <td>7.88</td>\n",
              "      <td>7.88</td>\n",
              "      <td>7.88</td>\n",
              "      <td>7.88</td>\n",
              "      <td>7.88</td>\n",
              "      <td>7.88</td>\n",
              "      <td>7.88</td>\n",
              "      <td>7.88</td>\n",
              "      <td>7.88</td>\n",
              "      <td>7.88</td>\n",
              "      <td>...</td>\n",
              "      <td>9.48</td>\n",
              "      <td>9.48</td>\n",
              "      <td>9.48</td>\n",
              "      <td>9.48</td>\n",
              "      <td>9.48</td>\n",
              "      <td>9.48</td>\n",
              "      <td>9.48</td>\n",
              "      <td>9.48</td>\n",
              "      <td>9.48</td>\n",
              "      <td>9.48</td>\n",
              "    </tr>\n",
              "    <tr>\n",
              "      <th>CA_1-FOODS_1_003</th>\n",
              "      <td>2.88</td>\n",
              "      <td>2.88</td>\n",
              "      <td>2.88</td>\n",
              "      <td>2.88</td>\n",
              "      <td>2.88</td>\n",
              "      <td>2.88</td>\n",
              "      <td>2.88</td>\n",
              "      <td>2.88</td>\n",
              "      <td>2.88</td>\n",
              "      <td>2.88</td>\n",
              "      <td>...</td>\n",
              "      <td>3.23</td>\n",
              "      <td>3.23</td>\n",
              "      <td>3.23</td>\n",
              "      <td>3.23</td>\n",
              "      <td>3.23</td>\n",
              "      <td>3.23</td>\n",
              "      <td>3.23</td>\n",
              "      <td>3.23</td>\n",
              "      <td>3.23</td>\n",
              "      <td>3.23</td>\n",
              "    </tr>\n",
              "    <tr>\n",
              "      <th>CA_1-FOODS_1_004</th>\n",
              "      <td>0.00</td>\n",
              "      <td>0.00</td>\n",
              "      <td>0.00</td>\n",
              "      <td>0.00</td>\n",
              "      <td>0.00</td>\n",
              "      <td>0.00</td>\n",
              "      <td>0.00</td>\n",
              "      <td>0.00</td>\n",
              "      <td>0.00</td>\n",
              "      <td>0.00</td>\n",
              "      <td>...</td>\n",
              "      <td>1.96</td>\n",
              "      <td>1.96</td>\n",
              "      <td>1.96</td>\n",
              "      <td>1.96</td>\n",
              "      <td>1.96</td>\n",
              "      <td>1.96</td>\n",
              "      <td>1.96</td>\n",
              "      <td>1.96</td>\n",
              "      <td>1.96</td>\n",
              "      <td>1.96</td>\n",
              "    </tr>\n",
              "    <tr>\n",
              "      <th>CA_1-FOODS_1_005</th>\n",
              "      <td>2.94</td>\n",
              "      <td>2.94</td>\n",
              "      <td>2.94</td>\n",
              "      <td>2.94</td>\n",
              "      <td>2.94</td>\n",
              "      <td>2.94</td>\n",
              "      <td>2.94</td>\n",
              "      <td>2.94</td>\n",
              "      <td>2.94</td>\n",
              "      <td>2.94</td>\n",
              "      <td>...</td>\n",
              "      <td>3.54</td>\n",
              "      <td>3.54</td>\n",
              "      <td>3.54</td>\n",
              "      <td>3.54</td>\n",
              "      <td>3.54</td>\n",
              "      <td>3.54</td>\n",
              "      <td>3.54</td>\n",
              "      <td>3.54</td>\n",
              "      <td>3.54</td>\n",
              "      <td>3.54</td>\n",
              "    </tr>\n",
              "  </tbody>\n",
              "</table>\n",
              "<p>5 rows × 282 columns</p>\n",
              "</div>"
            ],
            "text/plain": [
              "wm_yr_wk          11101  11102  11103  11104  11105  11106  11107  11108  \\\n",
              "item_store_id                                                              \n",
              "CA_1-FOODS_1_001   2.00   2.00   2.00   2.00   2.00   2.00   2.00   2.00   \n",
              "CA_1-FOODS_1_002   7.88   7.88   7.88   7.88   7.88   7.88   7.88   7.88   \n",
              "CA_1-FOODS_1_003   2.88   2.88   2.88   2.88   2.88   2.88   2.88   2.88   \n",
              "CA_1-FOODS_1_004   0.00   0.00   0.00   0.00   0.00   0.00   0.00   0.00   \n",
              "CA_1-FOODS_1_005   2.94   2.94   2.94   2.94   2.94   2.94   2.94   2.94   \n",
              "\n",
              "wm_yr_wk          11109  11110  ...  11612  11613  11614  11615  11616  11617  \\\n",
              "item_store_id                   ...                                             \n",
              "CA_1-FOODS_1_001   2.00   2.00  ...   2.24   2.24   2.24   2.24   2.24   2.24   \n",
              "CA_1-FOODS_1_002   7.88   7.88  ...   9.48   9.48   9.48   9.48   9.48   9.48   \n",
              "CA_1-FOODS_1_003   2.88   2.88  ...   3.23   3.23   3.23   3.23   3.23   3.23   \n",
              "CA_1-FOODS_1_004   0.00   0.00  ...   1.96   1.96   1.96   1.96   1.96   1.96   \n",
              "CA_1-FOODS_1_005   2.94   2.94  ...   3.54   3.54   3.54   3.54   3.54   3.54   \n",
              "\n",
              "wm_yr_wk          11618  11619  11620  11621  \n",
              "item_store_id                                 \n",
              "CA_1-FOODS_1_001   2.24   2.24   2.24   2.24  \n",
              "CA_1-FOODS_1_002   9.48   9.48   9.48   9.48  \n",
              "CA_1-FOODS_1_003   3.23   3.23   3.23   3.23  \n",
              "CA_1-FOODS_1_004   1.96   1.96   1.96   1.96  \n",
              "CA_1-FOODS_1_005   3.54   3.54   3.54   3.54  \n",
              "\n",
              "[5 rows x 282 columns]"
            ]
          },
          "execution_count": 15,
          "metadata": {},
          "output_type": "execute_result"
        }
      ],
      "source": [
        "PRICES = pd.read_csv('sell_prices.csv')\n",
        "print(\"{:,} records for sales price\".format(len(PRICES)))\n",
        "\n",
        "PRICES['item_store_id'] = PRICES['store_id'] + '-' + PRICES['item_id']\n",
        "\n",
        "PRICES = PRICES.pivot(index='item_store_id', columns='wm_yr_wk', values='sell_price').fillna(0)\n",
        "\n",
        "M = PRICES.to_numpy()\n",
        "\n",
        "pr_n = dict(zip(PRICES.index, range(len(PRICES.index))))\n",
        "pr_p = dict(zip(PRICES.columns, range(len(PRICES.columns))))\n",
        "print(\"{:,} records for sales price pivot\".format(len(PRICES)))\n",
        "PRICES.head()"
      ]
    },
    {
      "cell_type": "markdown",
      "metadata": {
        "id": "LrgIWXcJ2Q_a"
      },
      "source": [
        "Calculation of Standard deviation and mean"
      ]
    },
    {
      "cell_type": "code",
      "execution_count": null,
      "metadata": {
        "id": "GHsuQxbV2Q_a",
        "outputId": "e783ad3c-a0b2-473a-c500-cec2095fd425"
      },
      "outputs": [
        {
          "name": "stdout",
          "output_type": "stream",
          "text": [
            "30,490 records for the full scope\n",
            "17,055 records for after filter\n"
          ]
        },
        {
          "data": {
            "text/html": [
              "<div>\n",
              "<style scoped>\n",
              "    .dataframe tbody tr th:only-of-type {\n",
              "        vertical-align: middle;\n",
              "    }\n",
              "\n",
              "    .dataframe tbody tr th {\n",
              "        vertical-align: top;\n",
              "    }\n",
              "\n",
              "    .dataframe thead th {\n",
              "        text-align: right;\n",
              "    }\n",
              "</style>\n",
              "<table border=\"1\" class=\"dataframe\">\n",
              "  <thead>\n",
              "    <tr style=\"text-align: right;\">\n",
              "      <th></th>\n",
              "      <th>id</th>\n",
              "      <th>item_id</th>\n",
              "      <th>dept_id</th>\n",
              "      <th>cat_id</th>\n",
              "      <th>store_id</th>\n",
              "      <th>state_id</th>\n",
              "      <th>d_1</th>\n",
              "      <th>d_2</th>\n",
              "      <th>d_3</th>\n",
              "      <th>d_4</th>\n",
              "      <th>...</th>\n",
              "      <th>d_358</th>\n",
              "      <th>d_359</th>\n",
              "      <th>d_360</th>\n",
              "      <th>d_361</th>\n",
              "      <th>d_362</th>\n",
              "      <th>d_363</th>\n",
              "      <th>d_364</th>\n",
              "      <th>d_365</th>\n",
              "      <th>mean</th>\n",
              "      <th>std</th>\n",
              "    </tr>\n",
              "  </thead>\n",
              "  <tbody>\n",
              "    <tr>\n",
              "      <th>0</th>\n",
              "      <td>CA_1-HOBBIES_1_002</td>\n",
              "      <td>HOBBIES_1_002</td>\n",
              "      <td>HOBBIES_1</td>\n",
              "      <td>HOBBIES</td>\n",
              "      <td>CA_1</td>\n",
              "      <td>CA</td>\n",
              "      <td>0</td>\n",
              "      <td>0</td>\n",
              "      <td>0</td>\n",
              "      <td>0</td>\n",
              "      <td>...</td>\n",
              "      <td>0</td>\n",
              "      <td>1</td>\n",
              "      <td>0</td>\n",
              "      <td>0</td>\n",
              "      <td>1</td>\n",
              "      <td>1</td>\n",
              "      <td>0</td>\n",
              "      <td>0</td>\n",
              "      <td>0.175342</td>\n",
              "      <td>0.459270</td>\n",
              "    </tr>\n",
              "    <tr>\n",
              "      <th>1</th>\n",
              "      <td>CA_1-HOBBIES_1_004</td>\n",
              "      <td>HOBBIES_1_004</td>\n",
              "      <td>HOBBIES_1</td>\n",
              "      <td>HOBBIES</td>\n",
              "      <td>CA_1</td>\n",
              "      <td>CA</td>\n",
              "      <td>0</td>\n",
              "      <td>0</td>\n",
              "      <td>0</td>\n",
              "      <td>0</td>\n",
              "      <td>...</td>\n",
              "      <td>1</td>\n",
              "      <td>8</td>\n",
              "      <td>1</td>\n",
              "      <td>3</td>\n",
              "      <td>0</td>\n",
              "      <td>1</td>\n",
              "      <td>2</td>\n",
              "      <td>3</td>\n",
              "      <td>1.282192</td>\n",
              "      <td>1.504512</td>\n",
              "    </tr>\n",
              "    <tr>\n",
              "      <th>2</th>\n",
              "      <td>CA_1-HOBBIES_1_005</td>\n",
              "      <td>HOBBIES_1_005</td>\n",
              "      <td>HOBBIES_1</td>\n",
              "      <td>HOBBIES</td>\n",
              "      <td>CA_1</td>\n",
              "      <td>CA</td>\n",
              "      <td>0</td>\n",
              "      <td>0</td>\n",
              "      <td>0</td>\n",
              "      <td>0</td>\n",
              "      <td>...</td>\n",
              "      <td>0</td>\n",
              "      <td>0</td>\n",
              "      <td>0</td>\n",
              "      <td>0</td>\n",
              "      <td>0</td>\n",
              "      <td>0</td>\n",
              "      <td>0</td>\n",
              "      <td>0</td>\n",
              "      <td>0.794521</td>\n",
              "      <td>1.543854</td>\n",
              "    </tr>\n",
              "    <tr>\n",
              "      <th>3</th>\n",
              "      <td>CA_1-HOBBIES_1_008</td>\n",
              "      <td>HOBBIES_1_008</td>\n",
              "      <td>HOBBIES_1</td>\n",
              "      <td>HOBBIES</td>\n",
              "      <td>CA_1</td>\n",
              "      <td>CA</td>\n",
              "      <td>12</td>\n",
              "      <td>15</td>\n",
              "      <td>0</td>\n",
              "      <td>0</td>\n",
              "      <td>...</td>\n",
              "      <td>20</td>\n",
              "      <td>26</td>\n",
              "      <td>0</td>\n",
              "      <td>9</td>\n",
              "      <td>14</td>\n",
              "      <td>0</td>\n",
              "      <td>8</td>\n",
              "      <td>18</td>\n",
              "      <td>6.854795</td>\n",
              "      <td>8.556423</td>\n",
              "    </tr>\n",
              "    <tr>\n",
              "      <th>4</th>\n",
              "      <td>CA_1-HOBBIES_1_009</td>\n",
              "      <td>HOBBIES_1_009</td>\n",
              "      <td>HOBBIES_1</td>\n",
              "      <td>HOBBIES</td>\n",
              "      <td>CA_1</td>\n",
              "      <td>CA</td>\n",
              "      <td>2</td>\n",
              "      <td>0</td>\n",
              "      <td>7</td>\n",
              "      <td>3</td>\n",
              "      <td>...</td>\n",
              "      <td>1</td>\n",
              "      <td>0</td>\n",
              "      <td>0</td>\n",
              "      <td>1</td>\n",
              "      <td>0</td>\n",
              "      <td>0</td>\n",
              "      <td>3</td>\n",
              "      <td>0</td>\n",
              "      <td>1.816438</td>\n",
              "      <td>2.486613</td>\n",
              "    </tr>\n",
              "  </tbody>\n",
              "</table>\n",
              "<p>5 rows × 373 columns</p>\n",
              "</div>"
            ],
            "text/plain": [
              "                   id        item_id    dept_id   cat_id store_id state_id  \\\n",
              "0  CA_1-HOBBIES_1_002  HOBBIES_1_002  HOBBIES_1  HOBBIES     CA_1       CA   \n",
              "1  CA_1-HOBBIES_1_004  HOBBIES_1_004  HOBBIES_1  HOBBIES     CA_1       CA   \n",
              "2  CA_1-HOBBIES_1_005  HOBBIES_1_005  HOBBIES_1  HOBBIES     CA_1       CA   \n",
              "3  CA_1-HOBBIES_1_008  HOBBIES_1_008  HOBBIES_1  HOBBIES     CA_1       CA   \n",
              "4  CA_1-HOBBIES_1_009  HOBBIES_1_009  HOBBIES_1  HOBBIES     CA_1       CA   \n",
              "\n",
              "   d_1  d_2  d_3  d_4  ...  d_358  d_359  d_360  d_361  d_362  d_363  d_364  \\\n",
              "0    0    0    0    0  ...      0      1      0      0      1      1      0   \n",
              "1    0    0    0    0  ...      1      8      1      3      0      1      2   \n",
              "2    0    0    0    0  ...      0      0      0      0      0      0      0   \n",
              "3   12   15    0    0  ...     20     26      0      9     14      0      8   \n",
              "4    2    0    7    3  ...      1      0      0      1      0      0      3   \n",
              "\n",
              "   d_365      mean       std  \n",
              "0      0  0.175342  0.459270  \n",
              "1      3  1.282192  1.504512  \n",
              "2      0  0.794521  1.543854  \n",
              "3     18  6.854795  8.556423  \n",
              "4      0  1.816438  2.486613  \n",
              "\n",
              "[5 rows x 373 columns]"
            ]
          },
          "execution_count": 16,
          "metadata": {},
          "output_type": "execute_result"
        }
      ],
      "source": [
        "\n",
        "df['mean'] = df[Date_column].mean(axis = 1)\n",
        "\n",
        "df['std'] = df[Date_column].std(axis = 1)\n",
        "\n",
        "\n",
        "print(\"{:,} records for the full scope\".format(len(df)))\n",
        "df = df[df['mean']>0]\n",
        "print(\"{:,} records for after filter\".format(len(df)))\n",
        "df.reset_index(inplace = True)\n",
        "\n",
        "df.head()\n"
      ]
    },
    {
      "cell_type": "markdown",
      "metadata": {
        "id": "j-h6Gdwf2Q_b"
      },
      "source": [
        "Calculation of Turnover"
      ]
    },
    {
      "cell_type": "code",
      "execution_count": null,
      "metadata": {
        "id": "f_bW_Kf92Q_b",
        "outputId": "cf9f8a3d-9b2e-4255-e89d-ace68db11078"
      },
      "outputs": [
        {
          "data": {
            "text/html": [
              "<div>\n",
              "<style scoped>\n",
              "    .dataframe tbody tr th:only-of-type {\n",
              "        vertical-align: middle;\n",
              "    }\n",
              "\n",
              "    .dataframe tbody tr th {\n",
              "        vertical-align: top;\n",
              "    }\n",
              "\n",
              "    .dataframe thead th {\n",
              "        text-align: right;\n",
              "    }\n",
              "</style>\n",
              "<table border=\"1\" class=\"dataframe\">\n",
              "  <thead>\n",
              "    <tr style=\"text-align: right;\">\n",
              "      <th></th>\n",
              "      <th>id</th>\n",
              "      <th>item_id</th>\n",
              "      <th>dept_id</th>\n",
              "      <th>cat_id</th>\n",
              "      <th>store_id</th>\n",
              "      <th>state_id</th>\n",
              "      <th>d_1</th>\n",
              "      <th>d_2</th>\n",
              "      <th>d_3</th>\n",
              "      <th>d_4</th>\n",
              "      <th>...</th>\n",
              "      <th>d_360</th>\n",
              "      <th>d_361</th>\n",
              "      <th>d_362</th>\n",
              "      <th>d_363</th>\n",
              "      <th>d_364</th>\n",
              "      <th>d_365</th>\n",
              "      <th>mean</th>\n",
              "      <th>std</th>\n",
              "      <th>units</th>\n",
              "      <th>TO</th>\n",
              "    </tr>\n",
              "  </thead>\n",
              "  <tbody>\n",
              "    <tr>\n",
              "      <th>0</th>\n",
              "      <td>CA_1-HOBBIES_1_002</td>\n",
              "      <td>HOBBIES_1_002</td>\n",
              "      <td>HOBBIES_1</td>\n",
              "      <td>HOBBIES</td>\n",
              "      <td>CA_1</td>\n",
              "      <td>CA</td>\n",
              "      <td>0</td>\n",
              "      <td>0</td>\n",
              "      <td>0</td>\n",
              "      <td>0</td>\n",
              "      <td>...</td>\n",
              "      <td>0</td>\n",
              "      <td>0</td>\n",
              "      <td>1</td>\n",
              "      <td>1</td>\n",
              "      <td>0</td>\n",
              "      <td>0</td>\n",
              "      <td>0.175342</td>\n",
              "      <td>0.459270</td>\n",
              "      <td>64</td>\n",
              "      <td>254.08</td>\n",
              "    </tr>\n",
              "    <tr>\n",
              "      <th>1</th>\n",
              "      <td>CA_1-HOBBIES_1_004</td>\n",
              "      <td>HOBBIES_1_004</td>\n",
              "      <td>HOBBIES_1</td>\n",
              "      <td>HOBBIES</td>\n",
              "      <td>CA_1</td>\n",
              "      <td>CA</td>\n",
              "      <td>0</td>\n",
              "      <td>0</td>\n",
              "      <td>0</td>\n",
              "      <td>0</td>\n",
              "      <td>...</td>\n",
              "      <td>1</td>\n",
              "      <td>3</td>\n",
              "      <td>0</td>\n",
              "      <td>1</td>\n",
              "      <td>2</td>\n",
              "      <td>3</td>\n",
              "      <td>1.282192</td>\n",
              "      <td>1.504512</td>\n",
              "      <td>468</td>\n",
              "      <td>2031.12</td>\n",
              "    </tr>\n",
              "    <tr>\n",
              "      <th>2</th>\n",
              "      <td>CA_1-HOBBIES_1_005</td>\n",
              "      <td>HOBBIES_1_005</td>\n",
              "      <td>HOBBIES_1</td>\n",
              "      <td>HOBBIES</td>\n",
              "      <td>CA_1</td>\n",
              "      <td>CA</td>\n",
              "      <td>0</td>\n",
              "      <td>0</td>\n",
              "      <td>0</td>\n",
              "      <td>0</td>\n",
              "      <td>...</td>\n",
              "      <td>0</td>\n",
              "      <td>0</td>\n",
              "      <td>0</td>\n",
              "      <td>0</td>\n",
              "      <td>0</td>\n",
              "      <td>0</td>\n",
              "      <td>0.794521</td>\n",
              "      <td>1.543854</td>\n",
              "      <td>290</td>\n",
              "      <td>800.70</td>\n",
              "    </tr>\n",
              "    <tr>\n",
              "      <th>3</th>\n",
              "      <td>CA_1-HOBBIES_1_008</td>\n",
              "      <td>HOBBIES_1_008</td>\n",
              "      <td>HOBBIES_1</td>\n",
              "      <td>HOBBIES</td>\n",
              "      <td>CA_1</td>\n",
              "      <td>CA</td>\n",
              "      <td>12</td>\n",
              "      <td>15</td>\n",
              "      <td>0</td>\n",
              "      <td>0</td>\n",
              "      <td>...</td>\n",
              "      <td>0</td>\n",
              "      <td>9</td>\n",
              "      <td>14</td>\n",
              "      <td>0</td>\n",
              "      <td>8</td>\n",
              "      <td>18</td>\n",
              "      <td>6.854795</td>\n",
              "      <td>8.556423</td>\n",
              "      <td>2502</td>\n",
              "      <td>1237.92</td>\n",
              "    </tr>\n",
              "    <tr>\n",
              "      <th>4</th>\n",
              "      <td>CA_1-HOBBIES_1_009</td>\n",
              "      <td>HOBBIES_1_009</td>\n",
              "      <td>HOBBIES_1</td>\n",
              "      <td>HOBBIES</td>\n",
              "      <td>CA_1</td>\n",
              "      <td>CA</td>\n",
              "      <td>2</td>\n",
              "      <td>0</td>\n",
              "      <td>7</td>\n",
              "      <td>3</td>\n",
              "      <td>...</td>\n",
              "      <td>0</td>\n",
              "      <td>1</td>\n",
              "      <td>0</td>\n",
              "      <td>0</td>\n",
              "      <td>3</td>\n",
              "      <td>0</td>\n",
              "      <td>1.816438</td>\n",
              "      <td>2.486613</td>\n",
              "      <td>663</td>\n",
              "      <td>1151.04</td>\n",
              "    </tr>\n",
              "  </tbody>\n",
              "</table>\n",
              "<p>5 rows × 375 columns</p>\n",
              "</div>"
            ],
            "text/plain": [
              "                   id        item_id    dept_id   cat_id store_id state_id  \\\n",
              "0  CA_1-HOBBIES_1_002  HOBBIES_1_002  HOBBIES_1  HOBBIES     CA_1       CA   \n",
              "1  CA_1-HOBBIES_1_004  HOBBIES_1_004  HOBBIES_1  HOBBIES     CA_1       CA   \n",
              "2  CA_1-HOBBIES_1_005  HOBBIES_1_005  HOBBIES_1  HOBBIES     CA_1       CA   \n",
              "3  CA_1-HOBBIES_1_008  HOBBIES_1_008  HOBBIES_1  HOBBIES     CA_1       CA   \n",
              "4  CA_1-HOBBIES_1_009  HOBBIES_1_009  HOBBIES_1  HOBBIES     CA_1       CA   \n",
              "\n",
              "   d_1  d_2  d_3  d_4  ...  d_360  d_361  d_362  d_363  d_364  d_365  \\\n",
              "0    0    0    0    0  ...      0      0      1      1      0      0   \n",
              "1    0    0    0    0  ...      1      3      0      1      2      3   \n",
              "2    0    0    0    0  ...      0      0      0      0      0      0   \n",
              "3   12   15    0    0  ...      0      9     14      0      8     18   \n",
              "4    2    0    7    3  ...      0      1      0      0      3      0   \n",
              "\n",
              "       mean       std  units       TO  \n",
              "0  0.175342  0.459270     64   254.08  \n",
              "1  1.282192  1.504512    468  2031.12  \n",
              "2  0.794521  1.543854    290   800.70  \n",
              "3  6.854795  8.556423   2502  1237.92  \n",
              "4  1.816438  2.486613    663  1151.04  \n",
              "\n",
              "[5 rows x 375 columns]"
            ]
          },
          "execution_count": 17,
          "metadata": {},
          "output_type": "execute_result"
        }
      ],
      "source": [
        "\n",
        "df['units'] = df[Date_column].sum(axis = 1)\n",
        "\n",
        "df['TO'] = 0 \n",
        "for col in Date_column:\n",
        "    df['TO'] = df['TO'] + df[col] * df[['id', col]].apply(\n",
        "        lambda t: M[pr_n[t['id']], pr_p[dict_week[col]]], axis = 1)\n",
        "# Sigma\n",
        "df.head()"
      ]
    },
    {
      "cell_type": "markdown",
      "metadata": {
        "id": "dJAFPAJ12Q_c"
      },
      "source": [
        "Calculation of Co-efficient of variance"
      ]
    },
    {
      "cell_type": "code",
      "execution_count": null,
      "metadata": {
        "id": "2SNFNRHE2Q_c",
        "outputId": "183a60b9-b8eb-4453-9647-532642b26668"
      },
      "outputs": [
        {
          "data": {
            "text/html": [
              "<div>\n",
              "<style scoped>\n",
              "    .dataframe tbody tr th:only-of-type {\n",
              "        vertical-align: middle;\n",
              "    }\n",
              "\n",
              "    .dataframe tbody tr th {\n",
              "        vertical-align: top;\n",
              "    }\n",
              "\n",
              "    .dataframe thead th {\n",
              "        text-align: right;\n",
              "    }\n",
              "</style>\n",
              "<table border=\"1\" class=\"dataframe\">\n",
              "  <thead>\n",
              "    <tr style=\"text-align: right;\">\n",
              "      <th></th>\n",
              "      <th>id</th>\n",
              "      <th>item_id</th>\n",
              "      <th>dept_id</th>\n",
              "      <th>cat_id</th>\n",
              "      <th>store_id</th>\n",
              "      <th>state_id</th>\n",
              "      <th>d_1</th>\n",
              "      <th>d_2</th>\n",
              "      <th>d_3</th>\n",
              "      <th>d_4</th>\n",
              "      <th>...</th>\n",
              "      <th>d_361</th>\n",
              "      <th>d_362</th>\n",
              "      <th>d_363</th>\n",
              "      <th>d_364</th>\n",
              "      <th>d_365</th>\n",
              "      <th>mean</th>\n",
              "      <th>std</th>\n",
              "      <th>units</th>\n",
              "      <th>TO</th>\n",
              "      <th>CV</th>\n",
              "    </tr>\n",
              "  </thead>\n",
              "  <tbody>\n",
              "    <tr>\n",
              "      <th>0</th>\n",
              "      <td>CA_1-HOBBIES_1_002</td>\n",
              "      <td>HOBBIES_1_002</td>\n",
              "      <td>HOBBIES_1</td>\n",
              "      <td>HOBBIES</td>\n",
              "      <td>CA_1</td>\n",
              "      <td>CA</td>\n",
              "      <td>0</td>\n",
              "      <td>0</td>\n",
              "      <td>0</td>\n",
              "      <td>0</td>\n",
              "      <td>...</td>\n",
              "      <td>0</td>\n",
              "      <td>1</td>\n",
              "      <td>1</td>\n",
              "      <td>0</td>\n",
              "      <td>0</td>\n",
              "      <td>0.175342</td>\n",
              "      <td>0.459270</td>\n",
              "      <td>64</td>\n",
              "      <td>254.08</td>\n",
              "      <td>2.619273</td>\n",
              "    </tr>\n",
              "    <tr>\n",
              "      <th>1</th>\n",
              "      <td>CA_1-HOBBIES_1_004</td>\n",
              "      <td>HOBBIES_1_004</td>\n",
              "      <td>HOBBIES_1</td>\n",
              "      <td>HOBBIES</td>\n",
              "      <td>CA_1</td>\n",
              "      <td>CA</td>\n",
              "      <td>0</td>\n",
              "      <td>0</td>\n",
              "      <td>0</td>\n",
              "      <td>0</td>\n",
              "      <td>...</td>\n",
              "      <td>3</td>\n",
              "      <td>0</td>\n",
              "      <td>1</td>\n",
              "      <td>2</td>\n",
              "      <td>3</td>\n",
              "      <td>1.282192</td>\n",
              "      <td>1.504512</td>\n",
              "      <td>468</td>\n",
              "      <td>2031.12</td>\n",
              "      <td>1.173391</td>\n",
              "    </tr>\n",
              "    <tr>\n",
              "      <th>2</th>\n",
              "      <td>CA_1-HOBBIES_1_005</td>\n",
              "      <td>HOBBIES_1_005</td>\n",
              "      <td>HOBBIES_1</td>\n",
              "      <td>HOBBIES</td>\n",
              "      <td>CA_1</td>\n",
              "      <td>CA</td>\n",
              "      <td>0</td>\n",
              "      <td>0</td>\n",
              "      <td>0</td>\n",
              "      <td>0</td>\n",
              "      <td>...</td>\n",
              "      <td>0</td>\n",
              "      <td>0</td>\n",
              "      <td>0</td>\n",
              "      <td>0</td>\n",
              "      <td>0</td>\n",
              "      <td>0.794521</td>\n",
              "      <td>1.543854</td>\n",
              "      <td>290</td>\n",
              "      <td>800.70</td>\n",
              "      <td>1.943127</td>\n",
              "    </tr>\n",
              "    <tr>\n",
              "      <th>3</th>\n",
              "      <td>CA_1-HOBBIES_1_008</td>\n",
              "      <td>HOBBIES_1_008</td>\n",
              "      <td>HOBBIES_1</td>\n",
              "      <td>HOBBIES</td>\n",
              "      <td>CA_1</td>\n",
              "      <td>CA</td>\n",
              "      <td>12</td>\n",
              "      <td>15</td>\n",
              "      <td>0</td>\n",
              "      <td>0</td>\n",
              "      <td>...</td>\n",
              "      <td>9</td>\n",
              "      <td>14</td>\n",
              "      <td>0</td>\n",
              "      <td>8</td>\n",
              "      <td>18</td>\n",
              "      <td>6.854795</td>\n",
              "      <td>8.556423</td>\n",
              "      <td>2502</td>\n",
              "      <td>1237.92</td>\n",
              "      <td>1.248239</td>\n",
              "    </tr>\n",
              "    <tr>\n",
              "      <th>4</th>\n",
              "      <td>CA_1-HOBBIES_1_009</td>\n",
              "      <td>HOBBIES_1_009</td>\n",
              "      <td>HOBBIES_1</td>\n",
              "      <td>HOBBIES</td>\n",
              "      <td>CA_1</td>\n",
              "      <td>CA</td>\n",
              "      <td>2</td>\n",
              "      <td>0</td>\n",
              "      <td>7</td>\n",
              "      <td>3</td>\n",
              "      <td>...</td>\n",
              "      <td>1</td>\n",
              "      <td>0</td>\n",
              "      <td>0</td>\n",
              "      <td>3</td>\n",
              "      <td>0</td>\n",
              "      <td>1.816438</td>\n",
              "      <td>2.486613</td>\n",
              "      <td>663</td>\n",
              "      <td>1151.04</td>\n",
              "      <td>1.368950</td>\n",
              "    </tr>\n",
              "  </tbody>\n",
              "</table>\n",
              "<p>5 rows × 376 columns</p>\n",
              "</div>"
            ],
            "text/plain": [
              "                   id        item_id    dept_id   cat_id store_id state_id  \\\n",
              "0  CA_1-HOBBIES_1_002  HOBBIES_1_002  HOBBIES_1  HOBBIES     CA_1       CA   \n",
              "1  CA_1-HOBBIES_1_004  HOBBIES_1_004  HOBBIES_1  HOBBIES     CA_1       CA   \n",
              "2  CA_1-HOBBIES_1_005  HOBBIES_1_005  HOBBIES_1  HOBBIES     CA_1       CA   \n",
              "3  CA_1-HOBBIES_1_008  HOBBIES_1_008  HOBBIES_1  HOBBIES     CA_1       CA   \n",
              "4  CA_1-HOBBIES_1_009  HOBBIES_1_009  HOBBIES_1  HOBBIES     CA_1       CA   \n",
              "\n",
              "   d_1  d_2  d_3  d_4  ...  d_361  d_362  d_363  d_364  d_365      mean  \\\n",
              "0    0    0    0    0  ...      0      1      1      0      0  0.175342   \n",
              "1    0    0    0    0  ...      3      0      1      2      3  1.282192   \n",
              "2    0    0    0    0  ...      0      0      0      0      0  0.794521   \n",
              "3   12   15    0    0  ...      9     14      0      8     18  6.854795   \n",
              "4    2    0    7    3  ...      1      0      0      3      0  1.816438   \n",
              "\n",
              "        std  units       TO        CV  \n",
              "0  0.459270     64   254.08  2.619273  \n",
              "1  1.504512    468  2031.12  1.173391  \n",
              "2  1.543854    290   800.70  1.943127  \n",
              "3  8.556423   2502  1237.92  1.248239  \n",
              "4  2.486613    663  1151.04  1.368950  \n",
              "\n",
              "[5 rows x 376 columns]"
            ]
          },
          "execution_count": 18,
          "metadata": {},
          "output_type": "execute_result"
        }
      ],
      "source": [
        "\n",
        "df['CV'] = df['std']/df['mean']\n",
        "df.head()\n"
      ]
    },
    {
      "cell_type": "markdown",
      "metadata": {
        "id": "Ev4-atqZ2Q_d"
      },
      "source": [
        "SKU Calculation"
      ]
    },
    {
      "cell_type": "code",
      "execution_count": null,
      "metadata": {
        "id": "V6CTca6y2Q_d",
        "outputId": "53da9d00-9b06-46bc-e6d5-2ac6732683f4"
      },
      "outputs": [
        {
          "name": "stdout",
          "output_type": "stream",
          "text": [
            "649 unique SKU\n"
          ]
        },
        {
          "data": {
            "text/html": [
              "<div>\n",
              "<style scoped>\n",
              "    .dataframe tbody tr th:only-of-type {\n",
              "        vertical-align: middle;\n",
              "    }\n",
              "\n",
              "    .dataframe tbody tr th {\n",
              "        vertical-align: top;\n",
              "    }\n",
              "\n",
              "    .dataframe thead th {\n",
              "        text-align: right;\n",
              "    }\n",
              "</style>\n",
              "<table border=\"1\" class=\"dataframe\">\n",
              "  <thead>\n",
              "    <tr style=\"text-align: right;\">\n",
              "      <th></th>\n",
              "      <th>item_id</th>\n",
              "      <th>dept_id</th>\n",
              "      <th>cat_id</th>\n",
              "      <th>units</th>\n",
              "      <th>TO</th>\n",
              "      <th>mean</th>\n",
              "      <th>std</th>\n",
              "      <th>CV</th>\n",
              "      <th>Normality_p</th>\n",
              "      <th>Not_Normal</th>\n",
              "      <th>TO%</th>\n",
              "      <th>TO%_CS</th>\n",
              "      <th>SKU_ID</th>\n",
              "      <th>SKU_%</th>\n",
              "      <th>ABC</th>\n",
              "    </tr>\n",
              "  </thead>\n",
              "  <tbody>\n",
              "    <tr>\n",
              "      <th>0</th>\n",
              "      <td>HOUSEHOLD_1_272</td>\n",
              "      <td>HOUSEHOLD_1</td>\n",
              "      <td>HOUSEHOLD</td>\n",
              "      <td>13140</td>\n",
              "      <td>131153.24</td>\n",
              "      <td>36.000000</td>\n",
              "      <td>12.032694</td>\n",
              "      <td>0.334241</td>\n",
              "      <td>1.809867e-06</td>\n",
              "      <td>True</td>\n",
              "      <td>1.755437</td>\n",
              "      <td>1.755437</td>\n",
              "      <td>1.0</td>\n",
              "      <td>0.154083</td>\n",
              "      <td>A</td>\n",
              "    </tr>\n",
              "    <tr>\n",
              "      <th>1</th>\n",
              "      <td>HOUSEHOLD_1_535</td>\n",
              "      <td>HOUSEHOLD_1</td>\n",
              "      <td>HOUSEHOLD</td>\n",
              "      <td>16363</td>\n",
              "      <td>114050.11</td>\n",
              "      <td>44.830137</td>\n",
              "      <td>32.722420</td>\n",
              "      <td>0.729920</td>\n",
              "      <td>2.122375e-12</td>\n",
              "      <td>True</td>\n",
              "      <td>1.526518</td>\n",
              "      <td>3.281956</td>\n",
              "      <td>2.0</td>\n",
              "      <td>0.308166</td>\n",
              "      <td>A</td>\n",
              "    </tr>\n",
              "    <tr>\n",
              "      <th>2</th>\n",
              "      <td>HOUSEHOLD_1_072</td>\n",
              "      <td>HOUSEHOLD_1</td>\n",
              "      <td>HOUSEHOLD</td>\n",
              "      <td>11944</td>\n",
              "      <td>96733.54</td>\n",
              "      <td>32.723288</td>\n",
              "      <td>11.058915</td>\n",
              "      <td>0.337952</td>\n",
              "      <td>4.101105e-01</td>\n",
              "      <td>False</td>\n",
              "      <td>1.294742</td>\n",
              "      <td>4.576698</td>\n",
              "      <td>3.0</td>\n",
              "      <td>0.462250</td>\n",
              "      <td>A</td>\n",
              "    </tr>\n",
              "    <tr>\n",
              "      <th>3</th>\n",
              "      <td>HOUSEHOLD_1_053</td>\n",
              "      <td>HOUSEHOLD_1</td>\n",
              "      <td>HOUSEHOLD</td>\n",
              "      <td>5936</td>\n",
              "      <td>89924.92</td>\n",
              "      <td>16.263014</td>\n",
              "      <td>8.938242</td>\n",
              "      <td>0.549606</td>\n",
              "      <td>2.806093e-07</td>\n",
              "      <td>True</td>\n",
              "      <td>1.203612</td>\n",
              "      <td>5.780310</td>\n",
              "      <td>4.0</td>\n",
              "      <td>0.616333</td>\n",
              "      <td>A</td>\n",
              "    </tr>\n",
              "    <tr>\n",
              "      <th>4</th>\n",
              "      <td>HOUSEHOLD_1_440</td>\n",
              "      <td>HOUSEHOLD_1</td>\n",
              "      <td>HOUSEHOLD</td>\n",
              "      <td>5865</td>\n",
              "      <td>89088.55</td>\n",
              "      <td>16.068493</td>\n",
              "      <td>8.353996</td>\n",
              "      <td>0.519899</td>\n",
              "      <td>5.088554e-06</td>\n",
              "      <td>True</td>\n",
              "      <td>1.192417</td>\n",
              "      <td>6.972727</td>\n",
              "      <td>5.0</td>\n",
              "      <td>0.770416</td>\n",
              "      <td>A</td>\n",
              "    </tr>\n",
              "  </tbody>\n",
              "</table>\n",
              "</div>"
            ],
            "text/plain": [
              "           item_id      dept_id     cat_id  units         TO       mean  \\\n",
              "0  HOUSEHOLD_1_272  HOUSEHOLD_1  HOUSEHOLD  13140  131153.24  36.000000   \n",
              "1  HOUSEHOLD_1_535  HOUSEHOLD_1  HOUSEHOLD  16363  114050.11  44.830137   \n",
              "2  HOUSEHOLD_1_072  HOUSEHOLD_1  HOUSEHOLD  11944   96733.54  32.723288   \n",
              "3  HOUSEHOLD_1_053  HOUSEHOLD_1  HOUSEHOLD   5936   89924.92  16.263014   \n",
              "4  HOUSEHOLD_1_440  HOUSEHOLD_1  HOUSEHOLD   5865   89088.55  16.068493   \n",
              "\n",
              "         std        CV   Normality_p  Not_Normal       TO%    TO%_CS  SKU_ID  \\\n",
              "0  12.032694  0.334241  1.809867e-06        True  1.755437  1.755437     1.0   \n",
              "1  32.722420  0.729920  2.122375e-12        True  1.526518  3.281956     2.0   \n",
              "2  11.058915  0.337952  4.101105e-01       False  1.294742  4.576698     3.0   \n",
              "3   8.938242  0.549606  2.806093e-07        True  1.203612  5.780310     4.0   \n",
              "4   8.353996  0.519899  5.088554e-06        True  1.192417  6.972727     5.0   \n",
              "\n",
              "      SKU_% ABC  \n",
              "0  0.154083   A  \n",
              "1  0.308166   A  \n",
              "2  0.462250   A  \n",
              "3  0.616333   A  \n",
              "4  0.770416   A  "
            ]
          },
          "execution_count": 19,
          "metadata": {},
          "output_type": "execute_result"
        }
      ],
      "source": [
        "\n",
        "DF_FINAL = df[df['cat_id']=='HOUSEHOLD'].drop(['mean', 'std', 'CV'], axis = 1).copy()\n",
        "DF_FINAL = DF_FINAL.groupby(['item_id', 'dept_id', 'cat_id']).sum()\n",
        "\n",
        "\n",
        "DF_FINAL['mean'] = DF_FINAL[Date_column].mean(axis = 1)\n",
        "\n",
        "DF_FINAL = DF_FINAL[DF_FINAL['mean']>0]\n",
        "\n",
        "DF_FINAL['std'] = DF_FINAL[Date_column].std(axis = 1)\n",
        "\n",
        "DF_FINAL['CV'] = DF_FINAL['std']/DF_FINAL['mean']\n",
        "DF_FINAL.reset_index(inplace = True)\n",
        "\n",
        "DF_FINAL['Normality_p'] = DF_FINAL[Date_column].apply(lambda row : stats.shapiro(row)[1], axis = 1)\n",
        "alpha = 0.001\n",
        "DF_FINAL['Not_Normal'] = DF_FINAL['Normality_p'] < alpha\n",
        "\n",
        "\n",
        "DF_FINAL = DF_FINAL.drop(Date_column, axis =1).copy()\n",
        "DF_FINAL['TO%'] = (100*DF_FINAL['TO']/DF_FINAL['TO'].sum())\n",
        "\n",
        "DF_FINAL.sort_values(['TO%'], ascending = False, inplace = True, ignore_index=True)\n",
        "DF_FINAL['TO%_CS'] = DF_FINAL['TO%'].cumsum()\n",
        "\n",
        "\n",
        "n_sku = len(DF_FINAL)\n",
        "n_a, n_b = int(0.05*n_sku), int(0.5*n_sku)\n",
        "DF_FINAL['SKU_ID'] = pd.Series(range(1, len(DF_FINAL))).astype(int)\n",
        "DF_FINAL['SKU_%'] = (100 * pd.Series(range(1, len(DF_FINAL))) / len(DF_FINAL))\n",
        "DF_FINAL['ABC'] = pd.Series(range(len(DF_FINAL))).apply(lambda t: 'A' if t <= n_a-1 else 'B' if t <= n_b-1 else 'C')\n",
        "\n",
        "to_a, to_b = DF_FINAL[DF_FINAL['SKU_ID']==n_a]['TO%'].max(), DF_FINAL[DF_FINAL['SKU_ID']==n_b]['TO%'].max()\n",
        "\n",
        "print(\"{:,} unique SKU\".format(len(DF_FINAL)))\n",
        "DF_FINAL.head()\n",
        "\n"
      ]
    },
    {
      "cell_type": "markdown",
      "metadata": {
        "id": "3umQOq2J2Q_d"
      },
      "source": [
        "Coefficient of Variation distribution"
      ]
    },
    {
      "cell_type": "code",
      "execution_count": null,
      "metadata": {
        "id": "yrXGxuCA2Q_e",
        "outputId": "215350d0-b6e2-4a22-e5b7-e889fd5aadf8"
      },
      "outputs": [
        {
          "name": "stderr",
          "output_type": "stream",
          "text": [
            "c:\\Users\\sarth\\AppData\\Local\\Programs\\Python\\Python310\\lib\\site-packages\\pandas\\plotting\\_matplotlib\\core.py:1114: UserWarning: No data for colormapping provided via 'c'. Parameters 'cmap' will be ignored\n",
            "  scatter = ax.scatter(\n"
          ]
        },
        {
          "data": {
            "image/png": "[encoded data removed]",
            "text/plain": [
              "<Figure size 1200x800 with 1 Axes>"
            ]
          },
          "metadata": {},
          "output_type": "display_data"
        }
      ],
      "source": [
        "ax = plt.gca()\n",
        "colors = {'A':'red', 'B':'green', 'C':'blue'}\n",
        "\n",
        "df_plot = DF_FINAL[DF_FINAL['CV']<4].copy()\n",
        "df_plot.plot.scatter(figsize=(12, 8), x='TO%', y='CV', color=df_plot['ABC'].map(colors), ax =ax, grid = True)\n",
        "\n",
        "ax.axvline(to_a , color=\"red\", linestyle=\"-\", linewidth = 1.0)\n",
        "ax.axvline(to_b , color=\"red\", linestyle=\"-\", linewidth = 1.0)\n",
        "\n",
        "ax.axhline(1 , color=\"blue\", linestyle=\"--\", linewidth = 1.0)\n",
        "plt.xlabel('Percentage of Turnover (%)')\n",
        "plt.xticks(rotation=90)\n",
        "plt.ylabel('Coefficient of Variation')\n",
        "plt.title('Distribution by Demand Variability')\n",
        "plt.show()\n"
      ]
    },
    {
      "cell_type": "markdown",
      "metadata": {
        "id": "ml1IGRwC2Q_e"
      },
      "source": [
        "# ABC analysis plotting (Answer for product segmentation)"
      ]
    },
    {
      "cell_type": "markdown",
      "metadata": {
        "id": "4EW1PSRa2Q_e"
      },
      "source": [
        "I have used abc_analysis to simplify the plotting of the graphs of ABC and then I tabulated the SKU's A,B,C."
      ]
    },
    {
      "cell_type": "code",
      "execution_count": null,
      "metadata": {
        "id": "5DfesB6o2Q_e",
        "outputId": "77206fa8-3271-4614-afea-655b163b3019"
      },
      "outputs": [
        {
          "name": "stderr",
          "output_type": "stream",
          "text": [
            "c:\\Users\\sarth\\AppData\\Local\\Programs\\Python\\Python310\\lib\\site-packages\\abc_analysis\\abc_analysis.py:163: FutureWarning: The series.append method is deprecated and will be removed from pandas in a future version. Use pandas.concat instead.\n",
            "  y = pd.Series([0]).append(y)\n",
            "c:\\Users\\sarth\\AppData\\Local\\Programs\\Python\\Python310\\lib\\site-packages\\abc_analysis\\abc_analysis.py:164: FutureWarning: The series.append method is deprecated and will be removed from pandas in a future version. Use pandas.concat instead.\n",
            "  x = pd.Series([0]).append(x)\n"
          ]
        },
        {
          "data": {
            "image/png": "[encoded data removed]",
            "text/plain": [
              "<Figure size 600x600 with 1 Axes>"
            ]
          },
          "metadata": {},
          "output_type": "display_data"
        }
      ],
      "source": [
        "from abc_analysis import abc_analysis, abc_plot\n",
        "\n",
        "abc = abc_analysis(DF_FINAL['TO'], True)"
      ]
    },
    {
      "cell_type": "code",
      "execution_count": null,
      "metadata": {
        "id": "8hh9mDVs2Q_e",
        "outputId": "0eb63c32-fcf5-4c43-95a0-b1599f5f4cf1"
      },
      "outputs": [
        {
          "data": {
            "text/html": [
              "<div>\n",
              "<style scoped>\n",
              "    .dataframe tbody tr th:only-of-type {\n",
              "        vertical-align: middle;\n",
              "    }\n",
              "\n",
              "    .dataframe tbody tr th {\n",
              "        vertical-align: top;\n",
              "    }\n",
              "\n",
              "    .dataframe thead th {\n",
              "        text-align: right;\n",
              "    }\n",
              "</style>\n",
              "<table border=\"1\" class=\"dataframe\">\n",
              "  <thead>\n",
              "    <tr style=\"text-align: right;\">\n",
              "      <th></th>\n",
              "      <th>item_id</th>\n",
              "      <th>dept_id</th>\n",
              "      <th>cat_id</th>\n",
              "      <th>units</th>\n",
              "      <th>TO</th>\n",
              "      <th>mean</th>\n",
              "      <th>std</th>\n",
              "      <th>CV</th>\n",
              "      <th>Normality_p</th>\n",
              "      <th>Not_Normal</th>\n",
              "      <th>TO%</th>\n",
              "      <th>TO%_CS</th>\n",
              "      <th>SKU_ID</th>\n",
              "      <th>SKU_%</th>\n",
              "      <th>ABC</th>\n",
              "      <th>abc</th>\n",
              "    </tr>\n",
              "  </thead>\n",
              "  <tbody>\n",
              "    <tr>\n",
              "      <th>0</th>\n",
              "      <td>HOUSEHOLD_1_272</td>\n",
              "      <td>HOUSEHOLD_1</td>\n",
              "      <td>HOUSEHOLD</td>\n",
              "      <td>13140</td>\n",
              "      <td>131153.24</td>\n",
              "      <td>36.000000</td>\n",
              "      <td>12.032694</td>\n",
              "      <td>0.334241</td>\n",
              "      <td>1.809867e-06</td>\n",
              "      <td>True</td>\n",
              "      <td>1.755437</td>\n",
              "      <td>1.755437</td>\n",
              "      <td>1.0</td>\n",
              "      <td>0.154083</td>\n",
              "      <td>A</td>\n",
              "      <td>A</td>\n",
              "    </tr>\n",
              "    <tr>\n",
              "      <th>1</th>\n",
              "      <td>HOUSEHOLD_1_535</td>\n",
              "      <td>HOUSEHOLD_1</td>\n",
              "      <td>HOUSEHOLD</td>\n",
              "      <td>16363</td>\n",
              "      <td>114050.11</td>\n",
              "      <td>44.830137</td>\n",
              "      <td>32.722420</td>\n",
              "      <td>0.729920</td>\n",
              "      <td>2.122375e-12</td>\n",
              "      <td>True</td>\n",
              "      <td>1.526518</td>\n",
              "      <td>3.281956</td>\n",
              "      <td>2.0</td>\n",
              "      <td>0.308166</td>\n",
              "      <td>A</td>\n",
              "      <td>A</td>\n",
              "    </tr>\n",
              "    <tr>\n",
              "      <th>2</th>\n",
              "      <td>HOUSEHOLD_1_072</td>\n",
              "      <td>HOUSEHOLD_1</td>\n",
              "      <td>HOUSEHOLD</td>\n",
              "      <td>11944</td>\n",
              "      <td>96733.54</td>\n",
              "      <td>32.723288</td>\n",
              "      <td>11.058915</td>\n",
              "      <td>0.337952</td>\n",
              "      <td>4.101105e-01</td>\n",
              "      <td>False</td>\n",
              "      <td>1.294742</td>\n",
              "      <td>4.576698</td>\n",
              "      <td>3.0</td>\n",
              "      <td>0.462250</td>\n",
              "      <td>A</td>\n",
              "      <td>A</td>\n",
              "    </tr>\n",
              "    <tr>\n",
              "      <th>3</th>\n",
              "      <td>HOUSEHOLD_1_053</td>\n",
              "      <td>HOUSEHOLD_1</td>\n",
              "      <td>HOUSEHOLD</td>\n",
              "      <td>5936</td>\n",
              "      <td>89924.92</td>\n",
              "      <td>16.263014</td>\n",
              "      <td>8.938242</td>\n",
              "      <td>0.549606</td>\n",
              "      <td>2.806093e-07</td>\n",
              "      <td>True</td>\n",
              "      <td>1.203612</td>\n",
              "      <td>5.780310</td>\n",
              "      <td>4.0</td>\n",
              "      <td>0.616333</td>\n",
              "      <td>A</td>\n",
              "      <td>A</td>\n",
              "    </tr>\n",
              "    <tr>\n",
              "      <th>4</th>\n",
              "      <td>HOUSEHOLD_1_440</td>\n",
              "      <td>HOUSEHOLD_1</td>\n",
              "      <td>HOUSEHOLD</td>\n",
              "      <td>5865</td>\n",
              "      <td>89088.55</td>\n",
              "      <td>16.068493</td>\n",
              "      <td>8.353996</td>\n",
              "      <td>0.519899</td>\n",
              "      <td>5.088554e-06</td>\n",
              "      <td>True</td>\n",
              "      <td>1.192417</td>\n",
              "      <td>6.972727</td>\n",
              "      <td>5.0</td>\n",
              "      <td>0.770416</td>\n",
              "      <td>A</td>\n",
              "      <td>A</td>\n",
              "    </tr>\n",
              "    <tr>\n",
              "      <th>...</th>\n",
              "      <td>...</td>\n",
              "      <td>...</td>\n",
              "      <td>...</td>\n",
              "      <td>...</td>\n",
              "      <td>...</td>\n",
              "      <td>...</td>\n",
              "      <td>...</td>\n",
              "      <td>...</td>\n",
              "      <td>...</td>\n",
              "      <td>...</td>\n",
              "      <td>...</td>\n",
              "      <td>...</td>\n",
              "      <td>...</td>\n",
              "      <td>...</td>\n",
              "      <td>...</td>\n",
              "      <td>...</td>\n",
              "    </tr>\n",
              "    <tr>\n",
              "      <th>644</th>\n",
              "      <td>HOUSEHOLD_1_394</td>\n",
              "      <td>HOUSEHOLD_1</td>\n",
              "      <td>HOUSEHOLD</td>\n",
              "      <td>2</td>\n",
              "      <td>9.76</td>\n",
              "      <td>0.005479</td>\n",
              "      <td>0.073922</td>\n",
              "      <td>13.490687</td>\n",
              "      <td>5.808091e-39</td>\n",
              "      <td>True</td>\n",
              "      <td>0.000131</td>\n",
              "      <td>99.999848</td>\n",
              "      <td>645.0</td>\n",
              "      <td>99.383667</td>\n",
              "      <td>C</td>\n",
              "      <td>C</td>\n",
              "    </tr>\n",
              "    <tr>\n",
              "      <th>645</th>\n",
              "      <td>HOUSEHOLD_2_346</td>\n",
              "      <td>HOUSEHOLD_2</td>\n",
              "      <td>HOUSEHOLD</td>\n",
              "      <td>1</td>\n",
              "      <td>3.00</td>\n",
              "      <td>0.002740</td>\n",
              "      <td>0.052342</td>\n",
              "      <td>19.104973</td>\n",
              "      <td>3.135480e-39</td>\n",
              "      <td>True</td>\n",
              "      <td>0.000040</td>\n",
              "      <td>99.999888</td>\n",
              "      <td>646.0</td>\n",
              "      <td>99.537750</td>\n",
              "      <td>C</td>\n",
              "      <td>C</td>\n",
              "    </tr>\n",
              "    <tr>\n",
              "      <th>646</th>\n",
              "      <td>HOUSEHOLD_2_401</td>\n",
              "      <td>HOUSEHOLD_2</td>\n",
              "      <td>HOUSEHOLD</td>\n",
              "      <td>1</td>\n",
              "      <td>3.00</td>\n",
              "      <td>0.002740</td>\n",
              "      <td>0.052342</td>\n",
              "      <td>19.104973</td>\n",
              "      <td>3.135480e-39</td>\n",
              "      <td>True</td>\n",
              "      <td>0.000040</td>\n",
              "      <td>99.999928</td>\n",
              "      <td>647.0</td>\n",
              "      <td>99.691834</td>\n",
              "      <td>C</td>\n",
              "      <td>C</td>\n",
              "    </tr>\n",
              "    <tr>\n",
              "      <th>647</th>\n",
              "      <td>HOUSEHOLD_1_529</td>\n",
              "      <td>HOUSEHOLD_1</td>\n",
              "      <td>HOUSEHOLD</td>\n",
              "      <td>1</td>\n",
              "      <td>2.87</td>\n",
              "      <td>0.002740</td>\n",
              "      <td>0.052342</td>\n",
              "      <td>19.104973</td>\n",
              "      <td>3.135480e-39</td>\n",
              "      <td>True</td>\n",
              "      <td>0.000038</td>\n",
              "      <td>99.999967</td>\n",
              "      <td>648.0</td>\n",
              "      <td>99.845917</td>\n",
              "      <td>C</td>\n",
              "      <td>C</td>\n",
              "    </tr>\n",
              "    <tr>\n",
              "      <th>648</th>\n",
              "      <td>HOUSEHOLD_2_230</td>\n",
              "      <td>HOUSEHOLD_2</td>\n",
              "      <td>HOUSEHOLD</td>\n",
              "      <td>1</td>\n",
              "      <td>2.48</td>\n",
              "      <td>0.002740</td>\n",
              "      <td>0.052342</td>\n",
              "      <td>19.104973</td>\n",
              "      <td>3.135480e-39</td>\n",
              "      <td>True</td>\n",
              "      <td>0.000033</td>\n",
              "      <td>100.000000</td>\n",
              "      <td>NaN</td>\n",
              "      <td>NaN</td>\n",
              "      <td>C</td>\n",
              "      <td>C</td>\n",
              "    </tr>\n",
              "  </tbody>\n",
              "</table>\n",
              "<p>649 rows × 16 columns</p>\n",
              "</div>"
            ],
            "text/plain": [
              "             item_id      dept_id     cat_id  units         TO       mean  \\\n",
              "0    HOUSEHOLD_1_272  HOUSEHOLD_1  HOUSEHOLD  13140  131153.24  36.000000   \n",
              "1    HOUSEHOLD_1_535  HOUSEHOLD_1  HOUSEHOLD  16363  114050.11  44.830137   \n",
              "2    HOUSEHOLD_1_072  HOUSEHOLD_1  HOUSEHOLD  11944   96733.54  32.723288   \n",
              "3    HOUSEHOLD_1_053  HOUSEHOLD_1  HOUSEHOLD   5936   89924.92  16.263014   \n",
              "4    HOUSEHOLD_1_440  HOUSEHOLD_1  HOUSEHOLD   5865   89088.55  16.068493   \n",
              "..               ...          ...        ...    ...        ...        ...   \n",
              "644  HOUSEHOLD_1_394  HOUSEHOLD_1  HOUSEHOLD      2       9.76   0.005479   \n",
              "645  HOUSEHOLD_2_346  HOUSEHOLD_2  HOUSEHOLD      1       3.00   0.002740   \n",
              "646  HOUSEHOLD_2_401  HOUSEHOLD_2  HOUSEHOLD      1       3.00   0.002740   \n",
              "647  HOUSEHOLD_1_529  HOUSEHOLD_1  HOUSEHOLD      1       2.87   0.002740   \n",
              "648  HOUSEHOLD_2_230  HOUSEHOLD_2  HOUSEHOLD      1       2.48   0.002740   \n",
              "\n",
              "           std         CV   Normality_p  Not_Normal       TO%      TO%_CS  \\\n",
              "0    12.032694   0.334241  1.809867e-06        True  1.755437    1.755437   \n",
              "1    32.722420   0.729920  2.122375e-12        True  1.526518    3.281956   \n",
              "2    11.058915   0.337952  4.101105e-01       False  1.294742    4.576698   \n",
              "3     8.938242   0.549606  2.806093e-07        True  1.203612    5.780310   \n",
              "4     8.353996   0.519899  5.088554e-06        True  1.192417    6.972727   \n",
              "..         ...        ...           ...         ...       ...         ...   \n",
              "644   0.073922  13.490687  5.808091e-39        True  0.000131   99.999848   \n",
              "645   0.052342  19.104973  3.135480e-39        True  0.000040   99.999888   \n",
              "646   0.052342  19.104973  3.135480e-39        True  0.000040   99.999928   \n",
              "647   0.052342  19.104973  3.135480e-39        True  0.000038   99.999967   \n",
              "648   0.052342  19.104973  3.135480e-39        True  0.000033  100.000000   \n",
              "\n",
              "     SKU_ID      SKU_% ABC abc  \n",
              "0       1.0   0.154083   A   A  \n",
              "1       2.0   0.308166   A   A  \n",
              "2       3.0   0.462250   A   A  \n",
              "3       4.0   0.616333   A   A  \n",
              "4       5.0   0.770416   A   A  \n",
              "..      ...        ...  ..  ..  \n",
              "644   645.0  99.383667   C   C  \n",
              "645   646.0  99.537750   C   C  \n",
              "646   647.0  99.691834   C   C  \n",
              "647   648.0  99.845917   C   C  \n",
              "648     NaN        NaN   C   C  \n",
              "\n",
              "[649 rows x 16 columns]"
            ]
          },
          "execution_count": 22,
          "metadata": {},
          "output_type": "execute_result"
        }
      ],
      "source": [
        "\n",
        "a_index = abc['Aind']\n",
        "b_index = abc['Bind']\n",
        "c_index = abc['Cind']\n",
        "\n",
        "cond_list = [DF_FINAL.index.isin(a_index),\n",
        "             DF_FINAL.index.isin(b_index),\n",
        "             DF_FINAL.index.isin(c_index)]\n",
        "\n",
        "choice_list = ['A','B','C']\n",
        "\n",
        "DF_FINAL['abc'] = np.select(cond_list, choice_list)\n",
        "DF_FINAL.sort_values(by=['TO'], ascending=False)"
      ]
    },
    {
      "cell_type": "markdown",
      "metadata": {
        "id": "POuRAky02Q_f"
      },
      "source": [
        "Final Answer"
      ]
    },
    {
      "cell_type": "code",
      "execution_count": null,
      "metadata": {
        "id": "Uuu6AmLL2Q_f",
        "outputId": "d3fd2cc1-60b5-4d71-d046-29bd65b94afc"
      },
      "outputs": [
        {
          "data": {
            "text/plain": [
              "C    352\n",
              "A    200\n",
              "B     97\n",
              "Name: abc, dtype: int64"
            ]
          },
          "execution_count": 23,
          "metadata": {},
          "output_type": "execute_result"
        }
      ],
      "source": [
        "DF_FINAL['abc'].value_counts()"
      ]
    },
    {
      "cell_type": "markdown",
      "metadata": {
        "id": "vsgNtu9B2Q_f"
      },
      "source": [
        "# Coding part : C.\tDiscuss a few initiatives and recommendation for improving the retail business for temp_dataframeset_02 (as per the question paper)"
      ]
    },
    {
      "cell_type": "markdown",
      "metadata": {
        "id": "XbZm19eF2Q_f"
      },
      "source": [
        "temp_dataframe loading of this section\n",
        "\n",
        "I have tried to give out suggestions and recommendations as per the exploratory temp_dataframe analysis performed in this section."
      ]
    },
    {
      "cell_type": "code",
      "execution_count": null,
      "metadata": {
        "id": "q2hJ9y042Q_f"
      },
      "outputs": [],
      "source": [
        "\n",
        "# I have tried to give out sugeestions and proper recommendations for this retail business of walmart backed by the python codes as below\n",
        "\n",
        "sales = pd.read_csv(r'sales_train_evaluation.csv')\n",
        "calendar = pd.read_csv(r'calendar.csv')\n",
        "prices = pd.read_csv(r'sell_prices.csv')"
      ]
    },
    {
      "cell_type": "code",
      "execution_count": null,
      "metadata": {
        "id": "lPNRa2UD2Q_g",
        "outputId": "2d60ad97-5b8a-48f9-a761-414497ee3eb4"
      },
      "outputs": [
        {
          "data": {
            "text/html": [
              "<div>\n",
              "<style scoped>\n",
              "    .dataframe tbody tr th:only-of-type {\n",
              "        vertical-align: middle;\n",
              "    }\n",
              "\n",
              "    .dataframe tbody tr th {\n",
              "        vertical-align: top;\n",
              "    }\n",
              "\n",
              "    .dataframe thead th {\n",
              "        text-align: right;\n",
              "    }\n",
              "</style>\n",
              "<table border=\"1\" class=\"dataframe\">\n",
              "  <thead>\n",
              "    <tr style=\"text-align: right;\">\n",
              "      <th></th>\n",
              "      <th>date</th>\n",
              "      <th>wm_yr_wk</th>\n",
              "      <th>weekday</th>\n",
              "      <th>wday</th>\n",
              "      <th>month</th>\n",
              "      <th>year</th>\n",
              "      <th>d</th>\n",
              "      <th>event_name_1</th>\n",
              "      <th>event_type_1</th>\n",
              "      <th>event_name_2</th>\n",
              "      <th>event_type_2</th>\n",
              "      <th>snap_CA</th>\n",
              "      <th>snap_TX</th>\n",
              "      <th>snap_WI</th>\n",
              "    </tr>\n",
              "  </thead>\n",
              "  <tbody>\n",
              "    <tr>\n",
              "      <th>0</th>\n",
              "      <td>2011-01-29</td>\n",
              "      <td>11101</td>\n",
              "      <td>Saturday</td>\n",
              "      <td>1</td>\n",
              "      <td>1</td>\n",
              "      <td>2011</td>\n",
              "      <td>d_1</td>\n",
              "      <td>No_event</td>\n",
              "      <td>No_event</td>\n",
              "      <td>No_event</td>\n",
              "      <td>No_event</td>\n",
              "      <td>0</td>\n",
              "      <td>0</td>\n",
              "      <td>0</td>\n",
              "    </tr>\n",
              "    <tr>\n",
              "      <th>1</th>\n",
              "      <td>2011-01-30</td>\n",
              "      <td>11101</td>\n",
              "      <td>Sunday</td>\n",
              "      <td>2</td>\n",
              "      <td>1</td>\n",
              "      <td>2011</td>\n",
              "      <td>d_2</td>\n",
              "      <td>No_event</td>\n",
              "      <td>No_event</td>\n",
              "      <td>No_event</td>\n",
              "      <td>No_event</td>\n",
              "      <td>0</td>\n",
              "      <td>0</td>\n",
              "      <td>0</td>\n",
              "    </tr>\n",
              "    <tr>\n",
              "      <th>2</th>\n",
              "      <td>2011-01-31</td>\n",
              "      <td>11101</td>\n",
              "      <td>Monday</td>\n",
              "      <td>3</td>\n",
              "      <td>1</td>\n",
              "      <td>2011</td>\n",
              "      <td>d_3</td>\n",
              "      <td>No_event</td>\n",
              "      <td>No_event</td>\n",
              "      <td>No_event</td>\n",
              "      <td>No_event</td>\n",
              "      <td>0</td>\n",
              "      <td>0</td>\n",
              "      <td>0</td>\n",
              "    </tr>\n",
              "    <tr>\n",
              "      <th>3</th>\n",
              "      <td>2011-02-01</td>\n",
              "      <td>11101</td>\n",
              "      <td>Tuesday</td>\n",
              "      <td>4</td>\n",
              "      <td>2</td>\n",
              "      <td>2011</td>\n",
              "      <td>d_4</td>\n",
              "      <td>No_event</td>\n",
              "      <td>No_event</td>\n",
              "      <td>No_event</td>\n",
              "      <td>No_event</td>\n",
              "      <td>1</td>\n",
              "      <td>1</td>\n",
              "      <td>0</td>\n",
              "    </tr>\n",
              "    <tr>\n",
              "      <th>4</th>\n",
              "      <td>2011-02-02</td>\n",
              "      <td>11101</td>\n",
              "      <td>Wednesday</td>\n",
              "      <td>5</td>\n",
              "      <td>2</td>\n",
              "      <td>2011</td>\n",
              "      <td>d_5</td>\n",
              "      <td>No_event</td>\n",
              "      <td>No_event</td>\n",
              "      <td>No_event</td>\n",
              "      <td>No_event</td>\n",
              "      <td>1</td>\n",
              "      <td>0</td>\n",
              "      <td>1</td>\n",
              "    </tr>\n",
              "  </tbody>\n",
              "</table>\n",
              "</div>"
            ],
            "text/plain": [
              "         date  wm_yr_wk    weekday  wday  month  year    d event_name_1  \\\n",
              "0  2011-01-29     11101   Saturday     1      1  2011  d_1     No_event   \n",
              "1  2011-01-30     11101     Sunday     2      1  2011  d_2     No_event   \n",
              "2  2011-01-31     11101     Monday     3      1  2011  d_3     No_event   \n",
              "3  2011-02-01     11101    Tuesday     4      2  2011  d_4     No_event   \n",
              "4  2011-02-02     11101  Wednesday     5      2  2011  d_5     No_event   \n",
              "\n",
              "  event_type_1 event_name_2 event_type_2  snap_CA  snap_TX  snap_WI  \n",
              "0     No_event     No_event     No_event        0        0        0  \n",
              "1     No_event     No_event     No_event        0        0        0  \n",
              "2     No_event     No_event     No_event        0        0        0  \n",
              "3     No_event     No_event     No_event        1        1        0  \n",
              "4     No_event     No_event     No_event        1        0        1  "
            ]
          },
          "execution_count": 25,
          "metadata": {},
          "output_type": "execute_result"
        }
      ],
      "source": [
        "calendar.fillna('No_event',inplace=True)\n",
        "calendar.head()"
      ]
    },
    {
      "cell_type": "markdown",
      "metadata": {
        "id": "YAIYvmya2Q_g"
      },
      "source": [
        "performed the downcasting "
      ]
    },
    {
      "cell_type": "code",
      "execution_count": null,
      "metadata": {
        "id": "n3m19o7Q2Q_g"
      },
      "outputs": [],
      "source": [
        "from downcast import reduce\n",
        "sales_= reduce(sales)\n",
        "prices_= reduce(prices)\n",
        "calendar_= reduce(calendar)"
      ]
    },
    {
      "cell_type": "markdown",
      "metadata": {
        "id": "CvF0YHJp2Q_g"
      },
      "source": [
        "Here, I performed the melting of the temp_dataframeset."
      ]
    },
    {
      "cell_type": "code",
      "execution_count": null,
      "metadata": {
        "id": "VLRukY9Y2Q_g"
      },
      "outputs": [],
      "source": [
        "df_sales=pd.melt(sales_, id_vars=['id', 'item_id', 'dept_id', 'cat_id', 'store_id', 'state_id'], var_name='d', value_name='sold')"
      ]
    },
    {
      "cell_type": "markdown",
      "metadata": {
        "id": "ej6rL9U52Q_g"
      },
      "source": [
        "Merged the temp_dataframeset with calendar and prices to create a final single temp_dataframeframe."
      ]
    },
    {
      "cell_type": "code",
      "execution_count": null,
      "metadata": {
        "id": "SOIyrnaJ2Q_h"
      },
      "outputs": [],
      "source": [
        "DF_MAIN= pd.merge(df_sales, calendar, on='d', how='left')"
      ]
    },
    {
      "cell_type": "code",
      "execution_count": null,
      "metadata": {
        "id": "4Nt-Pe4c2Q_h"
      },
      "outputs": [],
      "source": [
        "DF_MAIN= pd.merge(DF_MAIN, prices, on=['store_id','item_id','wm_yr_wk'], how='left') "
      ]
    },
    {
      "cell_type": "markdown",
      "metadata": {
        "id": "Tz9Egz8K2Q_h"
      },
      "source": [
        "# Daily sales"
      ]
    },
    {
      "cell_type": "code",
      "execution_count": null,
      "metadata": {
        "id": "-pnJv44z2Q_h",
        "outputId": "9a15a12a-3d1d-4c62-b150-ae88750c2c1f"
      },
      "outputs": [
        {
          "data": {
            "application/vnd.plotly.v1+json": {
              "config": {
                "plotlyServerURL": "https://plot.ly"
              },
              "data": [
                {
                  "hovertemplate": "d=%{x}<br>mean_sold=%{y}<extra></extra>",
                  "legendgroup": "",
                  "line": {
                    "color": "#636efa",
                    "dash": "solid"
                  },
                  "marker": {
                    "symbol": "circle"
                  },
                  "mode": "lines",
                  "name": "",
                  "showlegend": false,
                  "type": "scattergl",
                  "x": [
                    "d_1",
                    "d_2",
                    "d_3",
                    "d_4",
                    "d_5",
                    "d_6",
                    "d_7",
                    "d_8",
                    "d_9",
                    "d_10",
                    "d_11",
                    "d_12",
                    "d_13",
                    "d_14",
                    "d_15",
                    "d_16",
                    "d_17",
                    "d_18",
                    "d_19",
                    "d_20",
                    "d_21",
                    "d_22",
                    "d_23",
                    "d_24",
                    "d_25",
                    "d_26",
                    "d_27",
                    "d_28",
                    "d_29",
                    "d_30",
                    "d_31",
                    "d_32",
                    "d_33",
                    "d_34",
                    "d_35",
                    "d_36",
                    "d_37",
                    "d_38",
                    "d_39",
                    "d_40",
                    "d_41",
                    "d_42",
                    "d_43",
                    "d_44",
                    "d_45",
                    "d_46",
                    "d_47",
                    "d_48",
                    "d_49",
                    "d_50",
                    "d_51",
                    "d_52",
                    "d_53",
                    "d_54",
                    "d_55",
                    "d_56",
                    "d_57",
                    "d_58",
                    "d_59",
                    "d_60",
                    "d_61",
                    "d_62",
                    "d_63",
                    "d_64",
                    "d_65",
                    "d_66",
                    "d_67",
                    "d_68",
                    "d_69",
                    "d_70",
                    "d_71",
                    "d_72",
                    "d_73",
                    "d_74",
                    "d_75",
                    "d_76",
                    "d_77",
                    "d_78",
                    "d_79",
                    "d_80",
                    "d_81",
                    "d_82",
                    "d_83",
                    "d_84",
                    "d_85",
                    "d_86",
                    "d_87",
                    "d_88",
                    "d_89",
                    "d_90",
                    "d_91",
                    "d_92",
                    "d_93",
                    "d_94",
                    "d_95",
                    "d_96",
                    "d_97",
                    "d_98",
                    "d_99",
                    "d_100",
                    "d_101",
                    "d_102",
                    "d_103",
                    "d_104",
                    "d_105",
                    "d_106",
                    "d_107",
                    "d_108",
                    "d_109",
                    "d_110",
                    "d_111",
                    "d_112",
                    "d_113",
                    "d_114",
                    "d_115",
                    "d_116",
                    "d_117",
                    "d_118",
                    "d_119",
                    "d_120",
                    "d_121",
                    "d_122",
                    "d_123",
                    "d_124",
                    "d_125",
                    "d_126",
                    "d_127",
                    "d_128",
                    "d_129",
                    "d_130",
                    "d_131",
                    "d_132",
                    "d_133",
                    "d_134",
                    "d_135",
                    "d_136",
                    "d_137",
                    "d_138",
                    "d_139",
                    "d_140",
                    "d_141",
                    "d_142",
                    "d_143",
                    "d_144",
                    "d_145",
                    "d_146",
                    "d_147",
                    "d_148",
                    "d_149",
                    "d_150",
                    "d_151",
                    "d_152",
                    "d_153",
                    "d_154",
                    "d_155",
                    "d_156",
                    "d_157",
                    "d_158",
                    "d_159",
                    "d_160",
                    "d_161",
                    "d_162",
                    "d_163",
                    "d_164",
                    "d_165",
                    "d_166",
                    "d_167",
                    "d_168",
                    "d_169",
                    "d_170",
                    "d_171",
                    "d_172",
                    "d_173",
                    "d_174",
                    "d_175",
                    "d_176",
                    "d_177",
                    "d_178",
                    "d_179",
                    "d_180",
                    "d_181",
                    "d_182",
                    "d_183",
                    "d_184",
                    "d_185",
                    "d_186",
                    "d_187",
                    "d_188",
                    "d_189",
                    "d_190",
                    "d_191",
                    "d_192",
                    "d_193",
                    "d_194",
                    "d_195",
                    "d_196",
                    "d_197",
                    "d_198",
                    "d_199",
                    "d_200",
                    "d_201",
                    "d_202",
                    "d_203",
                    "d_204",
                    "d_205",
                    "d_206",
                    "d_207",
                    "d_208",
                    "d_209",
                    "d_210",
                    "d_211",
                    "d_212",
                    "d_213",
                    "d_214",
                    "d_215",
                    "d_216",
                    "d_217",
                    "d_218",
                    "d_219",
                    "d_220",
                    "d_221",
                    "d_222",
                    "d_223",
                    "d_224",
                    "d_225",
                    "d_226",
                    "d_227",
                    "d_228",
                    "d_229",
                    "d_230",
                    "d_231",
                    "d_232",
                    "d_233",
                    "d_234",
                    "d_235",
                    "d_236",
                    "d_237",
                    "d_238",
                    "d_239",
                    "d_240",
                    "d_241",
                    "d_242",
                    "d_243",
                    "d_244",
                    "d_245",
                    "d_246",
                    "d_247",
                    "d_248",
                    "d_249",
                    "d_250",
                    "d_251",
                    "d_252",
                    "d_253",
                    "d_254",
                    "d_255",
                    "d_256",
                    "d_257",
                    "d_258",
                    "d_259",
                    "d_260",
                    "d_261",
                    "d_262",
                    "d_263",
                    "d_264",
                    "d_265",
                    "d_266",
                    "d_267",
                    "d_268",
                    "d_269",
                    "d_270",
                    "d_271",
                    "d_272",
                    "d_273",
                    "d_274",
                    "d_275",
                    "d_276",
                    "d_277",
                    "d_278",
                    "d_279",
                    "d_280",
                    "d_281",
                    "d_282",
                    "d_283",
                    "d_284",
                    "d_285",
                    "d_286",
                    "d_287",
                    "d_288",
                    "d_289",
                    "d_290",
                    "d_291",
                    "d_292",
                    "d_293",
                    "d_294",
                    "d_295",
                    "d_296",
                    "d_297",
                    "d_298",
                    "d_299",
                    "d_300",
                    "d_301",
                    "d_302",
                    "d_303",
                    "d_304",
                    "d_305",
                    "d_306",
                    "d_307",
                    "d_308",
                    "d_309",
                    "d_310",
                    "d_311",
                    "d_312",
                    "d_313",
                    "d_314",
                    "d_315",
                    "d_316",
                    "d_317",
                    "d_318",
                    "d_319",
                    "d_320",
                    "d_321",
                    "d_322",
                    "d_323",
                    "d_324",
                    "d_325",
                    "d_326",
                    "d_327",
                    "d_328",
                    "d_329",
                    "d_330",
                    "d_331",
                    "d_332",
                    "d_333",
                    "d_334",
                    "d_335",
                    "d_336",
                    "d_337",
                    "d_338",
                    "d_339",
                    "d_340",
                    "d_341",
                    "d_342",
                    "d_343",
                    "d_344",
                    "d_345",
                    "d_346",
                    "d_347",
                    "d_348",
                    "d_349",
                    "d_350",
                    "d_351",
                    "d_352",
                    "d_353",
                    "d_354",
                    "d_355",
                    "d_356",
                    "d_357",
                    "d_358",
                    "d_359",
                    "d_360",
                    "d_361",
                    "d_362",
                    "d_363",
                    "d_364",
                    "d_365",
                    "d_366",
                    "d_367",
                    "d_368",
                    "d_369",
                    "d_370",
                    "d_371",
                    "d_372",
                    "d_373",
                    "d_374",
                    "d_375",
                    "d_376",
                    "d_377",
                    "d_378",
                    "d_379",
                    "d_380",
                    "d_381",
                    "d_382",
                    "d_383",
                    "d_384",
                    "d_385",
                    "d_386",
                    "d_387",
                    "d_388",
                    "d_389",
                    "d_390",
                    "d_391",
                    "d_392",
                    "d_393",
                    "d_394",
                    "d_395",
                    "d_396",
                    "d_397",
                    "d_398",
                    "d_399",
                    "d_400",
                    "d_401",
                    "d_402",
                    "d_403",
                    "d_404",
                    "d_405",
                    "d_406",
                    "d_407",
                    "d_408",
                    "d_409",
                    "d_410",
                    "d_411",
                    "d_412",
                    "d_413",
                    "d_414",
                    "d_415",
                    "d_416",
                    "d_417",
                    "d_418",
                    "d_419",
                    "d_420",
                    "d_421",
                    "d_422",
                    "d_423",
                    "d_424",
                    "d_425",
                    "d_426",
                    "d_427",
                    "d_428",
                    "d_429",
                    "d_430",
                    "d_431",
                    "d_432",
                    "d_433",
                    "d_434",
                    "d_435",
                    "d_436",
                    "d_437",
                    "d_438",
                    "d_439",
                    "d_440",
                    "d_441",
                    "d_442",
                    "d_443",
                    "d_444",
                    "d_445",
                    "d_446",
                    "d_447",
                    "d_448",
                    "d_449",
                    "d_450",
                    "d_451",
                    "d_452",
                    "d_453",
                    "d_454",
                    "d_455",
                    "d_456",
                    "d_457",
                    "d_458",
                    "d_459",
                    "d_460",
                    "d_461",
                    "d_462",
                    "d_463",
                    "d_464",
                    "d_465",
                    "d_466",
                    "d_467",
                    "d_468",
                    "d_469",
                    "d_470",
                    "d_471",
                    "d_472",
                    "d_473",
                    "d_474",
                    "d_475",
                    "d_476",
                    "d_477",
                    "d_478",
                    "d_479",
                    "d_480",
                    "d_481",
                    "d_482",
                    "d_483",
                    "d_484",
                    "d_485",
                    "d_486",
                    "d_487",
                    "d_488",
                    "d_489",
                    "d_490",
                    "d_491",
                    "d_492",
                    "d_493",
                    "d_494",
                    "d_495",
                    "d_496",
                    "d_497",
                    "d_498",
                    "d_499",
                    "d_500",
                    "d_501",
                    "d_502",
                    "d_503",
                    "d_504",
                    "d_505",
                    "d_506",
                    "d_507",
                    "d_508",
                    "d_509",
                    "d_510",
                    "d_511",
                    "d_512",
                    "d_513",
                    "d_514",
                    "d_515",
                    "d_516",
                    "d_517",
                    "d_518",
                    "d_519",
                    "d_520",
                    "d_521",
                    "d_522",
                    "d_523",
                    "d_524",
                    "d_525",
                    "d_526",
                    "d_527",
                    "d_528",
                    "d_529",
                    "d_530",
                    "d_531",
                    "d_532",
                    "d_533",
                    "d_534",
                    "d_535",
                    "d_536",
                    "d_537",
                    "d_538",
                    "d_539",
                    "d_540",
                    "d_541",
                    "d_542",
                    "d_543",
                    "d_544",
                    "d_545",
                    "d_546",
                    "d_547",
                    "d_548",
                    "d_549",
                    "d_550",
                    "d_551",
                    "d_552",
                    "d_553",
                    "d_554",
                    "d_555",
                    "d_556",
                    "d_557",
                    "d_558",
                    "d_559",
                    "d_560",
                    "d_561",
                    "d_562",
                    "d_563",
                    "d_564",
                    "d_565",
                    "d_566",
                    "d_567",
                    "d_568",
                    "d_569",
                    "d_570",
                    "d_571",
                    "d_572",
                    "d_573",
                    "d_574",
                    "d_575",
                    "d_576",
                    "d_577",
                    "d_578",
                    "d_579",
                    "d_580",
                    "d_581",
                    "d_582",
                    "d_583",
                    "d_584",
                    "d_585",
                    "d_586",
                    "d_587",
                    "d_588",
                    "d_589",
                    "d_590",
                    "d_591",
                    "d_592",
                    "d_593",
                    "d_594",
                    "d_595",
                    "d_596",
                    "d_597",
                    "d_598",
                    "d_599",
                    "d_600",
                    "d_601",
                    "d_602",
                    "d_603",
                    "d_604",
                    "d_605",
                    "d_606",
                    "d_607",
                    "d_608",
                    "d_609",
                    "d_610",
                    "d_611",
                    "d_612",
                    "d_613",
                    "d_614",
                    "d_615",
                    "d_616",
                    "d_617",
                    "d_618",
                    "d_619",
                    "d_620",
                    "d_621",
                    "d_622",
                    "d_623",
                    "d_624",
                    "d_625",
                    "d_626",
                    "d_627",
                    "d_628",
                    "d_629",
                    "d_630",
                    "d_631",
                    "d_632",
                    "d_633",
                    "d_634",
                    "d_635",
                    "d_636",
                    "d_637",
                    "d_638",
                    "d_639",
                    "d_640",
                    "d_641",
                    "d_642",
                    "d_643",
                    "d_644",
                    "d_645",
                    "d_646",
                    "d_647",
                    "d_648",
                    "d_649",
                    "d_650",
                    "d_651",
                    "d_652",
                    "d_653",
                    "d_654",
                    "d_655",
                    "d_656",
                    "d_657",
                    "d_658",
                    "d_659",
                    "d_660",
                    "d_661",
                    "d_662",
                    "d_663",
                    "d_664",
                    "d_665",
                    "d_666",
                    "d_667",
                    "d_668",
                    "d_669",
                    "d_670",
                    "d_671",
                    "d_672",
                    "d_673",
                    "d_674",
                    "d_675",
                    "d_676",
                    "d_677",
                    "d_678",
                    "d_679",
                    "d_680",
                    "d_681",
                    "d_682",
                    "d_683",
                    "d_684",
                    "d_685",
                    "d_686",
                    "d_687",
                    "d_688",
                    "d_689",
                    "d_690",
                    "d_691",
                    "d_692",
                    "d_693",
                    "d_694",
                    "d_695",
                    "d_696",
                    "d_697",
                    "d_698",
                    "d_699",
                    "d_700",
                    "d_701",
                    "d_702",
                    "d_703",
                    "d_704",
                    "d_705",
                    "d_706",
                    "d_707",
                    "d_708",
                    "d_709",
                    "d_710",
                    "d_711",
                    "d_712",
                    "d_713",
                    "d_714",
                    "d_715",
                    "d_716",
                    "d_717",
                    "d_718",
                    "d_719",
                    "d_720",
                    "d_721",
                    "d_722",
                    "d_723",
                    "d_724",
                    "d_725",
                    "d_726",
                    "d_727",
                    "d_728",
                    "d_729",
                    "d_730",
                    "d_731",
                    "d_732",
                    "d_733",
                    "d_734",
                    "d_735",
                    "d_736",
                    "d_737",
                    "d_738",
                    "d_739",
                    "d_740",
                    "d_741",
                    "d_742",
                    "d_743",
                    "d_744",
                    "d_745",
                    "d_746",
                    "d_747",
                    "d_748",
                    "d_749",
                    "d_750",
                    "d_751",
                    "d_752",
                    "d_753",
                    "d_754",
                    "d_755",
                    "d_756",
                    "d_757",
                    "d_758",
                    "d_759",
                    "d_760",
                    "d_761",
                    "d_762",
                    "d_763",
                    "d_764",
                    "d_765",
                    "d_766",
                    "d_767",
                    "d_768",
                    "d_769",
                    "d_770",
                    "d_771",
                    "d_772",
                    "d_773",
                    "d_774",
                    "d_775",
                    "d_776",
                    "d_777",
                    "d_778",
                    "d_779",
                    "d_780",
                    "d_781",
                    "d_782",
                    "d_783",
                    "d_784",
                    "d_785",
                    "d_786",
                    "d_787",
                    "d_788",
                    "d_789",
                    "d_790",
                    "d_791",
                    "d_792",
                    "d_793",
                    "d_794",
                    "d_795",
                    "d_796",
                    "d_797",
                    "d_798",
                    "d_799",
                    "d_800",
                    "d_801",
                    "d_802",
                    "d_803",
                    "d_804",
                    "d_805",
                    "d_806",
                    "d_807",
                    "d_808",
                    "d_809",
                    "d_810",
                    "d_811",
                    "d_812",
                    "d_813",
                    "d_814",
                    "d_815",
                    "d_816",
                    "d_817",
                    "d_818",
                    "d_819",
                    "d_820",
                    "d_821",
                    "d_822",
                    "d_823",
                    "d_824",
                    "d_825",
                    "d_826",
                    "d_827",
                    "d_828",
                    "d_829",
                    "d_830",
                    "d_831",
                    "d_832",
                    "d_833",
                    "d_834",
                    "d_835",
                    "d_836",
                    "d_837",
                    "d_838",
                    "d_839",
                    "d_840",
                    "d_841",
                    "d_842",
                    "d_843",
                    "d_844",
                    "d_845",
                    "d_846",
                    "d_847",
                    "d_848",
                    "d_849",
                    "d_850",
                    "d_851",
                    "d_852",
                    "d_853",
                    "d_854",
                    "d_855",
                    "d_856",
                    "d_857",
                    "d_858",
                    "d_859",
                    "d_860",
                    "d_861",
                    "d_862",
                    "d_863",
                    "d_864",
                    "d_865",
                    "d_866",
                    "d_867",
                    "d_868",
                    "d_869",
                    "d_870",
                    "d_871",
                    "d_872",
                    "d_873",
                    "d_874",
                    "d_875",
                    "d_876",
                    "d_877",
                    "d_878",
                    "d_879",
                    "d_880",
                    "d_881",
                    "d_882",
                    "d_883",
                    "d_884",
                    "d_885",
                    "d_886",
                    "d_887",
                    "d_888",
                    "d_889",
                    "d_890",
                    "d_891",
                    "d_892",
                    "d_893",
                    "d_894",
                    "d_895",
                    "d_896",
                    "d_897",
                    "d_898",
                    "d_899",
                    "d_900",
                    "d_901",
                    "d_902",
                    "d_903",
                    "d_904",
                    "d_905",
                    "d_906",
                    "d_907",
                    "d_908",
                    "d_909",
                    "d_910",
                    "d_911",
                    "d_912",
                    "d_913",
                    "d_914",
                    "d_915",
                    "d_916",
                    "d_917",
                    "d_918",
                    "d_919",
                    "d_920",
                    "d_921",
                    "d_922",
                    "d_923",
                    "d_924",
                    "d_925",
                    "d_926",
                    "d_927",
                    "d_928",
                    "d_929",
                    "d_930",
                    "d_931",
                    "d_932",
                    "d_933",
                    "d_934",
                    "d_935",
                    "d_936",
                    "d_937",
                    "d_938",
                    "d_939",
                    "d_940",
                    "d_941",
                    "d_942",
                    "d_943",
                    "d_944",
                    "d_945",
                    "d_946",
                    "d_947",
                    "d_948",
                    "d_949",
                    "d_950",
                    "d_951",
                    "d_952",
                    "d_953",
                    "d_954",
                    "d_955",
                    "d_956",
                    "d_957",
                    "d_958",
                    "d_959",
                    "d_960",
                    "d_961",
                    "d_962",
                    "d_963",
                    "d_964",
                    "d_965",
                    "d_966",
                    "d_967",
                    "d_968",
                    "d_969",
                    "d_970",
                    "d_971",
                    "d_972",
                    "d_973",
                    "d_974",
                    "d_975",
                    "d_976",
                    "d_977",
                    "d_978",
                    "d_979",
                    "d_980",
                    "d_981",
                    "d_982",
                    "d_983",
                    "d_984",
                    "d_985",
                    "d_986",
                    "d_987",
                    "d_988",
                    "d_989",
                    "d_990",
                    "d_991",
                    "d_992",
                    "d_993",
                    "d_994",
                    "d_995",
                    "d_996",
                    "d_997",
                    "d_998",
                    "d_999",
                    "d_1000",
                    "d_1001",
                    "d_1002",
                    "d_1003",
                    "d_1004",
                    "d_1005",
                    "d_1006",
                    "d_1007",
                    "d_1008",
                    "d_1009",
                    "d_1010",
                    "d_1011",
                    "d_1012",
                    "d_1013",
                    "d_1014",
                    "d_1015",
                    "d_1016",
                    "d_1017",
                    "d_1018",
                    "d_1019",
                    "d_1020",
                    "d_1021",
                    "d_1022",
                    "d_1023",
                    "d_1024",
                    "d_1025",
                    "d_1026",
                    "d_1027",
                    "d_1028",
                    "d_1029",
                    "d_1030",
                    "d_1031",
                    "d_1032",
                    "d_1033",
                    "d_1034",
                    "d_1035",
                    "d_1036",
                    "d_1037",
                    "d_1038",
                    "d_1039",
                    "d_1040",
                    "d_1041",
                    "d_1042",
                    "d_1043",
                    "d_1044",
                    "d_1045",
                    "d_1046",
                    "d_1047",
                    "d_1048",
                    "d_1049",
                    "d_1050",
                    "d_1051",
                    "d_1052",
                    "d_1053",
                    "d_1054",
                    "d_1055",
                    "d_1056",
                    "d_1057",
                    "d_1058",
                    "d_1059",
                    "d_1060",
                    "d_1061",
                    "d_1062",
                    "d_1063",
                    "d_1064",
                    "d_1065",
                    "d_1066",
                    "d_1067",
                    "d_1068",
                    "d_1069",
                    "d_1070",
                    "d_1071",
                    "d_1072",
                    "d_1073",
                    "d_1074",
                    "d_1075",
                    "d_1076",
                    "d_1077",
                    "d_1078",
                    "d_1079",
                    "d_1080",
                    "d_1081",
                    "d_1082",
                    "d_1083",
                    "d_1084",
                    "d_1085",
                    "d_1086",
                    "d_1087",
                    "d_1088",
                    "d_1089",
                    "d_1090",
                    "d_1091",
                    "d_1092",
                    "d_1093",
                    "d_1094",
                    "d_1095",
                    "d_1096",
                    "d_1097",
                    "d_1098",
                    "d_1099",
                    "d_1100",
                    "d_1101",
                    "d_1102",
                    "d_1103",
                    "d_1104",
                    "d_1105",
                    "d_1106",
                    "d_1107",
                    "d_1108",
                    "d_1109",
                    "d_1110",
                    "d_1111",
                    "d_1112",
                    "d_1113",
                    "d_1114",
                    "d_1115",
                    "d_1116",
                    "d_1117",
                    "d_1118",
                    "d_1119",
                    "d_1120",
                    "d_1121",
                    "d_1122",
                    "d_1123",
                    "d_1124",
                    "d_1125",
                    "d_1126",
                    "d_1127",
                    "d_1128",
                    "d_1129",
                    "d_1130",
                    "d_1131",
                    "d_1132",
                    "d_1133",
                    "d_1134",
                    "d_1135",
                    "d_1136",
                    "d_1137",
                    "d_1138",
                    "d_1139",
                    "d_1140",
                    "d_1141",
                    "d_1142",
                    "d_1143",
                    "d_1144",
                    "d_1145",
                    "d_1146",
                    "d_1147",
                    "d_1148",
                    "d_1149",
                    "d_1150",
                    "d_1151",
                    "d_1152",
                    "d_1153",
                    "d_1154",
                    "d_1155",
                    "d_1156",
                    "d_1157",
                    "d_1158",
                    "d_1159",
                    "d_1160",
                    "d_1161",
                    "d_1162",
                    "d_1163",
                    "d_1164",
                    "d_1165",
                    "d_1166",
                    "d_1167",
                    "d_1168",
                    "d_1169",
                    "d_1170",
                    "d_1171",
                    "d_1172",
                    "d_1173",
                    "d_1174",
                    "d_1175",
                    "d_1176",
                    "d_1177",
                    "d_1178",
                    "d_1179",
                    "d_1180",
                    "d_1181",
                    "d_1182",
                    "d_1183",
                    "d_1184",
                    "d_1185",
                    "d_1186",
                    "d_1187",
                    "d_1188",
                    "d_1189",
                    "d_1190",
                    "d_1191",
                    "d_1192",
                    "d_1193",
                    "d_1194",
                    "d_1195",
                    "d_1196",
                    "d_1197",
                    "d_1198",
                    "d_1199",
                    "d_1200",
                    "d_1201",
                    "d_1202",
                    "d_1203",
                    "d_1204",
                    "d_1205",
                    "d_1206",
                    "d_1207",
                    "d_1208",
                    "d_1209",
                    "d_1210",
                    "d_1211",
                    "d_1212",
                    "d_1213",
                    "d_1214",
                    "d_1215",
                    "d_1216",
                    "d_1217",
                    "d_1218",
                    "d_1219",
                    "d_1220",
                    "d_1221",
                    "d_1222",
                    "d_1223",
                    "d_1224",
                    "d_1225",
                    "d_1226",
                    "d_1227",
                    "d_1228",
                    "d_1229",
                    "d_1230",
                    "d_1231",
                    "d_1232",
                    "d_1233",
                    "d_1234",
                    "d_1235",
                    "d_1236",
                    "d_1237",
                    "d_1238",
                    "d_1239",
                    "d_1240",
                    "d_1241",
                    "d_1242",
                    "d_1243",
                    "d_1244",
                    "d_1245",
                    "d_1246",
                    "d_1247",
                    "d_1248",
                    "d_1249",
                    "d_1250",
                    "d_1251",
                    "d_1252",
                    "d_1253",
                    "d_1254",
                    "d_1255",
                    "d_1256",
                    "d_1257",
                    "d_1258",
                    "d_1259",
                    "d_1260",
                    "d_1261",
                    "d_1262",
                    "d_1263",
                    "d_1264",
                    "d_1265",
                    "d_1266",
                    "d_1267",
                    "d_1268",
                    "d_1269",
                    "d_1270",
                    "d_1271",
                    "d_1272",
                    "d_1273",
                    "d_1274",
                    "d_1275",
                    "d_1276",
                    "d_1277",
                    "d_1278",
                    "d_1279",
                    "d_1280",
                    "d_1281",
                    "d_1282",
                    "d_1283",
                    "d_1284",
                    "d_1285",
                    "d_1286",
                    "d_1287",
                    "d_1288",
                    "d_1289",
                    "d_1290",
                    "d_1291",
                    "d_1292",
                    "d_1293",
                    "d_1294",
                    "d_1295",
                    "d_1296",
                    "d_1297",
                    "d_1298",
                    "d_1299",
                    "d_1300",
                    "d_1301",
                    "d_1302",
                    "d_1303",
                    "d_1304",
                    "d_1305",
                    "d_1306",
                    "d_1307",
                    "d_1308",
                    "d_1309",
                    "d_1310",
                    "d_1311",
                    "d_1312",
                    "d_1313",
                    "d_1314",
                    "d_1315",
                    "d_1316",
                    "d_1317",
                    "d_1318",
                    "d_1319",
                    "d_1320",
                    "d_1321",
                    "d_1322",
                    "d_1323",
                    "d_1324",
                    "d_1325",
                    "d_1326",
                    "d_1327",
                    "d_1328",
                    "d_1329",
                    "d_1330",
                    "d_1331",
                    "d_1332",
                    "d_1333",
                    "d_1334",
                    "d_1335",
                    "d_1336",
                    "d_1337",
                    "d_1338",
                    "d_1339",
                    "d_1340",
                    "d_1341",
                    "d_1342",
                    "d_1343",
                    "d_1344",
                    "d_1345",
                    "d_1346",
                    "d_1347",
                    "d_1348",
                    "d_1349",
                    "d_1350",
                    "d_1351",
                    "d_1352",
                    "d_1353",
                    "d_1354",
                    "d_1355",
                    "d_1356",
                    "d_1357",
                    "d_1358",
                    "d_1359",
                    "d_1360",
                    "d_1361",
                    "d_1362",
                    "d_1363",
                    "d_1364",
                    "d_1365",
                    "d_1366",
                    "d_1367",
                    "d_1368",
                    "d_1369",
                    "d_1370",
                    "d_1371",
                    "d_1372",
                    "d_1373",
                    "d_1374",
                    "d_1375",
                    "d_1376",
                    "d_1377",
                    "d_1378",
                    "d_1379",
                    "d_1380",
                    "d_1381",
                    "d_1382",
                    "d_1383",
                    "d_1384",
                    "d_1385",
                    "d_1386",
                    "d_1387",
                    "d_1388",
                    "d_1389",
                    "d_1390",
                    "d_1391",
                    "d_1392",
                    "d_1393",
                    "d_1394",
                    "d_1395",
                    "d_1396",
                    "d_1397",
                    "d_1398",
                    "d_1399",
                    "d_1400",
                    "d_1401",
                    "d_1402",
                    "d_1403",
                    "d_1404",
                    "d_1405",
                    "d_1406",
                    "d_1407",
                    "d_1408",
                    "d_1409",
                    "d_1410",
                    "d_1411",
                    "d_1412",
                    "d_1413",
                    "d_1414",
                    "d_1415",
                    "d_1416",
                    "d_1417",
                    "d_1418",
                    "d_1419",
                    "d_1420",
                    "d_1421",
                    "d_1422",
                    "d_1423",
                    "d_1424",
                    "d_1425",
                    "d_1426",
                    "d_1427",
                    "d_1428",
                    "d_1429",
                    "d_1430",
                    "d_1431",
                    "d_1432",
                    "d_1433",
                    "d_1434",
                    "d_1435",
                    "d_1436",
                    "d_1437",
                    "d_1438",
                    "d_1439",
                    "d_1440",
                    "d_1441",
                    "d_1442",
                    "d_1443",
                    "d_1444",
                    "d_1445",
                    "d_1446",
                    "d_1447",
                    "d_1448",
                    "d_1449",
                    "d_1450",
                    "d_1451",
                    "d_1452",
                    "d_1453",
                    "d_1454",
                    "d_1455",
                    "d_1456",
                    "d_1457",
                    "d_1458",
                    "d_1459",
                    "d_1460",
                    "d_1461",
                    "d_1462",
                    "d_1463",
                    "d_1464",
                    "d_1465",
                    "d_1466",
                    "d_1467",
                    "d_1468",
                    "d_1469",
                    "d_1470",
                    "d_1471",
                    "d_1472",
                    "d_1473",
                    "d_1474",
                    "d_1475",
                    "d_1476",
                    "d_1477",
                    "d_1478",
                    "d_1479",
                    "d_1480",
                    "d_1481",
                    "d_1482",
                    "d_1483",
                    "d_1484",
                    "d_1485",
                    "d_1486",
                    "d_1487",
                    "d_1488",
                    "d_1489",
                    "d_1490",
                    "d_1491",
                    "d_1492",
                    "d_1493",
                    "d_1494",
                    "d_1495",
                    "d_1496",
                    "d_1497",
                    "d_1498",
                    "d_1499",
                    "d_1500",
                    "d_1501",
                    "d_1502",
                    "d_1503",
                    "d_1504",
                    "d_1505",
                    "d_1506",
                    "d_1507",
                    "d_1508",
                    "d_1509",
                    "d_1510",
                    "d_1511",
                    "d_1512",
                    "d_1513",
                    "d_1514",
                    "d_1515",
                    "d_1516",
                    "d_1517",
                    "d_1518",
                    "d_1519",
                    "d_1520",
                    "d_1521",
                    "d_1522",
                    "d_1523",
                    "d_1524",
                    "d_1525",
                    "d_1526",
                    "d_1527",
                    "d_1528",
                    "d_1529",
                    "d_1530",
                    "d_1531",
                    "d_1532",
                    "d_1533",
                    "d_1534",
                    "d_1535",
                    "d_1536",
                    "d_1537",
                    "d_1538",
                    "d_1539",
                    "d_1540",
                    "d_1541",
                    "d_1542",
                    "d_1543",
                    "d_1544",
                    "d_1545",
                    "d_1546",
                    "d_1547",
                    "d_1548",
                    "d_1549",
                    "d_1550",
                    "d_1551",
                    "d_1552",
                    "d_1553",
                    "d_1554",
                    "d_1555",
                    "d_1556",
                    "d_1557",
                    "d_1558",
                    "d_1559",
                    "d_1560",
                    "d_1561",
                    "d_1562",
                    "d_1563",
                    "d_1564",
                    "d_1565",
                    "d_1566",
                    "d_1567",
                    "d_1568",
                    "d_1569",
                    "d_1570",
                    "d_1571",
                    "d_1572",
                    "d_1573",
                    "d_1574",
                    "d_1575",
                    "d_1576",
                    "d_1577",
                    "d_1578",
                    "d_1579",
                    "d_1580",
                    "d_1581",
                    "d_1582",
                    "d_1583",
                    "d_1584",
                    "d_1585",
                    "d_1586",
                    "d_1587",
                    "d_1588",
                    "d_1589",
                    "d_1590",
                    "d_1591",
                    "d_1592",
                    "d_1593",
                    "d_1594",
                    "d_1595",
                    "d_1596",
                    "d_1597",
                    "d_1598",
                    "d_1599",
                    "d_1600",
                    "d_1601",
                    "d_1602",
                    "d_1603",
                    "d_1604",
                    "d_1605",
                    "d_1606",
                    "d_1607",
                    "d_1608",
                    "d_1609",
                    "d_1610",
                    "d_1611",
                    "d_1612",
                    "d_1613",
                    "d_1614",
                    "d_1615",
                    "d_1616",
                    "d_1617",
                    "d_1618",
                    "d_1619",
                    "d_1620",
                    "d_1621",
                    "d_1622",
                    "d_1623",
                    "d_1624",
                    "d_1625",
                    "d_1626",
                    "d_1627",
                    "d_1628",
                    "d_1629",
                    "d_1630",
                    "d_1631",
                    "d_1632",
                    "d_1633",
                    "d_1634",
                    "d_1635",
                    "d_1636",
                    "d_1637",
                    "d_1638",
                    "d_1639",
                    "d_1640",
                    "d_1641",
                    "d_1642",
                    "d_1643",
                    "d_1644",
                    "d_1645",
                    "d_1646",
                    "d_1647",
                    "d_1648",
                    "d_1649",
                    "d_1650",
                    "d_1651",
                    "d_1652",
                    "d_1653",
                    "d_1654",
                    "d_1655",
                    "d_1656",
                    "d_1657",
                    "d_1658",
                    "d_1659",
                    "d_1660",
                    "d_1661",
                    "d_1662",
                    "d_1663",
                    "d_1664",
                    "d_1665",
                    "d_1666",
                    "d_1667",
                    "d_1668",
                    "d_1669",
                    "d_1670",
                    "d_1671",
                    "d_1672",
                    "d_1673",
                    "d_1674",
                    "d_1675",
                    "d_1676",
                    "d_1677",
                    "d_1678",
                    "d_1679",
                    "d_1680",
                    "d_1681",
                    "d_1682",
                    "d_1683",
                    "d_1684",
                    "d_1685",
                    "d_1686",
                    "d_1687",
                    "d_1688",
                    "d_1689",
                    "d_1690",
                    "d_1691",
                    "d_1692",
                    "d_1693",
                    "d_1694",
                    "d_1695",
                    "d_1696",
                    "d_1697",
                    "d_1698",
                    "d_1699",
                    "d_1700",
                    "d_1701",
                    "d_1702",
                    "d_1703",
                    "d_1704",
                    "d_1705",
                    "d_1706",
                    "d_1707",
                    "d_1708",
                    "d_1709",
                    "d_1710",
                    "d_1711",
                    "d_1712",
                    "d_1713",
                    "d_1714",
                    "d_1715",
                    "d_1716",
                    "d_1717",
                    "d_1718",
                    "d_1719",
                    "d_1720",
                    "d_1721",
                    "d_1722",
                    "d_1723",
                    "d_1724",
                    "d_1725",
                    "d_1726",
                    "d_1727",
                    "d_1728",
                    "d_1729",
                    "d_1730",
                    "d_1731",
                    "d_1732",
                    "d_1733",
                    "d_1734",
                    "d_1735",
                    "d_1736",
                    "d_1737",
                    "d_1738",
                    "d_1739",
                    "d_1740",
                    "d_1741",
                    "d_1742",
                    "d_1743",
                    "d_1744",
                    "d_1745",
                    "d_1746",
                    "d_1747",
                    "d_1748",
                    "d_1749",
                    "d_1750",
                    "d_1751",
                    "d_1752",
                    "d_1753",
                    "d_1754",
                    "d_1755",
                    "d_1756",
                    "d_1757",
                    "d_1758",
                    "d_1759",
                    "d_1760",
                    "d_1761",
                    "d_1762",
                    "d_1763",
                    "d_1764",
                    "d_1765",
                    "d_1766",
                    "d_1767",
                    "d_1768",
                    "d_1769",
                    "d_1770",
                    "d_1771",
                    "d_1772",
                    "d_1773",
                    "d_1774",
                    "d_1775",
                    "d_1776",
                    "d_1777",
                    "d_1778",
                    "d_1779",
                    "d_1780",
                    "d_1781",
                    "d_1782",
                    "d_1783",
                    "d_1784",
                    "d_1785",
                    "d_1786",
                    "d_1787",
                    "d_1788",
                    "d_1789",
                    "d_1790",
                    "d_1791",
                    "d_1792",
                    "d_1793",
                    "d_1794",
                    "d_1795",
                    "d_1796",
                    "d_1797",
                    "d_1798",
                    "d_1799",
                    "d_1800",
                    "d_1801",
                    "d_1802",
                    "d_1803",
                    "d_1804",
                    "d_1805",
                    "d_1806",
                    "d_1807",
                    "d_1808",
                    "d_1809",
                    "d_1810",
                    "d_1811",
                    "d_1812",
                    "d_1813",
                    "d_1814",
                    "d_1815",
                    "d_1816",
                    "d_1817",
                    "d_1818",
                    "d_1819",
                    "d_1820",
                    "d_1821",
                    "d_1822",
                    "d_1823",
                    "d_1824",
                    "d_1825",
                    "d_1826",
                    "d_1827",
                    "d_1828",
                    "d_1829",
                    "d_1830",
                    "d_1831",
                    "d_1832",
                    "d_1833",
                    "d_1834",
                    "d_1835",
                    "d_1836",
                    "d_1837",
                    "d_1838",
                    "d_1839",
                    "d_1840",
                    "d_1841",
                    "d_1842",
                    "d_1843",
                    "d_1844",
                    "d_1845",
                    "d_1846",
                    "d_1847",
                    "d_1848",
                    "d_1849",
                    "d_1850",
                    "d_1851",
                    "d_1852",
                    "d_1853",
                    "d_1854",
                    "d_1855",
                    "d_1856",
                    "d_1857",
                    "d_1858",
                    "d_1859",
                    "d_1860",
                    "d_1861",
                    "d_1862",
                    "d_1863",
                    "d_1864",
                    "d_1865",
                    "d_1866",
                    "d_1867",
                    "d_1868",
                    "d_1869",
                    "d_1870",
                    "d_1871",
                    "d_1872",
                    "d_1873",
                    "d_1874",
                    "d_1875",
                    "d_1876",
                    "d_1877",
                    "d_1878",
                    "d_1879",
                    "d_1880",
                    "d_1881",
                    "d_1882",
                    "d_1883",
                    "d_1884",
                    "d_1885",
                    "d_1886",
                    "d_1887",
                    "d_1888",
                    "d_1889",
                    "d_1890",
                    "d_1891",
                    "d_1892",
                    "d_1893",
                    "d_1894",
                    "d_1895",
                    "d_1896",
                    "d_1897",
                    "d_1898",
                    "d_1899",
                    "d_1900",
                    "d_1901",
                    "d_1902",
                    "d_1903",
                    "d_1904",
                    "d_1905",
                    "d_1906",
                    "d_1907",
                    "d_1908",
                    "d_1909",
                    "d_1910",
                    "d_1911",
                    "d_1912",
                    "d_1913",
                    "d_1914",
                    "d_1915",
                    "d_1916",
                    "d_1917",
                    "d_1918",
                    "d_1919",
                    "d_1920",
                    "d_1921",
                    "d_1922",
                    "d_1923",
                    "d_1924",
                    "d_1925",
                    "d_1926",
                    "d_1927",
                    "d_1928",
                    "d_1929",
                    "d_1930",
                    "d_1931",
                    "d_1932",
                    "d_1933",
                    "d_1934",
                    "d_1935",
                    "d_1936",
                    "d_1937",
                    "d_1938",
                    "d_1939",
                    "d_1940",
                    "d_1941"
                  ],
                  "xaxis": "x",
                  "y": [
                    1.0702197441784191,
                    1.041292226959659,
                    0.780026238110856,
                    0.8334535913414234,
                    0.6279435880616595,
                    0.9580518202689406,
                    0.918661856346343,
                    1.2440800262381109,
                    1.0736634962282716,
                    0.838701213512627,
                    0.7566743194489997,
                    0.7759265332896031,
                    0.7791407018694654,
                    0.8673335519842571,
                    1.1424401443096097,
                    1.1931780911774352,
                    0.7151197113807806,
                    0.7894391603804526,
                    0.7032797638570023,
                    0.6663824204657265,
                    0.7779927845195146,
                    1.0393243686454576,
                    0.9604132502459823,
                    0.7860282059691702,
                    0.6723843883240407,
                    0.6807805837979666,
                    0.6650377172843556,
                    0.7388979993440472,
                    0.9809117743522466,
                    0.9415218104296491,
                    0.6966218432272876,
                    0.7501475893735651,
                    0.7230567399147262,
                    0.769924565431289,
                    0.7731059363725812,
                    1.0233519186618563,
                    1.1438504427681206,
                    0.8055755985569039,
                    0.7462118727451623,
                    0.739914726139718,
                    0.7420793702853394,
                    0.838701213512627,
                    1.0569039029189897,
                    1.0304034109544113,
                    0.8178091177435225,
                    0.7878320760905215,
                    0.7466382420465727,
                    0.71429977041653,
                    0.7823876680878977,
                    1.0035749426041325,
                    0.9722204001311906,
                    0.7576582486061003,
                    0.6720892095769104,
                    0.6306985897015415,
                    0.6183666775992128,
                    0.7658248606100361,
                    0.9714660544440801,
                    0.9795342735323057,
                    0.7034765496884224,
                    0.6422105608396196,
                    0.6207937028533945,
                    0.7130862577894391,
                    0.9284683502787799,
                    1.0979993440472287,
                    1.084224335847819,
                    0.8150869137422105,
                    0.7734011151197114,
                    0.7430632994424401,
                    0.7510987208920957,
                    0.8118727451623483,
                    1.0411610364053787,
                    1.034306329944244,
                    0.8143325680551,
                    0.7614955723187931,
                    0.7087897671367661,
                    0.7203673335519842,
                    0.8357494260413251,
                    0.9588061659560512,
                    0.9769432600852739,
                    0.734306329944244,
                    0.6387012135126271,
                    0.6621187274516235,
                    0.6483437192522138,
                    0.7962938668415874,
                    0.969990160708429,
                    0.7877336831748114,
                    0.6560839619547393,
                    0.5940636274188258,
                    0.5880288619219416,
                    0.5951131518530666,
                    0.7456543128894719,
                    0.9216464414562151,
                    0.9526074122663168,
                    0.7489996720236143,
                    0.7897671367661528,
                    0.6809117743522466,
                    0.6947851754673664,
                    0.8030829780255822,
                    0.9318465070514923,
                    0.7769104624467038,
                    0.8207281075762545,
                    0.7291243030501804,
                    0.7269596589045588,
                    0.7350934732699246,
                    0.8411938340439489,
                    0.9424729419481798,
                    1.0272220400131191,
                    0.72853394555592,
                    0.6432600852738602,
                    0.615611675959331,
                    0.612791079042309,
                    0.710036077402427,
                    0.8892095769104624,
                    0.8608068219088225,
                    0.687241718596261,
                    0.6298130534601508,
                    0.6250573958674975,
                    0.6716956379140702,
                    0.7373237126926862,
                    0.837225319776976,
                    0.7690718268284683,
                    0.7391931780911775,
                    0.6413578222367989,
                    0.7597572974745819,
                    0.7438832404066907,
                    0.8783535585437848,
                    0.9940964250573958,
                    1.0365365693670057,
                    0.8752049852410626,
                    0.822859954083306,
                    0.8020006559527714,
                    0.812791079042309,
                    0.8664808133814366,
                    0.9819612987864874,
                    1.0198097736962939,
                    0.8446047884552312,
                    0.7922269596589046,
                    0.8284027550016398,
                    0.7447031813709413,
                    0.8104952443424074,
                    0.9453919317809117,
                    0.8562151525090194,
                    0.795703509347327,
                    0.7153164972122007,
                    0.7019022630370614,
                    0.747130206625123,
                    0.8080682190882257,
                    0.868547064611348,
                    0.9074450639553953,
                    0.7426041325024598,
                    0.6493932436864546,
                    0.6536569367005576,
                    0.7035421449655624,
                    1.0178091177435225,
                    1.0823548704493275,
                    0.9568055100032797,
                    0.7554280091833387,
                    0.8722859954083306,
                    0.8724827812397508,
                    0.8765824860610036,
                    0.9078058379796654,
                    1.0654640865857659,
                    1.034404722859954,
                    0.8721548048540505,
                    0.8078714332568055,
                    0.7689406362741883,
                    0.7690062315513283,
                    0.8969826172515579,
                    1.0124303050180388,
                    0.9948835683830765,
                    0.8081010167267957,
                    0.7192850114791735,
                    0.7375204985241063,
                    0.747064611347983,
                    0.8644145621515251,
                    0.9932436864545753,
                    0.9445391931780912,
                    0.7509019350606756,
                    0.6951459494916366,
                    0.6724827812397507,
                    0.6967202361429977,
                    0.8049196457855035,
                    0.9495900295178747,
                    0.9405378812725483,
                    0.8726467694326009,
                    0.8355198425713348,
                    0.8933092817317153,
                    0.7777304034109545,
                    0.8722204001311905,
                    1.0481797310593637,
                    1.0497212200721548,
                    0.864348966874385,
                    0.8597244998360118,
                    0.8061003607740242,
                    0.8103640537881273,
                    0.9361757953427353,
                    1.0824204657264678,
                    1.1121351262709085,
                    0.9350934732699245,
                    0.8286651361102001,
                    0.7766808789767137,
                    0.7666775992128567,
                    0.8856674319448999,
                    1.0579862249918006,
                    1.11423417513939,
                    0.8305673991472614,
                    0.7417841915382093,
                    0.7194162020334536,
                    0.7023286323384716,
                    0.7959330928173172,
                    0.9964906526730075,
                    1.0044604788455231,
                    0.724335847818957,
                    0.6674319448999672,
                    0.7124631026566087,
                    0.8625450967530338,
                    0.9579534273532305,
                    1.1161692358150213,
                    0.8830764184978681,
                    0.9891111839947524,
                    0.85713348638898,
                    0.8017382748442112,
                    0.7887176123319121,
                    0.9264020990488685,
                    1.0833060019678584,
                    1.1358478189570351,
                    0.8572646769432601,
                    0.8082978025582158,
                    0.7709084945883896,
                    0.8639881928501147,
                    0.8833387996064284,
                    1.0559199737618892,
                    1.0506395539521154,
                    0.7991800590357494,
                    0.7436864545752706,
                    0.7148573302722204,
                    0.7169235815021319,
                    0.8758937356510331,
                    1.0648081338143653,
                    1.089799934404723,
                    0.7900951131518531,
                    0.7473925877336832,
                    0.7278779927845195,
                    0.7341095441128239,
                    0.9898983273204329,
                    1.2893407674647426,
                    1.2205313217448344,
                    0.9988520826500492,
                    0.8564775336175795,
                    0.8498852082650049,
                    0.8549032469662184,
                    0.9834371925221385,
                    1.178419153820925,
                    1.178747130206625,
                    0.964283371597245,
                    0.8995408330600196,
                    0.8991144637586094,
                    0.8565431288947196,
                    0.9801574286651361,
                    1.2602820596917022,
                    1.1848802886192193,
                    0.9049524434240734,
                    0.7937684486716956,
                    0.7360118071498852,
                    0.7347326992456543,
                    0.8897999344047228,
                    1.0872745162348312,
                    1.0782551656280748,
                    0.8040669071826828,
                    0.7358806165956051,
                    0.7262053132174483,
                    0.7537553296162677,
                    0.8816005247622172,
                    1.0895047556575927,
                    1.0447031813709413,
                    0.744342407346671,
                    0.8540177107248278,
                    0.8136438176451295,
                    0.9151197113807806,
                    0.9378812725483765,
                    1.2098064939324369,
                    1.2426041325024597,
                    0.8946539849130862,
                    0.8261069203017383,
                    0.855755985569039,
                    0.8575598556903903,
                    0.9758937356510331,
                    1.1781567727123647,
                    1.1593309281731716,
                    0.8780911774352247,
                    0.875729747458183,
                    0.7847818957035093,
                    0.7580846179075107,
                    0.8693670055755985,
                    1.10019678583142,
                    1.074221056083962,
                    0.8387668087897672,
                    0.841390619875369,
                    1.009740898655297,
                    0.6043620859298131,
                    0.787077730403411,
                    0.8295178747130206,
                    0.889931124959003,
                    0.7339455559199738,
                    0.7079042308953756,
                    0.6916693998032142,
                    0.861528369957363,
                    0.9749754017710724,
                    1.2505411610364054,
                    1.1504755657592654,
                    0.9583469990160708,
                    0.894293210888816,
                    0.8347982945227943,
                    0.8641193834043949,
                    0.9654968842243359,
                    1.1408986552968186,
                    1.1722859954083307,
                    0.9560839619547392,
                    0.8826828468350278,
                    0.8787799278451951,
                    0.9722531977697606,
                    0.9473597900951132,
                    1.1203345359134143,
                    1.0523778287963266,
                    0.8877664808133814,
                    0.8613315841259429,
                    0.8744506395539521,
                    0.924303050180387,
                    1.1363069858970154,
                    0.9825516562807478,
                    0.0004263693014102985,
                    0.9193834043948835,
                    0.808494588389636,
                    0.8130862577894392,
                    0.8048868481469335,
                    1.1037061331584126,
                    1.1069530993768448,
                    0.7152181042964907,
                    1.0840603476549688,
                    0.94296490652673,
                    0.8468678255165628,
                    0.9346999016070843,
                    0.997212200721548,
                    1.2182026894063627,
                    1.204394883568383,
                    0.9250901935060676,
                    0.8737290915054116,
                    0.9525746146277468,
                    0.8105936372581174,
                    0.9663168251885864,
                    1.2074450639553953,
                    1.195769104624467,
                    1.0019022630370613,
                    0.7276812069530993,
                    0.8313545424729419,
                    0.7882584453919318,
                    0.8922269596589045,
                    1.2652673007543458,
                    1.068776648081338,
                    0.8101672679567071,
                    0.7723515906854707,
                    0.7349294850770745,
                    0.7621187274516235,
                    0.8920629714660544,
                    1.1269924565431289,
                    1.1012463102656609,
                    0.8261069203017383,
                    0.8240078714332568,
                    0.9790423089537553,
                    0.9385044276812069,
                    1.1513283043620859,
                    1.4112495900295179,
                    1.31436536569367,
                    1.0062643489668743,
                    0.9218760249262054,
                    0.9373237126926861,
                    0.981534929485077,
                    0.9794358806165956,
                    1.3695309937684488,
                    1.374352246638242,
                    1.0388652017054771,
                    0.8232207281075763,
                    0.8815349294850771,
                    0.8263365037717284,
                    0.9053460150869137,
                    1.2011151197113807,
                    1.1918005903574942,
                    0.9910790423089537,
                    0.8261725155788783,
                    0.7909150541161036,
                    0.8268612659888488,
                    0.9140701869465399,
                    1.1731387340111512,
                    1.189931124959003,
                    0.8943916038045261,
                    0.7989176779271893,
                    0.8134470318137094,
                    0.9915382092489341,
                    1.067333551984257,
                    1.3551656280747786,
                    1.3225647753361758,
                    1.0725811741554607,
                    1.0341751393899639,
                    0.9382748442112168,
                    0.9760249262053132,
                    1.060085273860282,
                    1.2974417841915382,
                    1.3319776976057724,
                    1.0659560511643162,
                    0.954411282387668,
                    0.9131190554280092,
                    1.008592981305346,
                    1.0151197113807806,
                    1.24316169235815,
                    1.2362741882584454,
                    0.9572646769432601,
                    0.8374221056083962,
                    0.8601836667759921,
                    0.8532305673991473,
                    0.9529353886520171,
                    1.2164316169235816,
                    1.241161036405379,
                    0.891505411610364,
                    0.8084289931124959,
                    0.812823876680879,
                    0.7831748114135783,
                    1.0079370285339455,
                    1.261495572318793,
                    1.3047884552312234,
                    1.02850114791735,
                    1.0834043948835683,
                    0.9287635290259101,
                    1.0287963266644802,
                    1.231387340111512,
                    1.4968186290587078,
                    1.1876024926205313,
                    1.0492948507707445,
                    0.9445719908166612,
                    0.969990160708429,
                    0.9369629386684158,
                    1.0474909806493933,
                    1.264217776320105,
                    1.2694981961298786,
                    0.9075762545096753,
                    0.8549360446047884,
                    0.810068875040997,
                    0.8141685798622499,
                    0.9230239422761561,
                    1.2039357166284028,
                    1.2057723843883241,
                    0.8747130206625123,
                    0.8149557231879304,
                    0.8018366677599212,
                    0.8045260741226632,
                    0.9503771728435553,
                    1.1691374221056083,
                    1.1847818957035094,
                    0.8972122007215481,
                    0.9934404722859954,
                    0.9589701541489013,
                    1.0809773696293867,
                    1.080091833387996,
                    1.28570022958347,
                    1.3620531321744835,
                    1.0979665464086585,
                    0.9981305346015087,
                    0.9906198753689734,
                    0.9237126926861265,
                    1.0762217120367334,
                    1.3405050836339782,
                    1.1075434568711053,
                    1.035847818957035,
                    1.041587405706789,
                    0.9405378812725483,
                    0.8961298786487373,
                    1.0597244998360118,
                    1.2439816333224007,
                    1.2959658904558873,
                    0.9447359790095113,
                    0.9020006559527713,
                    0.8731715316497212,
                    0.917120367333552,
                    1.075664152181043,
                    1.221351262709085,
                    1.1102984585109872,
                    1.095670711708757,
                    0.938668415874057,
                    0.8904558871761233,
                    0.9448671695637914,
                    1.2964578550344374,
                    1.474024270252542,
                    1.4401443096097082,
                    1.0919645785503445,
                    1.1153164972122007,
                    1.1015742866513611,
                    1.067071170875697,
                    1.2102656608724172,
                    1.4204329288291242,
                    1.4740570678911118,
                    1.29996720236143,
                    1.1503443752049853,
                    1.080026238110856,
                    1.1079698261725155,
                    1.3708756969498197,
                    1.4574614627746802,
                    1.2803870121351262,
                    1.1183994752377828,
                    1.048442112167924,
                    1.0320760905214825,
                    1.0089865529681863,
                    1.1963594621187275,
                    1.3122335191866186,
                    1.32859954083306,
                    1.044506395539521,
                    0.9632994424401443,
                    0.9473597900951132,
                    0.9703181370941292,
                    1.193079698261725,
                    1.331387340111512,
                    1.3348310921613644,
                    1.1762217120367333,
                    1.2968842243358478,
                    1.0710396851426698,
                    1.12850114791735,
                    1.3116103640537882,
                    1.3588389635946212,
                    1.3995408330600196,
                    1.1731715316497213,
                    1.068776648081338,
                    1.0846835027877992,
                    1.0848474909806494,
                    1.19980321416858,
                    1.3889143981633323,
                    1.432896031485733,
                    1.0829780255821582,
                    0.9976385700229583,
                    0.9483765168907838,
                    1.0122663168251886,
                    1.1611020006559527,
                    1.2969498196129878,
                    1.3103312561495573,
                    1.0122663168251886,
                    0.9668415874057068,
                    0.929944244014431,
                    0.9359790095113152,
                    1.044276812069531,
                    1.134404722859954,
                    1.1855362413906199,
                    0.9489340767464742,
                    0.968547064611348,
                    1.11413578222368,
                    1.1564447359790095,
                    1.2958674975401772,
                    1.3537553296162677,
                    1.4105936372581174,
                    1.21429977041653,
                    1.0624467038373238,
                    1.0593965234503115,
                    1.1481797310593638,
                    1.1959658904558872,
                    1.445752705805182,
                    1.5020662512299114,
                    1.1816989176779271,
                    1.1253525746146278,
                    1.164217776320105,
                    1.1284027550016398,
                    1.1629058707773041,
                    1.3617907510659233,
                    1.4222367989504756,
                    1.062971466054444,
                    0.9906854706461135,
                    0.948573302722204,
                    0.9364381764512955,
                    1.0837651689078387,
                    1.3107248278123975,
                    1.3453919317809118,
                    1.017054772056412,
                    0.9338143653656936,
                    0.8888488028861922,
                    0.9282715644473598,
                    1.2165300098392915,
                    1.4637586093801247,
                    1.4043620859298132,
                    1.4603148573302722,
                    1.0455559199737618,
                    1.0447359790095112,
                    1.0683830764184978,
                    1.1405378812725484,
                    1.4174483437192522,
                    1.529977041653001,
                    1.0814037389307969,
                    1.0616595605116432,
                    1.017317153164972,
                    0.988586421777632,
                    1.1924893407674648,
                    1.5073466710396852,
                    1.4524762217120368,
                    1.0449327648409314,
                    0.9601836667759921,
                    0.8876680878976714,
                    0.9366021646441456,
                    1.103115775664152,
                    1.3738602820596917,
                    1.3565759265332895,
                    0.9569039029189899,
                    0.9176451295506723,
                    0.8833060019678584,
                    0.8931124959002952,
                    1.0710396851426698,
                    1.344080026238111,
                    1.3032469662184323,
                    1.14270252541817,
                    1.1095441128238768,
                    1.1223351918661857,
                    0.9863889799934404,
                    1.134404722859954,
                    1.444408002623811,
                    1.3733027222040013,
                    1.1082322072810757,
                    1.0591997376188915,
                    0.9829124303050181,
                    0.9838635618235487,
                    1.1496228271564448,
                    1.3849130862577894,
                    1.3852738602820598,
                    1.1047556575926534,
                    0.9140373893079698,
                    0.8889143981633323,
                    0.8582814037389308,
                    0.9744506395539522,
                    1.2033125614955724,
                    1.2130862577894392,
                    0.8760905214824533,
                    0.8336831748114136,
                    0.7999344047228599,
                    0.7973761889143982,
                    1.0450311577566416,
                    1.264250573958675,
                    1.2195473925877336,
                    0.9045916693998032,
                    0.9209576910462447,
                    0.8191210232863234,
                    1.018399475237783,
                    1.1647753361757953,
                    1.478484749098065,
                    1.3953755329616269,
                    1.0841915382092489,
                    1.0007871433256805,
                    0.9735323056739915,
                    1.0087569694981962,
                    1.17159724499836,
                    1.4064939324368646,
                    1.4272548376516891,
                    1.0893079698261725,
                    0.9284355526402099,
                    0.9129222695965891,
                    0.9745162348310922,
                    1.036930141029846,
                    1.3263693014102984,
                    1.2324040669071827,
                    0.9619547392587734,
                    0.992915710068875,
                    1.1547392587733682,
                    0.718563463430633,
                    0.7682190882256478,
                    0.9844539193178091,
                    1.0735323056739914,
                    0.8683502787799279,
                    0.8031813709412923,
                    0.7722204001311905,
                    0.782814037389308,
                    0.9966874385044276,
                    1.3937684486716957,
                    1.3427353230567398,
                    1.1589701541489013,
                    0.9451951459494916,
                    1.022761561167596,
                    1.0207937028533947,
                    1.1018038701213513,
                    1.3634962282715644,
                    1.3947523778287962,
                    1.0196457855034438,
                    0.9937028533945556,
                    0.9844539193178091,
                    0.9403410954411282,
                    1.0791079042308953,
                    1.390291898983273,
                    1.3136438176451295,
                    1.0175467366349622,
                    0.9922597572974746,
                    1.0423745490324696,
                    1.0125286979337487,
                    1.0773368317481142,
                    1.3123975073794687,
                    1.278681534929485,
                    1.069957363069859,
                    0.00036077402427025254,
                    0.9741226631682519,
                    0.9539521154476878,
                    1.0609052148245326,
                    1.218563463430633,
                    1.1708428993112496,
                    1.1490980649393243,
                    0.789996720236143,
                    1.0555591997376188,
                    1.188619219416202,
                    1.1066579206297147,
                    1.419711380780584,
                    1.44289931124959,
                    1.0992784519514596,
                    1.0239422761561168,
                    0.968579862249918,
                    0.977140045916694,
                    1.1307313873401115,
                    1.5046900623155133,
                    1.3186946539849131,
                    1.0040669071826829,
                    1.0134798294522795,
                    0.9446375860938012,
                    0.9304690062315514,
                    1.0761561167595932,
                    1.3862577894391603,
                    1.2148573302722203,
                    1.013020662512299,
                    0.8381764512955068,
                    0.8394227615611676,
                    0.8188586421777632,
                    0.9790751065923253,
                    1.3346343063299442,
                    1.2603148573302723,
                    0.9116431616923582,
                    0.8379468678255165,
                    0.77149885208265,
                    0.8773696293866842,
                    1.281600524762217,
                    1.6737290915054117,
                    1.3630042636930142,
                    0.9508691374221057,
                    1.0374877008855363,
                    1.0474581830108232,
                    0.9740570678911118,
                    1.165824860610036,
                    1.5038373237126927,
                    1.4401443096097082,
                    1.2009511315185306,
                    1.1853394555591998,
                    1.2643817645129551,
                    0.9907838635618236,
                    1.2548376516890785,
                    1.4810429649065266,
                    1.4645129550672351,
                    1.1360446047884551,
                    0.9264676943260085,
                    0.9905214824532633,
                    1.030108232207281,
                    1.0679895047556576,
                    1.411315185306658,
                    1.4477533617579534,
                    1.0501803870121351,
                    0.8962938668415874,
                    0.9145293538865201,
                    0.9961954739258774,
                    1.2938996392259758,
                    1.6324040669071826,
                    1.5823876680878977,
                    1.1747130206625123,
                    1.024467038373237,
                    1.0504427681206954,
                    0.9763857002295835,
                    1.1246966218432273,
                    1.4722531977697606,
                    1.4466382420465727,
                    1.1950803542144965,
                    1.1082978025582157,
                    1.0432272876352902,
                    1.0877992784519515,
                    1.229944244014431,
                    1.4316825188586422,
                    1.3961954739258773,
                    1.02869793374877,
                    0.9515250901935061,
                    0.9660872417185963,
                    0.9721876024926205,
                    1.0878320760905216,
                    1.3322400787143325,
                    1.3326664480157429,
                    0.9730075434568711,
                    0.9390619875368973,
                    0.9267956707117088,
                    0.9725811741554609,
                    1.248507707445064,
                    1.5221384060347656,
                    1.129813053460151,
                    1.1322400787143325,
                    1.1361757953427354,
                    1.1673991472613972,
                    1.0552312233519188,
                    1.2481469334207937,
                    1.535618235487045,
                    1.5232535257461464,
                    1.148474909806494,
                    1.106920301738275,
                    1.0311905542800919,
                    1.0722204001311906,
                    1.1834043948835684,
                    1.431452935388652,
                    1.44276812069531,
                    1.1184650705149228,
                    1.0180059035749427,
                    0.9450639553952116,
                    0.9338799606428337,
                    1.0767136766152836,
                    1.340013119055428,
                    1.3096425057395868,
                    0.9823220728107577,
                    0.8874713020662512,
                    0.9054444080026238,
                    0.9011479173499508,
                    1.0234831092161365,
                    1.158707773040341,
                    1.2758937356510331,
                    0.9001311905542801,
                    0.9230567399147261,
                    1.02846835027878,
                    1.0410298458510987,
                    1.2118727451623483,
                    1.338537225319777,
                    1.4169563791407018,
                    1.159986880944572,
                    1.0387996064283371,
                    1.0280747786159397,
                    1.080288619219416,
                    1.098622499180059,
                    1.488520826500492,
                    1.2263037061331583,
                    1.1350934732699245,
                    1.078550344375205,
                    1.1351590685470647,
                    1.0474581830108232,
                    1.1374877008855362,
                    1.3391275828140374,
                    1.3995736306985898,
                    1.1035093473269924,
                    0.9933092817317153,
                    0.9489996720236143,
                    1.0135126270908494,
                    1.1505739586749755,
                    1.2837979665464088,
                    1.1823220728107575,
                    1.1897999344047228,
                    0.9609052148245326,
                    0.8844539193178091,
                    0.9224335847818957,
                    1.1835355854378484,
                    1.4695965890455887,
                    1.5579534273532305,
                    1.287143325680551,
                    1.1088553624139061,
                    1.1777959986880944,
                    1.1205641193834044,
                    1.2332568055100033,
                    1.464316169235815,
                    1.5796654640865857,
                    1.2059363725811743,
                    1.135618235487045,
                    1.1132174483437192,
                    1.121285667431945,
                    1.304263693014103,
                    1.5188258445391931,
                    1.3017382748442112,
                    1.1189898327320433,
                    1.0225319776976058,
                    1.0190226303706134,
                    1.0420137750081995,
                    1.2037717284355527,
                    1.3865529681862905,
                    1.4193178091177434,
                    1.1189898327320433,
                    1.0365037717284356,
                    0.995605116431617,
                    1.0317153164972122,
                    1.2054116103640538,
                    1.474221056083962,
                    1.470088553624139,
                    1.269793374877009,
                    1.221449655624795,
                    1.4430632994424402,
                    1.2063955395211545,
                    1.3383732371269268,
                    1.3719908166612005,
                    1.4635618235487045,
                    1.22859954083306,
                    1.2218104296490653,
                    1.134109544112824,
                    1.1925549360446048,
                    1.3538537225319778,
                    1.4819612987864874,
                    1.5307313873401116,
                    1.2339783535585438,
                    1.113053460150869,
                    1.0648409314529355,
                    1.1125286979337488,
                    1.187077730403411,
                    1.3619875368973433,
                    1.378779927845195,
                    1.0561823548704494,
                    1.0266972777959986,
                    1.0320760905214825,
                    1.0434896687438504,
                    1.2083633978353558,
                    1.3667431944899968,
                    1.3276484093145293,
                    1.0417513938996392,
                    0.9892423745490325,
                    1.0250901935060677,
                    1.2236470974089866,
                    1.3664480157428665,
                    1.5449327648409314,
                    1.4574942604132501,
                    1.2839947523778288,
                    1.2034765496884223,
                    1.1505083633978355,
                    1.144178419153821,
                    1.3348310921613644,
                    1.473007543456871,
                    1.558543784847491,
                    1.2710068875040996,
                    1.152640209904887,
                    1.1063299442440144,
                    1.2346015086913742,
                    1.247130206625123,
                    1.4572318793046901,
                    1.4724171859626107,
                    1.155690390291899,
                    1.037225319776976,
                    1.0702853394555591,
                    1.04273532305674,
                    1.2172187602492621,
                    1.4705149229255494,
                    1.5932108888160053,
                    1.1216792390947852,
                    1.0811085601836667,
                    1.064480157428665,
                    1.040013119055428,
                    1.3650705149229256,
                    1.5733683174811413,
                    1.4673991472613972,
                    1.5438504427681208,
                    1.2397179403082978,
                    1.0930796982617252,
                    1.1618563463430633,
                    1.2687438504427682,
                    1.5611675959330928,
                    1.696949819612988,
                    1.304198097736963,
                    1.1368645457527058,
                    1.187110528041981,
                    1.205870777304034,
                    1.3437520498524107,
                    1.6125286979337488,
                    1.6716956379140702,
                    1.2061331584125943,
                    1.0682518858642178,
                    1.0259429321088882,
                    1.0109216136438177,
                    1.189931124959003,
                    1.508724171859626,
                    1.5155788783207609,
                    1.0752377828796327,
                    1.0188258445391931,
                    0.9825844539193178,
                    1.0051820268940637,
                    1.164381764512955,
                    1.4575598556903904,
                    1.4560839619547392,
                    1.0788127254837652,
                    1.2046572646769433,
                    1.1118399475237783,
                    1.2205641193834045,
                    1.2244670383732372,
                    1.5997704165300097,
                    1.6362085929813053,
                    1.2136110200065595,
                    1.132961626762873,
                    1.1395867497540177,
                    1.115742866513611,
                    1.2493604460478847,
                    1.5277468022302394,
                    1.519940964250574,
                    1.2081338143653657,
                    1.0893079698261725,
                    1.0717284355526402,
                    1.001574286651361,
                    1.1261725155788784,
                    1.3789111183994753,
                    1.4218432272876353,
                    1.0448999672023613,
                    0.9497212200721548,
                    0.9683502787799279,
                    0.9596589045588717,
                    1.1110856018366677,
                    1.3923909478517547,
                    1.3337159724499836,
                    1.051426697277796,
                    0.968481469334208,
                    1.021187274516235,
                    0.8866513611020006,
                    1.3029517874713021,
                    1.5445391931780912,
                    1.5865201705477205,
                    1.0814037389307969,
                    1.1179731059363727,
                    1.0833060019678584,
                    1.0479829452279437,
                    1.163004263693014,
                    1.4994096425057395,
                    1.439980321416858,
                    1.1937028533945555,
                    1.058543784847491,
                    0.9594949163660217,
                    0.9664808133814365,
                    1.1733355198425712,
                    1.4623483109216135,
                    1.3968186290587077,
                    1.0531321744834372,
                    0.9354542472941948,
                    0.9155460806821909,
                    0.9412594293210889,
                    1.0778287963266644,
                    1.3134470318137095,
                    1.2609380124631027,
                    0.9394883568383077,
                    1.0263365037717285,
                    1.1852738602820596,
                    0.6506723515906855,
                    0.8551328304362086,
                    1.0346343063299444,
                    1.2524434240734668,
                    1.2163660216464414,
                    1.247097408986553,
                    1.0337487700885537,
                    1.152869793374877,
                    1.2102000655952772,
                    1.4578550344375205,
                    1.325811741554608,
                    1.1037389307969827,
                    1.0305673991472615,
                    1.0138078058379796,
                    1.0386684158740571,
                    1.1860610036077401,
                    1.3620203345359134,
                    1.4134798294522795,
                    1.0650705149229256,
                    0.9950147589373565,
                    1.0394227615611675,
                    1.0630042636930142,
                    1.0535585437848476,
                    1.3274516234831093,
                    1.1451295506723516,
                    1.1573958674975402,
                    1.0192522138406035,
                    0.0006559527714004591,
                    1.0733683174811413,
                    1.0854378484749099,
                    1.1967858314201378,
                    1.1190882256477535,
                    1.0591341423417513,
                    1.1417185962610692,
                    0.7820596917021975,
                    1.0709412922269597,
                    1.2748442112167924,
                    1.4632994424401442,
                    1.4857986224991802,
                    1.063037061331584,
                    1.0151525090193505,
                    1.081436536569367,
                    1.0887832076090522,
                    1.0746474253853722,
                    1.5676615283699573,
                    1.5368317481141358,
                    1.105739586749754,
                    0.9912430305018038,
                    1.035716628402755,
                    1.022958346999016,
                    1.155788783207609,
                    1.4179403082978026,
                    1.3259101344703181,
                    1.0726795670711708,
                    0.9135454247294195,
                    0.9247950147589373,
                    0.8607412266316825,
                    1.0130534601508692,
                    1.3292554936044605,
                    1.3183666775992129,
                    0.9858970154148902,
                    0.787143325680551,
                    0.8193834043948836,
                    0.8860938012463103,
                    1.1967530337815677,
                    1.4868153492948508,
                    1.4397179403082978,
                    1.2231551328304362,
                    1.002853394555592,
                    1.0388979993440473,
                    1.0622827156444736,
                    1.1234831092161364,
                    1.5450311577566416,
                    1.5755985569039028,
                    1.087143325680551,
                    1.0998032141685798,
                    1.2049196457855034,
                    1.2293538865201705,
                    1.1121679239094786,
                    1.4747458183010824,
                    1.4375860938012464,
                    1.1333879960642834,
                    1.007215480485405,
                    0.9974089865529682,
                    0.9741882584453919,
                    1.093014102984585,
                    1.3607084289931124,
                    1.4571006887504099,
                    1.04286651361102,
                    0.9749098064939324,
                    0.864250573958675,
                    0.9475237782879633,
                    1.1216136438176452,
                    1.4921613643817646,
                    1.5341751393899639,
                    1.220104952443424,
                    0.9860938012463103,
                    1.025844539193178,
                    1.0712364709740898,
                    1.1434568711052804,
                    1.4262053132174484,
                    1.64283371597245,
                    1.2301082322072812,
                    1.1337159724499837,
                    1.1460150869137422,
                    1.0850770744506395,
                    1.2117415546080683,
                    1.4663168251885865,
                    1.4882256477533617,
                    1.0522794358806167,
                    0.987044932764841,
                    0.9637258117415546,
                    0.9448671695637914,
                    1.0889471958019024,
                    1.3591669399803215,
                    1.448704493276484,
                    1.044375204985241,
                    0.9336175795342735,
                    0.8859954083306002,
                    0.9908166612003936,
                    1.0796326664480158,
                    1.3510331256149557,
                    1.4154148901279109,
                    1.0059691702197442,
                    1.105542800918334,
                    1.1052476221712038,
                    1.2005247622171205,
                    1.1703837323712694,
                    1.534142341751394,
                    1.60019678583142,
                    1.2001967858314202,
                    1.1560511643161693,
                    1.1547720564119384,
                    1.0835683830764185,
                    1.2607084289931125,
                    1.5137750081994097,
                    1.5114135782223679,
                    1.1725483765168907,
                    1.1937028533945555,
                    1.1225975729747457,
                    1.088652017054772,
                    1.2759921285667433,
                    1.568350278779928,
                    1.276943260085274,
                    1.0372581174155462,
                    1.0061659560511642,
                    0.9982617251557888,
                    1.0099048868481468,
                    1.0963266644801575,
                    1.389865529681863,
                    1.4247294194817972,
                    1.0333879960642833,
                    0.9795014758937356,
                    0.9472941948179731,
                    1.1104952443424074,
                    1.2775008199409643,
                    1.5264676943260085,
                    1.4804526074122664,
                    1.1748114135782224,
                    1.1023614299770417,
                    1.054312889471958,
                    1.0435880616595605,
                    1.1926205313217448,
                    1.4051492292554937,
                    1.2522138406034766,
                    1.2437520498524106,
                    1.110003279763857,
                    1.0763201049524433,
                    1.0994424401443097,
                    1.1344375204985242,
                    1.3125286979337487,
                    1.4109544112823877,
                    1.059822892751722,
                    0.981502131846507,
                    0.9538537225319776,
                    0.9965890455887176,
                    1.0962610692030175,
                    1.2589701541489013,
                    1.1795670711708757,
                    1.0973761889143983,
                    0.9482453263365038,
                    0.9219088225647754,
                    0.9081338143653657,
                    1.1065923253525747,
                    1.3346015086913743,
                    1.462840275500164,
                    1.2237454903246967,
                    1.2580190226303707,
                    1.0790095113151854,
                    1.1693998032141686,
                    1.22850114791735,
                    1.454476877664808,
                    1.4850442768120695,
                    1.2547064611347982,
                    1.1039029189898328,
                    1.1362413906198754,
                    1.1504427681206952,
                    1.2579862249918006,
                    1.4753689734339128,
                    1.3937028533945557,
                    1.1545752705805181,
                    1.10009839291571,
                    1.0583469990160708,
                    1.0862577894391603,
                    1.2461790751065924,
                    1.3912758281403739,
                    1.392587733683175,
                    1.0875040997048213,
                    1.0049524434240735,
                    0.9452607412266317,
                    0.9628074778615939,
                    1.1176779271892423,
                    1.3096097081010167,
                    1.3188258445391932,
                    1.097048212528698,
                    1.2377500819940965,
                    1.2420137750081994,
                    1.5424073466710397,
                    1.265759265332896,
                    1.3375532961626764,
                    1.4919645785503444,
                    1.234339127582814,
                    1.1954083306001968,
                    1.2205313217448344,
                    1.1537881272548376,
                    1.3202033453591342,
                    1.564316169235815,
                    1.4324368645457528,
                    1.189931124959003,
                    1.1746474253853723,
                    1.0826828468350278,
                    1.0636274188258446,
                    1.195441128238767,
                    1.3932436864545752,
                    1.40009839291571,
                    1.097113807805838,
                    1.0335191866185636,
                    1.0147261397179403,
                    1.001147917349951,
                    1.110134470318137,
                    1.2793702853394555,
                    1.3845195145949492,
                    1.0702525418169893,
                    1.0070514922925549,
                    0.9948835683830765,
                    1.044276812069531,
                    1.4145293538865202,
                    1.5418497868153493,
                    1.560249262053132,
                    1.174122663168252,
                    1.188520826500492,
                    1.1330600196785832,
                    1.134043948835684,
                    1.278451951459495,
                    1.4843555264020991,
                    1.4184650705149229,
                    1.1847163004263692,
                    1.202755001639882,
                    1.1288619219416203,
                    1.1326992456543128,
                    1.2547720564119382,
                    1.461298786487373,
                    1.5307641849786815,
                    1.1603476549688423,
                    1.0481797310593637,
                    1.044506395539521,
                    1.0626106920301739,
                    1.217317153164972,
                    1.4651689078386356,
                    1.5560183666775993,
                    1.1369957363069858,
                    1.029911446375861,
                    0.9677271236470975,
                    0.9831420137750082,
                    1.2362413906198755,
                    1.4180714988520826,
                    1.2859954083306002,
                    1.418694653984913,
                    1.1249262053132174,
                    1.2265332896031487,
                    1.0325680551000327,
                    1.1795998688094458,
                    1.5092489340767465,
                    1.507149885208265,
                    1.1669399803214169,
                    1.1205969170219745,
                    1.0427025254181699,
                    1.1308625778943917,
                    1.2580846179075107,
                    1.5604788455231224,
                    1.5003935716628403,
                    1.1990488684814693,
                    1.0179403082978025,
                    0.9783863561823549,
                    0.9465726467694326,
                    1.1424073466710396,
                    1.411347982945228,
                    1.4562807477861595,
                    1.0334535913414233,
                    0.9645785503443752,
                    0.9511643161692358,
                    0.9678911118399475,
                    1.0864873729091507,
                    1.3394227615611676,
                    1.4078058379796654,
                    1.0322400787143327,
                    0.9836011807149885,
                    1.1348638897999344,
                    1.1232863233847163,
                    1.3721220072154805,
                    1.5480157428665136,
                    1.5861265988848803,
                    1.237094129222696,
                    1.0872745162348312,
                    1.088389635946212,
                    1.1065267300754347,
                    1.1479501475893736,
                    1.461495572318793,
                    1.532797638570023,
                    1.1005903574942604,
                    1.064316169235815,
                    1.121449655624795,
                    0.9818301082322073,
                    1.0964250573958676,
                    1.4350606756313546,
                    1.4252541816989177,
                    1.05716628402755,
                    0.9631682518858642,
                    0.9159068547064612,
                    0.9349294850770744,
                    1.0754345687110527,
                    1.3366021646441457,
                    1.3183666775992129,
                    1.0233847163004264,
                    0.9294850770744506,
                    0.9040013119055428,
                    0.9916366021646441,
                    1.0774024270252542,
                    1.451262709084946,
                    1.5110528041980977,
                    1.2648081338143653,
                    1.0479501475893735,
                    1.0112167923909479,
                    1.0896359462118728,
                    1.1401443096097081,
                    1.4519514594949163,
                    1.5551000327976385,
                    1.1298458510987208,
                    1.0688094457199082,
                    1,
                    0.9416530009839291,
                    1.1393571662840276,
                    1.455657592653329,
                    1.427222040013119,
                    1.0433256805510003,
                    0.9187930469006231,
                    0.9198753689734339,
                    0.9264348966874385,
                    1.0778287963266644,
                    1.3906854706461136,
                    1.3325680551000327,
                    1.0363397835355854,
                    1.045851098720892,
                    1.2103312561495572,
                    0.7164316169235815,
                    0.864348966874385,
                    1.130075434568711,
                    1.174319448999672,
                    1.1251229911446377,
                    1.0025910134470317,
                    1.0693670055755986,
                    1.0336503771728436,
                    1.2122991144637587,
                    1.437028533945556,
                    1.3947851754673664,
                    1.0860610036077403,
                    1.07140045916694,
                    1.0461790751065922,
                    0.8565103312561495,
                    1.0987864873729092,
                    1.313086257789439,
                    1.3776976057723844,
                    1.1192850114791735,
                    0.9818301082322073,
                    0.9889143981633323,
                    1.061561167595933,
                    0.9784847490980649,
                    1.260118071498852,
                    1.2623155132830437,
                    1.1064611347982944,
                    1.1433912758281404,
                    0.97136766152837,
                    0.0006559527714004591,
                    1.0793374877008854,
                    1.0690062315513282,
                    1.0460478845523122,
                    0.9836011807149885,
                    0.9648081338143654,
                    1.097081010167268,
                    0.8675631354542473,
                    1.2998688094457198,
                    1.3474909806493933,
                    1.3003279763857003,
                    1.1377828796326666,
                    1.0718924237454903,
                    0.9565431288947196,
                    0.9520826500491965,
                    1.1277468022302395,
                    1.441325024598229,
                    1.4780583797966547,
                    1.1667431944899966,
                    0.9945555919973762,
                    1.018661856346343,
                    1.084388324040669,
                    1.144276812069531,
                    1.481436536569367,
                    1.335651033125615,
                    1.1286323384716301,
                    0.9302394227615611,
                    0.9219088225647754,
                    0.8460150869137422,
                    1.0567727123647097,
                    1.3834371925221385,
                    1.3979337487700885,
                    0.995670711708757,
                    0.9141685798622499,
                    0.9217448343719252,
                    0.925713348638898,
                    1.2279435880616596,
                    1.667038373237127,
                    1.324532633650377,
                    1.1481141357822238,
                    1.2267956707117087,
                    1.1148573302722204,
                    1.1363397835355855,
                    1.207248278123975,
                    1.667300754345687,
                    1.6306657920629715,
                    1.2846835027877992,
                    1.1631354542472943,
                    1.1709084945883896,
                    1.2650049196457855,
                    1.211413578222368,
                    1.3648409314529353,
                    1.4433256805510004,
                    1.218333879960643,
                    1.0067891111839948,
                    0.9348966874385044,
                    0.9448343719252214,
                    1.0862249918005904,
                    1.3810757625450967,
                    1.4351918661856347,
                    1.0338471630042636,
                    0.9767136766152837,
                    0.958576582486061,
                    0.9584453919317809,
                    1.1008855362413905,
                    1.4481469334207937,
                    1.4819940964250573,
                    1.1609708101016727,
                    1.1278123975073795,
                    1.0421121679239094,
                    1.0763857002295836,
                    1.1786487372909151,
                    1.4506067563135454,
                    1.5539193178091177,
                    1.1813709412922269,
                    1.1019022630370614,
                    1.0787471302066252,
                    1.1279435880616595,
                    1.2011479173499509,
                    1.458543784847491,
                    1.601410298458511,
                    1.164152181042965,
                    1.0302394227615612,
                    0.9821908822564775,
                    0.9632338471630043,
                    1.0822892751721875,
                    1.376910462446704,
                    1.4435552640209905,
                    1.0606100360774025,
                    0.8803214168579863,
                    1.0493604460478845,
                    0.9807149885208265,
                    1.067071170875697,
                    1.3621187274516235,
                    1.3966218432272877,
                    1.0462118727451624,
                    1.0152836995736307,
                    1.1498852082650048,
                    1.1091177435224664,
                    1.4466382420465727,
                    1.5880288619219416,
                    1.3655624795014758,
                    1.1877664808133814,
                    1.1122007215480485,
                    1.120006559527714,
                    1.1294522794358806,
                    1.208691374221056,
                    1.4848146933420794,
                    1.5473925877336832,
                    1.131321744834372,
                    1.1019022630370614,
                    1.1377500819940964,
                    1.0308625778943916,
                    1.084257133486389,
                    1.3944244014430962,
                    1.4548704493276483,
                    1.0861921941620203,
                    0.991374221056084,
                    0.9964578550344375,
                    1.005510003279764,
                    1.1289931124959003,
                    1.4299114463758609,
                    1.4236142997704164,
                    1.0968842243358479,
                    0.975729747458183,
                    0.9402099048868482,
                    1.0020662512299114,
                    1.3439160380452608,
                    1.5431944899967203,
                    1.6104296490652672,
                    1.2518530665792063,
                    1.1508363397835355,
                    1.1576254509675303,
                    1.092850114791735,
                    1.227418825844539,
                    1.5503115775664151,
                    1.2472941948179732,
                    1.2198097736962938,
                    1.1489996720236142,
                    1.1047884552312233,
                    1.051295506723516,
                    1.238570022958347,
                    1.454116103640538,
                    1.4592653328960314,
                    1.1248278123975073,
                    1.005936372581174,
                    1.0219088225647754,
                    1.0036405378812725,
                    1.1894719580190227,
                    1.3110856018366677,
                    1.2274844211216793,
                    1.2403082978025581,
                    1.012758281403739,
                    0.987110528041981,
                    0.9910134470318137,
                    1.079862249918006,
                    1.3426697277795998,
                    1.4254837651689078,
                    1.2677599212856674,
                    1.227418825844539,
                    1.2459822892751722,
                    1.1453591341423417,
                    1.3082650049196458,
                    1.5581174155460806,
                    1.5882584453919317,
                    1.3093473269924565,
                    1.2523450311577566,
                    1.1536897343391277,
                    1.167103968514267,
                    1.3211544768776649,
                    1.4710724827812398,
                    1.6064611347982944,
                    1.5605116431616923,
                    1.0396195473925878,
                    1.0324040669071828,
                    1.1290587077730403,
                    1.2407018694653984,
                    1.451459494916366,
                    1.3582486061003607,
                    1.14286651361102,
                    1.0846507051492293,
                    1.037126926861266,
                    1.0618563463430633,
                    1.1789111183994752,
                    1.384486716956379,
                    1.408527386028206,
                    1.112758281403739,
                    1.0553952115447687,
                    1.2488356838307642,
                    1.3723843883240407,
                    1.7761233191210233,
                    1.2295506723515908,
                    1.4277468022302395,
                    1.3623483109216137,
                    1.2251557887832076,
                    1.1823220728107575,
                    1.2531977697605772,
                    1.3084617907510658,
                    1.5547720564119383,
                    1.6265660872417187,
                    1.2810101672679568,
                    1.2079698261725156,
                    1.2494260413250247,
                    1.2291898983273204,
                    1.3724827812397506,
                    1.4975401771072483,
                    1.567202361429977,
                    1.231452935388652,
                    1.1196457855034438,
                    1.0946539849130863,
                    1.121515250901935,
                    1.2607740242702525,
                    1.3979665464086586,
                    1.4493932436864545,
                    1.1848474909806495,
                    1.0808461790751065,
                    1.0361757953427353,
                    1.1015742866513611,
                    1.3603804526074124,
                    1.6120039357166285,
                    1.6904230895375534,
                    1.484322728763529,
                    1.2350934732699246,
                    1.2554608068219089,
                    1.2396851426697277,
                    1.3163988192850116,
                    1.5776976057723844,
                    1.7041980977369628,
                    1.2569367005575598,
                    1.195441128238767,
                    1.2250245982289276,
                    1.1825188586421778,
                    1.3368973433912759,
                    1.588586421777632,
                    1.6575926533289602,
                    1.2827812397507379,
                    1.1559527714004592,
                    1.1055100032797638,
                    1.0664480157428664,
                    1.2122991144637587,
                    1.478517546736635,
                    1.5610364053788128,
                    1.1509675303378157,
                    1.0264020990488685,
                    1.048442112167924,
                    1.0520170547720564,
                    1.1889471958019022,
                    1.4836339783535586,
                    1.591243030501804,
                    1.1769432600852738,
                    1.2448343719252213,
                    1.20006559527714,
                    1.2994096425057395,
                    1.2879632666448015,
                    1.5574614627746801,
                    1.4840275500163989,
                    1.5008855362413906,
                    1.1862577894391604,
                    1.2496556247950148,
                    1.1706461134798294,
                    1.3212856674319449,
                    1.6432600852738604,
                    1.6838307641849788,
                    1.2486388979993441,
                    1.2274516234831092,
                    1.1034765496884225,
                    1.1150541161036405,
                    1.2689078386356183,
                    1.5834371925221384,
                    1.6391931780911775,
                    1.1854706461134799,
                    1.0993112495900295,
                    1.098622499180059,
                    1.0812397507379468,
                    1.268612659888488,
                    1.5295506723515906,
                    1.5615939652345032,
                    1.1237126926861265,
                    1.0040997048212528,
                    1.0255821580846178,
                    1.235716628402755,
                    1.4554280091833387,
                    1.7936044604788455,
                    1.7348310921613643,
                    1.3930469006231552,
                    1.274352246638242,
                    1.1770088553624138,
                    1.2403738930796984,
                    1.429813053460151,
                    1.60009839291571,
                    1.630173827484421,
                    1.3853722531977697,
                    1.1702525418169891,
                    1.1232535257461462,
                    1.1922925549360446,
                    1.2601508691374221,
                    1.5681534929485077,
                    1.605903574942604,
                    1.1578222367989506,
                    1.08573302722204,
                    1.0630042636930142,
                    1.0747786159396524,
                    1.2469990160708428,
                    1.4760905214824533,
                    1.5145621515250902,
                    1.1509347326992456,
                    1.059986880944572,
                    1.025483765168908,
                    1.089931124959003,
                    1.32876352902591,
                    1.4018694653984913,
                    1.541292226959659,
                    1.195703509347327,
                    1.2462118727451623,
                    1.052869793374877,
                    1.137258117415546,
                    1.2994752377828795,
                    1.552673007543457,
                    1.5877664808133813,
                    1.2107248278123974,
                    1.0945883896359463,
                    1.0934076746474253,
                    1.0902591013447032,
                    1.187110528041981,
                    1.5527058051820268,
                    1.6318465070514923,
                    1.1720236142997704,
                    0.9568383076418497,
                    1.0547720564119383,
                    1.061495572318793,
                    1.2580190226303707,
                    1.4035093473269924,
                    1.4734339127582814,
                    1.1525090193506067,
                    1.1224007871433257,
                    1.3159724499836012,
                    0.7750409970482125,
                    0.9045916693998032,
                    1.1220728107576254,
                    1.2391603804526075,
                    1.050049196457855,
                    1.1419481797310593,
                    1.1063299442440144,
                    1.247261397179403,
                    1.2524434240734668,
                    1.5423089537553296,
                    1.5878976713676616,
                    1.161298786487373,
                    1.0794686782551657,
                    1.1049524434240734,
                    1.0547392587733684,
                    1.1919645785503443,
                    1.5078714332568055,
                    1.4802558215808461,
                    1.2306329944244014,
                    1.1849786815349295,
                    1.1191538209248935,
                    1.162807477861594,
                    1.139914726139718,
                    1.4263037061331585,
                    1.4106592325352574,
                    1.1650377172843556,
                    1.2007871433256805,
                    1.2709740898655297,
                    1.1881600524762217,
                    0.0004591669399803214,
                    1.258674975401771,
                    1.1603148573302722,
                    0.9827484421121679,
                    1.0460150869137421,
                    1.1192850114791735,
                    1.4122335191866187,
                    1.0708756969498197,
                    1.4672679567071172,
                    1.454247294194818,
                    1.2034437520498524,
                    1.1579534273532306,
                    1.0719908166612004,
                    1.1788783207609053,
                    1.277008855362414,
                    1.734339127582814,
                    1.5535913414234175,
                    1.2458510987208922,
                    1.1519186618563464,
                    1.05710068875041,
                    1.1759921285667432,
                    1.3706133158412594,
                    1.6774680223023943,
                    1.4933748770088553,
                    1.2574614627746803,
                    1.0491308625778943,
                    1.0719580190226303,
                    1.0422761561167595,
                    1.1907838635618235,
                    1.6046900623155134,
                    1.568776648081338,
                    1.1278779927845195,
                    0.998556903902919,
                    1.0281731715316498,
                    1.0648081338143653,
                    1.2344703181370942,
                    1.6104952443424074,
                    1.667136766152837,
                    1.3681206953099376,
                    1.145555919973762,
                    1.2902591013447031,
                    1.1618235487044932,
                    1.3182354870449329,
                    1.8051820268940637,
                    1.5379796654640865,
                    1.207084289931125,
                    1.2631354542472941,
                    1.2906854706461135,
                    1.4622499180059036,
                    1.4503771728435553,
                    1.7617251557887832,
                    1.5853394555591998,
                    1.5136766152836996,
                    1.2365365693670056,
                    1.198589701541489,
                    1.1950147589373565,
                    1.3247622171203672,
                    1.6679895047556577,
                    1.7081338143653657,
                    1.224270252541817,
                    1.11449655624795,
                    1.117349950803542,
                    1.1352902591013447,
                    1.2347982945227944,
                    1.5705805182026895,
                    1.669891767792719,
                    1.2220072154804853,
                    1.1982945227943589,
                    1.261331584125943,
                    1.3597572974745817,
                    1.2897671367661527,
                    1.7160380452607413,
                    1.8766152836995735,
                    1.3303378156772712,
                    1.237356510331256,
                    1.2145621515250902,
                    1.2550672351590686,
                    1.3409970482125286,
                    1.7287963266644801,
                    1.6864873729091505,
                    1.378648737290915,
                    1.315742866513611,
                    1.2005903574942605,
                    1.1482125286979337,
                    1.3004919645785504,
                    1.5146277468022302,
                    1.568547064611348,
                    1.2253197769760578,
                    1.1634962282715644,
                    1.1408986552968186,
                    1.1152181042964906,
                    1.4959330928173171,
                    1.7665792062971466,
                    1.5204985241062643,
                    1.1820596917021975,
                    1.1104296490652672,
                    1.0612987864873729,
                    1.1374549032469663,
                    1.4934732699245654,
                    1.7275172187602492,
                    1.8506067563135453,
                    1.325614955723188,
                    1.301508691374221,
                    1.2835027877992784,
                    1.250114791734995,
                    1.4175139389963922,
                    1.8478189570350936,
                    1.7663496228271565,
                    1.391505411610364,
                    1.281370941292227,
                    1.1542472941948179,
                    1.2308625778943916,
                    1.3705805182026893,
                    1.5861593965234504,
                    1.6936700557559856,
                    1.2482453263365039,
                    1.2322072810757625,
                    1.1591669399803215,
                    1.1489996720236142,
                    1.3288619219416202,
                    1.605837979665464,
                    1.6331584125942933,
                    1.2723187930469007,
                    1.1638897999344047,
                    1.1297146605444408,
                    1.1391275828140375,
                    1.4068875040997049,
                    1.6539521154476877,
                    1.7393243686454576,
                    1.4162348310921613,
                    1.4533945555919974,
                    1.2988192850114793,
                    1.3369301410298458,
                    1.4367005575598557,
                    1.7789111183994752,
                    1.4958674975401771,
                    1.5218104296490653,
                    1.291538209248934,
                    1.38563463430633,
                    1.32840275500164,
                    1.4454903246966218,
                    1.781174155460807,
                    1.9652673007543457,
                    1.3893735651033126,
                    1.2717940308297802,
                    1.2166612003935717,
                    1.2122991144637587,
                    1.395605116431617,
                    1.6896687438504427,
                    1.7821580846179075
                  ],
                  "yaxis": "y"
                }
              ],
              "layout": {
                "legend": {
                  "tracegroupgap": 0
                },
                "template": {
                  "data": {
                    "bar": [
                      {
                        "error_x": {
                          "color": "#2a3f5f"
                        },
                        "error_y": {
                          "color": "#2a3f5f"
                        },
                        "marker": {
                          "line": {
                            "color": "#E5ECF6",
                            "width": 0.5
                          },
                          "pattern": {
                            "fillmode": "overlay",
                            "size": 10,
                            "solidity": 0.2
                          }
                        },
                        "type": "bar"
                      }
                    ],
                    "barpolar": [
                      {
                        "marker": {
                          "line": {
                            "color": "#E5ECF6",
                            "width": 0.5
                          },
                          "pattern": {
                            "fillmode": "overlay",
                            "size": 10,
                            "solidity": 0.2
                          }
                        },
                        "type": "barpolar"
                      }
                    ],
                    "carpet": [
                      {
                        "aaxis": {
                          "endlinecolor": "#2a3f5f",
                          "gridcolor": "white",
                          "linecolor": "white",
                          "minorgridcolor": "white",
                          "startlinecolor": "#2a3f5f"
                        },
                        "baxis": {
                          "endlinecolor": "#2a3f5f",
                          "gridcolor": "white",
                          "linecolor": "white",
                          "minorgridcolor": "white",
                          "startlinecolor": "#2a3f5f"
                        },
                        "type": "carpet"
                      }
                    ],
                    "choropleth": [
                      {
                        "colorbar": {
                          "outlinewidth": 0,
                          "ticks": ""
                        },
                        "type": "choropleth"
                      }
                    ],
                    "contour": [
                      {
                        "colorbar": {
                          "outlinewidth": 0,
                          "ticks": ""
                        },
                        "colorscale": [
                          [
                            0,
                            "#0d0887"
                          ],
                          [
                            0.1111111111111111,
                            "#46039f"
                          ],
                          [
                            0.2222222222222222,
                            "#7201a8"
                          ],
                          [
                            0.3333333333333333,
                            "#9c179e"
                          ],
                          [
                            0.4444444444444444,
                            "#bd3786"
                          ],
                          [
                            0.5555555555555556,
                            "#d8576b"
                          ],
                          [
                            0.6666666666666666,
                            "#ed7953"
                          ],
                          [
                            0.7777777777777778,
                            "#fb9f3a"
                          ],
                          [
                            0.8888888888888888,
                            "#fdca26"
                          ],
                          [
                            1,
                            "#f0f921"
                          ]
                        ],
                        "type": "contour"
                      }
                    ],
                    "contourcarpet": [
                      {
                        "colorbar": {
                          "outlinewidth": 0,
                          "ticks": ""
                        },
                        "type": "contourcarpet"
                      }
                    ],
                    "heatmap": [
                      {
                        "colorbar": {
                          "outlinewidth": 0,
                          "ticks": ""
                        },
                        "colorscale": [
                          [
                            0,
                            "#0d0887"
                          ],
                          [
                            0.1111111111111111,
                            "#46039f"
                          ],
                          [
                            0.2222222222222222,
                            "#7201a8"
                          ],
                          [
                            0.3333333333333333,
                            "#9c179e"
                          ],
                          [
                            0.4444444444444444,
                            "#bd3786"
                          ],
                          [
                            0.5555555555555556,
                            "#d8576b"
                          ],
                          [
                            0.6666666666666666,
                            "#ed7953"
                          ],
                          [
                            0.7777777777777778,
                            "#fb9f3a"
                          ],
                          [
                            0.8888888888888888,
                            "#fdca26"
                          ],
                          [
                            1,
                            "#f0f921"
                          ]
                        ],
                        "type": "heatmap"
                      }
                    ],
                    "heatmapgl": [
                      {
                        "colorbar": {
                          "outlinewidth": 0,
                          "ticks": ""
                        },
                        "colorscale": [
                          [
                            0,
                            "#0d0887"
                          ],
                          [
                            0.1111111111111111,
                            "#46039f"
                          ],
                          [
                            0.2222222222222222,
                            "#7201a8"
                          ],
                          [
                            0.3333333333333333,
                            "#9c179e"
                          ],
                          [
                            0.4444444444444444,
                            "#bd3786"
                          ],
                          [
                            0.5555555555555556,
                            "#d8576b"
                          ],
                          [
                            0.6666666666666666,
                            "#ed7953"
                          ],
                          [
                            0.7777777777777778,
                            "#fb9f3a"
                          ],
                          [
                            0.8888888888888888,
                            "#fdca26"
                          ],
                          [
                            1,
                            "#f0f921"
                          ]
                        ],
                        "type": "heatmapgl"
                      }
                    ],
                    "histogram": [
                      {
                        "marker": {
                          "pattern": {
                            "fillmode": "overlay",
                            "size": 10,
                            "solidity": 0.2
                          }
                        },
                        "type": "histogram"
                      }
                    ],
                    "histogram2d": [
                      {
                        "colorbar": {
                          "outlinewidth": 0,
                          "ticks": ""
                        },
                        "colorscale": [
                          [
                            0,
                            "#0d0887"
                          ],
                          [
                            0.1111111111111111,
                            "#46039f"
                          ],
                          [
                            0.2222222222222222,
                            "#7201a8"
                          ],
                          [
                            0.3333333333333333,
                            "#9c179e"
                          ],
                          [
                            0.4444444444444444,
                            "#bd3786"
                          ],
                          [
                            0.5555555555555556,
                            "#d8576b"
                          ],
                          [
                            0.6666666666666666,
                            "#ed7953"
                          ],
                          [
                            0.7777777777777778,
                            "#fb9f3a"
                          ],
                          [
                            0.8888888888888888,
                            "#fdca26"
                          ],
                          [
                            1,
                            "#f0f921"
                          ]
                        ],
                        "type": "histogram2d"
                      }
                    ],
                    "histogram2dcontour": [
                      {
                        "colorbar": {
                          "outlinewidth": 0,
                          "ticks": ""
                        },
                        "colorscale": [
                          [
                            0,
                            "#0d0887"
                          ],
                          [
                            0.1111111111111111,
                            "#46039f"
                          ],
                          [
                            0.2222222222222222,
                            "#7201a8"
                          ],
                          [
                            0.3333333333333333,
                            "#9c179e"
                          ],
                          [
                            0.4444444444444444,
                            "#bd3786"
                          ],
                          [
                            0.5555555555555556,
                            "#d8576b"
                          ],
                          [
                            0.6666666666666666,
                            "#ed7953"
                          ],
                          [
                            0.7777777777777778,
                            "#fb9f3a"
                          ],
                          [
                            0.8888888888888888,
                            "#fdca26"
                          ],
                          [
                            1,
                            "#f0f921"
                          ]
                        ],
                        "type": "histogram2dcontour"
                      }
                    ],
                    "mesh3d": [
                      {
                        "colorbar": {
                          "outlinewidth": 0,
                          "ticks": ""
                        },
                        "type": "mesh3d"
                      }
                    ],
                    "parcoords": [
                      {
                        "line": {
                          "colorbar": {
                            "outlinewidth": 0,
                            "ticks": ""
                          }
                        },
                        "type": "parcoords"
                      }
                    ],
                    "pie": [
                      {
                        "automargin": true,
                        "type": "pie"
                      }
                    ],
                    "scatter": [
                      {
                        "fillpattern": {
                          "fillmode": "overlay",
                          "size": 10,
                          "solidity": 0.2
                        },
                        "type": "scatter"
                      }
                    ],
                    "scatter3d": [
                      {
                        "line": {
                          "colorbar": {
                            "outlinewidth": 0,
                            "ticks": ""
                          }
                        },
                        "marker": {
                          "colorbar": {
                            "outlinewidth": 0,
                            "ticks": ""
                          }
                        },
                        "type": "scatter3d"
                      }
                    ],
                    "scattercarpet": [
                      {
                        "marker": {
                          "colorbar": {
                            "outlinewidth": 0,
                            "ticks": ""
                          }
                        },
                        "type": "scattercarpet"
                      }
                    ],
                    "scattergeo": [
                      {
                        "marker": {
                          "colorbar": {
                            "outlinewidth": 0,
                            "ticks": ""
                          }
                        },
                        "type": "scattergeo"
                      }
                    ],
                    "scattergl": [
                      {
                        "marker": {
                          "colorbar": {
                            "outlinewidth": 0,
                            "ticks": ""
                          }
                        },
                        "type": "scattergl"
                      }
                    ],
                    "scattermapbox": [
                      {
                        "marker": {
                          "colorbar": {
                            "outlinewidth": 0,
                            "ticks": ""
                          }
                        },
                        "type": "scattermapbox"
                      }
                    ],
                    "scatterpolar": [
                      {
                        "marker": {
                          "colorbar": {
                            "outlinewidth": 0,
                            "ticks": ""
                          }
                        },
                        "type": "scatterpolar"
                      }
                    ],
                    "scatterpolargl": [
                      {
                        "marker": {
                          "colorbar": {
                            "outlinewidth": 0,
                            "ticks": ""
                          }
                        },
                        "type": "scatterpolargl"
                      }
                    ],
                    "scatterternary": [
                      {
                        "marker": {
                          "colorbar": {
                            "outlinewidth": 0,
                            "ticks": ""
                          }
                        },
                        "type": "scatterternary"
                      }
                    ],
                    "surface": [
                      {
                        "colorbar": {
                          "outlinewidth": 0,
                          "ticks": ""
                        },
                        "colorscale": [
                          [
                            0,
                            "#0d0887"
                          ],
                          [
                            0.1111111111111111,
                            "#46039f"
                          ],
                          [
                            0.2222222222222222,
                            "#7201a8"
                          ],
                          [
                            0.3333333333333333,
                            "#9c179e"
                          ],
                          [
                            0.4444444444444444,
                            "#bd3786"
                          ],
                          [
                            0.5555555555555556,
                            "#d8576b"
                          ],
                          [
                            0.6666666666666666,
                            "#ed7953"
                          ],
                          [
                            0.7777777777777778,
                            "#fb9f3a"
                          ],
                          [
                            0.8888888888888888,
                            "#fdca26"
                          ],
                          [
                            1,
                            "#f0f921"
                          ]
                        ],
                        "type": "surface"
                      }
                    ],
                    "table": [
                      {
                        "cells": {
                          "fill": {
                            "color": "#EBF0F8"
                          },
                          "line": {
                            "color": "white"
                          }
                        },
                        "header": {
                          "fill": {
                            "color": "#C8D4E3"
                          },
                          "line": {
                            "color": "white"
                          }
                        },
                        "type": "table"
                      }
                    ]
                  },
                  "layout": {
                    "annotationdefaults": {
                      "arrowcolor": "#2a3f5f",
                      "arrowhead": 0,
                      "arrowwidth": 1
                    },
                    "autotypenumbers": "strict",
                    "coloraxis": {
                      "colorbar": {
                        "outlinewidth": 0,
                        "ticks": ""
                      }
                    },
                    "colorscale": {
                      "diverging": [
                        [
                          0,
                          "#8e0152"
                        ],
                        [
                          0.1,
                          "#c51b7d"
                        ],
                        [
                          0.2,
                          "#de77ae"
                        ],
                        [
                          0.3,
                          "#f1b6da"
                        ],
                        [
                          0.4,
                          "#fde0ef"
                        ],
                        [
                          0.5,
                          "#f7f7f7"
                        ],
                        [
                          0.6,
                          "#e6f5d0"
                        ],
                        [
                          0.7,
                          "#b8e186"
                        ],
                        [
                          0.8,
                          "#7fbc41"
                        ],
                        [
                          0.9,
                          "#4d9221"
                        ],
                        [
                          1,
                          "#276419"
                        ]
                      ],
                      "sequential": [
                        [
                          0,
                          "#0d0887"
                        ],
                        [
                          0.1111111111111111,
                          "#46039f"
                        ],
                        [
                          0.2222222222222222,
                          "#7201a8"
                        ],
                        [
                          0.3333333333333333,
                          "#9c179e"
                        ],
                        [
                          0.4444444444444444,
                          "#bd3786"
                        ],
                        [
                          0.5555555555555556,
                          "#d8576b"
                        ],
                        [
                          0.6666666666666666,
                          "#ed7953"
                        ],
                        [
                          0.7777777777777778,
                          "#fb9f3a"
                        ],
                        [
                          0.8888888888888888,
                          "#fdca26"
                        ],
                        [
                          1,
                          "#f0f921"
                        ]
                      ],
                      "sequentialminus": [
                        [
                          0,
                          "#0d0887"
                        ],
                        [
                          0.1111111111111111,
                          "#46039f"
                        ],
                        [
                          0.2222222222222222,
                          "#7201a8"
                        ],
                        [
                          0.3333333333333333,
                          "#9c179e"
                        ],
                        [
                          0.4444444444444444,
                          "#bd3786"
                        ],
                        [
                          0.5555555555555556,
                          "#d8576b"
                        ],
                        [
                          0.6666666666666666,
                          "#ed7953"
                        ],
                        [
                          0.7777777777777778,
                          "#fb9f3a"
                        ],
                        [
                          0.8888888888888888,
                          "#fdca26"
                        ],
                        [
                          1,
                          "#f0f921"
                        ]
                      ]
                    },
                    "colorway": [
                      "#636efa",
                      "#EF553B",
                      "#00cc96",
                      "#ab63fa",
                      "#FFA15A",
                      "#19d3f3",
                      "#FF6692",
                      "#B6E880",
                      "#FF97FF",
                      "#FECB52"
                    ],
                    "font": {
                      "color": "#2a3f5f"
                    },
                    "geo": {
                      "bgcolor": "white",
                      "lakecolor": "white",
                      "landcolor": "#E5ECF6",
                      "showlakes": true,
                      "showland": true,
                      "subunitcolor": "white"
                    },
                    "hoverlabel": {
                      "align": "left"
                    },
                    "hovermode": "closest",
                    "mapbox": {
                      "style": "light"
                    },
                    "paper_bgcolor": "white",
                    "plot_bgcolor": "#E5ECF6",
                    "polar": {
                      "angularaxis": {
                        "gridcolor": "white",
                        "linecolor": "white",
                        "ticks": ""
                      },
                      "bgcolor": "#E5ECF6",
                      "radialaxis": {
                        "gridcolor": "white",
                        "linecolor": "white",
                        "ticks": ""
                      }
                    },
                    "scene": {
                      "xaxis": {
                        "backgroundcolor": "#E5ECF6",
                        "gridcolor": "white",
                        "gridwidth": 2,
                        "linecolor": "white",
                        "showbackground": true,
                        "ticks": "",
                        "zerolinecolor": "white"
                      },
                      "yaxis": {
                        "backgroundcolor": "#E5ECF6",
                        "gridcolor": "white",
                        "gridwidth": 2,
                        "linecolor": "white",
                        "showbackground": true,
                        "ticks": "",
                        "zerolinecolor": "white"
                      },
                      "zaxis": {
                        "backgroundcolor": "#E5ECF6",
                        "gridcolor": "white",
                        "gridwidth": 2,
                        "linecolor": "white",
                        "showbackground": true,
                        "ticks": "",
                        "zerolinecolor": "white"
                      }
                    },
                    "shapedefaults": {
                      "line": {
                        "color": "#2a3f5f"
                      }
                    },
                    "ternary": {
                      "aaxis": {
                        "gridcolor": "white",
                        "linecolor": "white",
                        "ticks": ""
                      },
                      "baxis": {
                        "gridcolor": "white",
                        "linecolor": "white",
                        "ticks": ""
                      },
                      "bgcolor": "#E5ECF6",
                      "caxis": {
                        "gridcolor": "white",
                        "linecolor": "white",
                        "ticks": ""
                      }
                    },
                    "title": {
                      "x": 0.05
                    },
                    "xaxis": {
                      "automargin": true,
                      "gridcolor": "white",
                      "linecolor": "white",
                      "ticks": "",
                      "title": {
                        "standoff": 15
                      },
                      "zerolinecolor": "white",
                      "zerolinewidth": 2
                    },
                    "yaxis": {
                      "automargin": true,
                      "gridcolor": "white",
                      "linecolor": "white",
                      "ticks": "",
                      "title": {
                        "standoff": 15
                      },
                      "zerolinecolor": "white",
                      "zerolinewidth": 2
                    }
                  }
                },
                "title": {
                  "text": "Daily sales"
                },
                "xaxis": {
                  "anchor": "y",
                  "domain": [
                    0,
                    1
                  ],
                  "rangeslider": {
                    "visible": true
                  },
                  "title": {
                    "text": "d"
                  }
                },
                "yaxis": {
                  "anchor": "x",
                  "domain": [
                    0,
                    1
                  ],
                  "title": {
                    "text": "mean_sold"
                  }
                }
              }
            }
          },
          "metadata": {},
          "output_type": "display_data"
        }
      ],
      "source": [
        "\n",
        "\n",
        "sales_mean=DF_MAIN.groupby(['d'],as_index=False,sort=False).agg(mean_sold=('sold',np.mean))\n",
        "fig = px.line(sales_mean, x='d', y='mean_sold', title='Daily sales')\n",
        "fig.update_xaxes(rangeslider_visible=True)\n",
        "fig.show()"
      ]
    },
    {
      "cell_type": "markdown",
      "metadata": {
        "id": "7jFh5luz2Q_i"
      },
      "source": [
        "Inference: here, as we can see that on days like d_331, d_697,d_1062, d_1427, d_1792. The sales drastically drops down to almost zero, and co-incidentally we can observe that there is christmas on that days."
      ]
    },
    {
      "cell_type": "markdown",
      "metadata": {
        "id": "30JxFQ9R2Q_i"
      },
      "source": [
        "# Total Sales on Christmas day in each Store"
      ]
    },
    {
      "cell_type": "code",
      "execution_count": null,
      "metadata": {
        "id": "9T-i3QlV2Q_i"
      },
      "outputs": [],
      "source": [
        "temp_dataframe=DF_MAIN[DF_MAIN['event_name_1']=='Christmas']\n",
        "\n",
        "temp_dataframe=temp_dataframe.groupby(['store_id','cat_id'],as_index=False,sort=False).agg(Total_sale=('sold',np.sum))\n",
        "temp_dataframe['store_id'] = temp_dataframe.store_id.astype('str')\n",
        "temp_dataframe['cat_id'] = temp_dataframe.cat_id.astype('str')\n",
        "temp_dataframe['store_cat_id']=temp_dataframe['store_id']+'_'+temp_dataframe['cat_id']"
      ]
    },
    {
      "cell_type": "code",
      "execution_count": null,
      "metadata": {
        "id": "YalqdURr2Q_j",
        "outputId": "75d02eb8-ce32-4419-b46d-2ef5c9a1b163"
      },
      "outputs": [
        {
          "data": {
            "application/vnd.plotly.v1+json": {
              "config": {
                "plotlyServerURL": "https://plot.ly"
              },
              "data": [
                {
                  "alignmentgroup": "True",
                  "hovertemplate": "store_cat_id=%{x}<br>Total_sale=%{text}<extra></extra>",
                  "legendgroup": "CA_1_HOBBIES",
                  "marker": {
                    "color": "#636efa",
                    "pattern": {
                      "shape": ""
                    }
                  },
                  "name": "CA_1_HOBBIES",
                  "offsetgroup": "CA_1_HOBBIES",
                  "orientation": "v",
                  "showlegend": true,
                  "text": [
                    0
                  ],
                  "textposition": "auto",
                  "type": "bar",
                  "x": [
                    "CA_1_HOBBIES"
                  ],
                  "xaxis": "x",
                  "y": [
                    0
                  ],
                  "yaxis": "y"
                },
                {
                  "alignmentgroup": "True",
                  "hovertemplate": "store_cat_id=%{x}<br>Total_sale=%{text}<extra></extra>",
                  "legendgroup": "CA_1_HOUSEHOLD",
                  "marker": {
                    "color": "#EF553B",
                    "pattern": {
                      "shape": ""
                    }
                  },
                  "name": "CA_1_HOUSEHOLD",
                  "offsetgroup": "CA_1_HOUSEHOLD",
                  "orientation": "v",
                  "showlegend": true,
                  "text": [
                    0
                  ],
                  "textposition": "auto",
                  "type": "bar",
                  "x": [
                    "CA_1_HOUSEHOLD"
                  ],
                  "xaxis": "x",
                  "y": [
                    0
                  ],
                  "yaxis": "y"
                },
                {
                  "alignmentgroup": "True",
                  "hovertemplate": "store_cat_id=%{x}<br>Total_sale=%{text}<extra></extra>",
                  "legendgroup": "CA_1_FOODS",
                  "marker": {
                    "color": "#00cc96",
                    "pattern": {
                      "shape": ""
                    }
                  },
                  "name": "CA_1_FOODS",
                  "offsetgroup": "CA_1_FOODS",
                  "orientation": "v",
                  "showlegend": true,
                  "text": [
                    0
                  ],
                  "textposition": "auto",
                  "type": "bar",
                  "x": [
                    "CA_1_FOODS"
                  ],
                  "xaxis": "x",
                  "y": [
                    0
                  ],
                  "yaxis": "y"
                },
                {
                  "alignmentgroup": "True",
                  "hovertemplate": "store_cat_id=%{x}<br>Total_sale=%{text}<extra></extra>",
                  "legendgroup": "CA_2_HOBBIES",
                  "marker": {
                    "color": "#ab63fa",
                    "pattern": {
                      "shape": ""
                    }
                  },
                  "name": "CA_2_HOBBIES",
                  "offsetgroup": "CA_2_HOBBIES",
                  "orientation": "v",
                  "showlegend": true,
                  "text": [
                    0
                  ],
                  "textposition": "auto",
                  "type": "bar",
                  "x": [
                    "CA_2_HOBBIES"
                  ],
                  "xaxis": "x",
                  "y": [
                    0
                  ],
                  "yaxis": "y"
                },
                {
                  "alignmentgroup": "True",
                  "hovertemplate": "store_cat_id=%{x}<br>Total_sale=%{text}<extra></extra>",
                  "legendgroup": "CA_2_HOUSEHOLD",
                  "marker": {
                    "color": "#FFA15A",
                    "pattern": {
                      "shape": ""
                    }
                  },
                  "name": "CA_2_HOUSEHOLD",
                  "offsetgroup": "CA_2_HOUSEHOLD",
                  "orientation": "v",
                  "showlegend": true,
                  "text": [
                    0
                  ],
                  "textposition": "auto",
                  "type": "bar",
                  "x": [
                    "CA_2_HOUSEHOLD"
                  ],
                  "xaxis": "x",
                  "y": [
                    0
                  ],
                  "yaxis": "y"
                },
                {
                  "alignmentgroup": "True",
                  "hovertemplate": "store_cat_id=%{x}<br>Total_sale=%{text}<extra></extra>",
                  "legendgroup": "CA_2_FOODS",
                  "marker": {
                    "color": "#19d3f3",
                    "pattern": {
                      "shape": ""
                    }
                  },
                  "name": "CA_2_FOODS",
                  "offsetgroup": "CA_2_FOODS",
                  "orientation": "v",
                  "showlegend": true,
                  "text": [
                    19
                  ],
                  "textposition": "auto",
                  "type": "bar",
                  "x": [
                    "CA_2_FOODS"
                  ],
                  "xaxis": "x",
                  "y": [
                    19
                  ],
                  "yaxis": "y"
                },
                {
                  "alignmentgroup": "True",
                  "hovertemplate": "store_cat_id=%{x}<br>Total_sale=%{text}<extra></extra>",
                  "legendgroup": "CA_3_HOBBIES",
                  "marker": {
                    "color": "#FF6692",
                    "pattern": {
                      "shape": ""
                    }
                  },
                  "name": "CA_3_HOBBIES",
                  "offsetgroup": "CA_3_HOBBIES",
                  "orientation": "v",
                  "showlegend": true,
                  "text": [
                    0
                  ],
                  "textposition": "auto",
                  "type": "bar",
                  "x": [
                    "CA_3_HOBBIES"
                  ],
                  "xaxis": "x",
                  "y": [
                    0
                  ],
                  "yaxis": "y"
                },
                {
                  "alignmentgroup": "True",
                  "hovertemplate": "store_cat_id=%{x}<br>Total_sale=%{text}<extra></extra>",
                  "legendgroup": "CA_3_HOUSEHOLD",
                  "marker": {
                    "color": "#B6E880",
                    "pattern": {
                      "shape": ""
                    }
                  },
                  "name": "CA_3_HOUSEHOLD",
                  "offsetgroup": "CA_3_HOUSEHOLD",
                  "orientation": "v",
                  "showlegend": true,
                  "text": [
                    0
                  ],
                  "textposition": "auto",
                  "type": "bar",
                  "x": [
                    "CA_3_HOUSEHOLD"
                  ],
                  "xaxis": "x",
                  "y": [
                    0
                  ],
                  "yaxis": "y"
                },
                {
                  "alignmentgroup": "True",
                  "hovertemplate": "store_cat_id=%{x}<br>Total_sale=%{text}<extra></extra>",
                  "legendgroup": "CA_3_FOODS",
                  "marker": {
                    "color": "#FF97FF",
                    "pattern": {
                      "shape": ""
                    }
                  },
                  "name": "CA_3_FOODS",
                  "offsetgroup": "CA_3_FOODS",
                  "orientation": "v",
                  "showlegend": true,
                  "text": [
                    12
                  ],
                  "textposition": "auto",
                  "type": "bar",
                  "x": [
                    "CA_3_FOODS"
                  ],
                  "xaxis": "x",
                  "y": [
                    12
                  ],
                  "yaxis": "y"
                },
                {
                  "alignmentgroup": "True",
                  "hovertemplate": "store_cat_id=%{x}<br>Total_sale=%{text}<extra></extra>",
                  "legendgroup": "CA_4_HOBBIES",
                  "marker": {
                    "color": "#FECB52",
                    "pattern": {
                      "shape": ""
                    }
                  },
                  "name": "CA_4_HOBBIES",
                  "offsetgroup": "CA_4_HOBBIES",
                  "orientation": "v",
                  "showlegend": true,
                  "text": [
                    0
                  ],
                  "textposition": "auto",
                  "type": "bar",
                  "x": [
                    "CA_4_HOBBIES"
                  ],
                  "xaxis": "x",
                  "y": [
                    0
                  ],
                  "yaxis": "y"
                },
                {
                  "alignmentgroup": "True",
                  "hovertemplate": "store_cat_id=%{x}<br>Total_sale=%{text}<extra></extra>",
                  "legendgroup": "CA_4_HOUSEHOLD",
                  "marker": {
                    "color": "#636efa",
                    "pattern": {
                      "shape": ""
                    }
                  },
                  "name": "CA_4_HOUSEHOLD",
                  "offsetgroup": "CA_4_HOUSEHOLD",
                  "orientation": "v",
                  "showlegend": true,
                  "text": [
                    0
                  ],
                  "textposition": "auto",
                  "type": "bar",
                  "x": [
                    "CA_4_HOUSEHOLD"
                  ],
                  "xaxis": "x",
                  "y": [
                    0
                  ],
                  "yaxis": "y"
                },
                {
                  "alignmentgroup": "True",
                  "hovertemplate": "store_cat_id=%{x}<br>Total_sale=%{text}<extra></extra>",
                  "legendgroup": "CA_4_FOODS",
                  "marker": {
                    "color": "#EF553B",
                    "pattern": {
                      "shape": ""
                    }
                  },
                  "name": "CA_4_FOODS",
                  "offsetgroup": "CA_4_FOODS",
                  "orientation": "v",
                  "showlegend": true,
                  "text": [
                    0
                  ],
                  "textposition": "auto",
                  "type": "bar",
                  "x": [
                    "CA_4_FOODS"
                  ],
                  "xaxis": "x",
                  "y": [
                    0
                  ],
                  "yaxis": "y"
                },
                {
                  "alignmentgroup": "True",
                  "hovertemplate": "store_cat_id=%{x}<br>Total_sale=%{text}<extra></extra>",
                  "legendgroup": "TX_1_HOBBIES",
                  "marker": {
                    "color": "#00cc96",
                    "pattern": {
                      "shape": ""
                    }
                  },
                  "name": "TX_1_HOBBIES",
                  "offsetgroup": "TX_1_HOBBIES",
                  "orientation": "v",
                  "showlegend": true,
                  "text": [
                    0
                  ],
                  "textposition": "auto",
                  "type": "bar",
                  "x": [
                    "TX_1_HOBBIES"
                  ],
                  "xaxis": "x",
                  "y": [
                    0
                  ],
                  "yaxis": "y"
                },
                {
                  "alignmentgroup": "True",
                  "hovertemplate": "store_cat_id=%{x}<br>Total_sale=%{text}<extra></extra>",
                  "legendgroup": "TX_1_HOUSEHOLD",
                  "marker": {
                    "color": "#ab63fa",
                    "pattern": {
                      "shape": ""
                    }
                  },
                  "name": "TX_1_HOUSEHOLD",
                  "offsetgroup": "TX_1_HOUSEHOLD",
                  "orientation": "v",
                  "showlegend": true,
                  "text": [
                    0
                  ],
                  "textposition": "auto",
                  "type": "bar",
                  "x": [
                    "TX_1_HOUSEHOLD"
                  ],
                  "xaxis": "x",
                  "y": [
                    0
                  ],
                  "yaxis": "y"
                },
                {
                  "alignmentgroup": "True",
                  "hovertemplate": "store_cat_id=%{x}<br>Total_sale=%{text}<extra></extra>",
                  "legendgroup": "TX_1_FOODS",
                  "marker": {
                    "color": "#FFA15A",
                    "pattern": {
                      "shape": ""
                    }
                  },
                  "name": "TX_1_FOODS",
                  "offsetgroup": "TX_1_FOODS",
                  "orientation": "v",
                  "showlegend": true,
                  "text": [
                    2
                  ],
                  "textposition": "auto",
                  "type": "bar",
                  "x": [
                    "TX_1_FOODS"
                  ],
                  "xaxis": "x",
                  "y": [
                    2
                  ],
                  "yaxis": "y"
                },
                {
                  "alignmentgroup": "True",
                  "hovertemplate": "store_cat_id=%{x}<br>Total_sale=%{text}<extra></extra>",
                  "legendgroup": "TX_2_HOBBIES",
                  "marker": {
                    "color": "#19d3f3",
                    "pattern": {
                      "shape": ""
                    }
                  },
                  "name": "TX_2_HOBBIES",
                  "offsetgroup": "TX_2_HOBBIES",
                  "orientation": "v",
                  "showlegend": true,
                  "text": [
                    0
                  ],
                  "textposition": "auto",
                  "type": "bar",
                  "x": [
                    "TX_2_HOBBIES"
                  ],
                  "xaxis": "x",
                  "y": [
                    0
                  ],
                  "yaxis": "y"
                },
                {
                  "alignmentgroup": "True",
                  "hovertemplate": "store_cat_id=%{x}<br>Total_sale=%{text}<extra></extra>",
                  "legendgroup": "TX_2_HOUSEHOLD",
                  "marker": {
                    "color": "#FF6692",
                    "pattern": {
                      "shape": ""
                    }
                  },
                  "name": "TX_2_HOUSEHOLD",
                  "offsetgroup": "TX_2_HOUSEHOLD",
                  "orientation": "v",
                  "showlegend": true,
                  "text": [
                    0
                  ],
                  "textposition": "auto",
                  "type": "bar",
                  "x": [
                    "TX_2_HOUSEHOLD"
                  ],
                  "xaxis": "x",
                  "y": [
                    0
                  ],
                  "yaxis": "y"
                },
                {
                  "alignmentgroup": "True",
                  "hovertemplate": "store_cat_id=%{x}<br>Total_sale=%{text}<extra></extra>",
                  "legendgroup": "TX_2_FOODS",
                  "marker": {
                    "color": "#B6E880",
                    "pattern": {
                      "shape": ""
                    }
                  },
                  "name": "TX_2_FOODS",
                  "offsetgroup": "TX_2_FOODS",
                  "orientation": "v",
                  "showlegend": true,
                  "text": [
                    18
                  ],
                  "textposition": "auto",
                  "type": "bar",
                  "x": [
                    "TX_2_FOODS"
                  ],
                  "xaxis": "x",
                  "y": [
                    18
                  ],
                  "yaxis": "y"
                },
                {
                  "alignmentgroup": "True",
                  "hovertemplate": "store_cat_id=%{x}<br>Total_sale=%{text}<extra></extra>",
                  "legendgroup": "TX_3_HOBBIES",
                  "marker": {
                    "color": "#FF97FF",
                    "pattern": {
                      "shape": ""
                    }
                  },
                  "name": "TX_3_HOBBIES",
                  "offsetgroup": "TX_3_HOBBIES",
                  "orientation": "v",
                  "showlegend": true,
                  "text": [
                    0
                  ],
                  "textposition": "auto",
                  "type": "bar",
                  "x": [
                    "TX_3_HOBBIES"
                  ],
                  "xaxis": "x",
                  "y": [
                    0
                  ],
                  "yaxis": "y"
                },
                {
                  "alignmentgroup": "True",
                  "hovertemplate": "store_cat_id=%{x}<br>Total_sale=%{text}<extra></extra>",
                  "legendgroup": "TX_3_HOUSEHOLD",
                  "marker": {
                    "color": "#FECB52",
                    "pattern": {
                      "shape": ""
                    }
                  },
                  "name": "TX_3_HOUSEHOLD",
                  "offsetgroup": "TX_3_HOUSEHOLD",
                  "orientation": "v",
                  "showlegend": true,
                  "text": [
                    0
                  ],
                  "textposition": "auto",
                  "type": "bar",
                  "x": [
                    "TX_3_HOUSEHOLD"
                  ],
                  "xaxis": "x",
                  "y": [
                    0
                  ],
                  "yaxis": "y"
                },
                {
                  "alignmentgroup": "True",
                  "hovertemplate": "store_cat_id=%{x}<br>Total_sale=%{text}<extra></extra>",
                  "legendgroup": "TX_3_FOODS",
                  "marker": {
                    "color": "#636efa",
                    "pattern": {
                      "shape": ""
                    }
                  },
                  "name": "TX_3_FOODS",
                  "offsetgroup": "TX_3_FOODS",
                  "orientation": "v",
                  "showlegend": true,
                  "text": [
                    14
                  ],
                  "textposition": "auto",
                  "type": "bar",
                  "x": [
                    "TX_3_FOODS"
                  ],
                  "xaxis": "x",
                  "y": [
                    14
                  ],
                  "yaxis": "y"
                },
                {
                  "alignmentgroup": "True",
                  "hovertemplate": "store_cat_id=%{x}<br>Total_sale=%{text}<extra></extra>",
                  "legendgroup": "WI_1_HOBBIES",
                  "marker": {
                    "color": "#EF553B",
                    "pattern": {
                      "shape": ""
                    }
                  },
                  "name": "WI_1_HOBBIES",
                  "offsetgroup": "WI_1_HOBBIES",
                  "orientation": "v",
                  "showlegend": true,
                  "text": [
                    0
                  ],
                  "textposition": "auto",
                  "type": "bar",
                  "x": [
                    "WI_1_HOBBIES"
                  ],
                  "xaxis": "x",
                  "y": [
                    0
                  ],
                  "yaxis": "y"
                },
                {
                  "alignmentgroup": "True",
                  "hovertemplate": "store_cat_id=%{x}<br>Total_sale=%{text}<extra></extra>",
                  "legendgroup": "WI_1_HOUSEHOLD",
                  "marker": {
                    "color": "#00cc96",
                    "pattern": {
                      "shape": ""
                    }
                  },
                  "name": "WI_1_HOUSEHOLD",
                  "offsetgroup": "WI_1_HOUSEHOLD",
                  "orientation": "v",
                  "showlegend": true,
                  "text": [
                    1
                  ],
                  "textposition": "auto",
                  "type": "bar",
                  "x": [
                    "WI_1_HOUSEHOLD"
                  ],
                  "xaxis": "x",
                  "y": [
                    1
                  ],
                  "yaxis": "y"
                },
                {
                  "alignmentgroup": "True",
                  "hovertemplate": "store_cat_id=%{x}<br>Total_sale=%{text}<extra></extra>",
                  "legendgroup": "WI_1_FOODS",
                  "marker": {
                    "color": "#ab63fa",
                    "pattern": {
                      "shape": ""
                    }
                  },
                  "name": "WI_1_FOODS",
                  "offsetgroup": "WI_1_FOODS",
                  "orientation": "v",
                  "showlegend": true,
                  "text": [
                    2
                  ],
                  "textposition": "auto",
                  "type": "bar",
                  "x": [
                    "WI_1_FOODS"
                  ],
                  "xaxis": "x",
                  "y": [
                    2
                  ],
                  "yaxis": "y"
                },
                {
                  "alignmentgroup": "True",
                  "hovertemplate": "store_cat_id=%{x}<br>Total_sale=%{text}<extra></extra>",
                  "legendgroup": "WI_2_HOBBIES",
                  "marker": {
                    "color": "#FFA15A",
                    "pattern": {
                      "shape": ""
                    }
                  },
                  "name": "WI_2_HOBBIES",
                  "offsetgroup": "WI_2_HOBBIES",
                  "orientation": "v",
                  "showlegend": true,
                  "text": [
                    0
                  ],
                  "textposition": "auto",
                  "type": "bar",
                  "x": [
                    "WI_2_HOBBIES"
                  ],
                  "xaxis": "x",
                  "y": [
                    0
                  ],
                  "yaxis": "y"
                },
                {
                  "alignmentgroup": "True",
                  "hovertemplate": "store_cat_id=%{x}<br>Total_sale=%{text}<extra></extra>",
                  "legendgroup": "WI_2_HOUSEHOLD",
                  "marker": {
                    "color": "#19d3f3",
                    "pattern": {
                      "shape": ""
                    }
                  },
                  "name": "WI_2_HOUSEHOLD",
                  "offsetgroup": "WI_2_HOUSEHOLD",
                  "orientation": "v",
                  "showlegend": true,
                  "text": [
                    0
                  ],
                  "textposition": "auto",
                  "type": "bar",
                  "x": [
                    "WI_2_HOUSEHOLD"
                  ],
                  "xaxis": "x",
                  "y": [
                    0
                  ],
                  "yaxis": "y"
                },
                {
                  "alignmentgroup": "True",
                  "hovertemplate": "store_cat_id=%{x}<br>Total_sale=%{text}<extra></extra>",
                  "legendgroup": "WI_2_FOODS",
                  "marker": {
                    "color": "#FF6692",
                    "pattern": {
                      "shape": ""
                    }
                  },
                  "name": "WI_2_FOODS",
                  "offsetgroup": "WI_2_FOODS",
                  "orientation": "v",
                  "showlegend": true,
                  "text": [
                    7
                  ],
                  "textposition": "auto",
                  "type": "bar",
                  "x": [
                    "WI_2_FOODS"
                  ],
                  "xaxis": "x",
                  "y": [
                    7
                  ],
                  "yaxis": "y"
                },
                {
                  "alignmentgroup": "True",
                  "hovertemplate": "store_cat_id=%{x}<br>Total_sale=%{text}<extra></extra>",
                  "legendgroup": "WI_3_HOBBIES",
                  "marker": {
                    "color": "#B6E880",
                    "pattern": {
                      "shape": ""
                    }
                  },
                  "name": "WI_3_HOBBIES",
                  "offsetgroup": "WI_3_HOBBIES",
                  "orientation": "v",
                  "showlegend": true,
                  "text": [
                    0
                  ],
                  "textposition": "auto",
                  "type": "bar",
                  "x": [
                    "WI_3_HOBBIES"
                  ],
                  "xaxis": "x",
                  "y": [
                    0
                  ],
                  "yaxis": "y"
                },
                {
                  "alignmentgroup": "True",
                  "hovertemplate": "store_cat_id=%{x}<br>Total_sale=%{text}<extra></extra>",
                  "legendgroup": "WI_3_HOUSEHOLD",
                  "marker": {
                    "color": "#FF97FF",
                    "pattern": {
                      "shape": ""
                    }
                  },
                  "name": "WI_3_HOUSEHOLD",
                  "offsetgroup": "WI_3_HOUSEHOLD",
                  "orientation": "v",
                  "showlegend": true,
                  "text": [
                    0
                  ],
                  "textposition": "auto",
                  "type": "bar",
                  "x": [
                    "WI_3_HOUSEHOLD"
                  ],
                  "xaxis": "x",
                  "y": [
                    0
                  ],
                  "yaxis": "y"
                },
                {
                  "alignmentgroup": "True",
                  "hovertemplate": "store_cat_id=%{x}<br>Total_sale=%{text}<extra></extra>",
                  "legendgroup": "WI_3_FOODS",
                  "marker": {
                    "color": "#FECB52",
                    "pattern": {
                      "shape": ""
                    }
                  },
                  "name": "WI_3_FOODS",
                  "offsetgroup": "WI_3_FOODS",
                  "orientation": "v",
                  "showlegend": true,
                  "text": [
                    3
                  ],
                  "textposition": "auto",
                  "type": "bar",
                  "x": [
                    "WI_3_FOODS"
                  ],
                  "xaxis": "x",
                  "y": [
                    3
                  ],
                  "yaxis": "y"
                }
              ],
              "layout": {
                "barmode": "relative",
                "legend": {
                  "title": {
                    "text": "store_cat_id"
                  },
                  "tracegroupgap": 0
                },
                "template": {
                  "data": {
                    "bar": [
                      {
                        "error_x": {
                          "color": "#2a3f5f"
                        },
                        "error_y": {
                          "color": "#2a3f5f"
                        },
                        "marker": {
                          "line": {
                            "color": "#E5ECF6",
                            "width": 0.5
                          },
                          "pattern": {
                            "fillmode": "overlay",
                            "size": 10,
                            "solidity": 0.2
                          }
                        },
                        "type": "bar"
                      }
                    ],
                    "barpolar": [
                      {
                        "marker": {
                          "line": {
                            "color": "#E5ECF6",
                            "width": 0.5
                          },
                          "pattern": {
                            "fillmode": "overlay",
                            "size": 10,
                            "solidity": 0.2
                          }
                        },
                        "type": "barpolar"
                      }
                    ],
                    "carpet": [
                      {
                        "aaxis": {
                          "endlinecolor": "#2a3f5f",
                          "gridcolor": "white",
                          "linecolor": "white",
                          "minorgridcolor": "white",
                          "startlinecolor": "#2a3f5f"
                        },
                        "baxis": {
                          "endlinecolor": "#2a3f5f",
                          "gridcolor": "white",
                          "linecolor": "white",
                          "minorgridcolor": "white",
                          "startlinecolor": "#2a3f5f"
                        },
                        "type": "carpet"
                      }
                    ],
                    "choropleth": [
                      {
                        "colorbar": {
                          "outlinewidth": 0,
                          "ticks": ""
                        },
                        "type": "choropleth"
                      }
                    ],
                    "contour": [
                      {
                        "colorbar": {
                          "outlinewidth": 0,
                          "ticks": ""
                        },
                        "colorscale": [
                          [
                            0,
                            "#0d0887"
                          ],
                          [
                            0.1111111111111111,
                            "#46039f"
                          ],
                          [
                            0.2222222222222222,
                            "#7201a8"
                          ],
                          [
                            0.3333333333333333,
                            "#9c179e"
                          ],
                          [
                            0.4444444444444444,
                            "#bd3786"
                          ],
                          [
                            0.5555555555555556,
                            "#d8576b"
                          ],
                          [
                            0.6666666666666666,
                            "#ed7953"
                          ],
                          [
                            0.7777777777777778,
                            "#fb9f3a"
                          ],
                          [
                            0.8888888888888888,
                            "#fdca26"
                          ],
                          [
                            1,
                            "#f0f921"
                          ]
                        ],
                        "type": "contour"
                      }
                    ],
                    "contourcarpet": [
                      {
                        "colorbar": {
                          "outlinewidth": 0,
                          "ticks": ""
                        },
                        "type": "contourcarpet"
                      }
                    ],
                    "heatmap": [
                      {
                        "colorbar": {
                          "outlinewidth": 0,
                          "ticks": ""
                        },
                        "colorscale": [
                          [
                            0,
                            "#0d0887"
                          ],
                          [
                            0.1111111111111111,
                            "#46039f"
                          ],
                          [
                            0.2222222222222222,
                            "#7201a8"
                          ],
                          [
                            0.3333333333333333,
                            "#9c179e"
                          ],
                          [
                            0.4444444444444444,
                            "#bd3786"
                          ],
                          [
                            0.5555555555555556,
                            "#d8576b"
                          ],
                          [
                            0.6666666666666666,
                            "#ed7953"
                          ],
                          [
                            0.7777777777777778,
                            "#fb9f3a"
                          ],
                          [
                            0.8888888888888888,
                            "#fdca26"
                          ],
                          [
                            1,
                            "#f0f921"
                          ]
                        ],
                        "type": "heatmap"
                      }
                    ],
                    "heatmapgl": [
                      {
                        "colorbar": {
                          "outlinewidth": 0,
                          "ticks": ""
                        },
                        "colorscale": [
                          [
                            0,
                            "#0d0887"
                          ],
                          [
                            0.1111111111111111,
                            "#46039f"
                          ],
                          [
                            0.2222222222222222,
                            "#7201a8"
                          ],
                          [
                            0.3333333333333333,
                            "#9c179e"
                          ],
                          [
                            0.4444444444444444,
                            "#bd3786"
                          ],
                          [
                            0.5555555555555556,
                            "#d8576b"
                          ],
                          [
                            0.6666666666666666,
                            "#ed7953"
                          ],
                          [
                            0.7777777777777778,
                            "#fb9f3a"
                          ],
                          [
                            0.8888888888888888,
                            "#fdca26"
                          ],
                          [
                            1,
                            "#f0f921"
                          ]
                        ],
                        "type": "heatmapgl"
                      }
                    ],
                    "histogram": [
                      {
                        "marker": {
                          "pattern": {
                            "fillmode": "overlay",
                            "size": 10,
                            "solidity": 0.2
                          }
                        },
                        "type": "histogram"
                      }
                    ],
                    "histogram2d": [
                      {
                        "colorbar": {
                          "outlinewidth": 0,
                          "ticks": ""
                        },
                        "colorscale": [
                          [
                            0,
                            "#0d0887"
                          ],
                          [
                            0.1111111111111111,
                            "#46039f"
                          ],
                          [
                            0.2222222222222222,
                            "#7201a8"
                          ],
                          [
                            0.3333333333333333,
                            "#9c179e"
                          ],
                          [
                            0.4444444444444444,
                            "#bd3786"
                          ],
                          [
                            0.5555555555555556,
                            "#d8576b"
                          ],
                          [
                            0.6666666666666666,
                            "#ed7953"
                          ],
                          [
                            0.7777777777777778,
                            "#fb9f3a"
                          ],
                          [
                            0.8888888888888888,
                            "#fdca26"
                          ],
                          [
                            1,
                            "#f0f921"
                          ]
                        ],
                        "type": "histogram2d"
                      }
                    ],
                    "histogram2dcontour": [
                      {
                        "colorbar": {
                          "outlinewidth": 0,
                          "ticks": ""
                        },
                        "colorscale": [
                          [
                            0,
                            "#0d0887"
                          ],
                          [
                            0.1111111111111111,
                            "#46039f"
                          ],
                          [
                            0.2222222222222222,
                            "#7201a8"
                          ],
                          [
                            0.3333333333333333,
                            "#9c179e"
                          ],
                          [
                            0.4444444444444444,
                            "#bd3786"
                          ],
                          [
                            0.5555555555555556,
                            "#d8576b"
                          ],
                          [
                            0.6666666666666666,
                            "#ed7953"
                          ],
                          [
                            0.7777777777777778,
                            "#fb9f3a"
                          ],
                          [
                            0.8888888888888888,
                            "#fdca26"
                          ],
                          [
                            1,
                            "#f0f921"
                          ]
                        ],
                        "type": "histogram2dcontour"
                      }
                    ],
                    "mesh3d": [
                      {
                        "colorbar": {
                          "outlinewidth": 0,
                          "ticks": ""
                        },
                        "type": "mesh3d"
                      }
                    ],
                    "parcoords": [
                      {
                        "line": {
                          "colorbar": {
                            "outlinewidth": 0,
                            "ticks": ""
                          }
                        },
                        "type": "parcoords"
                      }
                    ],
                    "pie": [
                      {
                        "automargin": true,
                        "type": "pie"
                      }
                    ],
                    "scatter": [
                      {
                        "fillpattern": {
                          "fillmode": "overlay",
                          "size": 10,
                          "solidity": 0.2
                        },
                        "type": "scatter"
                      }
                    ],
                    "scatter3d": [
                      {
                        "line": {
                          "colorbar": {
                            "outlinewidth": 0,
                            "ticks": ""
                          }
                        },
                        "marker": {
                          "colorbar": {
                            "outlinewidth": 0,
                            "ticks": ""
                          }
                        },
                        "type": "scatter3d"
                      }
                    ],
                    "scattercarpet": [
                      {
                        "marker": {
                          "colorbar": {
                            "outlinewidth": 0,
                            "ticks": ""
                          }
                        },
                        "type": "scattercarpet"
                      }
                    ],
                    "scattergeo": [
                      {
                        "marker": {
                          "colorbar": {
                            "outlinewidth": 0,
                            "ticks": ""
                          }
                        },
                        "type": "scattergeo"
                      }
                    ],
                    "scattergl": [
                      {
                        "marker": {
                          "colorbar": {
                            "outlinewidth": 0,
                            "ticks": ""
                          }
                        },
                        "type": "scattergl"
                      }
                    ],
                    "scattermapbox": [
                      {
                        "marker": {
                          "colorbar": {
                            "outlinewidth": 0,
                            "ticks": ""
                          }
                        },
                        "type": "scattermapbox"
                      }
                    ],
                    "scatterpolar": [
                      {
                        "marker": {
                          "colorbar": {
                            "outlinewidth": 0,
                            "ticks": ""
                          }
                        },
                        "type": "scatterpolar"
                      }
                    ],
                    "scatterpolargl": [
                      {
                        "marker": {
                          "colorbar": {
                            "outlinewidth": 0,
                            "ticks": ""
                          }
                        },
                        "type": "scatterpolargl"
                      }
                    ],
                    "scatterternary": [
                      {
                        "marker": {
                          "colorbar": {
                            "outlinewidth": 0,
                            "ticks": ""
                          }
                        },
                        "type": "scatterternary"
                      }
                    ],
                    "surface": [
                      {
                        "colorbar": {
                          "outlinewidth": 0,
                          "ticks": ""
                        },
                        "colorscale": [
                          [
                            0,
                            "#0d0887"
                          ],
                          [
                            0.1111111111111111,
                            "#46039f"
                          ],
                          [
                            0.2222222222222222,
                            "#7201a8"
                          ],
                          [
                            0.3333333333333333,
                            "#9c179e"
                          ],
                          [
                            0.4444444444444444,
                            "#bd3786"
                          ],
                          [
                            0.5555555555555556,
                            "#d8576b"
                          ],
                          [
                            0.6666666666666666,
                            "#ed7953"
                          ],
                          [
                            0.7777777777777778,
                            "#fb9f3a"
                          ],
                          [
                            0.8888888888888888,
                            "#fdca26"
                          ],
                          [
                            1,
                            "#f0f921"
                          ]
                        ],
                        "type": "surface"
                      }
                    ],
                    "table": [
                      {
                        "cells": {
                          "fill": {
                            "color": "#EBF0F8"
                          },
                          "line": {
                            "color": "white"
                          }
                        },
                        "header": {
                          "fill": {
                            "color": "#C8D4E3"
                          },
                          "line": {
                            "color": "white"
                          }
                        },
                        "type": "table"
                      }
                    ]
                  },
                  "layout": {
                    "annotationdefaults": {
                      "arrowcolor": "#2a3f5f",
                      "arrowhead": 0,
                      "arrowwidth": 1
                    },
                    "autotypenumbers": "strict",
                    "coloraxis": {
                      "colorbar": {
                        "outlinewidth": 0,
                        "ticks": ""
                      }
                    },
                    "colorscale": {
                      "diverging": [
                        [
                          0,
                          "#8e0152"
                        ],
                        [
                          0.1,
                          "#c51b7d"
                        ],
                        [
                          0.2,
                          "#de77ae"
                        ],
                        [
                          0.3,
                          "#f1b6da"
                        ],
                        [
                          0.4,
                          "#fde0ef"
                        ],
                        [
                          0.5,
                          "#f7f7f7"
                        ],
                        [
                          0.6,
                          "#e6f5d0"
                        ],
                        [
                          0.7,
                          "#b8e186"
                        ],
                        [
                          0.8,
                          "#7fbc41"
                        ],
                        [
                          0.9,
                          "#4d9221"
                        ],
                        [
                          1,
                          "#276419"
                        ]
                      ],
                      "sequential": [
                        [
                          0,
                          "#0d0887"
                        ],
                        [
                          0.1111111111111111,
                          "#46039f"
                        ],
                        [
                          0.2222222222222222,
                          "#7201a8"
                        ],
                        [
                          0.3333333333333333,
                          "#9c179e"
                        ],
                        [
                          0.4444444444444444,
                          "#bd3786"
                        ],
                        [
                          0.5555555555555556,
                          "#d8576b"
                        ],
                        [
                          0.6666666666666666,
                          "#ed7953"
                        ],
                        [
                          0.7777777777777778,
                          "#fb9f3a"
                        ],
                        [
                          0.8888888888888888,
                          "#fdca26"
                        ],
                        [
                          1,
                          "#f0f921"
                        ]
                      ],
                      "sequentialminus": [
                        [
                          0,
                          "#0d0887"
                        ],
                        [
                          0.1111111111111111,
                          "#46039f"
                        ],
                        [
                          0.2222222222222222,
                          "#7201a8"
                        ],
                        [
                          0.3333333333333333,
                          "#9c179e"
                        ],
                        [
                          0.4444444444444444,
                          "#bd3786"
                        ],
                        [
                          0.5555555555555556,
                          "#d8576b"
                        ],
                        [
                          0.6666666666666666,
                          "#ed7953"
                        ],
                        [
                          0.7777777777777778,
                          "#fb9f3a"
                        ],
                        [
                          0.8888888888888888,
                          "#fdca26"
                        ],
                        [
                          1,
                          "#f0f921"
                        ]
                      ]
                    },
                    "colorway": [
                      "#636efa",
                      "#EF553B",
                      "#00cc96",
                      "#ab63fa",
                      "#FFA15A",
                      "#19d3f3",
                      "#FF6692",
                      "#B6E880",
                      "#FF97FF",
                      "#FECB52"
                    ],
                    "font": {
                      "color": "#2a3f5f"
                    },
                    "geo": {
                      "bgcolor": "white",
                      "lakecolor": "white",
                      "landcolor": "#E5ECF6",
                      "showlakes": true,
                      "showland": true,
                      "subunitcolor": "white"
                    },
                    "hoverlabel": {
                      "align": "left"
                    },
                    "hovermode": "closest",
                    "mapbox": {
                      "style": "light"
                    },
                    "paper_bgcolor": "white",
                    "plot_bgcolor": "#E5ECF6",
                    "polar": {
                      "angularaxis": {
                        "gridcolor": "white",
                        "linecolor": "white",
                        "ticks": ""
                      },
                      "bgcolor": "#E5ECF6",
                      "radialaxis": {
                        "gridcolor": "white",
                        "linecolor": "white",
                        "ticks": ""
                      }
                    },
                    "scene": {
                      "xaxis": {
                        "backgroundcolor": "#E5ECF6",
                        "gridcolor": "white",
                        "gridwidth": 2,
                        "linecolor": "white",
                        "showbackground": true,
                        "ticks": "",
                        "zerolinecolor": "white"
                      },
                      "yaxis": {
                        "backgroundcolor": "#E5ECF6",
                        "gridcolor": "white",
                        "gridwidth": 2,
                        "linecolor": "white",
                        "showbackground": true,
                        "ticks": "",
                        "zerolinecolor": "white"
                      },
                      "zaxis": {
                        "backgroundcolor": "#E5ECF6",
                        "gridcolor": "white",
                        "gridwidth": 2,
                        "linecolor": "white",
                        "showbackground": true,
                        "ticks": "",
                        "zerolinecolor": "white"
                      }
                    },
                    "shapedefaults": {
                      "line": {
                        "color": "#2a3f5f"
                      }
                    },
                    "ternary": {
                      "aaxis": {
                        "gridcolor": "white",
                        "linecolor": "white",
                        "ticks": ""
                      },
                      "baxis": {
                        "gridcolor": "white",
                        "linecolor": "white",
                        "ticks": ""
                      },
                      "bgcolor": "#E5ECF6",
                      "caxis": {
                        "gridcolor": "white",
                        "linecolor": "white",
                        "ticks": ""
                      }
                    },
                    "title": {
                      "x": 0.05
                    },
                    "xaxis": {
                      "automargin": true,
                      "gridcolor": "white",
                      "linecolor": "white",
                      "ticks": "",
                      "title": {
                        "standoff": 15
                      },
                      "zerolinecolor": "white",
                      "zerolinewidth": 2
                    },
                    "yaxis": {
                      "automargin": true,
                      "gridcolor": "white",
                      "linecolor": "white",
                      "ticks": "",
                      "title": {
                        "standoff": 15
                      },
                      "zerolinecolor": "white",
                      "zerolinewidth": 2
                    }
                  }
                },
                "title": {
                  "text": "Total Sales on Christmas day in each Store "
                },
                "xaxis": {
                  "anchor": "y",
                  "categoryarray": [
                    "CA_1_HOBBIES",
                    "CA_1_HOUSEHOLD",
                    "CA_1_FOODS",
                    "CA_2_HOBBIES",
                    "CA_2_HOUSEHOLD",
                    "CA_2_FOODS",
                    "CA_3_HOBBIES",
                    "CA_3_HOUSEHOLD",
                    "CA_3_FOODS",
                    "CA_4_HOBBIES",
                    "CA_4_HOUSEHOLD",
                    "CA_4_FOODS",
                    "TX_1_HOBBIES",
                    "TX_1_HOUSEHOLD",
                    "TX_1_FOODS",
                    "TX_2_HOBBIES",
                    "TX_2_HOUSEHOLD",
                    "TX_2_FOODS",
                    "TX_3_HOBBIES",
                    "TX_3_HOUSEHOLD",
                    "TX_3_FOODS",
                    "WI_1_HOBBIES",
                    "WI_1_HOUSEHOLD",
                    "WI_1_FOODS",
                    "WI_2_HOBBIES",
                    "WI_2_HOUSEHOLD",
                    "WI_2_FOODS",
                    "WI_3_HOBBIES",
                    "WI_3_HOUSEHOLD",
                    "WI_3_FOODS"
                  ],
                  "categoryorder": "array",
                  "domain": [
                    0,
                    1
                  ],
                  "title": {
                    "text": "store_cat_id"
                  }
                },
                "yaxis": {
                  "anchor": "x",
                  "domain": [
                    0,
                    1
                  ],
                  "title": {
                    "text": "Total_sale"
                  }
                }
              }
            }
          },
          "metadata": {},
          "output_type": "display_data"
        }
      ],
      "source": [
        "px.bar(temp_dataframe, x=\"store_cat_id\", y=\"Total_sale\", color=\"store_cat_id\", title=\"Total Sales on Christmas day in each Store \",text='Total_sale')\n"
      ]
    },
    {
      "cell_type": "markdown",
      "metadata": {
        "id": "kqaWLpWm2Q_j"
      },
      "source": [
        "Inference: As, we can see that on christmas the storewise sales by each category is zero except for food.\n",
        "\n",
        "\n",
        "Our-Suggestion: In order to increase sales on christmas we can give out large discounts on food products like:  \n",
        "\"20% flat discount on every food product purchased on christmas day.\" Or we can make discounts on other products for incresing the revenue of those products."
      ]
    },
    {
      "cell_type": "markdown",
      "metadata": {
        "id": "xDAeiT_I2Q_j"
      },
      "source": [
        "# Total Sales by state"
      ]
    },
    {
      "cell_type": "code",
      "execution_count": null,
      "metadata": {
        "id": "fzgr4CLP2Q_k",
        "outputId": "bdbb8b4a-110b-4b15-a63f-5da47cfefe35"
      },
      "outputs": [
        {
          "data": {
            "application/vnd.plotly.v1+json": {
              "config": {
                "plotlyServerURL": "https://plot.ly"
              },
              "data": [
                {
                  "alignmentgroup": "True",
                  "hovertemplate": "state_id=%{x}<br>Total_sale=%{text}<extra></extra>",
                  "legendgroup": "CA",
                  "marker": {
                    "color": "#636efa",
                    "pattern": {
                      "shape": ""
                    }
                  },
                  "name": "CA",
                  "offsetgroup": "CA",
                  "orientation": "v",
                  "showlegend": true,
                  "text": [
                    29196717
                  ],
                  "textposition": "auto",
                  "type": "bar",
                  "x": [
                    "CA"
                  ],
                  "xaxis": "x",
                  "y": [
                    29196717
                  ],
                  "yaxis": "y"
                },
                {
                  "alignmentgroup": "True",
                  "hovertemplate": "state_id=%{x}<br>Total_sale=%{text}<extra></extra>",
                  "legendgroup": "TX",
                  "marker": {
                    "color": "#EF553B",
                    "pattern": {
                      "shape": ""
                    }
                  },
                  "name": "TX",
                  "offsetgroup": "TX",
                  "orientation": "v",
                  "showlegend": true,
                  "text": [
                    19228405
                  ],
                  "textposition": "auto",
                  "type": "bar",
                  "x": [
                    "TX"
                  ],
                  "xaxis": "x",
                  "y": [
                    19228405
                  ],
                  "yaxis": "y"
                },
                {
                  "alignmentgroup": "True",
                  "hovertemplate": "state_id=%{x}<br>Total_sale=%{text}<extra></extra>",
                  "legendgroup": "WI",
                  "marker": {
                    "color": "#00cc96",
                    "pattern": {
                      "shape": ""
                    }
                  },
                  "name": "WI",
                  "offsetgroup": "WI",
                  "orientation": "v",
                  "showlegend": true,
                  "text": [
                    18502051
                  ],
                  "textposition": "auto",
                  "type": "bar",
                  "x": [
                    "WI"
                  ],
                  "xaxis": "x",
                  "y": [
                    18502051
                  ],
                  "yaxis": "y"
                }
              ],
              "layout": {
                "barmode": "relative",
                "legend": {
                  "title": {
                    "text": "state_id"
                  },
                  "tracegroupgap": 0
                },
                "template": {
                  "data": {
                    "bar": [
                      {
                        "error_x": {
                          "color": "#2a3f5f"
                        },
                        "error_y": {
                          "color": "#2a3f5f"
                        },
                        "marker": {
                          "line": {
                            "color": "#E5ECF6",
                            "width": 0.5
                          },
                          "pattern": {
                            "fillmode": "overlay",
                            "size": 10,
                            "solidity": 0.2
                          }
                        },
                        "type": "bar"
                      }
                    ],
                    "barpolar": [
                      {
                        "marker": {
                          "line": {
                            "color": "#E5ECF6",
                            "width": 0.5
                          },
                          "pattern": {
                            "fillmode": "overlay",
                            "size": 10,
                            "solidity": 0.2
                          }
                        },
                        "type": "barpolar"
                      }
                    ],
                    "carpet": [
                      {
                        "aaxis": {
                          "endlinecolor": "#2a3f5f",
                          "gridcolor": "white",
                          "linecolor": "white",
                          "minorgridcolor": "white",
                          "startlinecolor": "#2a3f5f"
                        },
                        "baxis": {
                          "endlinecolor": "#2a3f5f",
                          "gridcolor": "white",
                          "linecolor": "white",
                          "minorgridcolor": "white",
                          "startlinecolor": "#2a3f5f"
                        },
                        "type": "carpet"
                      }
                    ],
                    "choropleth": [
                      {
                        "colorbar": {
                          "outlinewidth": 0,
                          "ticks": ""
                        },
                        "type": "choropleth"
                      }
                    ],
                    "contour": [
                      {
                        "colorbar": {
                          "outlinewidth": 0,
                          "ticks": ""
                        },
                        "colorscale": [
                          [
                            0,
                            "#0d0887"
                          ],
                          [
                            0.1111111111111111,
                            "#46039f"
                          ],
                          [
                            0.2222222222222222,
                            "#7201a8"
                          ],
                          [
                            0.3333333333333333,
                            "#9c179e"
                          ],
                          [
                            0.4444444444444444,
                            "#bd3786"
                          ],
                          [
                            0.5555555555555556,
                            "#d8576b"
                          ],
                          [
                            0.6666666666666666,
                            "#ed7953"
                          ],
                          [
                            0.7777777777777778,
                            "#fb9f3a"
                          ],
                          [
                            0.8888888888888888,
                            "#fdca26"
                          ],
                          [
                            1,
                            "#f0f921"
                          ]
                        ],
                        "type": "contour"
                      }
                    ],
                    "contourcarpet": [
                      {
                        "colorbar": {
                          "outlinewidth": 0,
                          "ticks": ""
                        },
                        "type": "contourcarpet"
                      }
                    ],
                    "heatmap": [
                      {
                        "colorbar": {
                          "outlinewidth": 0,
                          "ticks": ""
                        },
                        "colorscale": [
                          [
                            0,
                            "#0d0887"
                          ],
                          [
                            0.1111111111111111,
                            "#46039f"
                          ],
                          [
                            0.2222222222222222,
                            "#7201a8"
                          ],
                          [
                            0.3333333333333333,
                            "#9c179e"
                          ],
                          [
                            0.4444444444444444,
                            "#bd3786"
                          ],
                          [
                            0.5555555555555556,
                            "#d8576b"
                          ],
                          [
                            0.6666666666666666,
                            "#ed7953"
                          ],
                          [
                            0.7777777777777778,
                            "#fb9f3a"
                          ],
                          [
                            0.8888888888888888,
                            "#fdca26"
                          ],
                          [
                            1,
                            "#f0f921"
                          ]
                        ],
                        "type": "heatmap"
                      }
                    ],
                    "heatmapgl": [
                      {
                        "colorbar": {
                          "outlinewidth": 0,
                          "ticks": ""
                        },
                        "colorscale": [
                          [
                            0,
                            "#0d0887"
                          ],
                          [
                            0.1111111111111111,
                            "#46039f"
                          ],
                          [
                            0.2222222222222222,
                            "#7201a8"
                          ],
                          [
                            0.3333333333333333,
                            "#9c179e"
                          ],
                          [
                            0.4444444444444444,
                            "#bd3786"
                          ],
                          [
                            0.5555555555555556,
                            "#d8576b"
                          ],
                          [
                            0.6666666666666666,
                            "#ed7953"
                          ],
                          [
                            0.7777777777777778,
                            "#fb9f3a"
                          ],
                          [
                            0.8888888888888888,
                            "#fdca26"
                          ],
                          [
                            1,
                            "#f0f921"
                          ]
                        ],
                        "type": "heatmapgl"
                      }
                    ],
                    "histogram": [
                      {
                        "marker": {
                          "pattern": {
                            "fillmode": "overlay",
                            "size": 10,
                            "solidity": 0.2
                          }
                        },
                        "type": "histogram"
                      }
                    ],
                    "histogram2d": [
                      {
                        "colorbar": {
                          "outlinewidth": 0,
                          "ticks": ""
                        },
                        "colorscale": [
                          [
                            0,
                            "#0d0887"
                          ],
                          [
                            0.1111111111111111,
                            "#46039f"
                          ],
                          [
                            0.2222222222222222,
                            "#7201a8"
                          ],
                          [
                            0.3333333333333333,
                            "#9c179e"
                          ],
                          [
                            0.4444444444444444,
                            "#bd3786"
                          ],
                          [
                            0.5555555555555556,
                            "#d8576b"
                          ],
                          [
                            0.6666666666666666,
                            "#ed7953"
                          ],
                          [
                            0.7777777777777778,
                            "#fb9f3a"
                          ],
                          [
                            0.8888888888888888,
                            "#fdca26"
                          ],
                          [
                            1,
                            "#f0f921"
                          ]
                        ],
                        "type": "histogram2d"
                      }
                    ],
                    "histogram2dcontour": [
                      {
                        "colorbar": {
                          "outlinewidth": 0,
                          "ticks": ""
                        },
                        "colorscale": [
                          [
                            0,
                            "#0d0887"
                          ],
                          [
                            0.1111111111111111,
                            "#46039f"
                          ],
                          [
                            0.2222222222222222,
                            "#7201a8"
                          ],
                          [
                            0.3333333333333333,
                            "#9c179e"
                          ],
                          [
                            0.4444444444444444,
                            "#bd3786"
                          ],
                          [
                            0.5555555555555556,
                            "#d8576b"
                          ],
                          [
                            0.6666666666666666,
                            "#ed7953"
                          ],
                          [
                            0.7777777777777778,
                            "#fb9f3a"
                          ],
                          [
                            0.8888888888888888,
                            "#fdca26"
                          ],
                          [
                            1,
                            "#f0f921"
                          ]
                        ],
                        "type": "histogram2dcontour"
                      }
                    ],
                    "mesh3d": [
                      {
                        "colorbar": {
                          "outlinewidth": 0,
                          "ticks": ""
                        },
                        "type": "mesh3d"
                      }
                    ],
                    "parcoords": [
                      {
                        "line": {
                          "colorbar": {
                            "outlinewidth": 0,
                            "ticks": ""
                          }
                        },
                        "type": "parcoords"
                      }
                    ],
                    "pie": [
                      {
                        "automargin": true,
                        "type": "pie"
                      }
                    ],
                    "scatter": [
                      {
                        "fillpattern": {
                          "fillmode": "overlay",
                          "size": 10,
                          "solidity": 0.2
                        },
                        "type": "scatter"
                      }
                    ],
                    "scatter3d": [
                      {
                        "line": {
                          "colorbar": {
                            "outlinewidth": 0,
                            "ticks": ""
                          }
                        },
                        "marker": {
                          "colorbar": {
                            "outlinewidth": 0,
                            "ticks": ""
                          }
                        },
                        "type": "scatter3d"
                      }
                    ],
                    "scattercarpet": [
                      {
                        "marker": {
                          "colorbar": {
                            "outlinewidth": 0,
                            "ticks": ""
                          }
                        },
                        "type": "scattercarpet"
                      }
                    ],
                    "scattergeo": [
                      {
                        "marker": {
                          "colorbar": {
                            "outlinewidth": 0,
                            "ticks": ""
                          }
                        },
                        "type": "scattergeo"
                      }
                    ],
                    "scattergl": [
                      {
                        "marker": {
                          "colorbar": {
                            "outlinewidth": 0,
                            "ticks": ""
                          }
                        },
                        "type": "scattergl"
                      }
                    ],
                    "scattermapbox": [
                      {
                        "marker": {
                          "colorbar": {
                            "outlinewidth": 0,
                            "ticks": ""
                          }
                        },
                        "type": "scattermapbox"
                      }
                    ],
                    "scatterpolar": [
                      {
                        "marker": {
                          "colorbar": {
                            "outlinewidth": 0,
                            "ticks": ""
                          }
                        },
                        "type": "scatterpolar"
                      }
                    ],
                    "scatterpolargl": [
                      {
                        "marker": {
                          "colorbar": {
                            "outlinewidth": 0,
                            "ticks": ""
                          }
                        },
                        "type": "scatterpolargl"
                      }
                    ],
                    "scatterternary": [
                      {
                        "marker": {
                          "colorbar": {
                            "outlinewidth": 0,
                            "ticks": ""
                          }
                        },
                        "type": "scatterternary"
                      }
                    ],
                    "surface": [
                      {
                        "colorbar": {
                          "outlinewidth": 0,
                          "ticks": ""
                        },
                        "colorscale": [
                          [
                            0,
                            "#0d0887"
                          ],
                          [
                            0.1111111111111111,
                            "#46039f"
                          ],
                          [
                            0.2222222222222222,
                            "#7201a8"
                          ],
                          [
                            0.3333333333333333,
                            "#9c179e"
                          ],
                          [
                            0.4444444444444444,
                            "#bd3786"
                          ],
                          [
                            0.5555555555555556,
                            "#d8576b"
                          ],
                          [
                            0.6666666666666666,
                            "#ed7953"
                          ],
                          [
                            0.7777777777777778,
                            "#fb9f3a"
                          ],
                          [
                            0.8888888888888888,
                            "#fdca26"
                          ],
                          [
                            1,
                            "#f0f921"
                          ]
                        ],
                        "type": "surface"
                      }
                    ],
                    "table": [
                      {
                        "cells": {
                          "fill": {
                            "color": "#EBF0F8"
                          },
                          "line": {
                            "color": "white"
                          }
                        },
                        "header": {
                          "fill": {
                            "color": "#C8D4E3"
                          },
                          "line": {
                            "color": "white"
                          }
                        },
                        "type": "table"
                      }
                    ]
                  },
                  "layout": {
                    "annotationdefaults": {
                      "arrowcolor": "#2a3f5f",
                      "arrowhead": 0,
                      "arrowwidth": 1
                    },
                    "autotypenumbers": "strict",
                    "coloraxis": {
                      "colorbar": {
                        "outlinewidth": 0,
                        "ticks": ""
                      }
                    },
                    "colorscale": {
                      "diverging": [
                        [
                          0,
                          "#8e0152"
                        ],
                        [
                          0.1,
                          "#c51b7d"
                        ],
                        [
                          0.2,
                          "#de77ae"
                        ],
                        [
                          0.3,
                          "#f1b6da"
                        ],
                        [
                          0.4,
                          "#fde0ef"
                        ],
                        [
                          0.5,
                          "#f7f7f7"
                        ],
                        [
                          0.6,
                          "#e6f5d0"
                        ],
                        [
                          0.7,
                          "#b8e186"
                        ],
                        [
                          0.8,
                          "#7fbc41"
                        ],
                        [
                          0.9,
                          "#4d9221"
                        ],
                        [
                          1,
                          "#276419"
                        ]
                      ],
                      "sequential": [
                        [
                          0,
                          "#0d0887"
                        ],
                        [
                          0.1111111111111111,
                          "#46039f"
                        ],
                        [
                          0.2222222222222222,
                          "#7201a8"
                        ],
                        [
                          0.3333333333333333,
                          "#9c179e"
                        ],
                        [
                          0.4444444444444444,
                          "#bd3786"
                        ],
                        [
                          0.5555555555555556,
                          "#d8576b"
                        ],
                        [
                          0.6666666666666666,
                          "#ed7953"
                        ],
                        [
                          0.7777777777777778,
                          "#fb9f3a"
                        ],
                        [
                          0.8888888888888888,
                          "#fdca26"
                        ],
                        [
                          1,
                          "#f0f921"
                        ]
                      ],
                      "sequentialminus": [
                        [
                          0,
                          "#0d0887"
                        ],
                        [
                          0.1111111111111111,
                          "#46039f"
                        ],
                        [
                          0.2222222222222222,
                          "#7201a8"
                        ],
                        [
                          0.3333333333333333,
                          "#9c179e"
                        ],
                        [
                          0.4444444444444444,
                          "#bd3786"
                        ],
                        [
                          0.5555555555555556,
                          "#d8576b"
                        ],
                        [
                          0.6666666666666666,
                          "#ed7953"
                        ],
                        [
                          0.7777777777777778,
                          "#fb9f3a"
                        ],
                        [
                          0.8888888888888888,
                          "#fdca26"
                        ],
                        [
                          1,
                          "#f0f921"
                        ]
                      ]
                    },
                    "colorway": [
                      "#636efa",
                      "#EF553B",
                      "#00cc96",
                      "#ab63fa",
                      "#FFA15A",
                      "#19d3f3",
                      "#FF6692",
                      "#B6E880",
                      "#FF97FF",
                      "#FECB52"
                    ],
                    "font": {
                      "color": "#2a3f5f"
                    },
                    "geo": {
                      "bgcolor": "white",
                      "lakecolor": "white",
                      "landcolor": "#E5ECF6",
                      "showlakes": true,
                      "showland": true,
                      "subunitcolor": "white"
                    },
                    "hoverlabel": {
                      "align": "left"
                    },
                    "hovermode": "closest",
                    "mapbox": {
                      "style": "light"
                    },
                    "paper_bgcolor": "white",
                    "plot_bgcolor": "#E5ECF6",
                    "polar": {
                      "angularaxis": {
                        "gridcolor": "white",
                        "linecolor": "white",
                        "ticks": ""
                      },
                      "bgcolor": "#E5ECF6",
                      "radialaxis": {
                        "gridcolor": "white",
                        "linecolor": "white",
                        "ticks": ""
                      }
                    },
                    "scene": {
                      "xaxis": {
                        "backgroundcolor": "#E5ECF6",
                        "gridcolor": "white",
                        "gridwidth": 2,
                        "linecolor": "white",
                        "showbackground": true,
                        "ticks": "",
                        "zerolinecolor": "white"
                      },
                      "yaxis": {
                        "backgroundcolor": "#E5ECF6",
                        "gridcolor": "white",
                        "gridwidth": 2,
                        "linecolor": "white",
                        "showbackground": true,
                        "ticks": "",
                        "zerolinecolor": "white"
                      },
                      "zaxis": {
                        "backgroundcolor": "#E5ECF6",
                        "gridcolor": "white",
                        "gridwidth": 2,
                        "linecolor": "white",
                        "showbackground": true,
                        "ticks": "",
                        "zerolinecolor": "white"
                      }
                    },
                    "shapedefaults": {
                      "line": {
                        "color": "#2a3f5f"
                      }
                    },
                    "ternary": {
                      "aaxis": {
                        "gridcolor": "white",
                        "linecolor": "white",
                        "ticks": ""
                      },
                      "baxis": {
                        "gridcolor": "white",
                        "linecolor": "white",
                        "ticks": ""
                      },
                      "bgcolor": "#E5ECF6",
                      "caxis": {
                        "gridcolor": "white",
                        "linecolor": "white",
                        "ticks": ""
                      }
                    },
                    "title": {
                      "x": 0.05
                    },
                    "xaxis": {
                      "automargin": true,
                      "gridcolor": "white",
                      "linecolor": "white",
                      "ticks": "",
                      "title": {
                        "standoff": 15
                      },
                      "zerolinecolor": "white",
                      "zerolinewidth": 2
                    },
                    "yaxis": {
                      "automargin": true,
                      "gridcolor": "white",
                      "linecolor": "white",
                      "ticks": "",
                      "title": {
                        "standoff": 15
                      },
                      "zerolinecolor": "white",
                      "zerolinewidth": 2
                    }
                  }
                },
                "title": {
                  "text": "Total sales by state"
                },
                "xaxis": {
                  "anchor": "y",
                  "categoryarray": [
                    "CA",
                    "TX",
                    "WI"
                  ],
                  "categoryorder": "array",
                  "domain": [
                    0,
                    1
                  ],
                  "title": {
                    "text": "state_id"
                  }
                },
                "yaxis": {
                  "anchor": "x",
                  "domain": [
                    0,
                    1
                  ],
                  "title": {
                    "text": "Total_sale"
                  }
                }
              }
            }
          },
          "metadata": {},
          "output_type": "display_data"
        }
      ],
      "source": [
        "temp_dataframe=DF_MAIN.groupby('state_id',as_index=False,sort=False).agg(Total_sale=('sold',np.sum))\n",
        "\n",
        "px.bar(temp_dataframe, x=\"state_id\", y=\"Total_sale\", color=\"state_id\", title=\"Total sales by state\",text='Total_sale')"
      ]
    },
    {
      "cell_type": "markdown",
      "metadata": {
        "id": "RCvwT3ZI2Q_k"
      },
      "source": [
        "Inference: Here, California is having highest sales follwed by Texas and then at last Wisconsin. The main reason being california is having the highest population followed by Texas and Wisconsin.\n",
        "\n",
        "Our Suggestion: In order to increase the sales we can have a state-wise view of which products are selling more in each state and we can maximize the profits based on highest selling product by having a greater supply of those products in that specific state. So, we need a closer look of sales by each product in each state.   "
      ]
    },
    {
      "cell_type": "markdown",
      "metadata": {
        "id": "OXvY3j_O2Q_k"
      },
      "source": [
        "# Total sales store-wise"
      ]
    },
    {
      "cell_type": "code",
      "execution_count": null,
      "metadata": {
        "id": "biCi-1ao2Q_l",
        "outputId": "2d9fe1f0-2be0-4c1c-8d1f-6c1e41cd30ad"
      },
      "outputs": [
        {
          "data": {
            "application/vnd.plotly.v1+json": {
              "config": {
                "plotlyServerURL": "https://plot.ly"
              },
              "data": [
                {
                  "alignmentgroup": "True",
                  "hovertemplate": "store_id=%{x}<br>Total_sale=%{text}<extra></extra>",
                  "legendgroup": "CA_1",
                  "marker": {
                    "color": "#636efa",
                    "pattern": {
                      "shape": ""
                    }
                  },
                  "name": "CA_1",
                  "offsetgroup": "CA_1",
                  "orientation": "v",
                  "showlegend": true,
                  "text": [
                    7832248
                  ],
                  "textposition": "auto",
                  "type": "bar",
                  "x": [
                    "CA_1"
                  ],
                  "xaxis": "x",
                  "y": [
                    7832248
                  ],
                  "yaxis": "y"
                },
                {
                  "alignmentgroup": "True",
                  "hovertemplate": "store_id=%{x}<br>Total_sale=%{text}<extra></extra>",
                  "legendgroup": "CA_2",
                  "marker": {
                    "color": "#EF553B",
                    "pattern": {
                      "shape": ""
                    }
                  },
                  "name": "CA_2",
                  "offsetgroup": "CA_2",
                  "orientation": "v",
                  "showlegend": true,
                  "text": [
                    5818395
                  ],
                  "textposition": "auto",
                  "type": "bar",
                  "x": [
                    "CA_2"
                  ],
                  "xaxis": "x",
                  "y": [
                    5818395
                  ],
                  "yaxis": "y"
                },
                {
                  "alignmentgroup": "True",
                  "hovertemplate": "store_id=%{x}<br>Total_sale=%{text}<extra></extra>",
                  "legendgroup": "CA_3",
                  "marker": {
                    "color": "#00cc96",
                    "pattern": {
                      "shape": ""
                    }
                  },
                  "name": "CA_3",
                  "offsetgroup": "CA_3",
                  "orientation": "v",
                  "showlegend": true,
                  "text": [
                    11363540
                  ],
                  "textposition": "auto",
                  "type": "bar",
                  "x": [
                    "CA_3"
                  ],
                  "xaxis": "x",
                  "y": [
                    11363540
                  ],
                  "yaxis": "y"
                },
                {
                  "alignmentgroup": "True",
                  "hovertemplate": "store_id=%{x}<br>Total_sale=%{text}<extra></extra>",
                  "legendgroup": "CA_4",
                  "marker": {
                    "color": "#ab63fa",
                    "pattern": {
                      "shape": ""
                    }
                  },
                  "name": "CA_4",
                  "offsetgroup": "CA_4",
                  "orientation": "v",
                  "showlegend": true,
                  "text": [
                    4182534
                  ],
                  "textposition": "auto",
                  "type": "bar",
                  "x": [
                    "CA_4"
                  ],
                  "xaxis": "x",
                  "y": [
                    4182534
                  ],
                  "yaxis": "y"
                },
                {
                  "alignmentgroup": "True",
                  "hovertemplate": "store_id=%{x}<br>Total_sale=%{text}<extra></extra>",
                  "legendgroup": "TX_1",
                  "marker": {
                    "color": "#FFA15A",
                    "pattern": {
                      "shape": ""
                    }
                  },
                  "name": "TX_1",
                  "offsetgroup": "TX_1",
                  "orientation": "v",
                  "showlegend": true,
                  "text": [
                    5692823
                  ],
                  "textposition": "auto",
                  "type": "bar",
                  "x": [
                    "TX_1"
                  ],
                  "xaxis": "x",
                  "y": [
                    5692823
                  ],
                  "yaxis": "y"
                },
                {
                  "alignmentgroup": "True",
                  "hovertemplate": "store_id=%{x}<br>Total_sale=%{text}<extra></extra>",
                  "legendgroup": "TX_2",
                  "marker": {
                    "color": "#19d3f3",
                    "pattern": {
                      "shape": ""
                    }
                  },
                  "name": "TX_2",
                  "offsetgroup": "TX_2",
                  "orientation": "v",
                  "showlegend": true,
                  "text": [
                    7329642
                  ],
                  "textposition": "auto",
                  "type": "bar",
                  "x": [
                    "TX_2"
                  ],
                  "xaxis": "x",
                  "y": [
                    7329642
                  ],
                  "yaxis": "y"
                },
                {
                  "alignmentgroup": "True",
                  "hovertemplate": "store_id=%{x}<br>Total_sale=%{text}<extra></extra>",
                  "legendgroup": "TX_3",
                  "marker": {
                    "color": "#FF6692",
                    "pattern": {
                      "shape": ""
                    }
                  },
                  "name": "TX_3",
                  "offsetgroup": "TX_3",
                  "orientation": "v",
                  "showlegend": true,
                  "text": [
                    6205940
                  ],
                  "textposition": "auto",
                  "type": "bar",
                  "x": [
                    "TX_3"
                  ],
                  "xaxis": "x",
                  "y": [
                    6205940
                  ],
                  "yaxis": "y"
                },
                {
                  "alignmentgroup": "True",
                  "hovertemplate": "store_id=%{x}<br>Total_sale=%{text}<extra></extra>",
                  "legendgroup": "WI_1",
                  "marker": {
                    "color": "#B6E880",
                    "pattern": {
                      "shape": ""
                    }
                  },
                  "name": "WI_1",
                  "offsetgroup": "WI_1",
                  "orientation": "v",
                  "showlegend": true,
                  "text": [
                    5261506
                  ],
                  "textposition": "auto",
                  "type": "bar",
                  "x": [
                    "WI_1"
                  ],
                  "xaxis": "x",
                  "y": [
                    5261506
                  ],
                  "yaxis": "y"
                },
                {
                  "alignmentgroup": "True",
                  "hovertemplate": "store_id=%{x}<br>Total_sale=%{text}<extra></extra>",
                  "legendgroup": "WI_2",
                  "marker": {
                    "color": "#FF97FF",
                    "pattern": {
                      "shape": ""
                    }
                  },
                  "name": "WI_2",
                  "offsetgroup": "WI_2",
                  "orientation": "v",
                  "showlegend": true,
                  "text": [
                    6697988
                  ],
                  "textposition": "auto",
                  "type": "bar",
                  "x": [
                    "WI_2"
                  ],
                  "xaxis": "x",
                  "y": [
                    6697988
                  ],
                  "yaxis": "y"
                },
                {
                  "alignmentgroup": "True",
                  "hovertemplate": "store_id=%{x}<br>Total_sale=%{text}<extra></extra>",
                  "legendgroup": "WI_3",
                  "marker": {
                    "color": "#FECB52",
                    "pattern": {
                      "shape": ""
                    }
                  },
                  "name": "WI_3",
                  "offsetgroup": "WI_3",
                  "orientation": "v",
                  "showlegend": true,
                  "text": [
                    6542557
                  ],
                  "textposition": "auto",
                  "type": "bar",
                  "x": [
                    "WI_3"
                  ],
                  "xaxis": "x",
                  "y": [
                    6542557
                  ],
                  "yaxis": "y"
                }
              ],
              "layout": {
                "barmode": "relative",
                "legend": {
                  "title": {
                    "text": "store_id"
                  },
                  "tracegroupgap": 0
                },
                "template": {
                  "data": {
                    "bar": [
                      {
                        "error_x": {
                          "color": "#2a3f5f"
                        },
                        "error_y": {
                          "color": "#2a3f5f"
                        },
                        "marker": {
                          "line": {
                            "color": "#E5ECF6",
                            "width": 0.5
                          },
                          "pattern": {
                            "fillmode": "overlay",
                            "size": 10,
                            "solidity": 0.2
                          }
                        },
                        "type": "bar"
                      }
                    ],
                    "barpolar": [
                      {
                        "marker": {
                          "line": {
                            "color": "#E5ECF6",
                            "width": 0.5
                          },
                          "pattern": {
                            "fillmode": "overlay",
                            "size": 10,
                            "solidity": 0.2
                          }
                        },
                        "type": "barpolar"
                      }
                    ],
                    "carpet": [
                      {
                        "aaxis": {
                          "endlinecolor": "#2a3f5f",
                          "gridcolor": "white",
                          "linecolor": "white",
                          "minorgridcolor": "white",
                          "startlinecolor": "#2a3f5f"
                        },
                        "baxis": {
                          "endlinecolor": "#2a3f5f",
                          "gridcolor": "white",
                          "linecolor": "white",
                          "minorgridcolor": "white",
                          "startlinecolor": "#2a3f5f"
                        },
                        "type": "carpet"
                      }
                    ],
                    "choropleth": [
                      {
                        "colorbar": {
                          "outlinewidth": 0,
                          "ticks": ""
                        },
                        "type": "choropleth"
                      }
                    ],
                    "contour": [
                      {
                        "colorbar": {
                          "outlinewidth": 0,
                          "ticks": ""
                        },
                        "colorscale": [
                          [
                            0,
                            "#0d0887"
                          ],
                          [
                            0.1111111111111111,
                            "#46039f"
                          ],
                          [
                            0.2222222222222222,
                            "#7201a8"
                          ],
                          [
                            0.3333333333333333,
                            "#9c179e"
                          ],
                          [
                            0.4444444444444444,
                            "#bd3786"
                          ],
                          [
                            0.5555555555555556,
                            "#d8576b"
                          ],
                          [
                            0.6666666666666666,
                            "#ed7953"
                          ],
                          [
                            0.7777777777777778,
                            "#fb9f3a"
                          ],
                          [
                            0.8888888888888888,
                            "#fdca26"
                          ],
                          [
                            1,
                            "#f0f921"
                          ]
                        ],
                        "type": "contour"
                      }
                    ],
                    "contourcarpet": [
                      {
                        "colorbar": {
                          "outlinewidth": 0,
                          "ticks": ""
                        },
                        "type": "contourcarpet"
                      }
                    ],
                    "heatmap": [
                      {
                        "colorbar": {
                          "outlinewidth": 0,
                          "ticks": ""
                        },
                        "colorscale": [
                          [
                            0,
                            "#0d0887"
                          ],
                          [
                            0.1111111111111111,
                            "#46039f"
                          ],
                          [
                            0.2222222222222222,
                            "#7201a8"
                          ],
                          [
                            0.3333333333333333,
                            "#9c179e"
                          ],
                          [
                            0.4444444444444444,
                            "#bd3786"
                          ],
                          [
                            0.5555555555555556,
                            "#d8576b"
                          ],
                          [
                            0.6666666666666666,
                            "#ed7953"
                          ],
                          [
                            0.7777777777777778,
                            "#fb9f3a"
                          ],
                          [
                            0.8888888888888888,
                            "#fdca26"
                          ],
                          [
                            1,
                            "#f0f921"
                          ]
                        ],
                        "type": "heatmap"
                      }
                    ],
                    "heatmapgl": [
                      {
                        "colorbar": {
                          "outlinewidth": 0,
                          "ticks": ""
                        },
                        "colorscale": [
                          [
                            0,
                            "#0d0887"
                          ],
                          [
                            0.1111111111111111,
                            "#46039f"
                          ],
                          [
                            0.2222222222222222,
                            "#7201a8"
                          ],
                          [
                            0.3333333333333333,
                            "#9c179e"
                          ],
                          [
                            0.4444444444444444,
                            "#bd3786"
                          ],
                          [
                            0.5555555555555556,
                            "#d8576b"
                          ],
                          [
                            0.6666666666666666,
                            "#ed7953"
                          ],
                          [
                            0.7777777777777778,
                            "#fb9f3a"
                          ],
                          [
                            0.8888888888888888,
                            "#fdca26"
                          ],
                          [
                            1,
                            "#f0f921"
                          ]
                        ],
                        "type": "heatmapgl"
                      }
                    ],
                    "histogram": [
                      {
                        "marker": {
                          "pattern": {
                            "fillmode": "overlay",
                            "size": 10,
                            "solidity": 0.2
                          }
                        },
                        "type": "histogram"
                      }
                    ],
                    "histogram2d": [
                      {
                        "colorbar": {
                          "outlinewidth": 0,
                          "ticks": ""
                        },
                        "colorscale": [
                          [
                            0,
                            "#0d0887"
                          ],
                          [
                            0.1111111111111111,
                            "#46039f"
                          ],
                          [
                            0.2222222222222222,
                            "#7201a8"
                          ],
                          [
                            0.3333333333333333,
                            "#9c179e"
                          ],
                          [
                            0.4444444444444444,
                            "#bd3786"
                          ],
                          [
                            0.5555555555555556,
                            "#d8576b"
                          ],
                          [
                            0.6666666666666666,
                            "#ed7953"
                          ],
                          [
                            0.7777777777777778,
                            "#fb9f3a"
                          ],
                          [
                            0.8888888888888888,
                            "#fdca26"
                          ],
                          [
                            1,
                            "#f0f921"
                          ]
                        ],
                        "type": "histogram2d"
                      }
                    ],
                    "histogram2dcontour": [
                      {
                        "colorbar": {
                          "outlinewidth": 0,
                          "ticks": ""
                        },
                        "colorscale": [
                          [
                            0,
                            "#0d0887"
                          ],
                          [
                            0.1111111111111111,
                            "#46039f"
                          ],
                          [
                            0.2222222222222222,
                            "#7201a8"
                          ],
                          [
                            0.3333333333333333,
                            "#9c179e"
                          ],
                          [
                            0.4444444444444444,
                            "#bd3786"
                          ],
                          [
                            0.5555555555555556,
                            "#d8576b"
                          ],
                          [
                            0.6666666666666666,
                            "#ed7953"
                          ],
                          [
                            0.7777777777777778,
                            "#fb9f3a"
                          ],
                          [
                            0.8888888888888888,
                            "#fdca26"
                          ],
                          [
                            1,
                            "#f0f921"
                          ]
                        ],
                        "type": "histogram2dcontour"
                      }
                    ],
                    "mesh3d": [
                      {
                        "colorbar": {
                          "outlinewidth": 0,
                          "ticks": ""
                        },
                        "type": "mesh3d"
                      }
                    ],
                    "parcoords": [
                      {
                        "line": {
                          "colorbar": {
                            "outlinewidth": 0,
                            "ticks": ""
                          }
                        },
                        "type": "parcoords"
                      }
                    ],
                    "pie": [
                      {
                        "automargin": true,
                        "type": "pie"
                      }
                    ],
                    "scatter": [
                      {
                        "fillpattern": {
                          "fillmode": "overlay",
                          "size": 10,
                          "solidity": 0.2
                        },
                        "type": "scatter"
                      }
                    ],
                    "scatter3d": [
                      {
                        "line": {
                          "colorbar": {
                            "outlinewidth": 0,
                            "ticks": ""
                          }
                        },
                        "marker": {
                          "colorbar": {
                            "outlinewidth": 0,
                            "ticks": ""
                          }
                        },
                        "type": "scatter3d"
                      }
                    ],
                    "scattercarpet": [
                      {
                        "marker": {
                          "colorbar": {
                            "outlinewidth": 0,
                            "ticks": ""
                          }
                        },
                        "type": "scattercarpet"
                      }
                    ],
                    "scattergeo": [
                      {
                        "marker": {
                          "colorbar": {
                            "outlinewidth": 0,
                            "ticks": ""
                          }
                        },
                        "type": "scattergeo"
                      }
                    ],
                    "scattergl": [
                      {
                        "marker": {
                          "colorbar": {
                            "outlinewidth": 0,
                            "ticks": ""
                          }
                        },
                        "type": "scattergl"
                      }
                    ],
                    "scattermapbox": [
                      {
                        "marker": {
                          "colorbar": {
                            "outlinewidth": 0,
                            "ticks": ""
                          }
                        },
                        "type": "scattermapbox"
                      }
                    ],
                    "scatterpolar": [
                      {
                        "marker": {
                          "colorbar": {
                            "outlinewidth": 0,
                            "ticks": ""
                          }
                        },
                        "type": "scatterpolar"
                      }
                    ],
                    "scatterpolargl": [
                      {
                        "marker": {
                          "colorbar": {
                            "outlinewidth": 0,
                            "ticks": ""
                          }
                        },
                        "type": "scatterpolargl"
                      }
                    ],
                    "scatterternary": [
                      {
                        "marker": {
                          "colorbar": {
                            "outlinewidth": 0,
                            "ticks": ""
                          }
                        },
                        "type": "scatterternary"
                      }
                    ],
                    "surface": [
                      {
                        "colorbar": {
                          "outlinewidth": 0,
                          "ticks": ""
                        },
                        "colorscale": [
                          [
                            0,
                            "#0d0887"
                          ],
                          [
                            0.1111111111111111,
                            "#46039f"
                          ],
                          [
                            0.2222222222222222,
                            "#7201a8"
                          ],
                          [
                            0.3333333333333333,
                            "#9c179e"
                          ],
                          [
                            0.4444444444444444,
                            "#bd3786"
                          ],
                          [
                            0.5555555555555556,
                            "#d8576b"
                          ],
                          [
                            0.6666666666666666,
                            "#ed7953"
                          ],
                          [
                            0.7777777777777778,
                            "#fb9f3a"
                          ],
                          [
                            0.8888888888888888,
                            "#fdca26"
                          ],
                          [
                            1,
                            "#f0f921"
                          ]
                        ],
                        "type": "surface"
                      }
                    ],
                    "table": [
                      {
                        "cells": {
                          "fill": {
                            "color": "#EBF0F8"
                          },
                          "line": {
                            "color": "white"
                          }
                        },
                        "header": {
                          "fill": {
                            "color": "#C8D4E3"
                          },
                          "line": {
                            "color": "white"
                          }
                        },
                        "type": "table"
                      }
                    ]
                  },
                  "layout": {
                    "annotationdefaults": {
                      "arrowcolor": "#2a3f5f",
                      "arrowhead": 0,
                      "arrowwidth": 1
                    },
                    "autotypenumbers": "strict",
                    "coloraxis": {
                      "colorbar": {
                        "outlinewidth": 0,
                        "ticks": ""
                      }
                    },
                    "colorscale": {
                      "diverging": [
                        [
                          0,
                          "#8e0152"
                        ],
                        [
                          0.1,
                          "#c51b7d"
                        ],
                        [
                          0.2,
                          "#de77ae"
                        ],
                        [
                          0.3,
                          "#f1b6da"
                        ],
                        [
                          0.4,
                          "#fde0ef"
                        ],
                        [
                          0.5,
                          "#f7f7f7"
                        ],
                        [
                          0.6,
                          "#e6f5d0"
                        ],
                        [
                          0.7,
                          "#b8e186"
                        ],
                        [
                          0.8,
                          "#7fbc41"
                        ],
                        [
                          0.9,
                          "#4d9221"
                        ],
                        [
                          1,
                          "#276419"
                        ]
                      ],
                      "sequential": [
                        [
                          0,
                          "#0d0887"
                        ],
                        [
                          0.1111111111111111,
                          "#46039f"
                        ],
                        [
                          0.2222222222222222,
                          "#7201a8"
                        ],
                        [
                          0.3333333333333333,
                          "#9c179e"
                        ],
                        [
                          0.4444444444444444,
                          "#bd3786"
                        ],
                        [
                          0.5555555555555556,
                          "#d8576b"
                        ],
                        [
                          0.6666666666666666,
                          "#ed7953"
                        ],
                        [
                          0.7777777777777778,
                          "#fb9f3a"
                        ],
                        [
                          0.8888888888888888,
                          "#fdca26"
                        ],
                        [
                          1,
                          "#f0f921"
                        ]
                      ],
                      "sequentialminus": [
                        [
                          0,
                          "#0d0887"
                        ],
                        [
                          0.1111111111111111,
                          "#46039f"
                        ],
                        [
                          0.2222222222222222,
                          "#7201a8"
                        ],
                        [
                          0.3333333333333333,
                          "#9c179e"
                        ],
                        [
                          0.4444444444444444,
                          "#bd3786"
                        ],
                        [
                          0.5555555555555556,
                          "#d8576b"
                        ],
                        [
                          0.6666666666666666,
                          "#ed7953"
                        ],
                        [
                          0.7777777777777778,
                          "#fb9f3a"
                        ],
                        [
                          0.8888888888888888,
                          "#fdca26"
                        ],
                        [
                          1,
                          "#f0f921"
                        ]
                      ]
                    },
                    "colorway": [
                      "#636efa",
                      "#EF553B",
                      "#00cc96",
                      "#ab63fa",
                      "#FFA15A",
                      "#19d3f3",
                      "#FF6692",
                      "#B6E880",
                      "#FF97FF",
                      "#FECB52"
                    ],
                    "font": {
                      "color": "#2a3f5f"
                    },
                    "geo": {
                      "bgcolor": "white",
                      "lakecolor": "white",
                      "landcolor": "#E5ECF6",
                      "showlakes": true,
                      "showland": true,
                      "subunitcolor": "white"
                    },
                    "hoverlabel": {
                      "align": "left"
                    },
                    "hovermode": "closest",
                    "mapbox": {
                      "style": "light"
                    },
                    "paper_bgcolor": "white",
                    "plot_bgcolor": "#E5ECF6",
                    "polar": {
                      "angularaxis": {
                        "gridcolor": "white",
                        "linecolor": "white",
                        "ticks": ""
                      },
                      "bgcolor": "#E5ECF6",
                      "radialaxis": {
                        "gridcolor": "white",
                        "linecolor": "white",
                        "ticks": ""
                      }
                    },
                    "scene": {
                      "xaxis": {
                        "backgroundcolor": "#E5ECF6",
                        "gridcolor": "white",
                        "gridwidth": 2,
                        "linecolor": "white",
                        "showbackground": true,
                        "ticks": "",
                        "zerolinecolor": "white"
                      },
                      "yaxis": {
                        "backgroundcolor": "#E5ECF6",
                        "gridcolor": "white",
                        "gridwidth": 2,
                        "linecolor": "white",
                        "showbackground": true,
                        "ticks": "",
                        "zerolinecolor": "white"
                      },
                      "zaxis": {
                        "backgroundcolor": "#E5ECF6",
                        "gridcolor": "white",
                        "gridwidth": 2,
                        "linecolor": "white",
                        "showbackground": true,
                        "ticks": "",
                        "zerolinecolor": "white"
                      }
                    },
                    "shapedefaults": {
                      "line": {
                        "color": "#2a3f5f"
                      }
                    },
                    "ternary": {
                      "aaxis": {
                        "gridcolor": "white",
                        "linecolor": "white",
                        "ticks": ""
                      },
                      "baxis": {
                        "gridcolor": "white",
                        "linecolor": "white",
                        "ticks": ""
                      },
                      "bgcolor": "#E5ECF6",
                      "caxis": {
                        "gridcolor": "white",
                        "linecolor": "white",
                        "ticks": ""
                      }
                    },
                    "title": {
                      "x": 0.05
                    },
                    "xaxis": {
                      "automargin": true,
                      "gridcolor": "white",
                      "linecolor": "white",
                      "ticks": "",
                      "title": {
                        "standoff": 15
                      },
                      "zerolinecolor": "white",
                      "zerolinewidth": 2
                    },
                    "yaxis": {
                      "automargin": true,
                      "gridcolor": "white",
                      "linecolor": "white",
                      "ticks": "",
                      "title": {
                        "standoff": 15
                      },
                      "zerolinecolor": "white",
                      "zerolinewidth": 2
                    }
                  }
                },
                "title": {
                  "text": "Total sale store-wise"
                },
                "xaxis": {
                  "anchor": "y",
                  "categoryarray": [
                    "CA_1",
                    "CA_2",
                    "CA_3",
                    "CA_4",
                    "TX_1",
                    "TX_2",
                    "TX_3",
                    "WI_1",
                    "WI_2",
                    "WI_3"
                  ],
                  "categoryorder": "array",
                  "domain": [
                    0,
                    1
                  ],
                  "title": {
                    "text": "store_id"
                  }
                },
                "yaxis": {
                  "anchor": "x",
                  "domain": [
                    0,
                    1
                  ],
                  "title": {
                    "text": "Total_sale"
                  }
                }
              }
            }
          },
          "metadata": {},
          "output_type": "display_data"
        }
      ],
      "source": [
        "temp_dataframe=DF_MAIN.groupby('store_id',as_index=False,sort=False).agg(Total_sale=('sold',np.sum))\n",
        "px.bar(temp_dataframe, x=\"store_id\", y=\"Total_sale\", color=\"store_id\", title=\"Total sale store-wise\",text='Total_sale')"
      ]
    },
    {
      "cell_type": "markdown",
      "metadata": {
        "id": "RYh1i1n12Q_l"
      },
      "source": [
        "Inference: As we can see that CA_3 is having the highest sales among all and CA_4 is having the lowest sales.\n",
        "\n",
        "\n",
        "Our Suggestion: More discounts on items that are higest selling in CA_4 should be given in order to increase the sales of those items, moreover we need to supply produts that are highest selling in CA_3 by for maximizing the revenue. The similar strategy should be taken for each and every store."
      ]
    },
    {
      "cell_type": "markdown",
      "metadata": {
        "id": "qQ0TRES22Q_l"
      },
      "source": [
        "# Total Sales of by category"
      ]
    },
    {
      "cell_type": "code",
      "execution_count": null,
      "metadata": {
        "id": "8LbSLv1v2Q_l",
        "outputId": "cb544ab4-f589-4b90-d305-4a385da23b51"
      },
      "outputs": [
        {
          "data": {
            "application/vnd.plotly.v1+json": {
              "config": {
                "plotlyServerURL": "https://plot.ly"
              },
              "data": [
                {
                  "alignmentgroup": "True",
                  "hovertemplate": "cat_id=%{x}<br>Total_sale=%{text}<extra></extra>",
                  "legendgroup": "HOBBIES",
                  "marker": {
                    "color": "#636efa",
                    "pattern": {
                      "shape": ""
                    }
                  },
                  "name": "HOBBIES",
                  "offsetgroup": "HOBBIES",
                  "orientation": "v",
                  "showlegend": true,
                  "text": [
                    6240656
                  ],
                  "textposition": "auto",
                  "type": "bar",
                  "x": [
                    "HOBBIES"
                  ],
                  "xaxis": "x",
                  "y": [
                    6240656
                  ],
                  "yaxis": "y"
                },
                {
                  "alignmentgroup": "True",
                  "hovertemplate": "cat_id=%{x}<br>Total_sale=%{text}<extra></extra>",
                  "legendgroup": "HOUSEHOLD",
                  "marker": {
                    "color": "#EF553B",
                    "pattern": {
                      "shape": ""
                    }
                  },
                  "name": "HOUSEHOLD",
                  "offsetgroup": "HOUSEHOLD",
                  "orientation": "v",
                  "showlegend": true,
                  "text": [
                    14764090
                  ],
                  "textposition": "auto",
                  "type": "bar",
                  "x": [
                    "HOUSEHOLD"
                  ],
                  "xaxis": "x",
                  "y": [
                    14764090
                  ],
                  "yaxis": "y"
                },
                {
                  "alignmentgroup": "True",
                  "hovertemplate": "cat_id=%{x}<br>Total_sale=%{text}<extra></extra>",
                  "legendgroup": "FOODS",
                  "marker": {
                    "color": "#00cc96",
                    "pattern": {
                      "shape": ""
                    }
                  },
                  "name": "FOODS",
                  "offsetgroup": "FOODS",
                  "orientation": "v",
                  "showlegend": true,
                  "text": [
                    45922427
                  ],
                  "textposition": "auto",
                  "type": "bar",
                  "x": [
                    "FOODS"
                  ],
                  "xaxis": "x",
                  "y": [
                    45922427
                  ],
                  "yaxis": "y"
                }
              ],
              "layout": {
                "barmode": "relative",
                "legend": {
                  "title": {
                    "text": "cat_id"
                  },
                  "tracegroupgap": 0
                },
                "template": {
                  "data": {
                    "bar": [
                      {
                        "error_x": {
                          "color": "#2a3f5f"
                        },
                        "error_y": {
                          "color": "#2a3f5f"
                        },
                        "marker": {
                          "line": {
                            "color": "#E5ECF6",
                            "width": 0.5
                          },
                          "pattern": {
                            "fillmode": "overlay",
                            "size": 10,
                            "solidity": 0.2
                          }
                        },
                        "type": "bar"
                      }
                    ],
                    "barpolar": [
                      {
                        "marker": {
                          "line": {
                            "color": "#E5ECF6",
                            "width": 0.5
                          },
                          "pattern": {
                            "fillmode": "overlay",
                            "size": 10,
                            "solidity": 0.2
                          }
                        },
                        "type": "barpolar"
                      }
                    ],
                    "carpet": [
                      {
                        "aaxis": {
                          "endlinecolor": "#2a3f5f",
                          "gridcolor": "white",
                          "linecolor": "white",
                          "minorgridcolor": "white",
                          "startlinecolor": "#2a3f5f"
                        },
                        "baxis": {
                          "endlinecolor": "#2a3f5f",
                          "gridcolor": "white",
                          "linecolor": "white",
                          "minorgridcolor": "white",
                          "startlinecolor": "#2a3f5f"
                        },
                        "type": "carpet"
                      }
                    ],
                    "choropleth": [
                      {
                        "colorbar": {
                          "outlinewidth": 0,
                          "ticks": ""
                        },
                        "type": "choropleth"
                      }
                    ],
                    "contour": [
                      {
                        "colorbar": {
                          "outlinewidth": 0,
                          "ticks": ""
                        },
                        "colorscale": [
                          [
                            0,
                            "#0d0887"
                          ],
                          [
                            0.1111111111111111,
                            "#46039f"
                          ],
                          [
                            0.2222222222222222,
                            "#7201a8"
                          ],
                          [
                            0.3333333333333333,
                            "#9c179e"
                          ],
                          [
                            0.4444444444444444,
                            "#bd3786"
                          ],
                          [
                            0.5555555555555556,
                            "#d8576b"
                          ],
                          [
                            0.6666666666666666,
                            "#ed7953"
                          ],
                          [
                            0.7777777777777778,
                            "#fb9f3a"
                          ],
                          [
                            0.8888888888888888,
                            "#fdca26"
                          ],
                          [
                            1,
                            "#f0f921"
                          ]
                        ],
                        "type": "contour"
                      }
                    ],
                    "contourcarpet": [
                      {
                        "colorbar": {
                          "outlinewidth": 0,
                          "ticks": ""
                        },
                        "type": "contourcarpet"
                      }
                    ],
                    "heatmap": [
                      {
                        "colorbar": {
                          "outlinewidth": 0,
                          "ticks": ""
                        },
                        "colorscale": [
                          [
                            0,
                            "#0d0887"
                          ],
                          [
                            0.1111111111111111,
                            "#46039f"
                          ],
                          [
                            0.2222222222222222,
                            "#7201a8"
                          ],
                          [
                            0.3333333333333333,
                            "#9c179e"
                          ],
                          [
                            0.4444444444444444,
                            "#bd3786"
                          ],
                          [
                            0.5555555555555556,
                            "#d8576b"
                          ],
                          [
                            0.6666666666666666,
                            "#ed7953"
                          ],
                          [
                            0.7777777777777778,
                            "#fb9f3a"
                          ],
                          [
                            0.8888888888888888,
                            "#fdca26"
                          ],
                          [
                            1,
                            "#f0f921"
                          ]
                        ],
                        "type": "heatmap"
                      }
                    ],
                    "heatmapgl": [
                      {
                        "colorbar": {
                          "outlinewidth": 0,
                          "ticks": ""
                        },
                        "colorscale": [
                          [
                            0,
                            "#0d0887"
                          ],
                          [
                            0.1111111111111111,
                            "#46039f"
                          ],
                          [
                            0.2222222222222222,
                            "#7201a8"
                          ],
                          [
                            0.3333333333333333,
                            "#9c179e"
                          ],
                          [
                            0.4444444444444444,
                            "#bd3786"
                          ],
                          [
                            0.5555555555555556,
                            "#d8576b"
                          ],
                          [
                            0.6666666666666666,
                            "#ed7953"
                          ],
                          [
                            0.7777777777777778,
                            "#fb9f3a"
                          ],
                          [
                            0.8888888888888888,
                            "#fdca26"
                          ],
                          [
                            1,
                            "#f0f921"
                          ]
                        ],
                        "type": "heatmapgl"
                      }
                    ],
                    "histogram": [
                      {
                        "marker": {
                          "pattern": {
                            "fillmode": "overlay",
                            "size": 10,
                            "solidity": 0.2
                          }
                        },
                        "type": "histogram"
                      }
                    ],
                    "histogram2d": [
                      {
                        "colorbar": {
                          "outlinewidth": 0,
                          "ticks": ""
                        },
                        "colorscale": [
                          [
                            0,
                            "#0d0887"
                          ],
                          [
                            0.1111111111111111,
                            "#46039f"
                          ],
                          [
                            0.2222222222222222,
                            "#7201a8"
                          ],
                          [
                            0.3333333333333333,
                            "#9c179e"
                          ],
                          [
                            0.4444444444444444,
                            "#bd3786"
                          ],
                          [
                            0.5555555555555556,
                            "#d8576b"
                          ],
                          [
                            0.6666666666666666,
                            "#ed7953"
                          ],
                          [
                            0.7777777777777778,
                            "#fb9f3a"
                          ],
                          [
                            0.8888888888888888,
                            "#fdca26"
                          ],
                          [
                            1,
                            "#f0f921"
                          ]
                        ],
                        "type": "histogram2d"
                      }
                    ],
                    "histogram2dcontour": [
                      {
                        "colorbar": {
                          "outlinewidth": 0,
                          "ticks": ""
                        },
                        "colorscale": [
                          [
                            0,
                            "#0d0887"
                          ],
                          [
                            0.1111111111111111,
                            "#46039f"
                          ],
                          [
                            0.2222222222222222,
                            "#7201a8"
                          ],
                          [
                            0.3333333333333333,
                            "#9c179e"
                          ],
                          [
                            0.4444444444444444,
                            "#bd3786"
                          ],
                          [
                            0.5555555555555556,
                            "#d8576b"
                          ],
                          [
                            0.6666666666666666,
                            "#ed7953"
                          ],
                          [
                            0.7777777777777778,
                            "#fb9f3a"
                          ],
                          [
                            0.8888888888888888,
                            "#fdca26"
                          ],
                          [
                            1,
                            "#f0f921"
                          ]
                        ],
                        "type": "histogram2dcontour"
                      }
                    ],
                    "mesh3d": [
                      {
                        "colorbar": {
                          "outlinewidth": 0,
                          "ticks": ""
                        },
                        "type": "mesh3d"
                      }
                    ],
                    "parcoords": [
                      {
                        "line": {
                          "colorbar": {
                            "outlinewidth": 0,
                            "ticks": ""
                          }
                        },
                        "type": "parcoords"
                      }
                    ],
                    "pie": [
                      {
                        "automargin": true,
                        "type": "pie"
                      }
                    ],
                    "scatter": [
                      {
                        "fillpattern": {
                          "fillmode": "overlay",
                          "size": 10,
                          "solidity": 0.2
                        },
                        "type": "scatter"
                      }
                    ],
                    "scatter3d": [
                      {
                        "line": {
                          "colorbar": {
                            "outlinewidth": 0,
                            "ticks": ""
                          }
                        },
                        "marker": {
                          "colorbar": {
                            "outlinewidth": 0,
                            "ticks": ""
                          }
                        },
                        "type": "scatter3d"
                      }
                    ],
                    "scattercarpet": [
                      {
                        "marker": {
                          "colorbar": {
                            "outlinewidth": 0,
                            "ticks": ""
                          }
                        },
                        "type": "scattercarpet"
                      }
                    ],
                    "scattergeo": [
                      {
                        "marker": {
                          "colorbar": {
                            "outlinewidth": 0,
                            "ticks": ""
                          }
                        },
                        "type": "scattergeo"
                      }
                    ],
                    "scattergl": [
                      {
                        "marker": {
                          "colorbar": {
                            "outlinewidth": 0,
                            "ticks": ""
                          }
                        },
                        "type": "scattergl"
                      }
                    ],
                    "scattermapbox": [
                      {
                        "marker": {
                          "colorbar": {
                            "outlinewidth": 0,
                            "ticks": ""
                          }
                        },
                        "type": "scattermapbox"
                      }
                    ],
                    "scatterpolar": [
                      {
                        "marker": {
                          "colorbar": {
                            "outlinewidth": 0,
                            "ticks": ""
                          }
                        },
                        "type": "scatterpolar"
                      }
                    ],
                    "scatterpolargl": [
                      {
                        "marker": {
                          "colorbar": {
                            "outlinewidth": 0,
                            "ticks": ""
                          }
                        },
                        "type": "scatterpolargl"
                      }
                    ],
                    "scatterternary": [
                      {
                        "marker": {
                          "colorbar": {
                            "outlinewidth": 0,
                            "ticks": ""
                          }
                        },
                        "type": "scatterternary"
                      }
                    ],
                    "surface": [
                      {
                        "colorbar": {
                          "outlinewidth": 0,
                          "ticks": ""
                        },
                        "colorscale": [
                          [
                            0,
                            "#0d0887"
                          ],
                          [
                            0.1111111111111111,
                            "#46039f"
                          ],
                          [
                            0.2222222222222222,
                            "#7201a8"
                          ],
                          [
                            0.3333333333333333,
                            "#9c179e"
                          ],
                          [
                            0.4444444444444444,
                            "#bd3786"
                          ],
                          [
                            0.5555555555555556,
                            "#d8576b"
                          ],
                          [
                            0.6666666666666666,
                            "#ed7953"
                          ],
                          [
                            0.7777777777777778,
                            "#fb9f3a"
                          ],
                          [
                            0.8888888888888888,
                            "#fdca26"
                          ],
                          [
                            1,
                            "#f0f921"
                          ]
                        ],
                        "type": "surface"
                      }
                    ],
                    "table": [
                      {
                        "cells": {
                          "fill": {
                            "color": "#EBF0F8"
                          },
                          "line": {
                            "color": "white"
                          }
                        },
                        "header": {
                          "fill": {
                            "color": "#C8D4E3"
                          },
                          "line": {
                            "color": "white"
                          }
                        },
                        "type": "table"
                      }
                    ]
                  },
                  "layout": {
                    "annotationdefaults": {
                      "arrowcolor": "#2a3f5f",
                      "arrowhead": 0,
                      "arrowwidth": 1
                    },
                    "autotypenumbers": "strict",
                    "coloraxis": {
                      "colorbar": {
                        "outlinewidth": 0,
                        "ticks": ""
                      }
                    },
                    "colorscale": {
                      "diverging": [
                        [
                          0,
                          "#8e0152"
                        ],
                        [
                          0.1,
                          "#c51b7d"
                        ],
                        [
                          0.2,
                          "#de77ae"
                        ],
                        [
                          0.3,
                          "#f1b6da"
                        ],
                        [
                          0.4,
                          "#fde0ef"
                        ],
                        [
                          0.5,
                          "#f7f7f7"
                        ],
                        [
                          0.6,
                          "#e6f5d0"
                        ],
                        [
                          0.7,
                          "#b8e186"
                        ],
                        [
                          0.8,
                          "#7fbc41"
                        ],
                        [
                          0.9,
                          "#4d9221"
                        ],
                        [
                          1,
                          "#276419"
                        ]
                      ],
                      "sequential": [
                        [
                          0,
                          "#0d0887"
                        ],
                        [
                          0.1111111111111111,
                          "#46039f"
                        ],
                        [
                          0.2222222222222222,
                          "#7201a8"
                        ],
                        [
                          0.3333333333333333,
                          "#9c179e"
                        ],
                        [
                          0.4444444444444444,
                          "#bd3786"
                        ],
                        [
                          0.5555555555555556,
                          "#d8576b"
                        ],
                        [
                          0.6666666666666666,
                          "#ed7953"
                        ],
                        [
                          0.7777777777777778,
                          "#fb9f3a"
                        ],
                        [
                          0.8888888888888888,
                          "#fdca26"
                        ],
                        [
                          1,
                          "#f0f921"
                        ]
                      ],
                      "sequentialminus": [
                        [
                          0,
                          "#0d0887"
                        ],
                        [
                          0.1111111111111111,
                          "#46039f"
                        ],
                        [
                          0.2222222222222222,
                          "#7201a8"
                        ],
                        [
                          0.3333333333333333,
                          "#9c179e"
                        ],
                        [
                          0.4444444444444444,
                          "#bd3786"
                        ],
                        [
                          0.5555555555555556,
                          "#d8576b"
                        ],
                        [
                          0.6666666666666666,
                          "#ed7953"
                        ],
                        [
                          0.7777777777777778,
                          "#fb9f3a"
                        ],
                        [
                          0.8888888888888888,
                          "#fdca26"
                        ],
                        [
                          1,
                          "#f0f921"
                        ]
                      ]
                    },
                    "colorway": [
                      "#636efa",
                      "#EF553B",
                      "#00cc96",
                      "#ab63fa",
                      "#FFA15A",
                      "#19d3f3",
                      "#FF6692",
                      "#B6E880",
                      "#FF97FF",
                      "#FECB52"
                    ],
                    "font": {
                      "color": "#2a3f5f"
                    },
                    "geo": {
                      "bgcolor": "white",
                      "lakecolor": "white",
                      "landcolor": "#E5ECF6",
                      "showlakes": true,
                      "showland": true,
                      "subunitcolor": "white"
                    },
                    "hoverlabel": {
                      "align": "left"
                    },
                    "hovermode": "closest",
                    "mapbox": {
                      "style": "light"
                    },
                    "paper_bgcolor": "white",
                    "plot_bgcolor": "#E5ECF6",
                    "polar": {
                      "angularaxis": {
                        "gridcolor": "white",
                        "linecolor": "white",
                        "ticks": ""
                      },
                      "bgcolor": "#E5ECF6",
                      "radialaxis": {
                        "gridcolor": "white",
                        "linecolor": "white",
                        "ticks": ""
                      }
                    },
                    "scene": {
                      "xaxis": {
                        "backgroundcolor": "#E5ECF6",
                        "gridcolor": "white",
                        "gridwidth": 2,
                        "linecolor": "white",
                        "showbackground": true,
                        "ticks": "",
                        "zerolinecolor": "white"
                      },
                      "yaxis": {
                        "backgroundcolor": "#E5ECF6",
                        "gridcolor": "white",
                        "gridwidth": 2,
                        "linecolor": "white",
                        "showbackground": true,
                        "ticks": "",
                        "zerolinecolor": "white"
                      },
                      "zaxis": {
                        "backgroundcolor": "#E5ECF6",
                        "gridcolor": "white",
                        "gridwidth": 2,
                        "linecolor": "white",
                        "showbackground": true,
                        "ticks": "",
                        "zerolinecolor": "white"
                      }
                    },
                    "shapedefaults": {
                      "line": {
                        "color": "#2a3f5f"
                      }
                    },
                    "ternary": {
                      "aaxis": {
                        "gridcolor": "white",
                        "linecolor": "white",
                        "ticks": ""
                      },
                      "baxis": {
                        "gridcolor": "white",
                        "linecolor": "white",
                        "ticks": ""
                      },
                      "bgcolor": "#E5ECF6",
                      "caxis": {
                        "gridcolor": "white",
                        "linecolor": "white",
                        "ticks": ""
                      }
                    },
                    "title": {
                      "x": 0.05
                    },
                    "xaxis": {
                      "automargin": true,
                      "gridcolor": "white",
                      "linecolor": "white",
                      "ticks": "",
                      "title": {
                        "standoff": 15
                      },
                      "zerolinecolor": "white",
                      "zerolinewidth": 2
                    },
                    "yaxis": {
                      "automargin": true,
                      "gridcolor": "white",
                      "linecolor": "white",
                      "ticks": "",
                      "title": {
                        "standoff": 15
                      },
                      "zerolinecolor": "white",
                      "zerolinewidth": 2
                    }
                  }
                },
                "title": {
                  "text": "Total sales bycategory"
                },
                "xaxis": {
                  "anchor": "y",
                  "categoryarray": [
                    "HOBBIES",
                    "HOUSEHOLD",
                    "FOODS"
                  ],
                  "categoryorder": "array",
                  "domain": [
                    0,
                    1
                  ],
                  "title": {
                    "text": "cat_id"
                  }
                },
                "yaxis": {
                  "anchor": "x",
                  "domain": [
                    0,
                    1
                  ],
                  "title": {
                    "text": "Total_sale"
                  }
                }
              }
            }
          },
          "metadata": {},
          "output_type": "display_data"
        }
      ],
      "source": [
        "temp_dataframe=DF_MAIN.groupby('cat_id',as_index=False,sort=False).agg(Total_sale=('sold',np.sum))\n",
        "px.bar(temp_dataframe, x=\"cat_id\", y=\"Total_sale\", color=\"cat_id\", title=\"Total sales bycategory\",text='Total_sale')\n"
      ]
    },
    {
      "cell_type": "markdown",
      "metadata": {
        "id": "lSW94s012Q_m"
      },
      "source": [
        "Inference: Food items are highest selling products. Moreover, hobbies related product are lowest selling.\n",
        "\n",
        "Our Suggestion: Greater discounts should be laid on hobby related products in order to increase the sales of those products and better supply should be made for food related items."
      ]
    },
    {
      "cell_type": "markdown",
      "metadata": {
        "id": "248nOBYz2Q_m"
      },
      "source": [
        "# sales based on product category in each state"
      ]
    },
    {
      "cell_type": "code",
      "execution_count": null,
      "metadata": {
        "id": "PhiMnGN72Q_m",
        "outputId": "b9303eec-5e81-4ac7-bf3b-0e31bec7237d"
      },
      "outputs": [
        {
          "data": {
            "application/vnd.plotly.v1+json": {
              "config": {
                "plotlyServerURL": "https://plot.ly"
              },
              "data": [
                {
                  "alignmentgroup": "True",
                  "hovertemplate": "state_cat_id=%{x}<br>Total_sale=%{text}<extra></extra>",
                  "legendgroup": "CA_HOBBIES",
                  "marker": {
                    "color": "#636efa",
                    "pattern": {
                      "shape": ""
                    }
                  },
                  "name": "CA_HOBBIES",
                  "offsetgroup": "CA_HOBBIES",
                  "orientation": "v",
                  "showlegend": true,
                  "text": [
                    3095587
                  ],
                  "textposition": "auto",
                  "type": "bar",
                  "x": [
                    "CA_HOBBIES"
                  ],
                  "xaxis": "x",
                  "y": [
                    3095587
                  ],
                  "yaxis": "y"
                },
                {
                  "alignmentgroup": "True",
                  "hovertemplate": "state_cat_id=%{x}<br>Total_sale=%{text}<extra></extra>",
                  "legendgroup": "CA_HOUSEHOLD",
                  "marker": {
                    "color": "#EF553B",
                    "pattern": {
                      "shape": ""
                    }
                  },
                  "name": "CA_HOUSEHOLD",
                  "offsetgroup": "CA_HOUSEHOLD",
                  "orientation": "v",
                  "showlegend": true,
                  "text": [
                    6565267
                  ],
                  "textposition": "auto",
                  "type": "bar",
                  "x": [
                    "CA_HOUSEHOLD"
                  ],
                  "xaxis": "x",
                  "y": [
                    6565267
                  ],
                  "yaxis": "y"
                },
                {
                  "alignmentgroup": "True",
                  "hovertemplate": "state_cat_id=%{x}<br>Total_sale=%{text}<extra></extra>",
                  "legendgroup": "CA_FOODS",
                  "marker": {
                    "color": "#00cc96",
                    "pattern": {
                      "shape": ""
                    }
                  },
                  "name": "CA_FOODS",
                  "offsetgroup": "CA_FOODS",
                  "orientation": "v",
                  "showlegend": true,
                  "text": [
                    19535863
                  ],
                  "textposition": "auto",
                  "type": "bar",
                  "x": [
                    "CA_FOODS"
                  ],
                  "xaxis": "x",
                  "y": [
                    19535863
                  ],
                  "yaxis": "y"
                },
                {
                  "alignmentgroup": "True",
                  "hovertemplate": "state_cat_id=%{x}<br>Total_sale=%{text}<extra></extra>",
                  "legendgroup": "TX_HOBBIES",
                  "marker": {
                    "color": "#ab63fa",
                    "pattern": {
                      "shape": ""
                    }
                  },
                  "name": "TX_HOBBIES",
                  "offsetgroup": "TX_HOBBIES",
                  "orientation": "v",
                  "showlegend": true,
                  "text": [
                    1624130
                  ],
                  "textposition": "auto",
                  "type": "bar",
                  "x": [
                    "TX_HOBBIES"
                  ],
                  "xaxis": "x",
                  "y": [
                    1624130
                  ],
                  "yaxis": "y"
                },
                {
                  "alignmentgroup": "True",
                  "hovertemplate": "state_cat_id=%{x}<br>Total_sale=%{text}<extra></extra>",
                  "legendgroup": "TX_HOUSEHOLD",
                  "marker": {
                    "color": "#FFA15A",
                    "pattern": {
                      "shape": ""
                    }
                  },
                  "name": "TX_HOUSEHOLD",
                  "offsetgroup": "TX_HOUSEHOLD",
                  "orientation": "v",
                  "showlegend": true,
                  "text": [
                    4432169
                  ],
                  "textposition": "auto",
                  "type": "bar",
                  "x": [
                    "TX_HOUSEHOLD"
                  ],
                  "xaxis": "x",
                  "y": [
                    4432169
                  ],
                  "yaxis": "y"
                },
                {
                  "alignmentgroup": "True",
                  "hovertemplate": "state_cat_id=%{x}<br>Total_sale=%{text}<extra></extra>",
                  "legendgroup": "TX_FOODS",
                  "marker": {
                    "color": "#19d3f3",
                    "pattern": {
                      "shape": ""
                    }
                  },
                  "name": "TX_FOODS",
                  "offsetgroup": "TX_FOODS",
                  "orientation": "v",
                  "showlegend": true,
                  "text": [
                    13172106
                  ],
                  "textposition": "auto",
                  "type": "bar",
                  "x": [
                    "TX_FOODS"
                  ],
                  "xaxis": "x",
                  "y": [
                    13172106
                  ],
                  "yaxis": "y"
                },
                {
                  "alignmentgroup": "True",
                  "hovertemplate": "state_cat_id=%{x}<br>Total_sale=%{text}<extra></extra>",
                  "legendgroup": "WI_HOBBIES",
                  "marker": {
                    "color": "#FF6692",
                    "pattern": {
                      "shape": ""
                    }
                  },
                  "name": "WI_HOBBIES",
                  "offsetgroup": "WI_HOBBIES",
                  "orientation": "v",
                  "showlegend": true,
                  "text": [
                    1520939
                  ],
                  "textposition": "auto",
                  "type": "bar",
                  "x": [
                    "WI_HOBBIES"
                  ],
                  "xaxis": "x",
                  "y": [
                    1520939
                  ],
                  "yaxis": "y"
                },
                {
                  "alignmentgroup": "True",
                  "hovertemplate": "state_cat_id=%{x}<br>Total_sale=%{text}<extra></extra>",
                  "legendgroup": "WI_HOUSEHOLD",
                  "marker": {
                    "color": "#B6E880",
                    "pattern": {
                      "shape": ""
                    }
                  },
                  "name": "WI_HOUSEHOLD",
                  "offsetgroup": "WI_HOUSEHOLD",
                  "orientation": "v",
                  "showlegend": true,
                  "text": [
                    3766654
                  ],
                  "textposition": "auto",
                  "type": "bar",
                  "x": [
                    "WI_HOUSEHOLD"
                  ],
                  "xaxis": "x",
                  "y": [
                    3766654
                  ],
                  "yaxis": "y"
                },
                {
                  "alignmentgroup": "True",
                  "hovertemplate": "state_cat_id=%{x}<br>Total_sale=%{text}<extra></extra>",
                  "legendgroup": "WI_FOODS",
                  "marker": {
                    "color": "#FF97FF",
                    "pattern": {
                      "shape": ""
                    }
                  },
                  "name": "WI_FOODS",
                  "offsetgroup": "WI_FOODS",
                  "orientation": "v",
                  "showlegend": true,
                  "text": [
                    13214458
                  ],
                  "textposition": "auto",
                  "type": "bar",
                  "x": [
                    "WI_FOODS"
                  ],
                  "xaxis": "x",
                  "y": [
                    13214458
                  ],
                  "yaxis": "y"
                }
              ],
              "layout": {
                "barmode": "relative",
                "legend": {
                  "title": {
                    "text": "state_cat_id"
                  },
                  "tracegroupgap": 0
                },
                "template": {
                  "data": {
                    "bar": [
                      {
                        "error_x": {
                          "color": "#2a3f5f"
                        },
                        "error_y": {
                          "color": "#2a3f5f"
                        },
                        "marker": {
                          "line": {
                            "color": "#E5ECF6",
                            "width": 0.5
                          },
                          "pattern": {
                            "fillmode": "overlay",
                            "size": 10,
                            "solidity": 0.2
                          }
                        },
                        "type": "bar"
                      }
                    ],
                    "barpolar": [
                      {
                        "marker": {
                          "line": {
                            "color": "#E5ECF6",
                            "width": 0.5
                          },
                          "pattern": {
                            "fillmode": "overlay",
                            "size": 10,
                            "solidity": 0.2
                          }
                        },
                        "type": "barpolar"
                      }
                    ],
                    "carpet": [
                      {
                        "aaxis": {
                          "endlinecolor": "#2a3f5f",
                          "gridcolor": "white",
                          "linecolor": "white",
                          "minorgridcolor": "white",
                          "startlinecolor": "#2a3f5f"
                        },
                        "baxis": {
                          "endlinecolor": "#2a3f5f",
                          "gridcolor": "white",
                          "linecolor": "white",
                          "minorgridcolor": "white",
                          "startlinecolor": "#2a3f5f"
                        },
                        "type": "carpet"
                      }
                    ],
                    "choropleth": [
                      {
                        "colorbar": {
                          "outlinewidth": 0,
                          "ticks": ""
                        },
                        "type": "choropleth"
                      }
                    ],
                    "contour": [
                      {
                        "colorbar": {
                          "outlinewidth": 0,
                          "ticks": ""
                        },
                        "colorscale": [
                          [
                            0,
                            "#0d0887"
                          ],
                          [
                            0.1111111111111111,
                            "#46039f"
                          ],
                          [
                            0.2222222222222222,
                            "#7201a8"
                          ],
                          [
                            0.3333333333333333,
                            "#9c179e"
                          ],
                          [
                            0.4444444444444444,
                            "#bd3786"
                          ],
                          [
                            0.5555555555555556,
                            "#d8576b"
                          ],
                          [
                            0.6666666666666666,
                            "#ed7953"
                          ],
                          [
                            0.7777777777777778,
                            "#fb9f3a"
                          ],
                          [
                            0.8888888888888888,
                            "#fdca26"
                          ],
                          [
                            1,
                            "#f0f921"
                          ]
                        ],
                        "type": "contour"
                      }
                    ],
                    "contourcarpet": [
                      {
                        "colorbar": {
                          "outlinewidth": 0,
                          "ticks": ""
                        },
                        "type": "contourcarpet"
                      }
                    ],
                    "heatmap": [
                      {
                        "colorbar": {
                          "outlinewidth": 0,
                          "ticks": ""
                        },
                        "colorscale": [
                          [
                            0,
                            "#0d0887"
                          ],
                          [
                            0.1111111111111111,
                            "#46039f"
                          ],
                          [
                            0.2222222222222222,
                            "#7201a8"
                          ],
                          [
                            0.3333333333333333,
                            "#9c179e"
                          ],
                          [
                            0.4444444444444444,
                            "#bd3786"
                          ],
                          [
                            0.5555555555555556,
                            "#d8576b"
                          ],
                          [
                            0.6666666666666666,
                            "#ed7953"
                          ],
                          [
                            0.7777777777777778,
                            "#fb9f3a"
                          ],
                          [
                            0.8888888888888888,
                            "#fdca26"
                          ],
                          [
                            1,
                            "#f0f921"
                          ]
                        ],
                        "type": "heatmap"
                      }
                    ],
                    "heatmapgl": [
                      {
                        "colorbar": {
                          "outlinewidth": 0,
                          "ticks": ""
                        },
                        "colorscale": [
                          [
                            0,
                            "#0d0887"
                          ],
                          [
                            0.1111111111111111,
                            "#46039f"
                          ],
                          [
                            0.2222222222222222,
                            "#7201a8"
                          ],
                          [
                            0.3333333333333333,
                            "#9c179e"
                          ],
                          [
                            0.4444444444444444,
                            "#bd3786"
                          ],
                          [
                            0.5555555555555556,
                            "#d8576b"
                          ],
                          [
                            0.6666666666666666,
                            "#ed7953"
                          ],
                          [
                            0.7777777777777778,
                            "#fb9f3a"
                          ],
                          [
                            0.8888888888888888,
                            "#fdca26"
                          ],
                          [
                            1,
                            "#f0f921"
                          ]
                        ],
                        "type": "heatmapgl"
                      }
                    ],
                    "histogram": [
                      {
                        "marker": {
                          "pattern": {
                            "fillmode": "overlay",
                            "size": 10,
                            "solidity": 0.2
                          }
                        },
                        "type": "histogram"
                      }
                    ],
                    "histogram2d": [
                      {
                        "colorbar": {
                          "outlinewidth": 0,
                          "ticks": ""
                        },
                        "colorscale": [
                          [
                            0,
                            "#0d0887"
                          ],
                          [
                            0.1111111111111111,
                            "#46039f"
                          ],
                          [
                            0.2222222222222222,
                            "#7201a8"
                          ],
                          [
                            0.3333333333333333,
                            "#9c179e"
                          ],
                          [
                            0.4444444444444444,
                            "#bd3786"
                          ],
                          [
                            0.5555555555555556,
                            "#d8576b"
                          ],
                          [
                            0.6666666666666666,
                            "#ed7953"
                          ],
                          [
                            0.7777777777777778,
                            "#fb9f3a"
                          ],
                          [
                            0.8888888888888888,
                            "#fdca26"
                          ],
                          [
                            1,
                            "#f0f921"
                          ]
                        ],
                        "type": "histogram2d"
                      }
                    ],
                    "histogram2dcontour": [
                      {
                        "colorbar": {
                          "outlinewidth": 0,
                          "ticks": ""
                        },
                        "colorscale": [
                          [
                            0,
                            "#0d0887"
                          ],
                          [
                            0.1111111111111111,
                            "#46039f"
                          ],
                          [
                            0.2222222222222222,
                            "#7201a8"
                          ],
                          [
                            0.3333333333333333,
                            "#9c179e"
                          ],
                          [
                            0.4444444444444444,
                            "#bd3786"
                          ],
                          [
                            0.5555555555555556,
                            "#d8576b"
                          ],
                          [
                            0.6666666666666666,
                            "#ed7953"
                          ],
                          [
                            0.7777777777777778,
                            "#fb9f3a"
                          ],
                          [
                            0.8888888888888888,
                            "#fdca26"
                          ],
                          [
                            1,
                            "#f0f921"
                          ]
                        ],
                        "type": "histogram2dcontour"
                      }
                    ],
                    "mesh3d": [
                      {
                        "colorbar": {
                          "outlinewidth": 0,
                          "ticks": ""
                        },
                        "type": "mesh3d"
                      }
                    ],
                    "parcoords": [
                      {
                        "line": {
                          "colorbar": {
                            "outlinewidth": 0,
                            "ticks": ""
                          }
                        },
                        "type": "parcoords"
                      }
                    ],
                    "pie": [
                      {
                        "automargin": true,
                        "type": "pie"
                      }
                    ],
                    "scatter": [
                      {
                        "fillpattern": {
                          "fillmode": "overlay",
                          "size": 10,
                          "solidity": 0.2
                        },
                        "type": "scatter"
                      }
                    ],
                    "scatter3d": [
                      {
                        "line": {
                          "colorbar": {
                            "outlinewidth": 0,
                            "ticks": ""
                          }
                        },
                        "marker": {
                          "colorbar": {
                            "outlinewidth": 0,
                            "ticks": ""
                          }
                        },
                        "type": "scatter3d"
                      }
                    ],
                    "scattercarpet": [
                      {
                        "marker": {
                          "colorbar": {
                            "outlinewidth": 0,
                            "ticks": ""
                          }
                        },
                        "type": "scattercarpet"
                      }
                    ],
                    "scattergeo": [
                      {
                        "marker": {
                          "colorbar": {
                            "outlinewidth": 0,
                            "ticks": ""
                          }
                        },
                        "type": "scattergeo"
                      }
                    ],
                    "scattergl": [
                      {
                        "marker": {
                          "colorbar": {
                            "outlinewidth": 0,
                            "ticks": ""
                          }
                        },
                        "type": "scattergl"
                      }
                    ],
                    "scattermapbox": [
                      {
                        "marker": {
                          "colorbar": {
                            "outlinewidth": 0,
                            "ticks": ""
                          }
                        },
                        "type": "scattermapbox"
                      }
                    ],
                    "scatterpolar": [
                      {
                        "marker": {
                          "colorbar": {
                            "outlinewidth": 0,
                            "ticks": ""
                          }
                        },
                        "type": "scatterpolar"
                      }
                    ],
                    "scatterpolargl": [
                      {
                        "marker": {
                          "colorbar": {
                            "outlinewidth": 0,
                            "ticks": ""
                          }
                        },
                        "type": "scatterpolargl"
                      }
                    ],
                    "scatterternary": [
                      {
                        "marker": {
                          "colorbar": {
                            "outlinewidth": 0,
                            "ticks": ""
                          }
                        },
                        "type": "scatterternary"
                      }
                    ],
                    "surface": [
                      {
                        "colorbar": {
                          "outlinewidth": 0,
                          "ticks": ""
                        },
                        "colorscale": [
                          [
                            0,
                            "#0d0887"
                          ],
                          [
                            0.1111111111111111,
                            "#46039f"
                          ],
                          [
                            0.2222222222222222,
                            "#7201a8"
                          ],
                          [
                            0.3333333333333333,
                            "#9c179e"
                          ],
                          [
                            0.4444444444444444,
                            "#bd3786"
                          ],
                          [
                            0.5555555555555556,
                            "#d8576b"
                          ],
                          [
                            0.6666666666666666,
                            "#ed7953"
                          ],
                          [
                            0.7777777777777778,
                            "#fb9f3a"
                          ],
                          [
                            0.8888888888888888,
                            "#fdca26"
                          ],
                          [
                            1,
                            "#f0f921"
                          ]
                        ],
                        "type": "surface"
                      }
                    ],
                    "table": [
                      {
                        "cells": {
                          "fill": {
                            "color": "#EBF0F8"
                          },
                          "line": {
                            "color": "white"
                          }
                        },
                        "header": {
                          "fill": {
                            "color": "#C8D4E3"
                          },
                          "line": {
                            "color": "white"
                          }
                        },
                        "type": "table"
                      }
                    ]
                  },
                  "layout": {
                    "annotationdefaults": {
                      "arrowcolor": "#2a3f5f",
                      "arrowhead": 0,
                      "arrowwidth": 1
                    },
                    "autotypenumbers": "strict",
                    "coloraxis": {
                      "colorbar": {
                        "outlinewidth": 0,
                        "ticks": ""
                      }
                    },
                    "colorscale": {
                      "diverging": [
                        [
                          0,
                          "#8e0152"
                        ],
                        [
                          0.1,
                          "#c51b7d"
                        ],
                        [
                          0.2,
                          "#de77ae"
                        ],
                        [
                          0.3,
                          "#f1b6da"
                        ],
                        [
                          0.4,
                          "#fde0ef"
                        ],
                        [
                          0.5,
                          "#f7f7f7"
                        ],
                        [
                          0.6,
                          "#e6f5d0"
                        ],
                        [
                          0.7,
                          "#b8e186"
                        ],
                        [
                          0.8,
                          "#7fbc41"
                        ],
                        [
                          0.9,
                          "#4d9221"
                        ],
                        [
                          1,
                          "#276419"
                        ]
                      ],
                      "sequential": [
                        [
                          0,
                          "#0d0887"
                        ],
                        [
                          0.1111111111111111,
                          "#46039f"
                        ],
                        [
                          0.2222222222222222,
                          "#7201a8"
                        ],
                        [
                          0.3333333333333333,
                          "#9c179e"
                        ],
                        [
                          0.4444444444444444,
                          "#bd3786"
                        ],
                        [
                          0.5555555555555556,
                          "#d8576b"
                        ],
                        [
                          0.6666666666666666,
                          "#ed7953"
                        ],
                        [
                          0.7777777777777778,
                          "#fb9f3a"
                        ],
                        [
                          0.8888888888888888,
                          "#fdca26"
                        ],
                        [
                          1,
                          "#f0f921"
                        ]
                      ],
                      "sequentialminus": [
                        [
                          0,
                          "#0d0887"
                        ],
                        [
                          0.1111111111111111,
                          "#46039f"
                        ],
                        [
                          0.2222222222222222,
                          "#7201a8"
                        ],
                        [
                          0.3333333333333333,
                          "#9c179e"
                        ],
                        [
                          0.4444444444444444,
                          "#bd3786"
                        ],
                        [
                          0.5555555555555556,
                          "#d8576b"
                        ],
                        [
                          0.6666666666666666,
                          "#ed7953"
                        ],
                        [
                          0.7777777777777778,
                          "#fb9f3a"
                        ],
                        [
                          0.8888888888888888,
                          "#fdca26"
                        ],
                        [
                          1,
                          "#f0f921"
                        ]
                      ]
                    },
                    "colorway": [
                      "#636efa",
                      "#EF553B",
                      "#00cc96",
                      "#ab63fa",
                      "#FFA15A",
                      "#19d3f3",
                      "#FF6692",
                      "#B6E880",
                      "#FF97FF",
                      "#FECB52"
                    ],
                    "font": {
                      "color": "#2a3f5f"
                    },
                    "geo": {
                      "bgcolor": "white",
                      "lakecolor": "white",
                      "landcolor": "#E5ECF6",
                      "showlakes": true,
                      "showland": true,
                      "subunitcolor": "white"
                    },
                    "hoverlabel": {
                      "align": "left"
                    },
                    "hovermode": "closest",
                    "mapbox": {
                      "style": "light"
                    },
                    "paper_bgcolor": "white",
                    "plot_bgcolor": "#E5ECF6",
                    "polar": {
                      "angularaxis": {
                        "gridcolor": "white",
                        "linecolor": "white",
                        "ticks": ""
                      },
                      "bgcolor": "#E5ECF6",
                      "radialaxis": {
                        "gridcolor": "white",
                        "linecolor": "white",
                        "ticks": ""
                      }
                    },
                    "scene": {
                      "xaxis": {
                        "backgroundcolor": "#E5ECF6",
                        "gridcolor": "white",
                        "gridwidth": 2,
                        "linecolor": "white",
                        "showbackground": true,
                        "ticks": "",
                        "zerolinecolor": "white"
                      },
                      "yaxis": {
                        "backgroundcolor": "#E5ECF6",
                        "gridcolor": "white",
                        "gridwidth": 2,
                        "linecolor": "white",
                        "showbackground": true,
                        "ticks": "",
                        "zerolinecolor": "white"
                      },
                      "zaxis": {
                        "backgroundcolor": "#E5ECF6",
                        "gridcolor": "white",
                        "gridwidth": 2,
                        "linecolor": "white",
                        "showbackground": true,
                        "ticks": "",
                        "zerolinecolor": "white"
                      }
                    },
                    "shapedefaults": {
                      "line": {
                        "color": "#2a3f5f"
                      }
                    },
                    "ternary": {
                      "aaxis": {
                        "gridcolor": "white",
                        "linecolor": "white",
                        "ticks": ""
                      },
                      "baxis": {
                        "gridcolor": "white",
                        "linecolor": "white",
                        "ticks": ""
                      },
                      "bgcolor": "#E5ECF6",
                      "caxis": {
                        "gridcolor": "white",
                        "linecolor": "white",
                        "ticks": ""
                      }
                    },
                    "title": {
                      "x": 0.05
                    },
                    "xaxis": {
                      "automargin": true,
                      "gridcolor": "white",
                      "linecolor": "white",
                      "ticks": "",
                      "title": {
                        "standoff": 15
                      },
                      "zerolinecolor": "white",
                      "zerolinewidth": 2
                    },
                    "yaxis": {
                      "automargin": true,
                      "gridcolor": "white",
                      "linecolor": "white",
                      "ticks": "",
                      "title": {
                        "standoff": 15
                      },
                      "zerolinecolor": "white",
                      "zerolinewidth": 2
                    }
                  }
                },
                "title": {
                  "text": "sales based on product category in each state"
                },
                "xaxis": {
                  "anchor": "y",
                  "categoryarray": [
                    "CA_HOBBIES",
                    "CA_HOUSEHOLD",
                    "CA_FOODS",
                    "TX_HOBBIES",
                    "TX_HOUSEHOLD",
                    "TX_FOODS",
                    "WI_HOBBIES",
                    "WI_HOUSEHOLD",
                    "WI_FOODS"
                  ],
                  "categoryorder": "array",
                  "domain": [
                    0,
                    1
                  ],
                  "title": {
                    "text": "state_cat_id"
                  }
                },
                "yaxis": {
                  "anchor": "x",
                  "domain": [
                    0,
                    1
                  ],
                  "title": {
                    "text": "Total_sale"
                  }
                }
              }
            }
          },
          "metadata": {},
          "output_type": "display_data"
        }
      ],
      "source": [
        "temp_dataframe=DF_MAIN.groupby(['state_id','cat_id'],as_index=False,sort=False).agg(Total_sale=('sold',np.sum))\n",
        "temp_dataframe['state_id'] = temp_dataframe.state_id.astype('str')\n",
        "temp_dataframe['cat_id'] = temp_dataframe.cat_id.astype('str')\n",
        "temp_dataframe['state_cat_id']=temp_dataframe['state_id']+'_'+temp_dataframe['cat_id']\n",
        "px.bar(temp_dataframe, x=\"state_cat_id\", y=\"Total_sale\", color=\"state_cat_id\", title=\"sales based on product category in each state\",text='Total_sale')\n"
      ]
    },
    {
      "cell_type": "markdown",
      "metadata": {
        "id": "vzuV8bZQ2Q_m"
      },
      "source": [
        "Inference: Overall, food items are sold more than anything else in all the three states. \n",
        "\n",
        "Our Suggestion: Greater supply of food related items should be made so that we can maximize the revenue and we need to decrese the prices of hobby related items so that we can increase the sales of those items."
      ]
    },
    {
      "cell_type": "markdown",
      "metadata": {
        "id": "5p4X8h3g2Q_m"
      },
      "source": [
        "# sales by weekdays"
      ]
    },
    {
      "cell_type": "code",
      "execution_count": null,
      "metadata": {
        "id": "whKMPMT12Q_m",
        "outputId": "e936c131-75bb-4388-901a-647fe9af7a86"
      },
      "outputs": [
        {
          "data": {
            "application/vnd.plotly.v1+json": {
              "config": {
                "plotlyServerURL": "https://plot.ly"
              },
              "data": [
                {
                  "alignmentgroup": "True",
                  "hovertemplate": "weekday=%{x}<br>Total_sale=%{text}<extra></extra>",
                  "legendgroup": "Saturday",
                  "marker": {
                    "color": "#636efa",
                    "pattern": {
                      "shape": ""
                    }
                  },
                  "name": "Saturday",
                  "offsetgroup": "Saturday",
                  "orientation": "v",
                  "showlegend": true,
                  "text": [
                    11594343
                  ],
                  "textposition": "auto",
                  "type": "bar",
                  "x": [
                    "Saturday"
                  ],
                  "xaxis": "x",
                  "y": [
                    11594343
                  ],
                  "yaxis": "y"
                },
                {
                  "alignmentgroup": "True",
                  "hovertemplate": "weekday=%{x}<br>Total_sale=%{text}<extra></extra>",
                  "legendgroup": "Sunday",
                  "marker": {
                    "color": "#EF553B",
                    "pattern": {
                      "shape": ""
                    }
                  },
                  "name": "Sunday",
                  "offsetgroup": "Sunday",
                  "orientation": "v",
                  "showlegend": true,
                  "text": [
                    11482526
                  ],
                  "textposition": "auto",
                  "type": "bar",
                  "x": [
                    "Sunday"
                  ],
                  "xaxis": "x",
                  "y": [
                    11482526
                  ],
                  "yaxis": "y"
                },
                {
                  "alignmentgroup": "True",
                  "hovertemplate": "weekday=%{x}<br>Total_sale=%{text}<extra></extra>",
                  "legendgroup": "Monday",
                  "marker": {
                    "color": "#00cc96",
                    "pattern": {
                      "shape": ""
                    }
                  },
                  "name": "Monday",
                  "offsetgroup": "Monday",
                  "orientation": "v",
                  "showlegend": true,
                  "text": [
                    9139596
                  ],
                  "textposition": "auto",
                  "type": "bar",
                  "x": [
                    "Monday"
                  ],
                  "xaxis": "x",
                  "y": [
                    9139596
                  ],
                  "yaxis": "y"
                },
                {
                  "alignmentgroup": "True",
                  "hovertemplate": "weekday=%{x}<br>Total_sale=%{text}<extra></extra>",
                  "legendgroup": "Tuesday",
                  "marker": {
                    "color": "#ab63fa",
                    "pattern": {
                      "shape": ""
                    }
                  },
                  "name": "Tuesday",
                  "offsetgroup": "Tuesday",
                  "orientation": "v",
                  "showlegend": true,
                  "text": [
                    8448634
                  ],
                  "textposition": "auto",
                  "type": "bar",
                  "x": [
                    "Tuesday"
                  ],
                  "xaxis": "x",
                  "y": [
                    8448634
                  ],
                  "yaxis": "y"
                },
                {
                  "alignmentgroup": "True",
                  "hovertemplate": "weekday=%{x}<br>Total_sale=%{text}<extra></extra>",
                  "legendgroup": "Wednesday",
                  "marker": {
                    "color": "#FFA15A",
                    "pattern": {
                      "shape": ""
                    }
                  },
                  "name": "Wednesday",
                  "offsetgroup": "Wednesday",
                  "orientation": "v",
                  "showlegend": true,
                  "text": [
                    8346126
                  ],
                  "textposition": "auto",
                  "type": "bar",
                  "x": [
                    "Wednesday"
                  ],
                  "xaxis": "x",
                  "y": [
                    8346126
                  ],
                  "yaxis": "y"
                },
                {
                  "alignmentgroup": "True",
                  "hovertemplate": "weekday=%{x}<br>Total_sale=%{text}<extra></extra>",
                  "legendgroup": "Thursday",
                  "marker": {
                    "color": "#19d3f3",
                    "pattern": {
                      "shape": ""
                    }
                  },
                  "name": "Thursday",
                  "offsetgroup": "Thursday",
                  "orientation": "v",
                  "showlegend": true,
                  "text": [
                    8398928
                  ],
                  "textposition": "auto",
                  "type": "bar",
                  "x": [
                    "Thursday"
                  ],
                  "xaxis": "x",
                  "y": [
                    8398928
                  ],
                  "yaxis": "y"
                },
                {
                  "alignmentgroup": "True",
                  "hovertemplate": "weekday=%{x}<br>Total_sale=%{text}<extra></extra>",
                  "legendgroup": "Friday",
                  "marker": {
                    "color": "#FF6692",
                    "pattern": {
                      "shape": ""
                    }
                  },
                  "name": "Friday",
                  "offsetgroup": "Friday",
                  "orientation": "v",
                  "showlegend": true,
                  "text": [
                    9517020
                  ],
                  "textposition": "auto",
                  "type": "bar",
                  "x": [
                    "Friday"
                  ],
                  "xaxis": "x",
                  "y": [
                    9517020
                  ],
                  "yaxis": "y"
                }
              ],
              "layout": {
                "barmode": "relative",
                "legend": {
                  "title": {
                    "text": "weekday"
                  },
                  "tracegroupgap": 0
                },
                "template": {
                  "data": {
                    "bar": [
                      {
                        "error_x": {
                          "color": "#2a3f5f"
                        },
                        "error_y": {
                          "color": "#2a3f5f"
                        },
                        "marker": {
                          "line": {
                            "color": "#E5ECF6",
                            "width": 0.5
                          },
                          "pattern": {
                            "fillmode": "overlay",
                            "size": 10,
                            "solidity": 0.2
                          }
                        },
                        "type": "bar"
                      }
                    ],
                    "barpolar": [
                      {
                        "marker": {
                          "line": {
                            "color": "#E5ECF6",
                            "width": 0.5
                          },
                          "pattern": {
                            "fillmode": "overlay",
                            "size": 10,
                            "solidity": 0.2
                          }
                        },
                        "type": "barpolar"
                      }
                    ],
                    "carpet": [
                      {
                        "aaxis": {
                          "endlinecolor": "#2a3f5f",
                          "gridcolor": "white",
                          "linecolor": "white",
                          "minorgridcolor": "white",
                          "startlinecolor": "#2a3f5f"
                        },
                        "baxis": {
                          "endlinecolor": "#2a3f5f",
                          "gridcolor": "white",
                          "linecolor": "white",
                          "minorgridcolor": "white",
                          "startlinecolor": "#2a3f5f"
                        },
                        "type": "carpet"
                      }
                    ],
                    "choropleth": [
                      {
                        "colorbar": {
                          "outlinewidth": 0,
                          "ticks": ""
                        },
                        "type": "choropleth"
                      }
                    ],
                    "contour": [
                      {
                        "colorbar": {
                          "outlinewidth": 0,
                          "ticks": ""
                        },
                        "colorscale": [
                          [
                            0,
                            "#0d0887"
                          ],
                          [
                            0.1111111111111111,
                            "#46039f"
                          ],
                          [
                            0.2222222222222222,
                            "#7201a8"
                          ],
                          [
                            0.3333333333333333,
                            "#9c179e"
                          ],
                          [
                            0.4444444444444444,
                            "#bd3786"
                          ],
                          [
                            0.5555555555555556,
                            "#d8576b"
                          ],
                          [
                            0.6666666666666666,
                            "#ed7953"
                          ],
                          [
                            0.7777777777777778,
                            "#fb9f3a"
                          ],
                          [
                            0.8888888888888888,
                            "#fdca26"
                          ],
                          [
                            1,
                            "#f0f921"
                          ]
                        ],
                        "type": "contour"
                      }
                    ],
                    "contourcarpet": [
                      {
                        "colorbar": {
                          "outlinewidth": 0,
                          "ticks": ""
                        },
                        "type": "contourcarpet"
                      }
                    ],
                    "heatmap": [
                      {
                        "colorbar": {
                          "outlinewidth": 0,
                          "ticks": ""
                        },
                        "colorscale": [
                          [
                            0,
                            "#0d0887"
                          ],
                          [
                            0.1111111111111111,
                            "#46039f"
                          ],
                          [
                            0.2222222222222222,
                            "#7201a8"
                          ],
                          [
                            0.3333333333333333,
                            "#9c179e"
                          ],
                          [
                            0.4444444444444444,
                            "#bd3786"
                          ],
                          [
                            0.5555555555555556,
                            "#d8576b"
                          ],
                          [
                            0.6666666666666666,
                            "#ed7953"
                          ],
                          [
                            0.7777777777777778,
                            "#fb9f3a"
                          ],
                          [
                            0.8888888888888888,
                            "#fdca26"
                          ],
                          [
                            1,
                            "#f0f921"
                          ]
                        ],
                        "type": "heatmap"
                      }
                    ],
                    "heatmapgl": [
                      {
                        "colorbar": {
                          "outlinewidth": 0,
                          "ticks": ""
                        },
                        "colorscale": [
                          [
                            0,
                            "#0d0887"
                          ],
                          [
                            0.1111111111111111,
                            "#46039f"
                          ],
                          [
                            0.2222222222222222,
                            "#7201a8"
                          ],
                          [
                            0.3333333333333333,
                            "#9c179e"
                          ],
                          [
                            0.4444444444444444,
                            "#bd3786"
                          ],
                          [
                            0.5555555555555556,
                            "#d8576b"
                          ],
                          [
                            0.6666666666666666,
                            "#ed7953"
                          ],
                          [
                            0.7777777777777778,
                            "#fb9f3a"
                          ],
                          [
                            0.8888888888888888,
                            "#fdca26"
                          ],
                          [
                            1,
                            "#f0f921"
                          ]
                        ],
                        "type": "heatmapgl"
                      }
                    ],
                    "histogram": [
                      {
                        "marker": {
                          "pattern": {
                            "fillmode": "overlay",
                            "size": 10,
                            "solidity": 0.2
                          }
                        },
                        "type": "histogram"
                      }
                    ],
                    "histogram2d": [
                      {
                        "colorbar": {
                          "outlinewidth": 0,
                          "ticks": ""
                        },
                        "colorscale": [
                          [
                            0,
                            "#0d0887"
                          ],
                          [
                            0.1111111111111111,
                            "#46039f"
                          ],
                          [
                            0.2222222222222222,
                            "#7201a8"
                          ],
                          [
                            0.3333333333333333,
                            "#9c179e"
                          ],
                          [
                            0.4444444444444444,
                            "#bd3786"
                          ],
                          [
                            0.5555555555555556,
                            "#d8576b"
                          ],
                          [
                            0.6666666666666666,
                            "#ed7953"
                          ],
                          [
                            0.7777777777777778,
                            "#fb9f3a"
                          ],
                          [
                            0.8888888888888888,
                            "#fdca26"
                          ],
                          [
                            1,
                            "#f0f921"
                          ]
                        ],
                        "type": "histogram2d"
                      }
                    ],
                    "histogram2dcontour": [
                      {
                        "colorbar": {
                          "outlinewidth": 0,
                          "ticks": ""
                        },
                        "colorscale": [
                          [
                            0,
                            "#0d0887"
                          ],
                          [
                            0.1111111111111111,
                            "#46039f"
                          ],
                          [
                            0.2222222222222222,
                            "#7201a8"
                          ],
                          [
                            0.3333333333333333,
                            "#9c179e"
                          ],
                          [
                            0.4444444444444444,
                            "#bd3786"
                          ],
                          [
                            0.5555555555555556,
                            "#d8576b"
                          ],
                          [
                            0.6666666666666666,
                            "#ed7953"
                          ],
                          [
                            0.7777777777777778,
                            "#fb9f3a"
                          ],
                          [
                            0.8888888888888888,
                            "#fdca26"
                          ],
                          [
                            1,
                            "#f0f921"
                          ]
                        ],
                        "type": "histogram2dcontour"
                      }
                    ],
                    "mesh3d": [
                      {
                        "colorbar": {
                          "outlinewidth": 0,
                          "ticks": ""
                        },
                        "type": "mesh3d"
                      }
                    ],
                    "parcoords": [
                      {
                        "line": {
                          "colorbar": {
                            "outlinewidth": 0,
                            "ticks": ""
                          }
                        },
                        "type": "parcoords"
                      }
                    ],
                    "pie": [
                      {
                        "automargin": true,
                        "type": "pie"
                      }
                    ],
                    "scatter": [
                      {
                        "fillpattern": {
                          "fillmode": "overlay",
                          "size": 10,
                          "solidity": 0.2
                        },
                        "type": "scatter"
                      }
                    ],
                    "scatter3d": [
                      {
                        "line": {
                          "colorbar": {
                            "outlinewidth": 0,
                            "ticks": ""
                          }
                        },
                        "marker": {
                          "colorbar": {
                            "outlinewidth": 0,
                            "ticks": ""
                          }
                        },
                        "type": "scatter3d"
                      }
                    ],
                    "scattercarpet": [
                      {
                        "marker": {
                          "colorbar": {
                            "outlinewidth": 0,
                            "ticks": ""
                          }
                        },
                        "type": "scattercarpet"
                      }
                    ],
                    "scattergeo": [
                      {
                        "marker": {
                          "colorbar": {
                            "outlinewidth": 0,
                            "ticks": ""
                          }
                        },
                        "type": "scattergeo"
                      }
                    ],
                    "scattergl": [
                      {
                        "marker": {
                          "colorbar": {
                            "outlinewidth": 0,
                            "ticks": ""
                          }
                        },
                        "type": "scattergl"
                      }
                    ],
                    "scattermapbox": [
                      {
                        "marker": {
                          "colorbar": {
                            "outlinewidth": 0,
                            "ticks": ""
                          }
                        },
                        "type": "scattermapbox"
                      }
                    ],
                    "scatterpolar": [
                      {
                        "marker": {
                          "colorbar": {
                            "outlinewidth": 0,
                            "ticks": ""
                          }
                        },
                        "type": "scatterpolar"
                      }
                    ],
                    "scatterpolargl": [
                      {
                        "marker": {
                          "colorbar": {
                            "outlinewidth": 0,
                            "ticks": ""
                          }
                        },
                        "type": "scatterpolargl"
                      }
                    ],
                    "scatterternary": [
                      {
                        "marker": {
                          "colorbar": {
                            "outlinewidth": 0,
                            "ticks": ""
                          }
                        },
                        "type": "scatterternary"
                      }
                    ],
                    "surface": [
                      {
                        "colorbar": {
                          "outlinewidth": 0,
                          "ticks": ""
                        },
                        "colorscale": [
                          [
                            0,
                            "#0d0887"
                          ],
                          [
                            0.1111111111111111,
                            "#46039f"
                          ],
                          [
                            0.2222222222222222,
                            "#7201a8"
                          ],
                          [
                            0.3333333333333333,
                            "#9c179e"
                          ],
                          [
                            0.4444444444444444,
                            "#bd3786"
                          ],
                          [
                            0.5555555555555556,
                            "#d8576b"
                          ],
                          [
                            0.6666666666666666,
                            "#ed7953"
                          ],
                          [
                            0.7777777777777778,
                            "#fb9f3a"
                          ],
                          [
                            0.8888888888888888,
                            "#fdca26"
                          ],
                          [
                            1,
                            "#f0f921"
                          ]
                        ],
                        "type": "surface"
                      }
                    ],
                    "table": [
                      {
                        "cells": {
                          "fill": {
                            "color": "#EBF0F8"
                          },
                          "line": {
                            "color": "white"
                          }
                        },
                        "header": {
                          "fill": {
                            "color": "#C8D4E3"
                          },
                          "line": {
                            "color": "white"
                          }
                        },
                        "type": "table"
                      }
                    ]
                  },
                  "layout": {
                    "annotationdefaults": {
                      "arrowcolor": "#2a3f5f",
                      "arrowhead": 0,
                      "arrowwidth": 1
                    },
                    "autotypenumbers": "strict",
                    "coloraxis": {
                      "colorbar": {
                        "outlinewidth": 0,
                        "ticks": ""
                      }
                    },
                    "colorscale": {
                      "diverging": [
                        [
                          0,
                          "#8e0152"
                        ],
                        [
                          0.1,
                          "#c51b7d"
                        ],
                        [
                          0.2,
                          "#de77ae"
                        ],
                        [
                          0.3,
                          "#f1b6da"
                        ],
                        [
                          0.4,
                          "#fde0ef"
                        ],
                        [
                          0.5,
                          "#f7f7f7"
                        ],
                        [
                          0.6,
                          "#e6f5d0"
                        ],
                        [
                          0.7,
                          "#b8e186"
                        ],
                        [
                          0.8,
                          "#7fbc41"
                        ],
                        [
                          0.9,
                          "#4d9221"
                        ],
                        [
                          1,
                          "#276419"
                        ]
                      ],
                      "sequential": [
                        [
                          0,
                          "#0d0887"
                        ],
                        [
                          0.1111111111111111,
                          "#46039f"
                        ],
                        [
                          0.2222222222222222,
                          "#7201a8"
                        ],
                        [
                          0.3333333333333333,
                          "#9c179e"
                        ],
                        [
                          0.4444444444444444,
                          "#bd3786"
                        ],
                        [
                          0.5555555555555556,
                          "#d8576b"
                        ],
                        [
                          0.6666666666666666,
                          "#ed7953"
                        ],
                        [
                          0.7777777777777778,
                          "#fb9f3a"
                        ],
                        [
                          0.8888888888888888,
                          "#fdca26"
                        ],
                        [
                          1,
                          "#f0f921"
                        ]
                      ],
                      "sequentialminus": [
                        [
                          0,
                          "#0d0887"
                        ],
                        [
                          0.1111111111111111,
                          "#46039f"
                        ],
                        [
                          0.2222222222222222,
                          "#7201a8"
                        ],
                        [
                          0.3333333333333333,
                          "#9c179e"
                        ],
                        [
                          0.4444444444444444,
                          "#bd3786"
                        ],
                        [
                          0.5555555555555556,
                          "#d8576b"
                        ],
                        [
                          0.6666666666666666,
                          "#ed7953"
                        ],
                        [
                          0.7777777777777778,
                          "#fb9f3a"
                        ],
                        [
                          0.8888888888888888,
                          "#fdca26"
                        ],
                        [
                          1,
                          "#f0f921"
                        ]
                      ]
                    },
                    "colorway": [
                      "#636efa",
                      "#EF553B",
                      "#00cc96",
                      "#ab63fa",
                      "#FFA15A",
                      "#19d3f3",
                      "#FF6692",
                      "#B6E880",
                      "#FF97FF",
                      "#FECB52"
                    ],
                    "font": {
                      "color": "#2a3f5f"
                    },
                    "geo": {
                      "bgcolor": "white",
                      "lakecolor": "white",
                      "landcolor": "#E5ECF6",
                      "showlakes": true,
                      "showland": true,
                      "subunitcolor": "white"
                    },
                    "hoverlabel": {
                      "align": "left"
                    },
                    "hovermode": "closest",
                    "mapbox": {
                      "style": "light"
                    },
                    "paper_bgcolor": "white",
                    "plot_bgcolor": "#E5ECF6",
                    "polar": {
                      "angularaxis": {
                        "gridcolor": "white",
                        "linecolor": "white",
                        "ticks": ""
                      },
                      "bgcolor": "#E5ECF6",
                      "radialaxis": {
                        "gridcolor": "white",
                        "linecolor": "white",
                        "ticks": ""
                      }
                    },
                    "scene": {
                      "xaxis": {
                        "backgroundcolor": "#E5ECF6",
                        "gridcolor": "white",
                        "gridwidth": 2,
                        "linecolor": "white",
                        "showbackground": true,
                        "ticks": "",
                        "zerolinecolor": "white"
                      },
                      "yaxis": {
                        "backgroundcolor": "#E5ECF6",
                        "gridcolor": "white",
                        "gridwidth": 2,
                        "linecolor": "white",
                        "showbackground": true,
                        "ticks": "",
                        "zerolinecolor": "white"
                      },
                      "zaxis": {
                        "backgroundcolor": "#E5ECF6",
                        "gridcolor": "white",
                        "gridwidth": 2,
                        "linecolor": "white",
                        "showbackground": true,
                        "ticks": "",
                        "zerolinecolor": "white"
                      }
                    },
                    "shapedefaults": {
                      "line": {
                        "color": "#2a3f5f"
                      }
                    },
                    "ternary": {
                      "aaxis": {
                        "gridcolor": "white",
                        "linecolor": "white",
                        "ticks": ""
                      },
                      "baxis": {
                        "gridcolor": "white",
                        "linecolor": "white",
                        "ticks": ""
                      },
                      "bgcolor": "#E5ECF6",
                      "caxis": {
                        "gridcolor": "white",
                        "linecolor": "white",
                        "ticks": ""
                      }
                    },
                    "title": {
                      "x": 0.05
                    },
                    "xaxis": {
                      "automargin": true,
                      "gridcolor": "white",
                      "linecolor": "white",
                      "ticks": "",
                      "title": {
                        "standoff": 15
                      },
                      "zerolinecolor": "white",
                      "zerolinewidth": 2
                    },
                    "yaxis": {
                      "automargin": true,
                      "gridcolor": "white",
                      "linecolor": "white",
                      "ticks": "",
                      "title": {
                        "standoff": 15
                      },
                      "zerolinecolor": "white",
                      "zerolinewidth": 2
                    }
                  }
                },
                "title": {
                  "text": "sales by weekdays"
                },
                "xaxis": {
                  "anchor": "y",
                  "categoryarray": [
                    "Saturday",
                    "Sunday",
                    "Monday",
                    "Tuesday",
                    "Wednesday",
                    "Thursday",
                    "Friday"
                  ],
                  "categoryorder": "array",
                  "domain": [
                    0,
                    1
                  ],
                  "title": {
                    "text": "weekday"
                  }
                },
                "yaxis": {
                  "anchor": "x",
                  "domain": [
                    0,
                    1
                  ],
                  "title": {
                    "text": "Total_sale"
                  }
                }
              }
            }
          },
          "metadata": {},
          "output_type": "display_data"
        }
      ],
      "source": [
        "temp_dataframe=DF_MAIN.groupby(['weekday'],as_index=False,sort=False).agg(Total_sale=('sold',np.sum))\n",
        "px.bar(temp_dataframe, x=\"weekday\", y=\"Total_sale\", color=\"weekday\", title=\"sales by weekdays\",text='Total_sale')"
      ]
    },
    {
      "cell_type": "markdown",
      "metadata": {
        "id": "7WGUJr_82Q_n"
      },
      "source": [
        "Inference: Fridays, Sturdays and Sundays are having greater revenue percentage as compared to other days of the week.\n",
        "\n",
        "Our Suggestion: Just like we have \"happy hours\" in many stores. We can give \"happy wednesdays\" or \"happy tuesdays\" in order to increase the sales on those days."
      ]
    },
    {
      "cell_type": "markdown",
      "metadata": {
        "id": "6vjeWKch2Q_n"
      },
      "source": [
        "# Sales based on event_type_1"
      ]
    },
    {
      "cell_type": "code",
      "execution_count": null,
      "metadata": {
        "id": "w4JMDjs72Q_n",
        "outputId": "80a72228-f148-44c3-8feb-842fa78e1232"
      },
      "outputs": [
        {
          "data": {
            "application/vnd.plotly.v1+json": {
              "config": {
                "plotlyServerURL": "https://plot.ly"
              },
              "data": [
                {
                  "alignmentgroup": "True",
                  "hovertemplate": "event_type_1=%{x}<br>Mean_sale=%{text}<extra></extra>",
                  "legendgroup": "Cultural",
                  "marker": {
                    "color": "#636efa",
                    "pattern": {
                      "shape": ""
                    }
                  },
                  "name": "Cultural",
                  "offsetgroup": "Cultural",
                  "orientation": "v",
                  "showlegend": true,
                  "text": [
                    1.1386879171726663
                  ],
                  "textposition": "auto",
                  "type": "bar",
                  "x": [
                    "Cultural"
                  ],
                  "xaxis": "x",
                  "y": [
                    1.1386879171726663
                  ],
                  "yaxis": "y"
                },
                {
                  "alignmentgroup": "True",
                  "hovertemplate": "event_type_1=%{x}<br>Mean_sale=%{text}<extra></extra>",
                  "legendgroup": "National",
                  "marker": {
                    "color": "#EF553B",
                    "pattern": {
                      "shape": ""
                    }
                  },
                  "name": "National",
                  "offsetgroup": "National",
                  "orientation": "v",
                  "showlegend": true,
                  "text": [
                    0.9661695573604975
                  ],
                  "textposition": "auto",
                  "type": "bar",
                  "x": [
                    "National"
                  ],
                  "xaxis": "x",
                  "y": [
                    0.9661695573604975
                  ],
                  "yaxis": "y"
                },
                {
                  "alignmentgroup": "True",
                  "hovertemplate": "event_type_1=%{x}<br>Mean_sale=%{text}<extra></extra>",
                  "legendgroup": "No_event",
                  "marker": {
                    "color": "#00cc96",
                    "pattern": {
                      "shape": ""
                    }
                  },
                  "name": "No_event",
                  "offsetgroup": "No_event",
                  "orientation": "v",
                  "showlegend": true,
                  "text": [
                    1.1351045100523935
                  ],
                  "textposition": "auto",
                  "type": "bar",
                  "x": [
                    "No_event"
                  ],
                  "xaxis": "x",
                  "y": [
                    1.1351045100523935
                  ],
                  "yaxis": "y"
                },
                {
                  "alignmentgroup": "True",
                  "hovertemplate": "event_type_1=%{x}<br>Mean_sale=%{text}<extra></extra>",
                  "legendgroup": "Religious",
                  "marker": {
                    "color": "#ab63fa",
                    "pattern": {
                      "shape": ""
                    }
                  },
                  "name": "Religious",
                  "offsetgroup": "Religious",
                  "orientation": "v",
                  "showlegend": true,
                  "text": [
                    1.1290994011394142
                  ],
                  "textposition": "auto",
                  "type": "bar",
                  "x": [
                    "Religious"
                  ],
                  "xaxis": "x",
                  "y": [
                    1.1290994011394142
                  ],
                  "yaxis": "y"
                },
                {
                  "alignmentgroup": "True",
                  "hovertemplate": "event_type_1=%{x}<br>Mean_sale=%{text}<extra></extra>",
                  "legendgroup": "Sporting",
                  "marker": {
                    "color": "#FFA15A",
                    "pattern": {
                      "shape": ""
                    }
                  },
                  "name": "Sporting",
                  "offsetgroup": "Sporting",
                  "orientation": "v",
                  "showlegend": true,
                  "text": [
                    1.1740263201049523
                  ],
                  "textposition": "auto",
                  "type": "bar",
                  "x": [
                    "Sporting"
                  ],
                  "xaxis": "x",
                  "y": [
                    1.1740263201049523
                  ],
                  "yaxis": "y"
                }
              ],
              "layout": {
                "barmode": "relative",
                "legend": {
                  "title": {
                    "text": "event_type_1"
                  },
                  "tracegroupgap": 0
                },
                "template": {
                  "data": {
                    "bar": [
                      {
                        "error_x": {
                          "color": "#2a3f5f"
                        },
                        "error_y": {
                          "color": "#2a3f5f"
                        },
                        "marker": {
                          "line": {
                            "color": "#E5ECF6",
                            "width": 0.5
                          },
                          "pattern": {
                            "fillmode": "overlay",
                            "size": 10,
                            "solidity": 0.2
                          }
                        },
                        "type": "bar"
                      }
                    ],
                    "barpolar": [
                      {
                        "marker": {
                          "line": {
                            "color": "#E5ECF6",
                            "width": 0.5
                          },
                          "pattern": {
                            "fillmode": "overlay",
                            "size": 10,
                            "solidity": 0.2
                          }
                        },
                        "type": "barpolar"
                      }
                    ],
                    "carpet": [
                      {
                        "aaxis": {
                          "endlinecolor": "#2a3f5f",
                          "gridcolor": "white",
                          "linecolor": "white",
                          "minorgridcolor": "white",
                          "startlinecolor": "#2a3f5f"
                        },
                        "baxis": {
                          "endlinecolor": "#2a3f5f",
                          "gridcolor": "white",
                          "linecolor": "white",
                          "minorgridcolor": "white",
                          "startlinecolor": "#2a3f5f"
                        },
                        "type": "carpet"
                      }
                    ],
                    "choropleth": [
                      {
                        "colorbar": {
                          "outlinewidth": 0,
                          "ticks": ""
                        },
                        "type": "choropleth"
                      }
                    ],
                    "contour": [
                      {
                        "colorbar": {
                          "outlinewidth": 0,
                          "ticks": ""
                        },
                        "colorscale": [
                          [
                            0,
                            "#0d0887"
                          ],
                          [
                            0.1111111111111111,
                            "#46039f"
                          ],
                          [
                            0.2222222222222222,
                            "#7201a8"
                          ],
                          [
                            0.3333333333333333,
                            "#9c179e"
                          ],
                          [
                            0.4444444444444444,
                            "#bd3786"
                          ],
                          [
                            0.5555555555555556,
                            "#d8576b"
                          ],
                          [
                            0.6666666666666666,
                            "#ed7953"
                          ],
                          [
                            0.7777777777777778,
                            "#fb9f3a"
                          ],
                          [
                            0.8888888888888888,
                            "#fdca26"
                          ],
                          [
                            1,
                            "#f0f921"
                          ]
                        ],
                        "type": "contour"
                      }
                    ],
                    "contourcarpet": [
                      {
                        "colorbar": {
                          "outlinewidth": 0,
                          "ticks": ""
                        },
                        "type": "contourcarpet"
                      }
                    ],
                    "heatmap": [
                      {
                        "colorbar": {
                          "outlinewidth": 0,
                          "ticks": ""
                        },
                        "colorscale": [
                          [
                            0,
                            "#0d0887"
                          ],
                          [
                            0.1111111111111111,
                            "#46039f"
                          ],
                          [
                            0.2222222222222222,
                            "#7201a8"
                          ],
                          [
                            0.3333333333333333,
                            "#9c179e"
                          ],
                          [
                            0.4444444444444444,
                            "#bd3786"
                          ],
                          [
                            0.5555555555555556,
                            "#d8576b"
                          ],
                          [
                            0.6666666666666666,
                            "#ed7953"
                          ],
                          [
                            0.7777777777777778,
                            "#fb9f3a"
                          ],
                          [
                            0.8888888888888888,
                            "#fdca26"
                          ],
                          [
                            1,
                            "#f0f921"
                          ]
                        ],
                        "type": "heatmap"
                      }
                    ],
                    "heatmapgl": [
                      {
                        "colorbar": {
                          "outlinewidth": 0,
                          "ticks": ""
                        },
                        "colorscale": [
                          [
                            0,
                            "#0d0887"
                          ],
                          [
                            0.1111111111111111,
                            "#46039f"
                          ],
                          [
                            0.2222222222222222,
                            "#7201a8"
                          ],
                          [
                            0.3333333333333333,
                            "#9c179e"
                          ],
                          [
                            0.4444444444444444,
                            "#bd3786"
                          ],
                          [
                            0.5555555555555556,
                            "#d8576b"
                          ],
                          [
                            0.6666666666666666,
                            "#ed7953"
                          ],
                          [
                            0.7777777777777778,
                            "#fb9f3a"
                          ],
                          [
                            0.8888888888888888,
                            "#fdca26"
                          ],
                          [
                            1,
                            "#f0f921"
                          ]
                        ],
                        "type": "heatmapgl"
                      }
                    ],
                    "histogram": [
                      {
                        "marker": {
                          "pattern": {
                            "fillmode": "overlay",
                            "size": 10,
                            "solidity": 0.2
                          }
                        },
                        "type": "histogram"
                      }
                    ],
                    "histogram2d": [
                      {
                        "colorbar": {
                          "outlinewidth": 0,
                          "ticks": ""
                        },
                        "colorscale": [
                          [
                            0,
                            "#0d0887"
                          ],
                          [
                            0.1111111111111111,
                            "#46039f"
                          ],
                          [
                            0.2222222222222222,
                            "#7201a8"
                          ],
                          [
                            0.3333333333333333,
                            "#9c179e"
                          ],
                          [
                            0.4444444444444444,
                            "#bd3786"
                          ],
                          [
                            0.5555555555555556,
                            "#d8576b"
                          ],
                          [
                            0.6666666666666666,
                            "#ed7953"
                          ],
                          [
                            0.7777777777777778,
                            "#fb9f3a"
                          ],
                          [
                            0.8888888888888888,
                            "#fdca26"
                          ],
                          [
                            1,
                            "#f0f921"
                          ]
                        ],
                        "type": "histogram2d"
                      }
                    ],
                    "histogram2dcontour": [
                      {
                        "colorbar": {
                          "outlinewidth": 0,
                          "ticks": ""
                        },
                        "colorscale": [
                          [
                            0,
                            "#0d0887"
                          ],
                          [
                            0.1111111111111111,
                            "#46039f"
                          ],
                          [
                            0.2222222222222222,
                            "#7201a8"
                          ],
                          [
                            0.3333333333333333,
                            "#9c179e"
                          ],
                          [
                            0.4444444444444444,
                            "#bd3786"
                          ],
                          [
                            0.5555555555555556,
                            "#d8576b"
                          ],
                          [
                            0.6666666666666666,
                            "#ed7953"
                          ],
                          [
                            0.7777777777777778,
                            "#fb9f3a"
                          ],
                          [
                            0.8888888888888888,
                            "#fdca26"
                          ],
                          [
                            1,
                            "#f0f921"
                          ]
                        ],
                        "type": "histogram2dcontour"
                      }
                    ],
                    "mesh3d": [
                      {
                        "colorbar": {
                          "outlinewidth": 0,
                          "ticks": ""
                        },
                        "type": "mesh3d"
                      }
                    ],
                    "parcoords": [
                      {
                        "line": {
                          "colorbar": {
                            "outlinewidth": 0,
                            "ticks": ""
                          }
                        },
                        "type": "parcoords"
                      }
                    ],
                    "pie": [
                      {
                        "automargin": true,
                        "type": "pie"
                      }
                    ],
                    "scatter": [
                      {
                        "fillpattern": {
                          "fillmode": "overlay",
                          "size": 10,
                          "solidity": 0.2
                        },
                        "type": "scatter"
                      }
                    ],
                    "scatter3d": [
                      {
                        "line": {
                          "colorbar": {
                            "outlinewidth": 0,
                            "ticks": ""
                          }
                        },
                        "marker": {
                          "colorbar": {
                            "outlinewidth": 0,
                            "ticks": ""
                          }
                        },
                        "type": "scatter3d"
                      }
                    ],
                    "scattercarpet": [
                      {
                        "marker": {
                          "colorbar": {
                            "outlinewidth": 0,
                            "ticks": ""
                          }
                        },
                        "type": "scattercarpet"
                      }
                    ],
                    "scattergeo": [
                      {
                        "marker": {
                          "colorbar": {
                            "outlinewidth": 0,
                            "ticks": ""
                          }
                        },
                        "type": "scattergeo"
                      }
                    ],
                    "scattergl": [
                      {
                        "marker": {
                          "colorbar": {
                            "outlinewidth": 0,
                            "ticks": ""
                          }
                        },
                        "type": "scattergl"
                      }
                    ],
                    "scattermapbox": [
                      {
                        "marker": {
                          "colorbar": {
                            "outlinewidth": 0,
                            "ticks": ""
                          }
                        },
                        "type": "scattermapbox"
                      }
                    ],
                    "scatterpolar": [
                      {
                        "marker": {
                          "colorbar": {
                            "outlinewidth": 0,
                            "ticks": ""
                          }
                        },
                        "type": "scatterpolar"
                      }
                    ],
                    "scatterpolargl": [
                      {
                        "marker": {
                          "colorbar": {
                            "outlinewidth": 0,
                            "ticks": ""
                          }
                        },
                        "type": "scatterpolargl"
                      }
                    ],
                    "scatterternary": [
                      {
                        "marker": {
                          "colorbar": {
                            "outlinewidth": 0,
                            "ticks": ""
                          }
                        },
                        "type": "scatterternary"
                      }
                    ],
                    "surface": [
                      {
                        "colorbar": {
                          "outlinewidth": 0,
                          "ticks": ""
                        },
                        "colorscale": [
                          [
                            0,
                            "#0d0887"
                          ],
                          [
                            0.1111111111111111,
                            "#46039f"
                          ],
                          [
                            0.2222222222222222,
                            "#7201a8"
                          ],
                          [
                            0.3333333333333333,
                            "#9c179e"
                          ],
                          [
                            0.4444444444444444,
                            "#bd3786"
                          ],
                          [
                            0.5555555555555556,
                            "#d8576b"
                          ],
                          [
                            0.6666666666666666,
                            "#ed7953"
                          ],
                          [
                            0.7777777777777778,
                            "#fb9f3a"
                          ],
                          [
                            0.8888888888888888,
                            "#fdca26"
                          ],
                          [
                            1,
                            "#f0f921"
                          ]
                        ],
                        "type": "surface"
                      }
                    ],
                    "table": [
                      {
                        "cells": {
                          "fill": {
                            "color": "#EBF0F8"
                          },
                          "line": {
                            "color": "white"
                          }
                        },
                        "header": {
                          "fill": {
                            "color": "#C8D4E3"
                          },
                          "line": {
                            "color": "white"
                          }
                        },
                        "type": "table"
                      }
                    ]
                  },
                  "layout": {
                    "annotationdefaults": {
                      "arrowcolor": "#2a3f5f",
                      "arrowhead": 0,
                      "arrowwidth": 1
                    },
                    "autotypenumbers": "strict",
                    "coloraxis": {
                      "colorbar": {
                        "outlinewidth": 0,
                        "ticks": ""
                      }
                    },
                    "colorscale": {
                      "diverging": [
                        [
                          0,
                          "#8e0152"
                        ],
                        [
                          0.1,
                          "#c51b7d"
                        ],
                        [
                          0.2,
                          "#de77ae"
                        ],
                        [
                          0.3,
                          "#f1b6da"
                        ],
                        [
                          0.4,
                          "#fde0ef"
                        ],
                        [
                          0.5,
                          "#f7f7f7"
                        ],
                        [
                          0.6,
                          "#e6f5d0"
                        ],
                        [
                          0.7,
                          "#b8e186"
                        ],
                        [
                          0.8,
                          "#7fbc41"
                        ],
                        [
                          0.9,
                          "#4d9221"
                        ],
                        [
                          1,
                          "#276419"
                        ]
                      ],
                      "sequential": [
                        [
                          0,
                          "#0d0887"
                        ],
                        [
                          0.1111111111111111,
                          "#46039f"
                        ],
                        [
                          0.2222222222222222,
                          "#7201a8"
                        ],
                        [
                          0.3333333333333333,
                          "#9c179e"
                        ],
                        [
                          0.4444444444444444,
                          "#bd3786"
                        ],
                        [
                          0.5555555555555556,
                          "#d8576b"
                        ],
                        [
                          0.6666666666666666,
                          "#ed7953"
                        ],
                        [
                          0.7777777777777778,
                          "#fb9f3a"
                        ],
                        [
                          0.8888888888888888,
                          "#fdca26"
                        ],
                        [
                          1,
                          "#f0f921"
                        ]
                      ],
                      "sequentialminus": [
                        [
                          0,
                          "#0d0887"
                        ],
                        [
                          0.1111111111111111,
                          "#46039f"
                        ],
                        [
                          0.2222222222222222,
                          "#7201a8"
                        ],
                        [
                          0.3333333333333333,
                          "#9c179e"
                        ],
                        [
                          0.4444444444444444,
                          "#bd3786"
                        ],
                        [
                          0.5555555555555556,
                          "#d8576b"
                        ],
                        [
                          0.6666666666666666,
                          "#ed7953"
                        ],
                        [
                          0.7777777777777778,
                          "#fb9f3a"
                        ],
                        [
                          0.8888888888888888,
                          "#fdca26"
                        ],
                        [
                          1,
                          "#f0f921"
                        ]
                      ]
                    },
                    "colorway": [
                      "#636efa",
                      "#EF553B",
                      "#00cc96",
                      "#ab63fa",
                      "#FFA15A",
                      "#19d3f3",
                      "#FF6692",
                      "#B6E880",
                      "#FF97FF",
                      "#FECB52"
                    ],
                    "font": {
                      "color": "#2a3f5f"
                    },
                    "geo": {
                      "bgcolor": "white",
                      "lakecolor": "white",
                      "landcolor": "#E5ECF6",
                      "showlakes": true,
                      "showland": true,
                      "subunitcolor": "white"
                    },
                    "hoverlabel": {
                      "align": "left"
                    },
                    "hovermode": "closest",
                    "mapbox": {
                      "style": "light"
                    },
                    "paper_bgcolor": "white",
                    "plot_bgcolor": "#E5ECF6",
                    "polar": {
                      "angularaxis": {
                        "gridcolor": "white",
                        "linecolor": "white",
                        "ticks": ""
                      },
                      "bgcolor": "#E5ECF6",
                      "radialaxis": {
                        "gridcolor": "white",
                        "linecolor": "white",
                        "ticks": ""
                      }
                    },
                    "scene": {
                      "xaxis": {
                        "backgroundcolor": "#E5ECF6",
                        "gridcolor": "white",
                        "gridwidth": 2,
                        "linecolor": "white",
                        "showbackground": true,
                        "ticks": "",
                        "zerolinecolor": "white"
                      },
                      "yaxis": {
                        "backgroundcolor": "#E5ECF6",
                        "gridcolor": "white",
                        "gridwidth": 2,
                        "linecolor": "white",
                        "showbackground": true,
                        "ticks": "",
                        "zerolinecolor": "white"
                      },
                      "zaxis": {
                        "backgroundcolor": "#E5ECF6",
                        "gridcolor": "white",
                        "gridwidth": 2,
                        "linecolor": "white",
                        "showbackground": true,
                        "ticks": "",
                        "zerolinecolor": "white"
                      }
                    },
                    "shapedefaults": {
                      "line": {
                        "color": "#2a3f5f"
                      }
                    },
                    "ternary": {
                      "aaxis": {
                        "gridcolor": "white",
                        "linecolor": "white",
                        "ticks": ""
                      },
                      "baxis": {
                        "gridcolor": "white",
                        "linecolor": "white",
                        "ticks": ""
                      },
                      "bgcolor": "#E5ECF6",
                      "caxis": {
                        "gridcolor": "white",
                        "linecolor": "white",
                        "ticks": ""
                      }
                    },
                    "title": {
                      "x": 0.05
                    },
                    "xaxis": {
                      "automargin": true,
                      "gridcolor": "white",
                      "linecolor": "white",
                      "ticks": "",
                      "title": {
                        "standoff": 15
                      },
                      "zerolinecolor": "white",
                      "zerolinewidth": 2
                    },
                    "yaxis": {
                      "automargin": true,
                      "gridcolor": "white",
                      "linecolor": "white",
                      "ticks": "",
                      "title": {
                        "standoff": 15
                      },
                      "zerolinecolor": "white",
                      "zerolinewidth": 2
                    }
                  }
                },
                "title": {
                  "text": "sales based on event_type1"
                },
                "xaxis": {
                  "anchor": "y",
                  "categoryarray": [
                    "Cultural",
                    "National",
                    "No_event",
                    "Religious",
                    "Sporting"
                  ],
                  "categoryorder": "array",
                  "domain": [
                    0,
                    1
                  ],
                  "title": {
                    "text": "event_type_1"
                  }
                },
                "yaxis": {
                  "anchor": "x",
                  "domain": [
                    0,
                    1
                  ],
                  "title": {
                    "text": "Mean_sale"
                  }
                }
              }
            }
          },
          "metadata": {},
          "output_type": "display_data"
        }
      ],
      "source": [
        "temp_dataframe=DF_MAIN.groupby(['event_type_1'],as_index=False).agg(Mean_sale=('sold',np.mean))\n",
        "px.bar(temp_dataframe, x=\"event_type_1\", y=\"Mean_sale\", color=\"event_type_1\", title=\"sales based on event_type1\",text='Mean_sale')"
      ]
    },
    {
      "cell_type": "markdown",
      "metadata": {
        "id": "LFuh93PX2Q_n"
      },
      "source": [
        "Inference: We can see that the sales are less on national holidays.\n",
        "\n",
        "Our Suggestion: We need to lower the prices of products especially food related items on national holidays so that we can maximize the revenue."
      ]
    },
    {
      "cell_type": "markdown",
      "metadata": {
        "id": "a3C5rdJG2Q_n"
      },
      "source": [
        "# Sales based on event_type_2"
      ]
    },
    {
      "cell_type": "code",
      "execution_count": null,
      "metadata": {
        "id": "w3qWSi1i2Q_n",
        "outputId": "627f0fc7-b37d-455b-8ad8-aade108ac510"
      },
      "outputs": [
        {
          "data": {
            "application/vnd.plotly.v1+json": {
              "config": {
                "plotlyServerURL": "https://plot.ly"
              },
              "data": [
                {
                  "alignmentgroup": "True",
                  "hovertemplate": "event_type_2=%{x}<br>Mean_sale=%{text}<extra></extra>",
                  "legendgroup": "Cultural",
                  "marker": {
                    "color": "#636efa",
                    "pattern": {
                      "shape": ""
                    }
                  },
                  "name": "Cultural",
                  "offsetgroup": "Cultural",
                  "orientation": "v",
                  "showlegend": true,
                  "text": [
                    1.1994643052366896
                  ],
                  "textposition": "auto",
                  "type": "bar",
                  "x": [
                    "Cultural"
                  ],
                  "xaxis": "x",
                  "y": [
                    1.1994643052366896
                  ],
                  "yaxis": "y"
                },
                {
                  "alignmentgroup": "True",
                  "hovertemplate": "event_type_2=%{x}<br>Mean_sale=%{text}<extra></extra>",
                  "legendgroup": "No_event",
                  "marker": {
                    "color": "#EF553B",
                    "pattern": {
                      "shape": ""
                    }
                  },
                  "name": "No_event",
                  "offsetgroup": "No_event",
                  "orientation": "v",
                  "showlegend": true,
                  "text": [
                    1.1307061922517314
                  ],
                  "textposition": "auto",
                  "type": "bar",
                  "x": [
                    "No_event"
                  ],
                  "xaxis": "x",
                  "y": [
                    1.1307061922517314
                  ],
                  "yaxis": "y"
                },
                {
                  "alignmentgroup": "True",
                  "hovertemplate": "event_type_2=%{x}<br>Mean_sale=%{text}<extra></extra>",
                  "legendgroup": "Religious",
                  "marker": {
                    "color": "#00cc96",
                    "pattern": {
                      "shape": ""
                    }
                  },
                  "name": "Religious",
                  "offsetgroup": "Religious",
                  "orientation": "v",
                  "showlegend": true,
                  "text": [
                    1.276943260085274
                  ],
                  "textposition": "auto",
                  "type": "bar",
                  "x": [
                    "Religious"
                  ],
                  "xaxis": "x",
                  "y": [
                    1.276943260085274
                  ],
                  "yaxis": "y"
                }
              ],
              "layout": {
                "barmode": "relative",
                "legend": {
                  "title": {
                    "text": "event_type_2"
                  },
                  "tracegroupgap": 0
                },
                "template": {
                  "data": {
                    "bar": [
                      {
                        "error_x": {
                          "color": "#2a3f5f"
                        },
                        "error_y": {
                          "color": "#2a3f5f"
                        },
                        "marker": {
                          "line": {
                            "color": "#E5ECF6",
                            "width": 0.5
                          },
                          "pattern": {
                            "fillmode": "overlay",
                            "size": 10,
                            "solidity": 0.2
                          }
                        },
                        "type": "bar"
                      }
                    ],
                    "barpolar": [
                      {
                        "marker": {
                          "line": {
                            "color": "#E5ECF6",
                            "width": 0.5
                          },
                          "pattern": {
                            "fillmode": "overlay",
                            "size": 10,
                            "solidity": 0.2
                          }
                        },
                        "type": "barpolar"
                      }
                    ],
                    "carpet": [
                      {
                        "aaxis": {
                          "endlinecolor": "#2a3f5f",
                          "gridcolor": "white",
                          "linecolor": "white",
                          "minorgridcolor": "white",
                          "startlinecolor": "#2a3f5f"
                        },
                        "baxis": {
                          "endlinecolor": "#2a3f5f",
                          "gridcolor": "white",
                          "linecolor": "white",
                          "minorgridcolor": "white",
                          "startlinecolor": "#2a3f5f"
                        },
                        "type": "carpet"
                      }
                    ],
                    "choropleth": [
                      {
                        "colorbar": {
                          "outlinewidth": 0,
                          "ticks": ""
                        },
                        "type": "choropleth"
                      }
                    ],
                    "contour": [
                      {
                        "colorbar": {
                          "outlinewidth": 0,
                          "ticks": ""
                        },
                        "colorscale": [
                          [
                            0,
                            "#0d0887"
                          ],
                          [
                            0.1111111111111111,
                            "#46039f"
                          ],
                          [
                            0.2222222222222222,
                            "#7201a8"
                          ],
                          [
                            0.3333333333333333,
                            "#9c179e"
                          ],
                          [
                            0.4444444444444444,
                            "#bd3786"
                          ],
                          [
                            0.5555555555555556,
                            "#d8576b"
                          ],
                          [
                            0.6666666666666666,
                            "#ed7953"
                          ],
                          [
                            0.7777777777777778,
                            "#fb9f3a"
                          ],
                          [
                            0.8888888888888888,
                            "#fdca26"
                          ],
                          [
                            1,
                            "#f0f921"
                          ]
                        ],
                        "type": "contour"
                      }
                    ],
                    "contourcarpet": [
                      {
                        "colorbar": {
                          "outlinewidth": 0,
                          "ticks": ""
                        },
                        "type": "contourcarpet"
                      }
                    ],
                    "heatmap": [
                      {
                        "colorbar": {
                          "outlinewidth": 0,
                          "ticks": ""
                        },
                        "colorscale": [
                          [
                            0,
                            "#0d0887"
                          ],
                          [
                            0.1111111111111111,
                            "#46039f"
                          ],
                          [
                            0.2222222222222222,
                            "#7201a8"
                          ],
                          [
                            0.3333333333333333,
                            "#9c179e"
                          ],
                          [
                            0.4444444444444444,
                            "#bd3786"
                          ],
                          [
                            0.5555555555555556,
                            "#d8576b"
                          ],
                          [
                            0.6666666666666666,
                            "#ed7953"
                          ],
                          [
                            0.7777777777777778,
                            "#fb9f3a"
                          ],
                          [
                            0.8888888888888888,
                            "#fdca26"
                          ],
                          [
                            1,
                            "#f0f921"
                          ]
                        ],
                        "type": "heatmap"
                      }
                    ],
                    "heatmapgl": [
                      {
                        "colorbar": {
                          "outlinewidth": 0,
                          "ticks": ""
                        },
                        "colorscale": [
                          [
                            0,
                            "#0d0887"
                          ],
                          [
                            0.1111111111111111,
                            "#46039f"
                          ],
                          [
                            0.2222222222222222,
                            "#7201a8"
                          ],
                          [
                            0.3333333333333333,
                            "#9c179e"
                          ],
                          [
                            0.4444444444444444,
                            "#bd3786"
                          ],
                          [
                            0.5555555555555556,
                            "#d8576b"
                          ],
                          [
                            0.6666666666666666,
                            "#ed7953"
                          ],
                          [
                            0.7777777777777778,
                            "#fb9f3a"
                          ],
                          [
                            0.8888888888888888,
                            "#fdca26"
                          ],
                          [
                            1,
                            "#f0f921"
                          ]
                        ],
                        "type": "heatmapgl"
                      }
                    ],
                    "histogram": [
                      {
                        "marker": {
                          "pattern": {
                            "fillmode": "overlay",
                            "size": 10,
                            "solidity": 0.2
                          }
                        },
                        "type": "histogram"
                      }
                    ],
                    "histogram2d": [
                      {
                        "colorbar": {
                          "outlinewidth": 0,
                          "ticks": ""
                        },
                        "colorscale": [
                          [
                            0,
                            "#0d0887"
                          ],
                          [
                            0.1111111111111111,
                            "#46039f"
                          ],
                          [
                            0.2222222222222222,
                            "#7201a8"
                          ],
                          [
                            0.3333333333333333,
                            "#9c179e"
                          ],
                          [
                            0.4444444444444444,
                            "#bd3786"
                          ],
                          [
                            0.5555555555555556,
                            "#d8576b"
                          ],
                          [
                            0.6666666666666666,
                            "#ed7953"
                          ],
                          [
                            0.7777777777777778,
                            "#fb9f3a"
                          ],
                          [
                            0.8888888888888888,
                            "#fdca26"
                          ],
                          [
                            1,
                            "#f0f921"
                          ]
                        ],
                        "type": "histogram2d"
                      }
                    ],
                    "histogram2dcontour": [
                      {
                        "colorbar": {
                          "outlinewidth": 0,
                          "ticks": ""
                        },
                        "colorscale": [
                          [
                            0,
                            "#0d0887"
                          ],
                          [
                            0.1111111111111111,
                            "#46039f"
                          ],
                          [
                            0.2222222222222222,
                            "#7201a8"
                          ],
                          [
                            0.3333333333333333,
                            "#9c179e"
                          ],
                          [
                            0.4444444444444444,
                            "#bd3786"
                          ],
                          [
                            0.5555555555555556,
                            "#d8576b"
                          ],
                          [
                            0.6666666666666666,
                            "#ed7953"
                          ],
                          [
                            0.7777777777777778,
                            "#fb9f3a"
                          ],
                          [
                            0.8888888888888888,
                            "#fdca26"
                          ],
                          [
                            1,
                            "#f0f921"
                          ]
                        ],
                        "type": "histogram2dcontour"
                      }
                    ],
                    "mesh3d": [
                      {
                        "colorbar": {
                          "outlinewidth": 0,
                          "ticks": ""
                        },
                        "type": "mesh3d"
                      }
                    ],
                    "parcoords": [
                      {
                        "line": {
                          "colorbar": {
                            "outlinewidth": 0,
                            "ticks": ""
                          }
                        },
                        "type": "parcoords"
                      }
                    ],
                    "pie": [
                      {
                        "automargin": true,
                        "type": "pie"
                      }
                    ],
                    "scatter": [
                      {
                        "fillpattern": {
                          "fillmode": "overlay",
                          "size": 10,
                          "solidity": 0.2
                        },
                        "type": "scatter"
                      }
                    ],
                    "scatter3d": [
                      {
                        "line": {
                          "colorbar": {
                            "outlinewidth": 0,
                            "ticks": ""
                          }
                        },
                        "marker": {
                          "colorbar": {
                            "outlinewidth": 0,
                            "ticks": ""
                          }
                        },
                        "type": "scatter3d"
                      }
                    ],
                    "scattercarpet": [
                      {
                        "marker": {
                          "colorbar": {
                            "outlinewidth": 0,
                            "ticks": ""
                          }
                        },
                        "type": "scattercarpet"
                      }
                    ],
                    "scattergeo": [
                      {
                        "marker": {
                          "colorbar": {
                            "outlinewidth": 0,
                            "ticks": ""
                          }
                        },
                        "type": "scattergeo"
                      }
                    ],
                    "scattergl": [
                      {
                        "marker": {
                          "colorbar": {
                            "outlinewidth": 0,
                            "ticks": ""
                          }
                        },
                        "type": "scattergl"
                      }
                    ],
                    "scattermapbox": [
                      {
                        "marker": {
                          "colorbar": {
                            "outlinewidth": 0,
                            "ticks": ""
                          }
                        },
                        "type": "scattermapbox"
                      }
                    ],
                    "scatterpolar": [
                      {
                        "marker": {
                          "colorbar": {
                            "outlinewidth": 0,
                            "ticks": ""
                          }
                        },
                        "type": "scatterpolar"
                      }
                    ],
                    "scatterpolargl": [
                      {
                        "marker": {
                          "colorbar": {
                            "outlinewidth": 0,
                            "ticks": ""
                          }
                        },
                        "type": "scatterpolargl"
                      }
                    ],
                    "scatterternary": [
                      {
                        "marker": {
                          "colorbar": {
                            "outlinewidth": 0,
                            "ticks": ""
                          }
                        },
                        "type": "scatterternary"
                      }
                    ],
                    "surface": [
                      {
                        "colorbar": {
                          "outlinewidth": 0,
                          "ticks": ""
                        },
                        "colorscale": [
                          [
                            0,
                            "#0d0887"
                          ],
                          [
                            0.1111111111111111,
                            "#46039f"
                          ],
                          [
                            0.2222222222222222,
                            "#7201a8"
                          ],
                          [
                            0.3333333333333333,
                            "#9c179e"
                          ],
                          [
                            0.4444444444444444,
                            "#bd3786"
                          ],
                          [
                            0.5555555555555556,
                            "#d8576b"
                          ],
                          [
                            0.6666666666666666,
                            "#ed7953"
                          ],
                          [
                            0.7777777777777778,
                            "#fb9f3a"
                          ],
                          [
                            0.8888888888888888,
                            "#fdca26"
                          ],
                          [
                            1,
                            "#f0f921"
                          ]
                        ],
                        "type": "surface"
                      }
                    ],
                    "table": [
                      {
                        "cells": {
                          "fill": {
                            "color": "#EBF0F8"
                          },
                          "line": {
                            "color": "white"
                          }
                        },
                        "header": {
                          "fill": {
                            "color": "#C8D4E3"
                          },
                          "line": {
                            "color": "white"
                          }
                        },
                        "type": "table"
                      }
                    ]
                  },
                  "layout": {
                    "annotationdefaults": {
                      "arrowcolor": "#2a3f5f",
                      "arrowhead": 0,
                      "arrowwidth": 1
                    },
                    "autotypenumbers": "strict",
                    "coloraxis": {
                      "colorbar": {
                        "outlinewidth": 0,
                        "ticks": ""
                      }
                    },
                    "colorscale": {
                      "diverging": [
                        [
                          0,
                          "#8e0152"
                        ],
                        [
                          0.1,
                          "#c51b7d"
                        ],
                        [
                          0.2,
                          "#de77ae"
                        ],
                        [
                          0.3,
                          "#f1b6da"
                        ],
                        [
                          0.4,
                          "#fde0ef"
                        ],
                        [
                          0.5,
                          "#f7f7f7"
                        ],
                        [
                          0.6,
                          "#e6f5d0"
                        ],
                        [
                          0.7,
                          "#b8e186"
                        ],
                        [
                          0.8,
                          "#7fbc41"
                        ],
                        [
                          0.9,
                          "#4d9221"
                        ],
                        [
                          1,
                          "#276419"
                        ]
                      ],
                      "sequential": [
                        [
                          0,
                          "#0d0887"
                        ],
                        [
                          0.1111111111111111,
                          "#46039f"
                        ],
                        [
                          0.2222222222222222,
                          "#7201a8"
                        ],
                        [
                          0.3333333333333333,
                          "#9c179e"
                        ],
                        [
                          0.4444444444444444,
                          "#bd3786"
                        ],
                        [
                          0.5555555555555556,
                          "#d8576b"
                        ],
                        [
                          0.6666666666666666,
                          "#ed7953"
                        ],
                        [
                          0.7777777777777778,
                          "#fb9f3a"
                        ],
                        [
                          0.8888888888888888,
                          "#fdca26"
                        ],
                        [
                          1,
                          "#f0f921"
                        ]
                      ],
                      "sequentialminus": [
                        [
                          0,
                          "#0d0887"
                        ],
                        [
                          0.1111111111111111,
                          "#46039f"
                        ],
                        [
                          0.2222222222222222,
                          "#7201a8"
                        ],
                        [
                          0.3333333333333333,
                          "#9c179e"
                        ],
                        [
                          0.4444444444444444,
                          "#bd3786"
                        ],
                        [
                          0.5555555555555556,
                          "#d8576b"
                        ],
                        [
                          0.6666666666666666,
                          "#ed7953"
                        ],
                        [
                          0.7777777777777778,
                          "#fb9f3a"
                        ],
                        [
                          0.8888888888888888,
                          "#fdca26"
                        ],
                        [
                          1,
                          "#f0f921"
                        ]
                      ]
                    },
                    "colorway": [
                      "#636efa",
                      "#EF553B",
                      "#00cc96",
                      "#ab63fa",
                      "#FFA15A",
                      "#19d3f3",
                      "#FF6692",
                      "#B6E880",
                      "#FF97FF",
                      "#FECB52"
                    ],
                    "font": {
                      "color": "#2a3f5f"
                    },
                    "geo": {
                      "bgcolor": "white",
                      "lakecolor": "white",
                      "landcolor": "#E5ECF6",
                      "showlakes": true,
                      "showland": true,
                      "subunitcolor": "white"
                    },
                    "hoverlabel": {
                      "align": "left"
                    },
                    "hovermode": "closest",
                    "mapbox": {
                      "style": "light"
                    },
                    "paper_bgcolor": "white",
                    "plot_bgcolor": "#E5ECF6",
                    "polar": {
                      "angularaxis": {
                        "gridcolor": "white",
                        "linecolor": "white",
                        "ticks": ""
                      },
                      "bgcolor": "#E5ECF6",
                      "radialaxis": {
                        "gridcolor": "white",
                        "linecolor": "white",
                        "ticks": ""
                      }
                    },
                    "scene": {
                      "xaxis": {
                        "backgroundcolor": "#E5ECF6",
                        "gridcolor": "white",
                        "gridwidth": 2,
                        "linecolor": "white",
                        "showbackground": true,
                        "ticks": "",
                        "zerolinecolor": "white"
                      },
                      "yaxis": {
                        "backgroundcolor": "#E5ECF6",
                        "gridcolor": "white",
                        "gridwidth": 2,
                        "linecolor": "white",
                        "showbackground": true,
                        "ticks": "",
                        "zerolinecolor": "white"
                      },
                      "zaxis": {
                        "backgroundcolor": "#E5ECF6",
                        "gridcolor": "white",
                        "gridwidth": 2,
                        "linecolor": "white",
                        "showbackground": true,
                        "ticks": "",
                        "zerolinecolor": "white"
                      }
                    },
                    "shapedefaults": {
                      "line": {
                        "color": "#2a3f5f"
                      }
                    },
                    "ternary": {
                      "aaxis": {
                        "gridcolor": "white",
                        "linecolor": "white",
                        "ticks": ""
                      },
                      "baxis": {
                        "gridcolor": "white",
                        "linecolor": "white",
                        "ticks": ""
                      },
                      "bgcolor": "#E5ECF6",
                      "caxis": {
                        "gridcolor": "white",
                        "linecolor": "white",
                        "ticks": ""
                      }
                    },
                    "title": {
                      "x": 0.05
                    },
                    "xaxis": {
                      "automargin": true,
                      "gridcolor": "white",
                      "linecolor": "white",
                      "ticks": "",
                      "title": {
                        "standoff": 15
                      },
                      "zerolinecolor": "white",
                      "zerolinewidth": 2
                    },
                    "yaxis": {
                      "automargin": true,
                      "gridcolor": "white",
                      "linecolor": "white",
                      "ticks": "",
                      "title": {
                        "standoff": 15
                      },
                      "zerolinecolor": "white",
                      "zerolinewidth": 2
                    }
                  }
                },
                "title": {
                  "text": "sales based on event_type_2"
                },
                "xaxis": {
                  "anchor": "y",
                  "categoryarray": [
                    "Cultural",
                    "No_event",
                    "Religious"
                  ],
                  "categoryorder": "array",
                  "domain": [
                    0,
                    1
                  ],
                  "title": {
                    "text": "event_type_2"
                  }
                },
                "yaxis": {
                  "anchor": "x",
                  "domain": [
                    0,
                    1
                  ],
                  "title": {
                    "text": "Mean_sale"
                  }
                }
              }
            }
          },
          "metadata": {},
          "output_type": "display_data"
        }
      ],
      "source": [
        "temp_dataframe=DF_MAIN.groupby(['event_type_2'],as_index=False).agg(Mean_sale=('sold',np.mean))\n",
        "px.bar(temp_dataframe, x=\"event_type_2\", y=\"Mean_sale\", color=\"event_type_2\", title=\"sales based on event_type_2\",text='Mean_sale')\n"
      ]
    },
    {
      "cell_type": "markdown",
      "metadata": {
        "id": "z9I1gVtu2Q_n"
      },
      "source": [
        "Inference: religius events affects the sales of products.\n",
        "\n",
        "Our Suggestion: greater supply should be made for products on religious events storewide."
      ]
    },
    {
      "cell_type": "markdown",
      "metadata": {
        "id": "ShoVt0EO2Q_o"
      },
      "source": [
        "# effects of snap and no snap days on sales."
      ]
    },
    {
      "cell_type": "code",
      "execution_count": null,
      "metadata": {
        "id": "G2zAagwj2Q_o",
        "outputId": "0a8490fc-b15f-490b-8984-65bf6f21f672"
      },
      "outputs": [
        {
          "data": {
            "application/vnd.plotly.v1+json": {
              "config": {
                "plotlyServerURL": "https://plot.ly"
              },
              "data": [
                {
                  "name": "No_snap",
                  "text": [
                    "10126991.0",
                    "6811848.0",
                    "6932904.0"
                  ],
                  "textposition": "auto",
                  "type": "bar",
                  "x": [
                    "CA",
                    "TX",
                    "WI"
                  ],
                  "y": [
                    10126991,
                    6811848,
                    6932904
                  ]
                },
                {
                  "name": "snap",
                  "text": [
                    "19069726.0",
                    "12416557.0",
                    "11569147.0"
                  ],
                  "textposition": "auto",
                  "type": "bar",
                  "x": [
                    "CA",
                    "TX",
                    "WI"
                  ],
                  "y": [
                    19069726,
                    12416557,
                    11569147
                  ]
                }
              ],
              "layout": {
                "barmode": "group",
                "template": {
                  "data": {
                    "bar": [
                      {
                        "error_x": {
                          "color": "#2a3f5f"
                        },
                        "error_y": {
                          "color": "#2a3f5f"
                        },
                        "marker": {
                          "line": {
                            "color": "#E5ECF6",
                            "width": 0.5
                          },
                          "pattern": {
                            "fillmode": "overlay",
                            "size": 10,
                            "solidity": 0.2
                          }
                        },
                        "type": "bar"
                      }
                    ],
                    "barpolar": [
                      {
                        "marker": {
                          "line": {
                            "color": "#E5ECF6",
                            "width": 0.5
                          },
                          "pattern": {
                            "fillmode": "overlay",
                            "size": 10,
                            "solidity": 0.2
                          }
                        },
                        "type": "barpolar"
                      }
                    ],
                    "carpet": [
                      {
                        "aaxis": {
                          "endlinecolor": "#2a3f5f",
                          "gridcolor": "white",
                          "linecolor": "white",
                          "minorgridcolor": "white",
                          "startlinecolor": "#2a3f5f"
                        },
                        "baxis": {
                          "endlinecolor": "#2a3f5f",
                          "gridcolor": "white",
                          "linecolor": "white",
                          "minorgridcolor": "white",
                          "startlinecolor": "#2a3f5f"
                        },
                        "type": "carpet"
                      }
                    ],
                    "choropleth": [
                      {
                        "colorbar": {
                          "outlinewidth": 0,
                          "ticks": ""
                        },
                        "type": "choropleth"
                      }
                    ],
                    "contour": [
                      {
                        "colorbar": {
                          "outlinewidth": 0,
                          "ticks": ""
                        },
                        "colorscale": [
                          [
                            0,
                            "#0d0887"
                          ],
                          [
                            0.1111111111111111,
                            "#46039f"
                          ],
                          [
                            0.2222222222222222,
                            "#7201a8"
                          ],
                          [
                            0.3333333333333333,
                            "#9c179e"
                          ],
                          [
                            0.4444444444444444,
                            "#bd3786"
                          ],
                          [
                            0.5555555555555556,
                            "#d8576b"
                          ],
                          [
                            0.6666666666666666,
                            "#ed7953"
                          ],
                          [
                            0.7777777777777778,
                            "#fb9f3a"
                          ],
                          [
                            0.8888888888888888,
                            "#fdca26"
                          ],
                          [
                            1,
                            "#f0f921"
                          ]
                        ],
                        "type": "contour"
                      }
                    ],
                    "contourcarpet": [
                      {
                        "colorbar": {
                          "outlinewidth": 0,
                          "ticks": ""
                        },
                        "type": "contourcarpet"
                      }
                    ],
                    "heatmap": [
                      {
                        "colorbar": {
                          "outlinewidth": 0,
                          "ticks": ""
                        },
                        "colorscale": [
                          [
                            0,
                            "#0d0887"
                          ],
                          [
                            0.1111111111111111,
                            "#46039f"
                          ],
                          [
                            0.2222222222222222,
                            "#7201a8"
                          ],
                          [
                            0.3333333333333333,
                            "#9c179e"
                          ],
                          [
                            0.4444444444444444,
                            "#bd3786"
                          ],
                          [
                            0.5555555555555556,
                            "#d8576b"
                          ],
                          [
                            0.6666666666666666,
                            "#ed7953"
                          ],
                          [
                            0.7777777777777778,
                            "#fb9f3a"
                          ],
                          [
                            0.8888888888888888,
                            "#fdca26"
                          ],
                          [
                            1,
                            "#f0f921"
                          ]
                        ],
                        "type": "heatmap"
                      }
                    ],
                    "heatmapgl": [
                      {
                        "colorbar": {
                          "outlinewidth": 0,
                          "ticks": ""
                        },
                        "colorscale": [
                          [
                            0,
                            "#0d0887"
                          ],
                          [
                            0.1111111111111111,
                            "#46039f"
                          ],
                          [
                            0.2222222222222222,
                            "#7201a8"
                          ],
                          [
                            0.3333333333333333,
                            "#9c179e"
                          ],
                          [
                            0.4444444444444444,
                            "#bd3786"
                          ],
                          [
                            0.5555555555555556,
                            "#d8576b"
                          ],
                          [
                            0.6666666666666666,
                            "#ed7953"
                          ],
                          [
                            0.7777777777777778,
                            "#fb9f3a"
                          ],
                          [
                            0.8888888888888888,
                            "#fdca26"
                          ],
                          [
                            1,
                            "#f0f921"
                          ]
                        ],
                        "type": "heatmapgl"
                      }
                    ],
                    "histogram": [
                      {
                        "marker": {
                          "pattern": {
                            "fillmode": "overlay",
                            "size": 10,
                            "solidity": 0.2
                          }
                        },
                        "type": "histogram"
                      }
                    ],
                    "histogram2d": [
                      {
                        "colorbar": {
                          "outlinewidth": 0,
                          "ticks": ""
                        },
                        "colorscale": [
                          [
                            0,
                            "#0d0887"
                          ],
                          [
                            0.1111111111111111,
                            "#46039f"
                          ],
                          [
                            0.2222222222222222,
                            "#7201a8"
                          ],
                          [
                            0.3333333333333333,
                            "#9c179e"
                          ],
                          [
                            0.4444444444444444,
                            "#bd3786"
                          ],
                          [
                            0.5555555555555556,
                            "#d8576b"
                          ],
                          [
                            0.6666666666666666,
                            "#ed7953"
                          ],
                          [
                            0.7777777777777778,
                            "#fb9f3a"
                          ],
                          [
                            0.8888888888888888,
                            "#fdca26"
                          ],
                          [
                            1,
                            "#f0f921"
                          ]
                        ],
                        "type": "histogram2d"
                      }
                    ],
                    "histogram2dcontour": [
                      {
                        "colorbar": {
                          "outlinewidth": 0,
                          "ticks": ""
                        },
                        "colorscale": [
                          [
                            0,
                            "#0d0887"
                          ],
                          [
                            0.1111111111111111,
                            "#46039f"
                          ],
                          [
                            0.2222222222222222,
                            "#7201a8"
                          ],
                          [
                            0.3333333333333333,
                            "#9c179e"
                          ],
                          [
                            0.4444444444444444,
                            "#bd3786"
                          ],
                          [
                            0.5555555555555556,
                            "#d8576b"
                          ],
                          [
                            0.6666666666666666,
                            "#ed7953"
                          ],
                          [
                            0.7777777777777778,
                            "#fb9f3a"
                          ],
                          [
                            0.8888888888888888,
                            "#fdca26"
                          ],
                          [
                            1,
                            "#f0f921"
                          ]
                        ],
                        "type": "histogram2dcontour"
                      }
                    ],
                    "mesh3d": [
                      {
                        "colorbar": {
                          "outlinewidth": 0,
                          "ticks": ""
                        },
                        "type": "mesh3d"
                      }
                    ],
                    "parcoords": [
                      {
                        "line": {
                          "colorbar": {
                            "outlinewidth": 0,
                            "ticks": ""
                          }
                        },
                        "type": "parcoords"
                      }
                    ],
                    "pie": [
                      {
                        "automargin": true,
                        "type": "pie"
                      }
                    ],
                    "scatter": [
                      {
                        "fillpattern": {
                          "fillmode": "overlay",
                          "size": 10,
                          "solidity": 0.2
                        },
                        "type": "scatter"
                      }
                    ],
                    "scatter3d": [
                      {
                        "line": {
                          "colorbar": {
                            "outlinewidth": 0,
                            "ticks": ""
                          }
                        },
                        "marker": {
                          "colorbar": {
                            "outlinewidth": 0,
                            "ticks": ""
                          }
                        },
                        "type": "scatter3d"
                      }
                    ],
                    "scattercarpet": [
                      {
                        "marker": {
                          "colorbar": {
                            "outlinewidth": 0,
                            "ticks": ""
                          }
                        },
                        "type": "scattercarpet"
                      }
                    ],
                    "scattergeo": [
                      {
                        "marker": {
                          "colorbar": {
                            "outlinewidth": 0,
                            "ticks": ""
                          }
                        },
                        "type": "scattergeo"
                      }
                    ],
                    "scattergl": [
                      {
                        "marker": {
                          "colorbar": {
                            "outlinewidth": 0,
                            "ticks": ""
                          }
                        },
                        "type": "scattergl"
                      }
                    ],
                    "scattermapbox": [
                      {
                        "marker": {
                          "colorbar": {
                            "outlinewidth": 0,
                            "ticks": ""
                          }
                        },
                        "type": "scattermapbox"
                      }
                    ],
                    "scatterpolar": [
                      {
                        "marker": {
                          "colorbar": {
                            "outlinewidth": 0,
                            "ticks": ""
                          }
                        },
                        "type": "scatterpolar"
                      }
                    ],
                    "scatterpolargl": [
                      {
                        "marker": {
                          "colorbar": {
                            "outlinewidth": 0,
                            "ticks": ""
                          }
                        },
                        "type": "scatterpolargl"
                      }
                    ],
                    "scatterternary": [
                      {
                        "marker": {
                          "colorbar": {
                            "outlinewidth": 0,
                            "ticks": ""
                          }
                        },
                        "type": "scatterternary"
                      }
                    ],
                    "surface": [
                      {
                        "colorbar": {
                          "outlinewidth": 0,
                          "ticks": ""
                        },
                        "colorscale": [
                          [
                            0,
                            "#0d0887"
                          ],
                          [
                            0.1111111111111111,
                            "#46039f"
                          ],
                          [
                            0.2222222222222222,
                            "#7201a8"
                          ],
                          [
                            0.3333333333333333,
                            "#9c179e"
                          ],
                          [
                            0.4444444444444444,
                            "#bd3786"
                          ],
                          [
                            0.5555555555555556,
                            "#d8576b"
                          ],
                          [
                            0.6666666666666666,
                            "#ed7953"
                          ],
                          [
                            0.7777777777777778,
                            "#fb9f3a"
                          ],
                          [
                            0.8888888888888888,
                            "#fdca26"
                          ],
                          [
                            1,
                            "#f0f921"
                          ]
                        ],
                        "type": "surface"
                      }
                    ],
                    "table": [
                      {
                        "cells": {
                          "fill": {
                            "color": "#EBF0F8"
                          },
                          "line": {
                            "color": "white"
                          }
                        },
                        "header": {
                          "fill": {
                            "color": "#C8D4E3"
                          },
                          "line": {
                            "color": "white"
                          }
                        },
                        "type": "table"
                      }
                    ]
                  },
                  "layout": {
                    "annotationdefaults": {
                      "arrowcolor": "#2a3f5f",
                      "arrowhead": 0,
                      "arrowwidth": 1
                    },
                    "autotypenumbers": "strict",
                    "coloraxis": {
                      "colorbar": {
                        "outlinewidth": 0,
                        "ticks": ""
                      }
                    },
                    "colorscale": {
                      "diverging": [
                        [
                          0,
                          "#8e0152"
                        ],
                        [
                          0.1,
                          "#c51b7d"
                        ],
                        [
                          0.2,
                          "#de77ae"
                        ],
                        [
                          0.3,
                          "#f1b6da"
                        ],
                        [
                          0.4,
                          "#fde0ef"
                        ],
                        [
                          0.5,
                          "#f7f7f7"
                        ],
                        [
                          0.6,
                          "#e6f5d0"
                        ],
                        [
                          0.7,
                          "#b8e186"
                        ],
                        [
                          0.8,
                          "#7fbc41"
                        ],
                        [
                          0.9,
                          "#4d9221"
                        ],
                        [
                          1,
                          "#276419"
                        ]
                      ],
                      "sequential": [
                        [
                          0,
                          "#0d0887"
                        ],
                        [
                          0.1111111111111111,
                          "#46039f"
                        ],
                        [
                          0.2222222222222222,
                          "#7201a8"
                        ],
                        [
                          0.3333333333333333,
                          "#9c179e"
                        ],
                        [
                          0.4444444444444444,
                          "#bd3786"
                        ],
                        [
                          0.5555555555555556,
                          "#d8576b"
                        ],
                        [
                          0.6666666666666666,
                          "#ed7953"
                        ],
                        [
                          0.7777777777777778,
                          "#fb9f3a"
                        ],
                        [
                          0.8888888888888888,
                          "#fdca26"
                        ],
                        [
                          1,
                          "#f0f921"
                        ]
                      ],
                      "sequentialminus": [
                        [
                          0,
                          "#0d0887"
                        ],
                        [
                          0.1111111111111111,
                          "#46039f"
                        ],
                        [
                          0.2222222222222222,
                          "#7201a8"
                        ],
                        [
                          0.3333333333333333,
                          "#9c179e"
                        ],
                        [
                          0.4444444444444444,
                          "#bd3786"
                        ],
                        [
                          0.5555555555555556,
                          "#d8576b"
                        ],
                        [
                          0.6666666666666666,
                          "#ed7953"
                        ],
                        [
                          0.7777777777777778,
                          "#fb9f3a"
                        ],
                        [
                          0.8888888888888888,
                          "#fdca26"
                        ],
                        [
                          1,
                          "#f0f921"
                        ]
                      ]
                    },
                    "colorway": [
                      "#636efa",
                      "#EF553B",
                      "#00cc96",
                      "#ab63fa",
                      "#FFA15A",
                      "#19d3f3",
                      "#FF6692",
                      "#B6E880",
                      "#FF97FF",
                      "#FECB52"
                    ],
                    "font": {
                      "color": "#2a3f5f"
                    },
                    "geo": {
                      "bgcolor": "white",
                      "lakecolor": "white",
                      "landcolor": "#E5ECF6",
                      "showlakes": true,
                      "showland": true,
                      "subunitcolor": "white"
                    },
                    "hoverlabel": {
                      "align": "left"
                    },
                    "hovermode": "closest",
                    "mapbox": {
                      "style": "light"
                    },
                    "paper_bgcolor": "white",
                    "plot_bgcolor": "#E5ECF6",
                    "polar": {
                      "angularaxis": {
                        "gridcolor": "white",
                        "linecolor": "white",
                        "ticks": ""
                      },
                      "bgcolor": "#E5ECF6",
                      "radialaxis": {
                        "gridcolor": "white",
                        "linecolor": "white",
                        "ticks": ""
                      }
                    },
                    "scene": {
                      "xaxis": {
                        "backgroundcolor": "#E5ECF6",
                        "gridcolor": "white",
                        "gridwidth": 2,
                        "linecolor": "white",
                        "showbackground": true,
                        "ticks": "",
                        "zerolinecolor": "white"
                      },
                      "yaxis": {
                        "backgroundcolor": "#E5ECF6",
                        "gridcolor": "white",
                        "gridwidth": 2,
                        "linecolor": "white",
                        "showbackground": true,
                        "ticks": "",
                        "zerolinecolor": "white"
                      },
                      "zaxis": {
                        "backgroundcolor": "#E5ECF6",
                        "gridcolor": "white",
                        "gridwidth": 2,
                        "linecolor": "white",
                        "showbackground": true,
                        "ticks": "",
                        "zerolinecolor": "white"
                      }
                    },
                    "shapedefaults": {
                      "line": {
                        "color": "#2a3f5f"
                      }
                    },
                    "ternary": {
                      "aaxis": {
                        "gridcolor": "white",
                        "linecolor": "white",
                        "ticks": ""
                      },
                      "baxis": {
                        "gridcolor": "white",
                        "linecolor": "white",
                        "ticks": ""
                      },
                      "bgcolor": "#E5ECF6",
                      "caxis": {
                        "gridcolor": "white",
                        "linecolor": "white",
                        "ticks": ""
                      }
                    },
                    "title": {
                      "x": 0.05
                    },
                    "xaxis": {
                      "automargin": true,
                      "gridcolor": "white",
                      "linecolor": "white",
                      "ticks": "",
                      "title": {
                        "standoff": 15
                      },
                      "zerolinecolor": "white",
                      "zerolinewidth": 2
                    },
                    "yaxis": {
                      "automargin": true,
                      "gridcolor": "white",
                      "linecolor": "white",
                      "ticks": "",
                      "title": {
                        "standoff": 15
                      },
                      "zerolinecolor": "white",
                      "zerolinewidth": 2
                    }
                  }
                },
                "title": {
                  "text": "effects of snap and no snap days on sales."
                },
                "xaxis": {
                  "title": {
                    "text": "states"
                  }
                },
                "yaxis": {
                  "title": {
                    "text": "Total sum"
                  }
                }
              }
            }
          },
          "metadata": {},
          "output_type": "display_data"
        }
      ],
      "source": [
        "CA=DF_MAIN[DF_MAIN['state_id']=='CA'][['sold','snap_CA']]\n",
        "CA=CA.groupby(['snap_CA'],as_index=False).agg(Total_sale=('sold',np.sum))\n",
        "TX=DF_MAIN[DF_MAIN['state_id']=='TX'][['sold','snap_TX']]\n",
        "TX=TX.groupby(['snap_TX'],as_index=False).agg(Total_sale=('sold',np.sum))\n",
        "WI=DF_MAIN[DF_MAIN['state_id']=='WI'][['sold','snap_WI']]\n",
        "WI=WI.groupby(['snap_WI'],as_index=False).agg(Total_sale=('sold',np.sum))\n",
        "\n",
        "\n",
        "\n",
        "temp=[\"CA\",\"TX\",\"WI\"]\n",
        "d1 = [CA['Total_sale'][0], TX['Total_sale'][0], WI['Total_sale'][0]]\n",
        "d2 = [CA['Total_sale'][1], TX['Total_sale'][1],WI['Total_sale'][1]]\n",
        "fig = go.Figure(data=[\n",
        "    go.Bar(name='No_snap', x=temp, y=d2,text=d2,textposition='auto'),\n",
        "    go.Bar(name='snap', x=temp, y=d1,text=d1,textposition='auto')\n",
        "])\n",
        "# Change the bar mode\n",
        "fig.update_xaxes(title_text='states')\n",
        "fig.update_yaxes(title_text='Total sum')\n",
        "fig.update_layout(barmode='group')\n",
        "fig.update_layout(title_text='effects of snap and no snap days on sales.')\n",
        "fig.show()"
      ]
    },
    {
      "cell_type": "markdown",
      "metadata": {
        "id": "O4e5vCP52Q_o"
      },
      "source": [
        "Inference: Snap days have higher sales as compared to non-snap days.\n",
        "\n",
        "Our Suggestion: More amount products should be made available on snap days as compared to non snap days to maximize the revenue."
      ]
    }
  ],
  "metadata": {
    "kernelspec": {
      "display_name": "Python 3.10.1 64-bit",
      "language": "python",
      "name": "python3"
    },
    "language_info": {
      "codemirror_mode": {
        "name": "ipython",
        "version": 3
      },
      "file_extension": ".py",
      "mimetype": "text/x-python",
      "name": "python",
      "nbconvert_exporter": "python",
      "pygments_lexer": "ipython3",
      "version": "3.10.1"
    },
    "orig_nbformat": 4,
    "vscode": {
      "interpreter": {
        "hash": "6933e9a6f7f607c06ea69277d72bad4b7068a99c53c1ac64e22550a6fe9b7f04"
      }
    },
    "colab": {
      "provenance": [],
      "collapsed_sections": [
        "ml1IGRwC2Q_e",
        "vsgNtu9B2Q_f",
        "Tz9Egz8K2Q_h",
        "30JxFQ9R2Q_i",
        "xDAeiT_I2Q_j",
        "OXvY3j_O2Q_k",
        "qQ0TRES22Q_l",
        "248nOBYz2Q_m",
        "5p4X8h3g2Q_m",
        "6vjeWKch2Q_n",
        "a3C5rdJG2Q_n",
        "ShoVt0EO2Q_o"
      ]
    }
  },
  "nbformat": 4,
  "nbformat_minor": 0
}
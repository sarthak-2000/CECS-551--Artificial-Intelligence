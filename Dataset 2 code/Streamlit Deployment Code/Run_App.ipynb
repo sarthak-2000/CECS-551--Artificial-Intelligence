{
 "cells": [
  {
   "cell_type": "code",
   "execution_count": 2,
   "id": "483532e1",
   "metadata": {},
   "outputs": [],
   "source": [
    "!pip install -q streamlit\n"
   ]
  },
  {
   "cell_type": "code",
   "execution_count": 4,
   "id": "e945a24f",
   "metadata": {},
   "outputs": [
    {
     "name": "stderr",
     "output_type": "stream",
     "text": [
      "'npm' is not recognized as an internal or external command,\n",
      "operable program or batch file.\n"
     ]
    }
   ],
   "source": [
    "!npm install -g localtunnel -U"
   ]
  },
  {
   "cell_type": "code",
   "execution_count": null,
   "id": "40a9ee73",
   "metadata": {},
   "outputs": [],
   "source": [
    "!streamlit run streamlit.py & npx localtunnel --port 8501 "
   ]
  }
 ],
 "metadata": {
  "kernelspec": {
   "display_name": "Python 3",
   "language": "python",
   "name": "python3"
  },
  "language_info": {
   "codemirror_mode": {
    "name": "ipython",
    "version": 3
   },
   "file_extension": ".py",
   "mimetype": "text/x-python",
   "name": "python",
   "nbconvert_exporter": "python",
   "pygments_lexer": "ipython3",
   "version": "3.8.8"
  }
 },
 "nbformat": 4,
 "nbformat_minor": 5
}
